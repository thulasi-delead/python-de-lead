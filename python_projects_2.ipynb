{
  "nbformat": 4,
  "nbformat_minor": 0,
  "metadata": {
    "colab": {
      "provenance": [],
      "collapsed_sections": []
    },
    "kernelspec": {
      "name": "python3",
      "display_name": "Python 3"
    },
    "language_info": {
      "name": "python"
    }
  },
  "cells": [
    {
      "cell_type": "markdown",
      "source": [
        "Create a recursive function to calculate the sum of numbers from 0 to 50.\n",
        "\n",
        "A recursive function is a function that calls itself again and again."
      ],
      "metadata": {
        "id": "XhmqIRrn85MV"
      }
    },
    {
      "cell_type": "code",
      "source": [
        "def addition(num):\n",
        "    if num:\n",
        "        # call same function by reducing number by 1\n",
        "        return num + addition(num - 1)\n",
        "    else:\n",
        "        return 0\n",
        "\n",
        "result = addition(50)\n",
        "print(result)\n"
      ],
      "metadata": {
        "colab": {
          "base_uri": "https://localhost:8080/"
        },
        "id": "umE1zU3F9A7e",
        "outputId": "3dfb6abe-0d6e-43b6-8eb7-12f62054187a"
      },
      "execution_count": null,
      "outputs": [
        {
          "output_type": "stream",
          "name": "stdout",
          "text": [
            "1275\n"
          ]
        }
      ]
    },
    {
      "cell_type": "markdown",
      "source": [
        "Write a Python program to convert the lists into a dictionary in a way that item from list1 is the key and item from list2 is the value"
      ],
      "metadata": {
        "id": "cIEswtfG-4nc"
      }
    },
    {
      "cell_type": "code",
      "source": [
        "keys = ['Ten', 'Twenty', 'Thirty']\n",
        "values = [10, 20, 30]\n",
        "\n",
        "# empty dictionary\n",
        "res_dict = dict()\n",
        "\n",
        "for i in range(len(keys)):\n",
        "    res_dict.update({keys[i]: values[i]})\n",
        "print(res_dict)\n"
      ],
      "metadata": {
        "colab": {
          "base_uri": "https://localhost:8080/"
        },
        "id": "ONFuUdf9_JS8",
        "outputId": "c877ac61-229e-41b3-ea38-564c79a8dd08"
      },
      "execution_count": null,
      "outputs": [
        {
          "output_type": "stream",
          "name": "stdout",
          "text": [
            "{'Ten': 10, 'Twenty': 20, 'Thirty': 30}\n"
          ]
        }
      ]
    },
    {
      "cell_type": "markdown",
      "source": [
        "Write a Python program to create a new dictionary by extracting the mentioned keys from the below dictionary."
      ],
      "metadata": {
        "id": "PiGXyqdxA2vj"
      }
    },
    {
      "cell_type": "code",
      "source": [
        "sample_dict = {\n",
        "    \"name\": \"Junaid\",\n",
        "    \"age\": 29,\n",
        "    \"salary\": 8000,\n",
        "    \"city\": \"New Jersey\"}\n",
        "\n",
        "# keys to extract\n",
        "keys = [\"name\", \"salary\"]\n",
        "\n",
        "# new dict\n",
        "result = dict()\n",
        "\n",
        "for k in keys:\n",
        "    # add current key with its va;ue from sample_dict\n",
        "    result.update({k: sample_dict[k]})\n",
        "print(result)\n"
      ],
      "metadata": {
        "colab": {
          "base_uri": "https://localhost:8080/"
        },
        "id": "ajfWAwPaA6GL",
        "outputId": "a3b8c676-7c88-4e15-9919-59b42cad72f3"
      },
      "execution_count": null,
      "outputs": [
        {
          "output_type": "stream",
          "name": "stdout",
          "text": [
            "{'name': 'Junaid', 'salary': 8000}\n"
          ]
        }
      ]
    },
    {
      "cell_type": "markdown",
      "source": [
        "Swap the two tuples"
      ],
      "metadata": {
        "id": "wKGE1kkZCKoV"
      }
    },
    {
      "cell_type": "code",
      "source": [
        "tuple1 = (10, 50)\n",
        "tuple2 = (90, 60)\n",
        "tuple1, tuple2 = tuple2, tuple1\n",
        "print(tuple2)\n",
        "print(tuple1)"
      ],
      "metadata": {
        "colab": {
          "base_uri": "https://localhost:8080/"
        },
        "id": "H5lfNWfyEDTP",
        "outputId": "6f2b93f6-09fa-4bd2-c89f-474f5dcc40cc"
      },
      "execution_count": null,
      "outputs": [
        {
          "output_type": "stream",
          "name": "stdout",
          "text": [
            "(10, 50)\n",
            "(90, 60)\n"
          ]
        }
      ]
    },
    {
      "cell_type": "markdown",
      "source": [
        "Accept a list of five float numbers using for loop and print it "
      ],
      "metadata": {
        "id": "Pcp7iMebEyA0"
      }
    },
    {
      "cell_type": "code",
      "source": [
        "float_numbers = []\n",
        "\n",
        "# 5 is the list size\n",
        "# run loop 5 times\n",
        "for i in range(0, 5):\n",
        "    print(\"Enter number at location\", i, \":\")\n",
        "    # accept float number from user\n",
        "    item = float(input())\n",
        "    # add it to the list\n",
        "    float_numbers.append(item)\n",
        "\n",
        "print(\"List of float numbers:\", float_numbers)"
      ],
      "metadata": {
        "colab": {
          "base_uri": "https://localhost:8080/"
        },
        "id": "QptyQcF1Fvlz",
        "outputId": "388d27c5-861c-499d-839a-d6b1f9488db5"
      },
      "execution_count": null,
      "outputs": [
        {
          "output_type": "stream",
          "name": "stdout",
          "text": [
            "Enter number at location 0 :\n",
            "4.5\n",
            "Enter number at location 1 :\n",
            "3.6\n",
            "Enter number at location 2 :\n",
            "56.98\n",
            "Enter number at location 3 :\n",
            "43.77\n",
            "Enter number at location 4 :\n",
            "23.7\n",
            "List of float numbers: [4.5, 3.6, 56.98, 43.77, 23.7]\n"
          ]
        }
      ]
    },
    {
      "cell_type": "markdown",
      "source": [
        "Write a program to take three names as input from a user in the single input() function call."
      ],
      "metadata": {
        "id": "QhFWXderHgdT"
      }
    },
    {
      "cell_type": "code",
      "source": [
        "str1, str2, str3 = input(\"Enter three names separated by space :\").split()\n",
        "print('Name1:', str1)\n",
        "print('Name2:', str2)\n",
        "print('Name3:', str3)"
      ],
      "metadata": {
        "colab": {
          "base_uri": "https://localhost:8080/"
        },
        "id": "0DYBHGMqHlYi",
        "outputId": "b9320010-7a87-4c79-b4b2-ab9ffad2056b"
      },
      "execution_count": null,
      "outputs": [
        {
          "output_type": "stream",
          "name": "stdout",
          "text": [
            "Enter three names separated by space :Amar Akbar Antony\n",
            "Name1: Amar\n",
            "Name2: Akbar\n",
            "Name3: Antony\n"
          ]
        }
      ]
    },
    {
      "cell_type": "markdown",
      "source": [
        "Write a program to reverse the given dictionary mapping"
      ],
      "metadata": {
        "id": "rvBX7PZh_h_8"
      }
    },
    {
      "cell_type": "code",
      "source": [
        "old_dict={'A':'a','B':'b','C':'c'}\n",
        "new_dict={}\n",
        "for key,value in old_dict.items():\n",
        "   new_dict.update({value:key})\n",
        "print(new_dict)"
      ],
      "metadata": {
        "colab": {
          "base_uri": "https://localhost:8080/"
        },
        "id": "-91NX2X_-Xq-",
        "outputId": "147f3196-145d-4b88-d46a-c46febe86285"
      },
      "execution_count": 15,
      "outputs": [
        {
          "output_type": "stream",
          "name": "stdout",
          "text": [
            "{'a': 'A', 'b': 'B', 'c': 'C'}\n"
          ]
        }
      ]
    }
  ]
}