{
 "cells": [
  {
   "cell_type": "markdown",
   "metadata": {
    "slideshow": {
     "slide_type": "slide"
    }
   },
   "source": [
    "# Functions\n"
   ]
  },
  {
   "cell_type": "markdown",
   "metadata": {},
   "source": [
    "### Index\n",
    "1. Build in functions\n",
    "    * Some important build in functions\n",
    "        * min and max\n",
    "        * Type\n",
    "        * Len\n",
    "        * Type conversions\n",
    "1. User Defined functions\n",
    "    * Definision\n",
    "    * Calling\n",
    " - Examples "
   ]
  },
  {
   "cell_type": "markdown",
   "metadata": {},
   "source": [
    "--------"
   ]
  },
  {
   "cell_type": "markdown",
   "metadata": {},
   "source": [
    "A function will mainly have 2 parts\n",
    "1. Function Definision\n",
    "2. Function Calling \n",
    "\n",
    "Functions can be classified into 2\n",
    "1. Build in functions\n",
    "1. User Defined"
   ]
  },
  {
   "cell_type": "markdown",
   "metadata": {},
   "source": [
    "Build in functions\n",
    "- These are functions are those functions where we do not need to write the function definision\n",
    "- Function definision is already written\n",
    "- We only need to call those functions"
   ]
  },
  {
   "cell_type": "markdown",
   "metadata": {},
   "source": [
    "User Defined functions\n",
    "- These are functions that are made by the users\n",
    "- We have to define the function definsion and also call the function on our own\n",
    "- User created functions"
   ]
  },
  {
   "cell_type": "markdown",
   "metadata": {},
   "source": [
    "----"
   ]
  },
  {
   "cell_type": "markdown",
   "metadata": {},
   "source": [
    "# Build in functions"
   ]
  },
  {
   "cell_type": "markdown",
   "metadata": {},
   "source": [
    "- There are many build in functions for python\n",
    "- We will be using some of the build in functions which are used frequently\n",
    "- For getting the complete list of build in functions *resource can be found in the python documentation*"
   ]
  },
  {
   "cell_type": "markdown",
   "metadata": {},
   "source": [
    "We need to *call a function* to use the build in functions<br>\n",
    "<br>\n",
    "\n",
    "**Syntax of Build in functions**<br>\n",
    "`function_name()`\n",
    "\n",
    "- Calling a Function\n",
    "    1. Write the function_name\n",
    "    1. After function name open and close the paranthesis : () \n",
    "    1. If there are any values to be added as arguments we put it inside the paranthesis\n",
    "\n",
    "### Example\n",
    "min is a build in function \n",
    "- We call the function by - `min(value)`"
   ]
  },
  {
   "cell_type": "code",
   "execution_count": null,
   "metadata": {},
   "outputs": [],
   "source": [
    "# syntax - function_name()\n",
    "a = 13\n",
    "print(a)\n",
    "type(a)"
   ]
  },
  {
   "cell_type": "markdown",
   "metadata": {},
   "source": [
    "------"
   ]
  },
  {
   "cell_type": "markdown",
   "metadata": {},
   "source": [
    "# Understanding ASCII"
   ]
  },
  {
   "cell_type": "markdown",
   "metadata": {
    "slideshow": {
     "slide_type": "slide"
    }
   },
   "source": [
    "![](ascii.png)"
   ]
  },
  {
   "cell_type": "markdown",
   "metadata": {
    "slideshow": {
     "slide_type": "slide"
    }
   },
   "source": [
    "### 1. Min and Max"
   ]
  },
  {
   "cell_type": "markdown",
   "metadata": {
    "slideshow": {
     "slide_type": "skip"
    }
   },
   "source": [
    "Min\n",
    "- This function is used to give the minimum of the values passed inside the function as arguments\n",
    "\n",
    "**Example**\n",
    "\n",
    "`min(\"mango\")`\n",
    "- The above function prints the minimum of value (as per the ASCII table) given inside the paranthesis\n",
    "\n",
    "`max(\"mango\")`\n",
    "- The above function prints the maximum of value "
   ]
  },
  {
   "cell_type": "code",
   "execution_count": null,
   "metadata": {
    "slideshow": {
     "slide_type": "slide"
    }
   },
   "outputs": [],
   "source": [
    "name = \"raman\"\n",
    "# function_name(argument) -- > Function Calling\n",
    "\n",
    "# code here"
   ]
  },
  {
   "cell_type": "code",
   "execution_count": null,
   "metadata": {
    "slideshow": {
     "slide_type": "slide"
    }
   },
   "outputs": [],
   "source": [
    "# min and max in a string\n",
    "fruit = \"mango\"\n",
    "\n",
    "#code here"
   ]
  },
  {
   "cell_type": "code",
   "execution_count": null,
   "metadata": {
    "slideshow": {
     "slide_type": "slide"
    }
   },
   "outputs": [],
   "source": [
    "# Build in functions\n",
    "# difference in caps and small\n",
    "fruit = \"Mango\"\n",
    "\n",
    "#code here"
   ]
  },
  {
   "cell_type": "markdown",
   "metadata": {},
   "source": [
    "In the above code the output of `min(\"Mango\")` is capital M\n",
    "- If you see the Ascii table we can see that the value of capital M is lower than the value of small letter \"m\""
   ]
  },
  {
   "cell_type": "code",
   "execution_count": null,
   "metadata": {
    "slideshow": {
     "slide_type": "slide"
    }
   },
   "outputs": [],
   "source": [
    "# find min and max of list a\n",
    "a = [1,2,3,14,5]"
   ]
  },
  {
   "cell_type": "markdown",
   "metadata": {},
   "source": [
    "----"
   ]
  },
  {
   "cell_type": "markdown",
   "metadata": {},
   "source": [
    "## 2. Len"
   ]
  },
  {
   "cell_type": "markdown",
   "metadata": {
    "slideshow": {
     "slide_type": "slide"
    }
   },
   "source": [
    "Syntax\n",
    "\n",
    "`len(values/sequence of values)`\n",
    "\n",
    "- This build in function is used to get the total number of length of a sequence of values"
   ]
  },
  {
   "cell_type": "code",
   "execution_count": null,
   "metadata": {},
   "outputs": [],
   "source": [
    "# length of a string\n",
    "word = \"Hello\""
   ]
  },
  {
   "cell_type": "code",
   "execution_count": null,
   "metadata": {},
   "outputs": [],
   "source": [
    "# length of a string\n",
    "name1 = \"Sachin.Tendulkar\"\n",
    "name2 = \"Mohan Lal\"\n",
    "name3 = \"George_Biden_USA\""
   ]
  },
  {
   "cell_type": "code",
   "execution_count": null,
   "metadata": {},
   "outputs": [],
   "source": [
    "#length of a list\n",
    "\n",
    "list1 = [10,20,33,44,55]\n",
    "list2 = [-1,0,1.1,2.5]"
   ]
  },
  {
   "cell_type": "markdown",
   "metadata": {
    "slideshow": {
     "slide_type": "slide"
    }
   },
   "source": [
    "<b><font color='red'> Question 1</font></b><br>\n",
    "Predict the length of the following sequences\n",
    "```\n",
    "a = [1,2,2,3,4,5,6,710,\"arj\",\"aru\"]\n",
    "b = \"String_is_yes\"\n",
    "c = \"y \"\n",
    "d = (1,2)  #This is a tuple\n",
    "print(len(a))\n",
    "print(len(b))\n",
    "print(len(c))\n",
    "print(len(d))\n",
    "```"
   ]
  },
  {
   "cell_type": "code",
   "execution_count": null,
   "metadata": {},
   "outputs": [],
   "source": [
    "#codehere for question 1"
   ]
  },
  {
   "cell_type": "markdown",
   "metadata": {
    "slideshow": {
     "slide_type": "slide"
    }
   },
   "source": [
    "## 3. Type"
   ]
  },
  {
   "cell_type": "markdown",
   "metadata": {
    "slideshow": {
     "slide_type": "slide"
    }
   },
   "source": [
    "Syntax\n",
    "\n",
    "`type()`\n",
    "\n",
    "- Get the type of a value \n",
    "- As we have seen earlier this is used to get the type of the value entered inside the paranthesis"
   ]
  },
  {
   "cell_type": "markdown",
   "metadata": {
    "slideshow": {
     "slide_type": "slide"
    }
   },
   "source": [
    "<b><font color='red'> Question 2</font></b><br>\n",
    "Under which type of class the foloowing variables comes under?\n",
    "```\n",
    "a = \"10\"\n",
    "b = 10\n",
    "c = '10'\n",
    "d = 'I like cakes'\n",
    "e = -5\n",
    "f = '0.6'\n",
    "\n",
    "print(type(a))\n",
    "print(type(b))\n",
    "print(type(c))\n",
    "print(type(d))\n",
    "print(type(e))\n",
    "print(type(f))\n",
    "```"
   ]
  },
  {
   "cell_type": "code",
   "execution_count": null,
   "metadata": {},
   "outputs": [],
   "source": [
    "#code here for question2\n"
   ]
  },
  {
   "cell_type": "markdown",
   "metadata": {
    "slideshow": {
     "slide_type": "slide"
    }
   },
   "source": [
    "-----"
   ]
  },
  {
   "cell_type": "markdown",
   "metadata": {
    "slideshow": {
     "slide_type": "slide"
    }
   },
   "source": [
    "## User Defined Function"
   ]
  },
  {
   "cell_type": "markdown",
   "metadata": {},
   "source": [
    "- These are functions that are made by the users    \n",
    "\n",
    " \n",
    "- We have to define the function definsion and also call the function on our own    \n",
    "\n",
    "\n",
    "- User created functions    \n"
   ]
  },
  {
   "cell_type": "markdown",
   "metadata": {},
   "source": [
    "**To write a function we need two parts:**\n",
    "<font color=blue>\n",
    "1. Function definition\n",
    "2. Function calling\n",
    "</font>"
   ]
  },
  {
   "cell_type": "markdown",
   "metadata": {
    "slideshow": {
     "slide_type": "notes"
    }
   },
   "source": [
    "\n",
    "<font color=blue>*Function Definition*</font>\n",
    "- This is where we define what our function holds or what it is going to do\n",
    "\n",
    "\n",
    "- **def** is the keyword used to make a function definision    \n",
    "\n",
    "\n",
    "- Then followed by function name\n",
    "\n",
    "\n",
    "- If we have any arguments we can put that inside the brackets\n",
    "    - Functions can be made with or without using arguments \n",
    "    \n",
    "    \n",
    "- The function definision head ie. `def name_of_function(arguments):` has to end with `colon`\n",
    "\n",
    "\n",
    "- The next line has to be intended (with four spaces or one tab space)\n",
    "\n",
    "\n",
    "- Anything written under the function head with itendation is part of the function body\n",
    "\n",
    "\n",
    "- Syntax: \n",
    "```\n",
    "        def name_of_function():                     #Header of function\n",
    "                statement1                              # from here starts the body of function\n",
    "                statement2\n",
    "                ----------\n",
    "                ----------\n",
    "\n",
    "```\n",
    "- eg:      \n",
    "```\n",
    "        def print_details():  \n",
    "             print(\"My name is Rahul\")\n",
    "```\n"
   ]
  },
  {
   "cell_type": "markdown",
   "metadata": {},
   "source": [
    "\n",
    "<font color=blue>*Function calling*</font>\n",
    "- The function only executes when the function is called   \n",
    "\n",
    "\n",
    "- Calling of a function is very easy\n",
    "    - write the name of the function with the open and closed paranthesis   \n",
    "    \n",
    "    \n",
    "- If any arguments has to be passed to the function , it has to be written inside the open and closed paranthesis   \n",
    "\n",
    "- Syntax:\n",
    "```\n",
    "        name_of_function()\n",
    "```\n"
   ]
  },
  {
   "cell_type": "code",
   "execution_count": null,
   "metadata": {
    "slideshow": {
     "slide_type": "subslide"
    }
   },
   "outputs": [],
   "source": [
    "def name_of_function(): # Header of function\n",
    "    print(\"we can add the statements here\") # body of function"
   ]
  },
  {
   "cell_type": "code",
   "execution_count": null,
   "metadata": {
    "slideshow": {
     "slide_type": "fragment"
    }
   },
   "outputs": [],
   "source": [
    "# calling of a function\n",
    "name_of_function()"
   ]
  },
  {
   "cell_type": "markdown",
   "metadata": {},
   "source": [
    "**NOTE**\n",
    "\n",
    "`We have to define a function before it is called`\n"
   ]
  },
  {
   "cell_type": "code",
   "execution_count": null,
   "metadata": {
    "slideshow": {
     "slide_type": "slide"
    }
   },
   "outputs": [],
   "source": [
    "# Real time\n",
    "# Lets make a function\n",
    "# Output of the below code\n",
    "print(\"Printing a design\")\n",
    "def design(): # head of a function\n",
    "    print(\"*******************\") # body of the function\n",
    "print(\"yes\")\n"
   ]
  },
  {
   "cell_type": "code",
   "execution_count": null,
   "metadata": {
    "slideshow": {
     "slide_type": "slide"
    }
   },
   "outputs": [],
   "source": [
    "# Real time\n",
    "# Lets make a function\n",
    "# Output of the below code\n",
    "print(\"Printing a design\")\n",
    "def design(): # head of a function\n",
    "    print(\"*******************\") # body of the function\n",
    "print(\"yes\")\n",
    "\n",
    "design() #function calling\n"
   ]
  },
  {
   "cell_type": "markdown",
   "metadata": {
    "slideshow": {
     "slide_type": "slide"
    }
   },
   "source": [
    "<font color=red>**Question 3**</font> \n",
    "```\n",
    "What will be the output of the following code\n",
    "\n",
    "    def new_user():\n",
    "        print(\"!!Iam a new user!!\")\n",
    "```"
   ]
  },
  {
   "cell_type": "code",
   "execution_count": 1,
   "metadata": {
    "slideshow": {
     "slide_type": "slide"
    }
   },
   "outputs": [],
   "source": [
    "# code here for the question 3"
   ]
  },
  {
   "cell_type": "markdown",
   "metadata": {},
   "source": [
    "<font color=red>**Question 4**</font> <br>\n",
    "Find out the error in the following code and fix it\n",
    "```\n",
    "def display():\n",
    "print(\"You are inside the function now! \")\n",
    "print(\"You are outside the function now!\")\n",
    "display()\n",
    "```"
   ]
  },
  {
   "cell_type": "code",
   "execution_count": null,
   "metadata": {
    "slideshow": {
     "slide_type": "slide"
    }
   },
   "outputs": [],
   "source": [
    "#code here for question 4"
   ]
  },
  {
   "cell_type": "code",
   "execution_count": null,
   "metadata": {
    "slideshow": {
     "slide_type": "slide"
    }
   },
   "outputs": [],
   "source": [
    "#function eg:\n",
    "def fun():\n",
    "    print(\"------------\")\n",
    "a = input(\"Enter your name:\")\n",
    "b = input(\"Enter your class:\")\n",
    "c = input(\"Enter your school:\")\n",
    "fun()\n",
    "fun()\n",
    "print(a)\n",
    "fun()\n",
    "print(b)\n",
    "fun()\n",
    "print(c)"
   ]
  },
  {
   "cell_type": "code",
   "execution_count": 2,
   "metadata": {},
   "outputs": [],
   "source": [
    "# function to print 5 line of text"
   ]
  },
  {
   "cell_type": "markdown",
   "metadata": {
    "slideshow": {
     "slide_type": "slide"
    }
   },
   "source": [
    "## Examples"
   ]
  },
  {
   "cell_type": "markdown",
   "metadata": {
    "slideshow": {
     "slide_type": "subslide"
    }
   },
   "source": [
    "<font color=red>**Question 5**</font> \n",
    "```\n",
    "Write a function named as print_1.\n",
    "when the function is called it should print \"Python for beginners\"\n",
    "```"
   ]
  },
  {
   "cell_type": "code",
   "execution_count": 3,
   "metadata": {},
   "outputs": [
    {
     "name": "stdout",
     "output_type": "stream",
     "text": [
      "Python for beginners\n"
     ]
    }
   ],
   "source": [
    "#question5\n",
    "def print_1():\n",
    "    print(\"Python for beginners\")\n",
    "\n",
    "print_1()"
   ]
  },
  {
   "cell_type": "markdown",
   "metadata": {
    "slideshow": {
     "slide_type": "subslide"
    }
   },
   "source": [
    "<font color=red> **Question 6** </font>\n",
    "```\n",
    "The value of a = 20 and value of b = 10\n",
    "- write a function to calculate the sum of the numbers\n",
    "- write a function to calculate the difference of the two numbers\n",
    "- write a function to calculate the product of the two numbers\n",
    "- write a function to calculate a/b devision)\n",
    "```"
   ]
  },
  {
   "cell_type": "code",
   "execution_count": 4,
   "metadata": {
    "slideshow": {
     "slide_type": "slide"
    }
   },
   "outputs": [
    {
     "name": "stdout",
     "output_type": "stream",
     "text": [
      "30\n",
      "10\n",
      "200\n",
      "2.0\n"
     ]
    }
   ],
   "source": [
    "#Question 6\n",
    "a = 20\n",
    "b = 10 \n",
    "def sum_1():\n",
    "    add = a+b\n",
    "    print(add)\n",
    "def sub():\n",
    "    s = a-b\n",
    "    print(s)\n",
    "def mul():\n",
    "    m=a*b\n",
    "    print(m)\n",
    "def dev():\n",
    "    d = a/b\n",
    "    print(d)\n",
    "sum_1()\n",
    "sub()\n",
    "mul()\n",
    "dev()"
   ]
  },
  {
   "cell_type": "markdown",
   "metadata": {},
   "source": [
    "## Passing an argument"
   ]
  },
  {
   "cell_type": "markdown",
   "metadata": {},
   "source": [
    "- In function calls we can pass variables as arguments to the function definition.   \n",
    "\n",
    "\n",
    "- While passing, only the value passes not the location of the variable.   \n",
    "\n"
   ]
  },
  {
   "cell_type": "code",
   "execution_count": 5,
   "metadata": {},
   "outputs": [
    {
     "name": "stdout",
     "output_type": "stream",
     "text": [
      "20\n"
     ]
    }
   ],
   "source": [
    "def fun(a):\n",
    "    print(a)\n",
    "    \n",
    "a= 20\n",
    "fun(a)"
   ]
  },
  {
   "cell_type": "code",
   "execution_count": 6,
   "metadata": {},
   "outputs": [
    {
     "name": "stdout",
     "output_type": "stream",
     "text": [
      "10\n"
     ]
    }
   ],
   "source": [
    "def fun(a):\n",
    "    print(a)\n",
    "\n",
    "a = 20\n",
    "b = 10\n",
    "fun(b)"
   ]
  },
  {
   "cell_type": "code",
   "execution_count": 7,
   "metadata": {},
   "outputs": [
    {
     "name": "stdout",
     "output_type": "stream",
     "text": [
      "20\n",
      "10\n"
     ]
    }
   ],
   "source": [
    "def fun(a):\n",
    "    a = a+10\n",
    "    print(a)\n",
    "\n",
    "a = 10\n",
    "fun(a)\n",
    "print(a)"
   ]
  },
  {
   "cell_type": "code",
   "execution_count": 8,
   "metadata": {},
   "outputs": [
    {
     "name": "stdout",
     "output_type": "stream",
     "text": [
      "5 10.5\n"
     ]
    }
   ],
   "source": [
    "def fun(a,b):\n",
    "    print(a,b)\n",
    "    \n",
    "a = 5\n",
    "b = 10.5\n",
    "fun(a,b)\n"
   ]
  },
  {
   "cell_type": "markdown",
   "metadata": {},
   "source": [
    "<b><font color=red> **Question 7** </font></b> <br>\n",
    "What will be the output of the following code snippet:\n",
    "```\n",
    "a = 10\n",
    "b = 20\n",
    "\n",
    "def display(a,b):\n",
    "    print(a,\"\\n\",b)\n",
    "    \n",
    "a = 11\n",
    "b = 21\n",
    "display(b,a)\n",
    "```"
   ]
  },
  {
   "cell_type": "markdown",
   "metadata": {},
   "source": [
    "<b><font color=red> **Question 8** </font></b> <br>\n",
    "What will be the output of the following code snippet:\n",
    "```\n",
    "def print_1(a):\n",
    "    print(a)\n",
    "\n",
    "a = 5\n",
    "b = 10.5\n",
    "print_1(a,b)\n",
    "\n",
    "```"
   ]
  },
  {
   "cell_type": "markdown",
   "metadata": {},
   "source": [
    "<b><font color=red> **Question 9** </font></b> <br>\n",
    "What will be the output of the following code snippet:\n",
    "```\n",
    "a = 4\n",
    "b = 6\n",
    "\n",
    "def fun(a,b):\n",
    "    a *= 2\n",
    "    b = a\n",
    "\n",
    "fun(a,b)\n",
    "print(a,b)\n",
    "```\n"
   ]
  },
  {
   "cell_type": "markdown",
   "metadata": {},
   "source": [
    "## Global and Local Variable"
   ]
  },
  {
   "cell_type": "markdown",
   "metadata": {},
   "source": [
    "#### Global Variable\n",
    "- It has its scope inside and outside of a function\n",
    "- It can be used anywhere in the program\n",
    "\n",
    "### Local Variable\n",
    "- The variable is defined locally and hence it cannot be used everywhere in the program\n",
    "- The scope will be limitted"
   ]
  },
  {
   "cell_type": "code",
   "execution_count": 1,
   "metadata": {},
   "outputs": [
    {
     "name": "stdout",
     "output_type": "stream",
     "text": [
      "Global variable\n"
     ]
    }
   ],
   "source": [
    "# global variable \n",
    "a = \"Global variable\"\n",
    "def pt(n):\n",
    "    print(n)\n",
    "pt(a)"
   ]
  },
  {
   "cell_type": "code",
   "execution_count": 9,
   "metadata": {},
   "outputs": [
    {
     "name": "stdout",
     "output_type": "stream",
     "text": [
      "I am global\n",
      "I am global\n",
      "I am global A\n"
     ]
    }
   ],
   "source": [
    "a = \"I am global\"\n",
    "\n",
    "def fun1():\n",
    "    print(a)\n",
    "\n",
    "def fun2():\n",
    "    print(a)\n",
    "    \n",
    "def fun3():\n",
    "    print(a)\n",
    "    \n",
    "fun1()\n",
    "fun2()\n",
    "a = \"I am global A\"\n",
    "fun3()"
   ]
  },
  {
   "cell_type": "code",
   "execution_count": 2,
   "metadata": {},
   "outputs": [
    {
     "name": "stdout",
     "output_type": "stream",
     "text": [
      "local variable\n"
     ]
    }
   ],
   "source": [
    "# local variable\n",
    "def pt():\n",
    "    a = \"local variable\"\n",
    "    print(a) # the value of a can only be used inside of the function\n",
    "pt()"
   ]
  },
  {
   "cell_type": "code",
   "execution_count": 4,
   "metadata": {},
   "outputs": [
    {
     "name": "stdout",
     "output_type": "stream",
     "text": [
      "local variable\n"
     ]
    },
    {
     "ename": "NameError",
     "evalue": "name 'name' is not defined",
     "output_type": "error",
     "traceback": [
      "\u001b[0;31m---------------------------------------------------------------------------\u001b[0m",
      "\u001b[0;31mNameError\u001b[0m                                 Traceback (most recent call last)",
      "\u001b[0;32m<ipython-input-4-0cb0c460274b>\u001b[0m in \u001b[0;36m<module>\u001b[0;34m\u001b[0m\n\u001b[1;32m      5\u001b[0m     \u001b[0mprint\u001b[0m\u001b[0;34m(\u001b[0m\u001b[0mname\u001b[0m\u001b[0;34m)\u001b[0m \u001b[0;31m# the value of a can only be used inside of the function\u001b[0m\u001b[0;34m\u001b[0m\u001b[0;34m\u001b[0m\u001b[0m\n\u001b[1;32m      6\u001b[0m \u001b[0mpt\u001b[0m\u001b[0;34m(\u001b[0m\u001b[0;34m)\u001b[0m\u001b[0;34m\u001b[0m\u001b[0;34m\u001b[0m\u001b[0m\n\u001b[0;32m----> 7\u001b[0;31m \u001b[0mprint\u001b[0m\u001b[0;34m(\u001b[0m\u001b[0mname\u001b[0m\u001b[0;34m)\u001b[0m\u001b[0;34m\u001b[0m\u001b[0;34m\u001b[0m\u001b[0m\n\u001b[0m",
      "\u001b[0;31mNameError\u001b[0m: name 'name' is not defined"
     ]
    }
   ],
   "source": [
    "# local variable\n",
    "# error\n",
    "def pt():\n",
    "    name = \"local variable\"\n",
    "    print(name) # the value of a can only be used inside of the function\n",
    "pt()\n",
    "print(name) # name is not defined error\n",
    "# name is defined inside the function and hence it has a scope only inside the function"
   ]
  },
  {
   "cell_type": "markdown",
   "metadata": {},
   "source": [
    "-------"
   ]
  },
  {
   "cell_type": "markdown",
   "metadata": {},
   "source": [
    "## Activities"
   ]
  },
  {
   "cell_type": "markdown",
   "metadata": {
    "slideshow": {
     "slide_type": "slide"
    }
   },
   "source": [
    "<b><font color=red> **Activity 1** </font></b><br>\n",
    "Take 2 values from user\n",
    "- ask user if he wants to add,sub or multiply with a respective choice a or d or m\n",
    "- if user says a - print the sum\n",
    "- if user says d - print the diff\n",
    "- if user says m - print the product\n",
    "\n",
    "****\n",
    "OUTPUT:\n",
    "```\n",
    "Enter number 1:5\n",
    "Enter number 2:5\n",
    "Enter a for addition,d for subtraction and m for multiplication:a\n",
    "sum = 10\n",
    "```"
   ]
  },
  {
   "cell_type": "markdown",
   "metadata": {},
   "source": [
    "<b><font color=red> **Activity 2** </font></b><br>\n",
    "- Accept two values from user say **A** and **B**;\n",
    "- write a function named `swap` to swap the values of **A** and **B**\n",
    "- print the values of **A** and **B** before swap and after swap\n",
    "\n",
    "****\n",
    "OUTPUT:\n",
    "```\n",
    "Enter A : 10\n",
    "Enter B : 20\n",
    "-----Before Swap------\n",
    "A = 10\n",
    "B = 20\n",
    "-----After Swap------\n",
    "A = 20\n",
    "B = 10\n",
    "```"
   ]
  },
  {
   "cell_type": "markdown",
   "metadata": {},
   "source": [
    "<b><font color=red> **Activity 3** </font></b><br>\n",
    "- Accept the password of the user\n",
    "- Write a function named `validate_password` and\n",
    "- If the length of the password exceeds 8, display **Strong Password**\n",
    "- If the length of the password between 5-8, display **Weak Password**\n",
    "- If the length of the password < 5, display **Password length should be greater than 5**\n",
    "\n",
    "****\n",
    "OUTPUT:\n",
    "1. \n",
    "```\n",
    "Enter your password: 12345\n",
    "Weak Password\n",
    "```\n",
    "2. \n",
    "```\n",
    "Enter your password: abcdefghij\n",
    "Strong Password\n",
    "```\n",
    "3. \n",
    "```\n",
    "Enter your password: #123\n",
    "Password length should be greater than 5\n",
    "```"
   ]
  },
  {
   "cell_type": "markdown",
   "metadata": {},
   "source": [
    " <b><font color=red> **Activity 4** </font></b><br>\n",
    "- Accept a float number from user\n",
    "- write a function named `floor` to find the floor value of the number\n",
    "- write a function named `ceil` to find the ceil value of the number\n",
    "- If user enter some alphabets/special characters as value, display **Invalid Input!**\n",
    "\n",
    "****\n",
    "OUTPUT:\n",
    "1. \n",
    "```\n",
    "Enter a float number: 10.3\n",
    "floor of 10.3 = 10\n",
    "ceil of 10.3 = 11\n",
    "```\n",
    "2. \n",
    "```\n",
    "Enter a float number: abc\n",
    "Invalid Input!\n",
    "```"
   ]
  },
  {
   "cell_type": "markdown",
   "metadata": {},
   "source": [
    " <b><font color=red> **Activity 5** </font></b><br>\n",
    "- Let us consider a quadratic equation of the form ax²+bx+c=0\n",
    "- Accept the values of a, b and c from user\n",
    "- Write a function named `display(a,b,c)` to show the equation in the given form \n",
    "- write a function named `root(a,b,c)` to print the nature of the root of the equation. i.e\n",
    "        - When discriminant is positive there will be two roots\n",
    "        - when discriminant is zero there will be one root\n",
    "        - when discriminant is negative there will be no real roots.\n",
    "\n",
    "OUTPUT:\n",
    "1. \n",
    "```\n",
    "Enter a: 1\n",
    "Enter b: 2\n",
    "Enter c: 4\n",
    "Equation : 1x^2 + 2x + 4 = 0\n",
    "No real roots\n",
    "```\n",
    "2. \n",
    "```\n",
    "Enter a: 1\n",
    "Enter b: 3\n",
    "Enter c: 2\n",
    "Equation : 1x^2 + 3x + 2 = 0\n",
    "Two real roots\n",
    "```"
   ]
  },
  {
   "cell_type": "code",
   "execution_count": null,
   "metadata": {},
   "outputs": [],
   "source": []
  }
 ],
 "metadata": {
  "celltoolbar": "Slideshow",
  "kernelspec": {
   "display_name": "Python 3",
   "language": "python",
   "name": "python3"
  },
  "language_info": {
   "codemirror_mode": {
    "name": "ipython",
    "version": 3
   },
   "file_extension": ".py",
   "mimetype": "text/x-python",
   "name": "python",
   "nbconvert_exporter": "python",
   "pygments_lexer": "ipython3",
   "version": "3.8.3"
  }
 },
 "nbformat": 4,
 "nbformat_minor": 4
}
