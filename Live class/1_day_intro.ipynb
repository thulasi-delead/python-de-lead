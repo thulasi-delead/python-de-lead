{
 "cells": [
  {
   "cell_type": "markdown",
   "id": "5d6dd441",
   "metadata": {},
   "source": [
    "# Index\n",
    "* **Intro to coding**\n",
    "  * What is a Language\n",
    "  * What is ment by programing language\n",
    "  * Why we use programming language\n",
    "  * Different types of programming language\n",
    "  * Benifits of learning python\n",
    "* **Why we need to learn programming early?**  \n",
    "* **Python Overview**\n",
    "  * History\n",
    "  * Why python in digital Era\n",
    "  * Applications of python\n",
    "  * Advantages of using python\n",
    "  * Fiellds / Job Opportunities in python\n",
    "* **How to program**\n",
    "  * Difference b/w Shell and IDE\n",
    "  * What is VS code \n",
    "* **Software Installation**\n",
    "  * Laptop\n",
    "  * Mobile\n",
    "\n",
    "----\n",
    "\n"
   ]
  },
  {
   "cell_type": "markdown",
   "id": "1bc1ce59",
   "metadata": {},
   "source": [
    "<img src=\"images/python_title.gif\" style=\"width: 600px;height=600px;\"/>"
   ]
  },
  {
   "cell_type": "markdown",
   "id": "8fe6b32d",
   "metadata": {},
   "source": [
    "## Images required"
   ]
  },
  {
   "cell_type": "markdown",
   "id": "a3ae3fd4",
   "metadata": {},
   "source": [
    "How we communicate\n",
    "- 2 people speaking in english\n",
    "- Both of them understand english and other one giving information back in english\n"
   ]
  },
  {
   "cell_type": "markdown",
   "id": "a29ac0e9",
   "metadata": {},
   "source": [
    "Talking is not the only was of passing informations\n",
    "- Communicating through sign languages"
   ]
  },
  {
   "cell_type": "markdown",
   "id": "e7c4648b",
   "metadata": {},
   "source": [
    "Communication properly\n",
    "- Use example of jhony english and another character of old stone age guy in cartoons\n",
    "- One talking in english and the other not understanding and the - other one talking back in old stone age language"
   ]
  },
  {
   "cell_type": "markdown",
   "id": "fdfc4e55",
   "metadata": {},
   "source": [
    "Programming languages\n",
    "- Different programming languages and its uses"
   ]
  },
  {
   "cell_type": "markdown",
   "id": "eb7f63c3",
   "metadata": {},
   "source": [
    "Graph\n",
    "- Showing popularity of python grown in the years"
   ]
  },
  {
   "cell_type": "markdown",
   "id": "3fe66c30",
   "metadata": {},
   "source": [
    "## "
   ]
  },
  {
   "cell_type": "markdown",
   "id": "e10c8646",
   "metadata": {},
   "source": [
    "### Communication"
   ]
  },
  {
   "cell_type": "markdown",
   "id": "918eb315",
   "metadata": {},
   "source": [
    "What is communication\n",
    "- It is transfering of information\n",
    "- We can transfer infromation from one person to another in different formats \n",
    "- We can communicate using languages\n",
    "- We can communicate through writing \n",
    "- We can communicate through actions\n",
    "\n",
    "etc."
   ]
  },
  {
   "cell_type": "markdown",
   "id": "7adb842c",
   "metadata": {},
   "source": [
    "<img src=\"images/talking.gif\" style=\"width: 200px;height=200px;\"/>"
   ]
  },
  {
   "cell_type": "markdown",
   "id": "5eb529e3",
   "metadata": {},
   "source": [
    "> Similarly we use computer languages to communicate to a computer"
   ]
  },
  {
   "cell_type": "markdown",
   "id": "a1059389",
   "metadata": {},
   "source": [
    "## Understanding the world - Why we need to learn programming early?   \n",
    "&nbsp;\n",
    " ***``Coding is considered as the most desired skill in 21st century``***\n",
    "\n",
    "**1. The world is growing digitally**\n",
    "* Digital Classes\n",
    "* Digital Banking\n",
    "* Social Media\n",
    "* Privacy and Security\n",
    " \n",
    "\n",
    "**2. Other Benefits:**   \n",
    "\n",
    "* It is the future\n",
    "* It is the learning while having fun\n",
    "* To have fun with maths and puzzles\n",
    "* To learn along with elders including parents\n",
    "* It can be a play ground\n",
    "* It teaches how to think"
   ]
  },
  {
   "cell_type": "markdown",
   "id": "e03af265",
   "metadata": {},
   "source": [
    "## Programming Languages(PL)"
   ]
  },
  {
   "cell_type": "markdown",
   "id": "bc0ea9ac",
   "metadata": {},
   "source": [
    "> Ask the Student :: Which all programming languages have you heard or learned ? "
   ]
  },
  {
   "cell_type": "markdown",
   "id": "53d7fe45",
   "metadata": {},
   "source": [
    "### Different Programming Languages   \n",
    "   \n",
    "   * Fortran\n",
    "   * COBOL\n",
    "   * C\n",
    "   * C++\n",
    "   * Java\n",
    "   * JavaScript\n",
    "   * PHP\n",
    "   * Python\n",
    "   * Objective-C   \n",
    "   * Ruby"
   ]
  },
  {
   "cell_type": "markdown",
   "id": "b540277d",
   "metadata": {},
   "source": [
    "<img src=\"images/programming_languages.png\" style=\"width: 600px;height=600px;\"/>"
   ]
  },
  {
   "cell_type": "markdown",
   "id": "b808a32e",
   "metadata": {},
   "source": [
    "### Uses of Different Programming languages"
   ]
  },
  {
   "cell_type": "markdown",
   "id": "d2c12aa0",
   "metadata": {},
   "source": [
    "Interact and Answer - with the student\n",
    "- Where is HTML used most ?\n",
    "- where is JS used most ?\n",
    "- where is R used most ?"
   ]
  },
  {
   "cell_type": "markdown",
   "id": "388a5bfb",
   "metadata": {},
   "source": [
    "\n",
    "\n",
    "\n",
    "### Programming in Different Fields    \n",
    "\n",
    "   * Education\n",
    "   * Science\n",
    "   * Agriculture\n",
    "   * Economics\n",
    "   * Entertainment - Sports, Films, Arts, Gaming etc   \n",
    "   \n",
    "\n",
    "   \n",
    "---"
   ]
  },
  {
   "cell_type": "code",
   "execution_count": 1,
   "id": "a92c108e",
   "metadata": {},
   "outputs": [
    {
     "name": "stdout",
     "output_type": "stream",
     "text": [
      "3\n"
     ]
    }
   ],
   "source": [
    "print(1+2)\n"
   ]
  },
  {
   "cell_type": "code",
   "execution_count": 2,
   "id": "f1908939",
   "metadata": {},
   "outputs": [
    {
     "name": "stdout",
     "output_type": "stream",
     "text": [
      "Hello Sethu!\n"
     ]
    }
   ],
   "source": [
    "print(\"Hello Sethu!\")"
   ]
  },
  {
   "cell_type": "markdown",
   "id": "e25afc57",
   "metadata": {},
   "source": [
    "#Java program to print something\n",
    "```\n",
    "    public class demo{\n",
    "    public static void main(String [] args){\n",
    "        System.out.println(\"Hello Sethu!\");\n",
    "    }\n",
    "}\n",
    "\n",
    "```\n",
    "\n",
    "- Look at the complexity of the program\n"
   ]
  },
  {
   "cell_type": "markdown",
   "id": "b27fcbb0",
   "metadata": {},
   "source": [
    "### Why python\n",
    "- Why python is preffered\n",
    "1. Libraries\n",
    "2. Easy to learn\n",
    "3. Runs on all platforms\n",
    "4. Easy to understand \n",
    "5. Flexibility\n",
    "6. Community"
   ]
  },
  {
   "cell_type": "markdown",
   "id": "734e1845",
   "metadata": {},
   "source": [
    "<img src=\"images/why_python.png\" style=\"width: 600px;height=600px;\"/>"
   ]
  },
  {
   "cell_type": "markdown",
   "id": "cc3522b7",
   "metadata": {},
   "source": [
    "## Why Python?   \n",
    "   \n",
    "### History\n",
    "   ![](images/founder.jpg)\n",
    "   * Developed by Guido van Rossum in late 1980's\n",
    "   * Netherlands\n",
    "   * Derived from other languages like: ABC, Modula-3, C, C++, Unix Shell etc\n",
    "   * Now Source code are availbale under GNU Genral Public License\n",
    "\n",
    "### Advantages       \n",
    "&nbsp;\n",
    "![](images/python_advantages.jpg) \n",
    "&nbsp;\n",
    "\n"
   ]
  },
  {
   "cell_type": "markdown",
   "id": "7935d590",
   "metadata": {},
   "source": [
    "### Applications"
   ]
  },
  {
   "cell_type": "markdown",
   "id": "a79ba5bf",
   "metadata": {},
   "source": [
    "<img src=\"images/applications.jpeg\" style=\"width: 600px;height=600px;\"/>"
   ]
  },
  {
   "cell_type": "markdown",
   "id": "9fefbd3e",
   "metadata": {},
   "source": [
    "### Python Popularity"
   ]
  },
  {
   "cell_type": "markdown",
   "id": "4c3ccd2d",
   "metadata": {},
   "source": [
    "<img src=\"images/python_ppl.gif\" style=\"width: 600px;height=600px;\"/>"
   ]
  },
  {
   "cell_type": "markdown",
   "id": "e333c155",
   "metadata": {},
   "source": [
    "## Applications Area"
   ]
  },
  {
   "cell_type": "markdown",
   "id": "ebb03ba8",
   "metadata": {},
   "source": [
    "### Image Processing\n",
    "\n",
    "![](images/tesla_autopiolet.jpeg)\n",
    "\n",
    "-  *Method of performing operations on images to get a detailed insights from the image data*      \n",
    "-  Biometric Recognition: face, iris, finger prints etc     \n",
    "-  Bio medical image enhancement    \n",
    "-  Weather forcasting    \n",
    "-  Review systems in sports\n",
    "\n",
    "### Object Detection\n",
    "\n",
    "<img src=\"images/image_street.gif\" style=\"width: 600px;height=600px;\"/>\n"
   ]
  },
  {
   "cell_type": "markdown",
   "id": "70dd6766",
   "metadata": {},
   "source": [
    "### Data Science  \n",
    "    \n",
    "![](images/python_data_science.gif)\n",
    "\n",
    "-  **Data science** *is multidisciplinary approach of extracting insights from huge amount of data.*      \n",
    "-  Scientific, Statistical, Programming and Mathematical methods.      \n",
    "-  Tools and Technologies: Python, R, MATLAB, Classification, Clustering, Deep Learning, Tableau,SAS, NOSQL, Cloud       \n",
    "-  Fraud Detection, Health care, Airline Routing, Internet Searching Targeted Ads, Augmented Reality, Gaming\n",
    "\n",
    "**Graph Ploating in python**\n",
    "\n",
    "<img src=\"images/python_data_2.gif\" style=\"width: 600px;height=600px;\"/>"
   ]
  },
  {
   "cell_type": "markdown",
   "id": "a471d498",
   "metadata": {},
   "source": [
    "### Artificial Intelligence and Machine Learning\n",
    "\n",
    "![](images/face_recog.gif)\n",
    "\n",
    "-  **AI** *is nothing but technology which replicates human behaviour*    \n",
    "-  **Machine Learning** *is the branch of artificial intelligence that imitate human learning process.*    \n",
    "-  Smart doctor, Image recognition, Google map traffic prediction, Robots, Self driving cars "
   ]
  },
  {
   "cell_type": "markdown",
   "id": "8d2f40ef",
   "metadata": {},
   "source": [
    "### **Web Development**   \n",
    "\n",
    "<img src=\"images/django.gif\" style=\"width: 600px;height=600px;\"/>\n",
    "\n",
    "-  *Process of developing websites for internet or intranet*   \n",
    "-  Using Django and Flask(Model View Controllers)   \n",
    "-  Django: Seperating HTML, Style, Database and Server Scripts.   \n",
    "-  One of the most robust and secured wed development tool.   "
   ]
  },
  {
   "cell_type": "markdown",
   "id": "70d20976",
   "metadata": {},
   "source": [
    "### **Embedded System**   \n",
    "\n",
    "<img src=\"images/embedded_python.gif\" style=\"width: 600px;height=600px;\"/>\n",
    "\n",
    "-  **Embedded system** *is basically a system of hardware having a microprocessor or micro controller, designed to perform a mechanical/electrical task.*     \n",
    "-  **Use of python**: Device controll, debugging, automated testing, data storage and analysis, real-time software etc "
   ]
  },
  {
   "cell_type": "markdown",
   "id": "70d20976",
   "metadata": {},
   "source": [
    "### Software Creation - Grafic User Interface"
   ]
  },
  {
   "cell_type": "markdown",
   "id": "6c405fae",
   "metadata": {},
   "source": [
    "<img src=\"images/gui_python.gif\" style=\"width: 600px;height=600px;\"/>"
   ]
  },
  {
   "cell_type": "code",
   "execution_count": null,
   "id": "f0de92d8",
   "metadata": {},
   "outputs": [],
   "source": []
  }
 ],
 "metadata": {
  "celltoolbar": "Slideshow",
  "kernelspec": {
   "display_name": "Python 3",
   "language": "python",
   "name": "python3"
  },
  "language_info": {
   "codemirror_mode": {
    "name": "ipython",
    "version": 3
   },
   "file_extension": ".py",
   "mimetype": "text/x-python",
   "name": "python",
   "nbconvert_exporter": "python",
   "pygments_lexer": "ipython3",
   "version": "3.8.3"
  }
 },
 "nbformat": 4,
 "nbformat_minor": 5
}
