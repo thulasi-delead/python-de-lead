{
 "cells": [
  {
   "cell_type": "markdown",
   "metadata": {
    "slideshow": {
     "slide_type": "skip"
    }
   },
   "source": [
    "### Index\n",
    "- Creating a dict\n",
    "    - Creating a empty dict\n",
    "- Adding elements to a dict\n",
    "- Finding value using Keys\n",
    "- Build in functions with dict\n",
    "- In operator\n",
    "- Finding all the keys and values in a dict"
   ]
  },
  {
   "cell_type": "markdown",
   "metadata": {},
   "source": [
    "# DICTIONARIES"
   ]
  },
  {
   "cell_type": "markdown",
   "metadata": {},
   "source": [
    "- Unordered \n",
    "- Changeable\n",
    "\n",
    "- Duplicates are not allowed"
   ]
  },
  {
   "cell_type": "markdown",
   "metadata": {},
   "source": [
    "**Dictionary Structure**\n",
    "\n",
    "- Each key is separated from its value by a colon (:)\n",
    "\n",
    "- key:value pairs are separated by commas (,)\n",
    "\n",
    "- The whole dictionary is enclosed in a curly bracket {}\n",
    "\n"
   ]
  },
  {
   "cell_type": "code",
   "execution_count": 1,
   "metadata": {},
   "outputs": [
    {
     "name": "stdout",
     "output_type": "stream",
     "text": [
      "{'name': 'raju', 'age': 25, 'place': 'Kochi'}\n"
     ]
    }
   ],
   "source": [
    "dict = {'name': 'raju', 'age': 25, 'place':'Kochi'}\n",
    "print(dict)"
   ]
  },
  {
   "cell_type": "markdown",
   "metadata": {},
   "source": [
    "**LIST**\n",
    " - In list the position of the elements are called indices(index)\n",
    " - And in list the indexes have to be positive numbers or integers\n",
    " \n",
    "**DICTIONARIES**\n",
    "- In case of a dictionaries the position has to can be (almost) any type\n",
    "> It is a mapping between indexes and set of values\n",
    "\n",
    "- here Indexes are called **KEYS**\n",
    "and hence the relation between them is called *key-value pair* or sometimes and *item*\n",
    "\n",
    "\n"
   ]
  },
  {
   "cell_type": "markdown",
   "metadata": {},
   "source": [
    "## Creating a Dictionary"
   ]
  },
  {
   "cell_type": "code",
   "execution_count": 31,
   "metadata": {
    "slideshow": {
     "slide_type": "slide"
    }
   },
   "outputs": [
    {
     "name": "stdout",
     "output_type": "stream",
     "text": [
      "{'Apple': 'iphone', 'Mi': 'Redmi Note 5', 'Vivo': 'vivo S5', 'Nokia': '1100'}\n"
     ]
    }
   ],
   "source": [
    "## Creating a dictionary with elements in it\n",
    "# and print the data\n",
    "\n",
    "smart_phones = { \"Apple\" : \"iphone\",\"Mi\" : \"Redmi Note 5\",\"Vivo\" : \"vivo S5\",\"Nokia\" : \"1100\" }\n",
    "print(smart_phones)"
   ]
  },
  {
   "cell_type": "code",
   "execution_count": 35,
   "metadata": {
    "slideshow": {
     "slide_type": "slide"
    }
   },
   "outputs": [
    {
     "name": "stdout",
     "output_type": "stream",
     "text": [
      "2003\n"
     ]
    }
   ],
   "source": [
    "nokia = { \"Brand\" : \"Nokia\",\"Model\" : 1100,\"year\" : \"2003\"} \n",
    "print(nokia[\"year\"])"
   ]
  },
  {
   "cell_type": "markdown",
   "metadata": {
    "slideshow": {
     "slide_type": "slide"
    }
   },
   "source": [
    "### Creating an empty dictionary"
   ]
  },
  {
   "cell_type": "code",
   "execution_count": 6,
   "metadata": {
    "slideshow": {
     "slide_type": "slide"
    }
   },
   "outputs": [
    {
     "name": "stdout",
     "output_type": "stream",
     "text": [
      "<class 'dict'>\n"
     ]
    }
   ],
   "source": [
    "# Method 1:: using empty curly bracket\n",
    "new_dict = {}\n",
    "print(type(new_dict))"
   ]
  },
  {
   "cell_type": "code",
   "execution_count": 1,
   "metadata": {
    "slideshow": {
     "slide_type": "slide"
    }
   },
   "outputs": [
    {
     "name": "stdout",
     "output_type": "stream",
     "text": [
      "{}\n",
      "<class 'dict'>\n"
     ]
    }
   ],
   "source": [
    "# Method 2:: using dict() method of dictionary class\n",
    "new_dict_2 = dict()\n",
    "print(new_dict_2)\n",
    "print(type(new_dict_2))"
   ]
  },
  {
   "cell_type": "code",
   "execution_count": 2,
   "metadata": {
    "slideshow": {
     "slide_type": "slide"
    }
   },
   "outputs": [
    {
     "name": "stdout",
     "output_type": "stream",
     "text": [
      "{1: 2, 2: 'two', 3: 'four'}\n",
      "<class 'dict'>\n"
     ]
    }
   ],
   "source": [
    "# Method 3:: dictionary creation using \n",
    "a = [ (1,2) , (2,\"two\") , (3,\"four\") ]\n",
    "type(a)\n",
    "n = dict(a)\n",
    "print(n)\n",
    "print(type(n))"
   ]
  },
  {
   "cell_type": "markdown",
   "metadata": {
    "slideshow": {
     "slide_type": "slide"
    }
   },
   "source": [
    "## Adding elements to a dict"
   ]
  },
  {
   "cell_type": "code",
   "execution_count": 12,
   "metadata": {},
   "outputs": [
    {
     "name": "stdout",
     "output_type": "stream",
     "text": [
      "{'a': 'mango', 'b': 'apple', 'c': 'banana', 'd': 'guava', 'e': 'avacado', 'f': 'papaya'}\n"
     ]
    }
   ],
   "source": [
    "dict_new = {} # creating a dict\n",
    "dict_new['a'] = \"mango\"\n",
    "dict_new['b'] = \"apple\"\n",
    "dict_new['c'] = \"banana\"\n",
    "dict_new['d'] = \"guava\"\n",
    "dict_new['e'] = \"avacado\"\n",
    "dict_new['f'] = \"papaya\"\n",
    "print(dict_new)\n"
   ]
  },
  {
   "cell_type": "markdown",
   "metadata": {},
   "source": [
    "- Here from the above case we can see that each element is associated with a value\n",
    "- `a` is associated to `mango`\n",
    "- `b` is associated to `apple`\n",
    "- `c` is associated to `banana`"
   ]
  },
  {
   "cell_type": "markdown",
   "metadata": {},
   "source": [
    "### Understanding that the dict is unordered"
   ]
  },
  {
   "cell_type": "markdown",
   "metadata": {},
   "source": [
    "**Note: Dict is unordered** <br>\n",
    "`It means that the elements of the dict cannot be called using INDEX`"
   ]
  },
  {
   "cell_type": "code",
   "execution_count": 13,
   "metadata": {},
   "outputs": [
    {
     "name": "stdout",
     "output_type": "stream",
     "text": [
      "{'a': 'mango', 'b': 'apple', 'c': 'banana', 'd': 'guava', 'e': 'avacado', 'f': 'papaya'}\n"
     ]
    }
   ],
   "source": [
    "print(dict_new)"
   ]
  },
  {
   "cell_type": "code",
   "execution_count": 14,
   "metadata": {},
   "outputs": [
    {
     "name": "stdout",
     "output_type": "stream",
     "text": [
      "{'a': 'mango', 'b': 'apple', 'c': 'banana', 'd': 'guava', 'e': 'avacado', 'f': 'papaya'}\n"
     ]
    }
   ],
   "source": [
    "print(dict_new)"
   ]
  },
  {
   "cell_type": "markdown",
   "metadata": {},
   "source": [
    "## Changeable\n",
    "\n",
    "- Dict is changeable\n",
    "- The items of the dict can be changed after creation of dict"
   ]
  },
  {
   "cell_type": "markdown",
   "metadata": {
    "slideshow": {
     "slide_type": "slide"
    }
   },
   "source": [
    "### Duplicates are not allowed\n",
    "\n",
    "- same key cannot be repeated in a dict\n",
    "\n",
    "- But same value can be repeated|"
   ]
  },
  {
   "cell_type": "code",
   "execution_count": 43,
   "metadata": {
    "slideshow": {
     "slide_type": "subslide"
    }
   },
   "outputs": [
    {
     "name": "stdout",
     "output_type": "stream",
     "text": [
      "{'a': 'apple', 'b': 'bat', 'c': 'carrot'}\n"
     ]
    }
   ],
   "source": [
    "new_dict = {\n",
    "    \"a\" : \"apple\",\n",
    "    \"b\" : \"bat\",\n",
    "    \"c\" : \"cat\",\n",
    "    \"c\" : \"bat\",\n",
    "    \"c\" : \"carrot\"\n",
    "}\n",
    "print(new_dict)"
   ]
  },
  {
   "cell_type": "code",
   "execution_count": 1,
   "metadata": {},
   "outputs": [
    {
     "name": "stdout",
     "output_type": "stream",
     "text": [
      "{'a': 'apple', 'b': 'bat', 'c': 'cat', 'd': 'dog', 'k': 'cat'}\n"
     ]
    }
   ],
   "source": [
    "new_dict2 = {\n",
    "    'a':'apple',\n",
    "    'b':'bat',\n",
    "    'c':'cat',\n",
    "    'd':'dog',\n",
    "    'k':'cat'\n",
    "}\n",
    "\n",
    "print(new_dict2)"
   ]
  },
  {
   "cell_type": "markdown",
   "metadata": {
    "slideshow": {
     "slide_type": "slide"
    }
   },
   "source": [
    "## Finding value using a Key"
   ]
  },
  {
   "cell_type": "markdown",
   "metadata": {
    "slideshow": {
     "slide_type": "subslide"
    }
   },
   "source": [
    "**SYNTAX**\n",
    "```\n",
    "dictionary_name[key]\n",
    "```\n",
    "\n",
    "- This returns the value of the key specified"
   ]
  },
  {
   "cell_type": "code",
   "execution_count": 16,
   "metadata": {
    "slideshow": {
     "slide_type": "fragment"
    }
   },
   "outputs": [
    {
     "name": "stdout",
     "output_type": "stream",
     "text": [
      "apple\n"
     ]
    }
   ],
   "source": [
    "print(dict_new[\"b\"])"
   ]
  },
  {
   "cell_type": "code",
   "execution_count": 2,
   "metadata": {},
   "outputs": [
    {
     "name": "stdout",
     "output_type": "stream",
     "text": [
      "cat\n"
     ]
    }
   ],
   "source": [
    "new_dict2 = {\n",
    "    'a':'apple',\n",
    "    'b':'bat',\n",
    "    'c':'cat',\n",
    "    'd':'dog',\n",
    "    'k':'cat'\n",
    "}\n",
    "\n",
    "print(new_dict2['k'])"
   ]
  },
  {
   "cell_type": "markdown",
   "metadata": {
    "slideshow": {
     "slide_type": "slide"
    }
   },
   "source": [
    "## In operator"
   ]
  },
  {
   "cell_type": "markdown",
   "metadata": {
    "slideshow": {
     "slide_type": "subslide"
    }
   },
   "source": [
    "- in tells wheather there is a key with that name"
   ]
  },
  {
   "cell_type": "code",
   "execution_count": 20,
   "metadata": {
    "slideshow": {
     "slide_type": "fragment"
    }
   },
   "outputs": [
    {
     "data": {
      "text/plain": [
       "True"
      ]
     },
     "execution_count": 20,
     "metadata": {},
     "output_type": "execute_result"
    }
   ],
   "source": [
    "\"a\" in dict_new"
   ]
  },
  {
   "cell_type": "code",
   "execution_count": 21,
   "metadata": {
    "slideshow": {
     "slide_type": "fragment"
    }
   },
   "outputs": [
    {
     "data": {
      "text/plain": [
       "True"
      ]
     },
     "execution_count": 21,
     "metadata": {},
     "output_type": "execute_result"
    }
   ],
   "source": [
    "\"e\" in dict_new"
   ]
  },
  {
   "cell_type": "code",
   "execution_count": 22,
   "metadata": {
    "slideshow": {
     "slide_type": "fragment"
    }
   },
   "outputs": [
    {
     "data": {
      "text/plain": [
       "False"
      ]
     },
     "execution_count": 22,
     "metadata": {},
     "output_type": "execute_result"
    }
   ],
   "source": [
    "\"i\" in dict_new"
   ]
  },
  {
   "cell_type": "code",
   "execution_count": 25,
   "metadata": {
    "slideshow": {
     "slide_type": "slide"
    }
   },
   "outputs": [
    {
     "name": "stdout",
     "output_type": "stream",
     "text": [
      "Enter the name of the student:golu\n",
      "Enter the total score of the student:55\n",
      "{'golu': '55'}\n"
     ]
    }
   ],
   "source": [
    "### making taking keys and the values for user\n",
    "new = dict()\n",
    "key = input(\"Enter the name of the student:\")\n",
    "value = input(\"Enter the total score of the student:\")\n",
    "new[key]=value\n",
    "print(new)\n"
   ]
  },
  {
   "cell_type": "markdown",
   "metadata": {
    "slideshow": {
     "slide_type": "slide"
    }
   },
   "source": [
    "<font color = red>**Question 1**</font><br>\n",
    " - Take the names of the students from user \n",
    " - Take the total score of the student from the user\n",
    " - Make them into a `key:value` pair\n",
    " - print the data"
   ]
  },
  {
   "cell_type": "markdown",
   "metadata": {},
   "source": [
    "<font color = red>**Question 2**</font>\n",
    "```\n",
    "Use dictionary to store antonyms of words. E.g.- 'Right':'Left', 'Up':'Down', etc. Display all words and then ask user to enter a word and display antonym of it.\n",
    "```"
   ]
  },
  {
   "cell_type": "code",
   "execution_count": 6,
   "metadata": {
    "slideshow": {
     "slide_type": "slide"
    }
   },
   "outputs": [
    {
     "ename": "ValueError",
     "evalue": "dictionary update sequence element #0 has length 3; 2 is required",
     "output_type": "error",
     "traceback": [
      "\u001b[0;31m---------------------------------------------------------------------------\u001b[0m",
      "\u001b[0;31mValueError\u001b[0m                                Traceback (most recent call last)",
      "\u001b[0;32m<ipython-input-6-b4501e010ef3>\u001b[0m in \u001b[0;36m<module>\u001b[0;34m\u001b[0m\n\u001b[1;32m      1\u001b[0m \u001b[0ma\u001b[0m \u001b[0;34m=\u001b[0m \u001b[0;34m[\u001b[0m\u001b[0;34m(\u001b[0m\u001b[0;36m1\u001b[0m\u001b[0;34m,\u001b[0m\u001b[0;36m2\u001b[0m\u001b[0;34m,\u001b[0m\u001b[0;36m3\u001b[0m\u001b[0;34m)\u001b[0m\u001b[0;34m,\u001b[0m\u001b[0;34m(\u001b[0m\u001b[0;36m5\u001b[0m\u001b[0;34m,\u001b[0m\u001b[0;36m6\u001b[0m\u001b[0;34m,\u001b[0m\u001b[0;36m7\u001b[0m\u001b[0;34m)\u001b[0m\u001b[0;34m]\u001b[0m\u001b[0;34m\u001b[0m\u001b[0;34m\u001b[0m\u001b[0m\n\u001b[0;32m----> 2\u001b[0;31m \u001b[0mdict\u001b[0m\u001b[0;34m(\u001b[0m\u001b[0ma\u001b[0m\u001b[0;34m)\u001b[0m\u001b[0;34m\u001b[0m\u001b[0;34m\u001b[0m\u001b[0m\n\u001b[0m",
      "\u001b[0;31mValueError\u001b[0m: dictionary update sequence element #0 has length 3; 2 is required"
     ]
    }
   ],
   "source": [
    "a = [(1,2,3),(5,6,7)]\n",
    "dict(a)"
   ]
  },
  {
   "cell_type": "markdown",
   "metadata": {},
   "source": [
    "## len() method over dict"
   ]
  },
  {
   "cell_type": "code",
   "execution_count": 10,
   "metadata": {
    "slideshow": {
     "slide_type": "slide"
    }
   },
   "outputs": [
    {
     "name": "stdout",
     "output_type": "stream",
     "text": [
      "1\n"
     ]
    }
   ],
   "source": [
    "a = [(\"12\",22)]\n",
    "dict(a)\n",
    "print(len(a))"
   ]
  },
  {
   "cell_type": "code",
   "execution_count": 19,
   "metadata": {
    "slideshow": {
     "slide_type": "slide"
    }
   },
   "outputs": [
    {
     "name": "stdout",
     "output_type": "stream",
     "text": [
      "{'a': 1}\n"
     ]
    }
   ],
   "source": [
    "n = dict()\n",
    "n[\"a\"] = 1\n",
    "print(n)"
   ]
  },
  {
   "cell_type": "markdown",
   "metadata": {
    "slideshow": {
     "slide_type": "slide"
    }
   },
   "source": [
    "## Finding the keys and values in a dict\n",
    "\n",
    "- keys() - will give all the keys present in the dict\n",
    "- values() - will give all the values present in the dict\n",
    "- items() - will give all the key:value pairs present in the dict"
   ]
  },
  {
   "cell_type": "code",
   "execution_count": 3,
   "metadata": {
    "slideshow": {
     "slide_type": "subslide"
    }
   },
   "outputs": [
    {
     "data": {
      "text/plain": [
       "dict_keys([1, 2, 3])"
      ]
     },
     "execution_count": 3,
     "metadata": {},
     "output_type": "execute_result"
    }
   ],
   "source": [
    "a = {1:2,2:3,3:5}\n",
    "a.keys()"
   ]
  },
  {
   "cell_type": "code",
   "execution_count": 9,
   "metadata": {
    "slideshow": {
     "slide_type": "subslide"
    }
   },
   "outputs": [
    {
     "name": "stdout",
     "output_type": "stream",
     "text": [
      "<class 'dict_values'>\n"
     ]
    }
   ],
   "source": [
    "a.values()"
   ]
  },
  {
   "cell_type": "code",
   "execution_count": 8,
   "metadata": {},
   "outputs": [
    {
     "name": "stdout",
     "output_type": "stream",
     "text": [
      "dict_items([(1, 2), (2, 3), (3, 5)])\n",
      "<class 'dict_items'>\n"
     ]
    }
   ],
   "source": [
    "x = a.items() \n",
    "print(x)"
   ]
  },
  {
   "cell_type": "code",
   "execution_count": 25,
   "metadata": {},
   "outputs": [
    {
     "name": "stdout",
     "output_type": "stream",
     "text": [
      "{1: 2, 2: 3, 3: 5}\n"
     ]
    }
   ],
   "source": [
    "print(a)"
   ]
  },
  {
   "cell_type": "markdown",
   "metadata": {},
   "source": [
    "## To check for a given key"
   ]
  },
  {
   "cell_type": "markdown",
   "metadata": {},
   "source": [
    "#### Method 1:\n",
    "\n",
    "- As dictionary is more depend on the keys we can if use `in` over the dict, it will check in keys"
   ]
  },
  {
   "cell_type": "code",
   "execution_count": 10,
   "metadata": {},
   "outputs": [
    {
     "name": "stdout",
     "output_type": "stream",
     "text": [
      "True\n",
      "False\n",
      "False\n"
     ]
    }
   ],
   "source": [
    "sports = {'cricket':'Virat Kohli', 'football':'Sunil Chethri','tennis':'Sania Mirza','badminton':'PV Sindhu'}\n",
    "print('cricket' in sports)\n",
    "print('kabadi' in sports)\n",
    "print('PV Sindhu' in sports)"
   ]
  },
  {
   "cell_type": "markdown",
   "metadata": {},
   "source": [
    "#### Method 2:\n",
    "- Check the goven key present in the dict.keys()"
   ]
  },
  {
   "cell_type": "code",
   "execution_count": 12,
   "metadata": {},
   "outputs": [
    {
     "name": "stdout",
     "output_type": "stream",
     "text": [
      "True\n",
      "False\n",
      "False\n"
     ]
    }
   ],
   "source": [
    "sports = {'cricket':'Virat Kohli', 'football':'Sunil Chethri','tennis':'Sania Mirza','badminton':'PV Sindhu'}\n",
    "keys = sports.keys()   #saved the keys into a variable and use this variable further\n",
    "print('football' in keys)\n",
    "print('golf' in keys)\n",
    "print('Sunil Chethri' in keys)"
   ]
  },
  {
   "cell_type": "markdown",
   "metadata": {},
   "source": [
    "## To check for a given value"
   ]
  },
  {
   "cell_type": "code",
   "execution_count": 13,
   "metadata": {},
   "outputs": [
    {
     "name": "stdout",
     "output_type": "stream",
     "text": [
      "False\n",
      "True\n",
      "True\n",
      "False\n"
     ]
    }
   ],
   "source": [
    "sports = {'cricket':'Virat Kohli', 'football':'Sunil Chethri','tennis':'Sania Mirza','badminton':'PV Sindhu'}\n",
    "vals = sports.values()   #saved the keys into a variable and use this variable further\n",
    "print('badminton' in vals)\n",
    "print('Virat Kohli' in vals)\n",
    "print('Sunil Chethri' in vals)\n",
    "print('Sachin Tendulkar' in vals)"
   ]
  },
  {
   "cell_type": "markdown",
   "metadata": {},
   "source": [
    "<font color = red>**Question 3**</font><br>\n",
    "```\n",
    "The following dictionary represents the top saled vehicle company in India for last 10 years.\n",
    "1. List all the company names topped in India for lat 10 years\n",
    "2. Print which company topped in the year 2015\n",
    "\n",
    "```\n",
    "`sales = {2012:'Maruthi',2013:'Maruthi',2014:'Hyundai',2015:'Toyota',2016:'TATA',2017:'Renault',2018:'TATA',2019:'Maruthi',\n",
    "2020:'TATA',2021:'TATA'}`"
   ]
  },
  {
   "cell_type": "markdown",
   "metadata": {},
   "source": [
    "## Changing values inside a dict\n",
    "\n",
    "- Note that dictionary is mutable"
   ]
  },
  {
   "cell_type": "markdown",
   "metadata": {},
   "source": [
    "#### Method 1:: Using key as index"
   ]
  },
  {
   "cell_type": "code",
   "execution_count": 15,
   "metadata": {},
   "outputs": [
    {
     "name": "stdout",
     "output_type": "stream",
     "text": [
      "{1: 'ONE', 2: 'TWO', 3: 'THREE'}\n"
     ]
    }
   ],
   "source": [
    "a = {1:\"one\",2:\"two\",3:\"three\"}\n",
    "a[1]=\"ONE\"\n",
    "a[2] = \"TWO\"\n",
    "a[3] = \"THREE\"\n",
    "print(a)"
   ]
  },
  {
   "cell_type": "markdown",
   "metadata": {},
   "source": [
    "#### Method 2:: Using update() method"
   ]
  },
  {
   "cell_type": "markdown",
   "metadata": {},
   "source": [
    "**Syntax:**\n",
    "`dict.update({key:value})`\n",
    "    "
   ]
  },
  {
   "cell_type": "code",
   "execution_count": 17,
   "metadata": {},
   "outputs": [
    {
     "name": "stdout",
     "output_type": "stream",
     "text": [
      "{1: 'ONE', 2: 'TWO', 3: 'three'}\n"
     ]
    }
   ],
   "source": [
    "a = {1:\"one\",2:\"two\",3:\"three\"}\n",
    "a.update({1:'ONE'})\n",
    "a.update({2:'TWO'})\n",
    "print(a)"
   ]
  },
  {
   "cell_type": "code",
   "execution_count": 18,
   "metadata": {},
   "outputs": [
    {
     "name": "stdout",
     "output_type": "stream",
     "text": [
      "{1: 'ONE', 2: 'TWO', 3: 'three', 4: 'Four'}\n"
     ]
    }
   ],
   "source": [
    "a.update({4:'Four'})\n",
    "print(a)"
   ]
  },
  {
   "cell_type": "markdown",
   "metadata": {},
   "source": [
    "**Note:**\n",
    "```\n",
    "When we use update() method, controller take the key gievn in the update method and check for that key in dict;\n",
    "if the key presesnt the corresponding value will be updated with the value given in the update method\n",
    "if not present a new key:value pair will updated into the dict\n",
    "```"
   ]
  },
  {
   "cell_type": "code",
   "execution_count": 19,
   "metadata": {},
   "outputs": [
    {
     "name": "stdout",
     "output_type": "stream",
     "text": [
      "{1: 'ONE', 2: 'TWO', 3: 'three', 4: 'FOUR', 5: 'Five', 6: 'Six'}\n"
     ]
    }
   ],
   "source": [
    "##Multiple pair in update()\n",
    "a.update({4:'FOUR',5:'Five',6:'Six'})\n",
    "print(a)"
   ]
  },
  {
   "cell_type": "markdown",
   "metadata": {},
   "source": [
    "## Traversing Dictionary"
   ]
  },
  {
   "cell_type": "markdown",
   "metadata": {},
   "source": [
    "### Method 1 :: Traversing keys only"
   ]
  },
  {
   "cell_type": "code",
   "execution_count": 21,
   "metadata": {},
   "outputs": [
    {
     "name": "stdout",
     "output_type": "stream",
     "text": [
      "cricket\n",
      "football\n",
      "tennis\n",
      "badminton\n"
     ]
    }
   ],
   "source": [
    "sports = {'cricket':'Virat Kohli', 'football':'Sunil Chethri','tennis':'Sania Mirza','badminton':'PV Sindhu'}\n",
    "\n",
    "for key in sports:\n",
    "    print(key)"
   ]
  },
  {
   "cell_type": "code",
   "execution_count": 22,
   "metadata": {},
   "outputs": [
    {
     "name": "stdout",
     "output_type": "stream",
     "text": [
      "cricket\n",
      "football\n",
      "tennis\n",
      "badminton\n"
     ]
    }
   ],
   "source": [
    "sports = {'cricket':'Virat Kohli', 'football':'Sunil Chethri','tennis':'Sania Mirza','badminton':'PV Sindhu'}\n",
    "\n",
    "for key in sports.keys():\n",
    "    print(key)"
   ]
  },
  {
   "cell_type": "markdown",
   "metadata": {},
   "source": [
    "### Method 2 :: Traversing values only"
   ]
  },
  {
   "cell_type": "code",
   "execution_count": 24,
   "metadata": {},
   "outputs": [
    {
     "name": "stdout",
     "output_type": "stream",
     "text": [
      "Virat Kohli\n",
      "Sunil Chethri\n",
      "Sania Mirza\n",
      "PV Sindhu\n"
     ]
    }
   ],
   "source": [
    "sports = {'cricket':'Virat Kohli', 'football':'Sunil Chethri','tennis':'Sania Mirza','badminton':'PV Sindhu'}\n",
    "\n",
    "for val in sports.values():\n",
    "    print(val)"
   ]
  },
  {
   "cell_type": "markdown",
   "metadata": {},
   "source": [
    "### Method 3 :: Traversing key:value pairs"
   ]
  },
  {
   "cell_type": "code",
   "execution_count": 25,
   "metadata": {},
   "outputs": [
    {
     "name": "stdout",
     "output_type": "stream",
     "text": [
      "('cricket', 'Virat Kohli')\n",
      "('football', 'Sunil Chethri')\n",
      "('tennis', 'Sania Mirza')\n",
      "('badminton', 'PV Sindhu')\n"
     ]
    }
   ],
   "source": [
    "sports = {'cricket':'Virat Kohli', 'football':'Sunil Chethri','tennis':'Sania Mirza','badminton':'PV Sindhu'}\n",
    "\n",
    "for item in sports.items():\n",
    "    print(item)"
   ]
  },
  {
   "cell_type": "code",
   "execution_count": 28,
   "metadata": {},
   "outputs": [
    {
     "name": "stdout",
     "output_type": "stream",
     "text": [
      "cricket ---- Virat Kohli\n",
      "football ---- Sunil Chethri\n",
      "tennis ---- Sania Mirza\n",
      "badminton ---- PV Sindhu\n"
     ]
    }
   ],
   "source": [
    "sports = {'cricket':'Virat Kohli', 'football':'Sunil Chethri','tennis':'Sania Mirza','badminton':'PV Sindhu'}\n",
    "\n",
    "for key,value in sports.items():\n",
    "    print(key,\"----\",value)"
   ]
  },
  {
   "cell_type": "markdown",
   "metadata": {},
   "source": [
    "<font color = red>**Question 4**</font><br>\n",
    "```\n",
    "The following dictionary represents the top saled vehicle company in India for last 10 years.\n",
    "1. Find out the company name which topped the Indian market most of the times in the last 10 years\n",
    "2. Print each company name along with the number of time they topped topped the indian market\n",
    "\n",
    "```\n",
    "`sales = {2012:'Maruthi',2013:'Maruthi',2014:'Hyundai',2015:'Toyota',2016:'TATA',2017:'Renault',2018:'TATA',2019:'Maruthi',\n",
    "2020:'TATA',2021:'TATA'}`"
   ]
  },
  {
   "cell_type": "markdown",
   "metadata": {},
   "source": [
    "## Some useful methods"
   ]
  },
  {
   "cell_type": "markdown",
   "metadata": {},
   "source": [
    "### copy()\n",
    "\n",
    "- Used to create a copy of dict"
   ]
  },
  {
   "cell_type": "code",
   "execution_count": 30,
   "metadata": {},
   "outputs": [
    {
     "name": "stdout",
     "output_type": "stream",
     "text": [
      "{'a': 'ant', 'b': 'bull', 'c': 'cat', 'd': 'duck'}\n",
      "{'a': 'ant', 'b': 'bull', 'c': 'cat', 'd': 'duck'}\n"
     ]
    }
   ],
   "source": [
    "dict1 = {'a':'ant','b':'bull','c':'cat','d':'duck'}\n",
    "print(dict1)\n",
    "dict2 = dict1.copy()\n",
    "print(dict2)"
   ]
  },
  {
   "cell_type": "markdown",
   "metadata": {},
   "source": [
    "### pop()\n",
    "\n",
    "- Returns the deleted element\n",
    "- key is requried to remove the element"
   ]
  },
  {
   "cell_type": "code",
   "execution_count": 31,
   "metadata": {},
   "outputs": [
    {
     "name": "stdout",
     "output_type": "stream",
     "text": [
      "{2: 'two'}\n"
     ]
    }
   ],
   "source": [
    "a = {1:\"one\",2:\"two\"}\n",
    "a.pop(1)\n",
    "print(a)"
   ]
  },
  {
   "cell_type": "markdown",
   "metadata": {},
   "source": [
    "### DEL\n",
    "\n",
    "- Key is required\n",
    "- No return value"
   ]
  },
  {
   "cell_type": "code",
   "execution_count": 32,
   "metadata": {},
   "outputs": [],
   "source": [
    "a = {1:\"one\",2:\"two\",\"yes\":\"no\"}\n",
    "del a[\"yes\"]"
   ]
  },
  {
   "cell_type": "code",
   "execution_count": 33,
   "metadata": {},
   "outputs": [
    {
     "name": "stdout",
     "output_type": "stream",
     "text": [
      "{1: 'one', 2: 'two'}\n"
     ]
    }
   ],
   "source": [
    "print(a)"
   ]
  },
  {
   "cell_type": "markdown",
   "metadata": {},
   "source": [
    "### popitem()\n",
    "\n",
    "\n",
    "`dict_name.popitem()`"
   ]
  },
  {
   "cell_type": "code",
   "execution_count": 35,
   "metadata": {},
   "outputs": [
    {
     "name": "stdout",
     "output_type": "stream",
     "text": [
      "{'apple': 'a', 'Mango': 'm', 'banana': 'b', 'guava': 'g'}\n"
     ]
    }
   ],
   "source": [
    "dict_new = {\"apple\":\"a\", \"Mango\":\"m\", \"banana\":\"b\", \"guava\":\"g\"}\n",
    "print(dict_new)"
   ]
  },
  {
   "cell_type": "code",
   "execution_count": 36,
   "metadata": {},
   "outputs": [
    {
     "data": {
      "text/plain": [
       "('guava', 'g')"
      ]
     },
     "execution_count": 36,
     "metadata": {},
     "output_type": "execute_result"
    }
   ],
   "source": [
    "dict_new.popitem()"
   ]
  },
  {
   "cell_type": "code",
   "execution_count": 37,
   "metadata": {},
   "outputs": [
    {
     "name": "stdout",
     "output_type": "stream",
     "text": [
      "{'apple': 'a', 'Mango': 'm', 'banana': 'b'}\n"
     ]
    }
   ],
   "source": [
    "print(dict_new)"
   ]
  },
  {
   "cell_type": "markdown",
   "metadata": {},
   "source": [
    "### clear()\n",
    "\n",
    "\n",
    "\n",
    "clear the complete dict and make it empty\n",
    "```\n",
    "Syntax \n",
    "------\n",
    "dict_name.clear()\n",
    "```"
   ]
  },
  {
   "cell_type": "code",
   "execution_count": 38,
   "metadata": {},
   "outputs": [
    {
     "name": "stdout",
     "output_type": "stream",
     "text": [
      "{'apple': 'a', 'Mango': 'm', 'banana': 'b', 'guava': 'g'}\n"
     ]
    }
   ],
   "source": [
    "dict_new = {\"apple\":\"a\", \"Mango\":\"m\", \"banana\":\"b\", \"guava\":\"g\"}\n",
    "print(dict_new)"
   ]
  },
  {
   "cell_type": "code",
   "execution_count": 39,
   "metadata": {},
   "outputs": [
    {
     "name": "stdout",
     "output_type": "stream",
     "text": [
      "{}\n"
     ]
    }
   ],
   "source": [
    "dict_new.clear()\n",
    "print(dict_new)"
   ]
  },
  {
   "cell_type": "markdown",
   "metadata": {},
   "source": [
    "----"
   ]
  },
  {
   "cell_type": "markdown",
   "metadata": {},
   "source": [
    "# Activities"
   ]
  },
  {
   "cell_type": "markdown",
   "metadata": {},
   "source": [
    "<font color = red>**Activity 1**</font><br>\n",
    "```\n",
    "- Ask user to give name and marks(out of 100) of 5 different students.\n",
    "- Store them in a dictionary.\n",
    "- Print the dictionary\n",
    "```"
   ]
  },
  {
   "cell_type": "markdown",
   "metadata": {},
   "source": [
    "<font color = red>**Activity 2**</font><br>\n",
    "```\n",
    "Cosider the same dictionary you have created in activity1 and find out the following:\n",
    "1. Print the name of student who scored highest mark\n",
    "2. Print the name of student who scored lowest mark\n",
    "3. Print the name of students who all are scored above class average\n",
    "4. Print the name of students who all are scored below class average\n",
    "```\n"
   ]
  },
  {
   "cell_type": "markdown",
   "metadata": {},
   "source": [
    "<font color = red>**Activity 3**</font><br>\n",
    "```\n",
    "Consider the following dict:\n",
    "numbers = {1:'one',2:'two',3:'three',4:'four',5:'five',6:'six',7:'seven',8:'eight',9:'nine'}\n",
    "1. Split the dict into two; one for odd numbers and the other for even numbers\n",
    "2. Change the values of numbers dict into BLOCK letters\n",
    "3. Check whether the key 0 is present in the numbers dict or not\n",
    "```"
   ]
  },
  {
   "cell_type": "markdown",
   "metadata": {},
   "source": [
    "<font color = red>**Activity 4**</font><br>\n",
    "```\n",
    "- Accept a word from user\n",
    "- Find how many times each character presented in the word\n",
    "- Note:: code should be case insensitive\n",
    "```\n",
    "-----\n",
    "OUTPUT:\n",
    "```\n",
    "Enter a word: MISSION\n",
    "{'M':1,'I':2,'S':2,'O':1,'N':1}\n",
    "```"
   ]
  },
  {
   "cell_type": "markdown",
   "metadata": {},
   "source": [
    "<font color = red>**Activity 5**</font><br>\n",
    "Sort the dictionary accepted in activity1 in the ascending order of the marks"
   ]
  }
 ],
 "metadata": {
  "celltoolbar": "Slideshow",
  "kernelspec": {
   "display_name": "Python 3",
   "language": "python",
   "name": "python3"
  },
  "language_info": {
   "codemirror_mode": {
    "name": "ipython",
    "version": 3
   },
   "file_extension": ".py",
   "mimetype": "text/x-python",
   "name": "python",
   "nbconvert_exporter": "python",
   "pygments_lexer": "ipython3",
   "version": "3.8.3"
  }
 },
 "nbformat": 4,
 "nbformat_minor": 4
}
