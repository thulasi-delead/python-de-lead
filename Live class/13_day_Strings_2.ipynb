{
 "cells": [
  {
   "cell_type": "markdown",
   "metadata": {},
   "source": [
    "# Strings \n",
    "*Part 2*"
   ]
  },
  {
   "cell_type": "markdown",
   "metadata": {},
   "source": [
    "# Index\n",
    "\n",
    "- **String slicing**\n",
    "- **Comparison of string**\n",
    "- **String Methods:**\n",
    "    - format()\n",
    "    - count()\n",
    "    - find()\n",
    "    - index()\n",
    "    - find vs index\n",
    "    - join()\n",
    "    - isalnum()\n",
    "    - isalpha()\n",
    "    - isdigit()\n",
    "    - isspace()\n",
    "    - isupper()\n",
    "    - islower()\n",
    "    - rfind()\n",
    "    - split()\n",
    "    - strip()\n",
    "    - rstrip()\n",
    "    - startswith()\n",
    "    \n",
    "- **Activities**\n",
    "\n"
   ]
  },
  {
   "cell_type": "markdown",
   "metadata": {
    "slideshow": {
     "slide_type": "slide"
    }
   },
   "source": [
    "## String Slicing\n",
    "\n",
    "\n",
    " - A part of a string is called a **slice**.     \n",
    " - Selecting a slice is similar to selecting a character.   \n",
    " - indexing of string slice is similar to list slicing "
   ]
  },
  {
   "cell_type": "code",
   "execution_count": 16,
   "metadata": {
    "slideshow": {
     "slide_type": "slide"
    }
   },
   "outputs": [
    {
     "data": {
      "text/plain": [
       "'pp'"
      ]
     },
     "execution_count": 16,
     "metadata": {},
     "output_type": "execute_result"
    }
   ],
   "source": [
    "fruits = \"Apple\"\n",
    "fruits[1:3]"
   ]
  },
  {
   "cell_type": "markdown",
   "metadata": {},
   "source": [
    "`fruits[1:3]` \n",
    "- Selects the character from 1st index to the 2nd index"
   ]
  },
  {
   "cell_type": "markdown",
   "metadata": {},
   "source": [
    "`fruits[x:y]` <br>\n",
    "- selects the character from x index to y index <br>\n",
    "(**including x and excluding y**)"
   ]
  },
  {
   "cell_type": "markdown",
   "metadata": {},
   "source": [
    "<h4>Starting from begning</h4><br>\n",
    "\n",
    "`fruits[:y]` <br>\n",
    "Starts from starting character to y index (excluding y)\n"
   ]
  },
  {
   "cell_type": "code",
   "execution_count": 19,
   "metadata": {},
   "outputs": [
    {
     "data": {
      "text/plain": [
       "'App'"
      ]
     },
     "execution_count": 19,
     "metadata": {},
     "output_type": "execute_result"
    }
   ],
   "source": [
    "fruits= \"Apple\"\n",
    "fruits[:3]"
   ]
  },
  {
   "cell_type": "markdown",
   "metadata": {},
   "source": [
    "<h4>Slicing till the last character</h4><br>\n",
    "\n",
    "`fruits[x:]` <br>\n",
    "starting from x to the last character\n"
   ]
  },
  {
   "cell_type": "code",
   "execution_count": 20,
   "metadata": {},
   "outputs": [
    {
     "data": {
      "text/plain": [
       "'le'"
      ]
     },
     "execution_count": 20,
     "metadata": {},
     "output_type": "execute_result"
    }
   ],
   "source": [
    "fruits= \"Apple\"\n",
    "fruits[3:]"
   ]
  },
  {
   "cell_type": "markdown",
   "metadata": {},
   "source": [
    "**NOTE** <br>\n",
    "\n",
    "`fruits[x:y]`\n",
    "- If the first index x is greater than or equal to y\n",
    "- The result is a empty string"
   ]
  },
  {
   "cell_type": "code",
   "execution_count": 22,
   "metadata": {},
   "outputs": [
    {
     "data": {
      "text/plain": [
       "''"
      ]
     },
     "execution_count": 22,
     "metadata": {},
     "output_type": "execute_result"
    }
   ],
   "source": [
    "fruits = \"mango\"\n",
    "fruits[4:2]"
   ]
  },
  {
   "cell_type": "code",
   "execution_count": 24,
   "metadata": {},
   "outputs": [
    {
     "data": {
      "text/plain": [
       "'arj'"
      ]
     },
     "execution_count": 24,
     "metadata": {},
     "output_type": "execute_result"
    }
   ],
   "source": [
    "fruit = \"arj\"\n",
    "fruit[:]"
   ]
  },
  {
   "cell_type": "markdown",
   "metadata": {},
   "source": [
    "<h3>Strings are Immutable</h3>\n",
    "\n",
    "- The character inside the string cannot be changed\n",
    "- We cannot change and existing string\n",
    "- We can create a new string that is variation of the older string"
   ]
  },
  {
   "cell_type": "code",
   "execution_count": 31,
   "metadata": {},
   "outputs": [
    {
     "name": "stdout",
     "output_type": "stream",
     "text": [
      "2\n"
     ]
    }
   ],
   "source": [
    "names = \"Apple\"\n",
    "count = 0\n",
    "for char in names:\n",
    "    if \"p\" in char:\n",
    "        count = count+1\n",
    "print(count)"
   ]
  },
  {
   "cell_type": "markdown",
   "metadata": {},
   "source": [
    "# String Comparison"
   ]
  },
  {
   "cell_type": "markdown",
   "metadata": {},
   "source": [
    "- The comparison operator works on string to see if the two strings are equal\n"
   ]
  },
  {
   "cell_type": "code",
   "execution_count": 4,
   "metadata": {},
   "outputs": [
    {
     "name": "stdout",
     "output_type": "stream",
     "text": [
      "Word is python\n"
     ]
    }
   ],
   "source": [
    "word = \"python\"\n",
    "if word == \"python\":\n",
    "    print(\"Word is python\")"
   ]
  },
  {
   "cell_type": "markdown",
   "metadata": {},
   "source": [
    "**Note:**    \n",
    "Python does not take Small letter(lowercase) and Capital letters(Upper case) as same"
   ]
  },
  {
   "cell_type": "markdown",
   "metadata": {},
   "source": [
    "**Note:**<br>\n",
    "Upper case comes before lower case in python"
   ]
  },
  {
   "cell_type": "code",
   "execution_count": null,
   "metadata": {},
   "outputs": [],
   "source": [
    "if word < \"banana\":\n",
    "    print(\"Yes\")"
   ]
  },
  {
   "cell_type": "code",
   "execution_count": 2,
   "metadata": {},
   "outputs": [
    {
     "name": "stdout",
     "output_type": "stream",
     "text": [
      "False\n",
      "True\n",
      "True\n",
      "False\n",
      "True\n"
     ]
    }
   ],
   "source": [
    "str1 = \"Hello\"\n",
    "str2 = \"hello\"\n",
    "str3 = 'hello'\n",
    "str4 = 'hai'\n",
    "\n",
    "print(str1 == str2)\n",
    "print(str2 == str3)\n",
    "print(str1 != str4)\n",
    "print(str4 >= str3)\n",
    "print(str4 <= str2)\n"
   ]
  },
  {
   "cell_type": "code",
   "execution_count": 3,
   "metadata": {},
   "outputs": [
    {
     "name": "stdout",
     "output_type": "stream",
     "text": [
      "True\n",
      "True\n"
     ]
    }
   ],
   "source": [
    "print(str1 is not str2)\n",
    "print(str2 is str3)"
   ]
  },
  {
   "cell_type": "markdown",
   "metadata": {},
   "source": [
    "## String Methods"
   ]
  },
  {
   "cell_type": "markdown",
   "metadata": {},
   "source": [
    "Strings are an example of Python objects. An object contains both data (the actual string itself) as well as methods, which are effectively functions which that are built into the object and are available to any instance of the object.\n",
    "Python has a function called dir that lists the methods available for an object. The type function shows the type of an object and the dir function shows the available methods."
   ]
  },
  {
   "cell_type": "code",
   "execution_count": 4,
   "metadata": {},
   "outputs": [
    {
     "data": {
      "text/plain": [
       "['__add__',\n",
       " '__class__',\n",
       " '__contains__',\n",
       " '__delattr__',\n",
       " '__dir__',\n",
       " '__doc__',\n",
       " '__eq__',\n",
       " '__format__',\n",
       " '__ge__',\n",
       " '__getattribute__',\n",
       " '__getitem__',\n",
       " '__getnewargs__',\n",
       " '__gt__',\n",
       " '__hash__',\n",
       " '__init__',\n",
       " '__init_subclass__',\n",
       " '__iter__',\n",
       " '__le__',\n",
       " '__len__',\n",
       " '__lt__',\n",
       " '__mod__',\n",
       " '__mul__',\n",
       " '__ne__',\n",
       " '__new__',\n",
       " '__reduce__',\n",
       " '__reduce_ex__',\n",
       " '__repr__',\n",
       " '__rmod__',\n",
       " '__rmul__',\n",
       " '__setattr__',\n",
       " '__sizeof__',\n",
       " '__str__',\n",
       " '__subclasshook__',\n",
       " 'capitalize',\n",
       " 'casefold',\n",
       " 'center',\n",
       " 'count',\n",
       " 'encode',\n",
       " 'endswith',\n",
       " 'expandtabs',\n",
       " 'find',\n",
       " 'format',\n",
       " 'format_map',\n",
       " 'index',\n",
       " 'isalnum',\n",
       " 'isalpha',\n",
       " 'isascii',\n",
       " 'isdecimal',\n",
       " 'isdigit',\n",
       " 'isidentifier',\n",
       " 'islower',\n",
       " 'isnumeric',\n",
       " 'isprintable',\n",
       " 'isspace',\n",
       " 'istitle',\n",
       " 'isupper',\n",
       " 'join',\n",
       " 'ljust',\n",
       " 'lower',\n",
       " 'lstrip',\n",
       " 'maketrans',\n",
       " 'partition',\n",
       " 'replace',\n",
       " 'rfind',\n",
       " 'rindex',\n",
       " 'rjust',\n",
       " 'rpartition',\n",
       " 'rsplit',\n",
       " 'rstrip',\n",
       " 'split',\n",
       " 'splitlines',\n",
       " 'startswith',\n",
       " 'strip',\n",
       " 'swapcase',\n",
       " 'title',\n",
       " 'translate',\n",
       " 'upper',\n",
       " 'zfill']"
      ]
     },
     "execution_count": 4,
     "metadata": {},
     "output_type": "execute_result"
    }
   ],
   "source": [
    "name = \"Arjun\"\n",
    "dir(name)"
   ]
  },
  {
   "cell_type": "markdown",
   "metadata": {},
   "source": [
    "### 1. Format()"
   ]
  },
  {
   "cell_type": "markdown",
   "metadata": {},
   "source": [
    "#### METHOD-I\n",
    "- format() method formats the specified value(s) and insert them inside the string's placeholder.\n",
    "\n",
    "- Where placeholder is defined using curly brackets.\n",
    "\n",
    "**Syntax:** <br>\n",
    "`string {}\".format(value)`\n",
    "- {} is nothing but a placeholder"
   ]
  },
  {
   "cell_type": "code",
   "execution_count": 1,
   "metadata": {},
   "outputs": [
    {
     "name": "stdout",
     "output_type": "stream",
     "text": [
      "The number is 32\n"
     ]
    }
   ],
   "source": [
    "a = 32\n",
    "b = \"The number is {}\".format(32)\n",
    "print(b)"
   ]
  },
  {
   "cell_type": "code",
   "execution_count": 6,
   "metadata": {},
   "outputs": [
    {
     "name": "stdout",
     "output_type": "stream",
     "text": [
      "This is my name Arjun CP\n"
     ]
    }
   ],
   "source": [
    "next1 = \"Arjun\"\n",
    "next2 = \"CP\"\n",
    "name = \"This is my name {a} {b}\".format(a=next1,b=next2)\n",
    "print(name)"
   ]
  },
  {
   "cell_type": "code",
   "execution_count": 5,
   "metadata": {},
   "outputs": [
    {
     "name": "stdout",
     "output_type": "stream",
     "text": [
      "My name is Arjun and I am 25 years old\n"
     ]
    }
   ],
   "source": [
    "name = \"Arjun\"\n",
    "age = 25\n",
    "str1 = \"My name is {} and I am {} years old\".format(name,age)\n",
    "print(str1)"
   ]
  },
  {
   "cell_type": "code",
   "execution_count": 7,
   "metadata": {},
   "outputs": [
    {
     "name": "stdout",
     "output_type": "stream",
     "text": [
      "My name is Arjun and I am 25 years old\n"
     ]
    }
   ],
   "source": [
    "name = \"Arjun\"\n",
    "age = 25\n",
    "str1 = \"My name is {name} and I am {age} years old\".format(name=name,age=age)\n",
    "print(str1)"
   ]
  },
  {
   "cell_type": "markdown",
   "metadata": {},
   "source": [
    "#### METHOD-II\n",
    "- Using f string\n",
    "\n",
    "- without using format()\n",
    "\n",
    "- we can directly include the values of python variables inside a string without using format() method\n",
    "\n",
    "**Syntax:**<br>\n",
    "`str_name = f\"string {}\"`"
   ]
  },
  {
   "cell_type": "code",
   "execution_count": 8,
   "metadata": {},
   "outputs": [
    {
     "name": "stdout",
     "output_type": "stream",
     "text": [
      "my full name is Thomas Alwa Edison\n"
     ]
    }
   ],
   "source": [
    "#using a string varaible\n",
    "name = \"Thomas\"\n",
    "initial = \"Alwa Edison\"\n",
    "myself = f\"my full name is {name} {initial}\"\n",
    "print(myself)"
   ]
  },
  {
   "cell_type": "code",
   "execution_count": 9,
   "metadata": {},
   "outputs": [
    {
     "name": "stdout",
     "output_type": "stream",
     "text": [
      "I love Ice cream and Butter Scotch is my favourite flavour\n"
     ]
    }
   ],
   "source": [
    "#directly in print()\n",
    "like = \"Ice cream\"\n",
    "flav = \"Butter Scotch\"\n",
    "print(f\"I love {like} and {flav} is my favourite flavour\")"
   ]
  },
  {
   "cell_type": "markdown",
   "metadata": {},
   "source": [
    "### 2. Count()"
   ]
  },
  {
   "cell_type": "markdown",
   "metadata": {},
   "source": [
    "- Used to find the number of occarence of  substring `sub` in a string between the specified range of index.\n",
    "\n",
    "**Syntax:**    \n",
    "`str.count(sub, start,end)`\n",
    "- Where sub is sub string need to be counted\n",
    "- start and end specify the range where we need to count the sub in main string\n",
    "- start and end are optional\n",
    "- Default value of `start=0` and `end=len(string)`"
   ]
  },
  {
   "cell_type": "code",
   "execution_count": 5,
   "metadata": {},
   "outputs": [
    {
     "name": "stdout",
     "output_type": "stream",
     "text": [
      "1\n"
     ]
    }
   ],
   "source": [
    "t = \"name is new\"\n",
    "a = t.count(\"is\")\n",
    "print(a)"
   ]
  },
  {
   "cell_type": "code",
   "execution_count": 6,
   "metadata": {},
   "outputs": [
    {
     "name": "stdout",
     "output_type": "stream",
     "text": [
      "2\n"
     ]
    }
   ],
   "source": [
    "t = \"Areej\"\n",
    "a = t.count(\"e\")\n",
    "print(a)"
   ]
  },
  {
   "cell_type": "code",
   "execution_count": 15,
   "metadata": {},
   "outputs": [
    {
     "name": "stdout",
     "output_type": "stream",
     "text": [
      "Count of i= 1\n"
     ]
    }
   ],
   "source": [
    "string = \"India is my country.\"\n",
    "c = string.count(\"i\",0,5)\n",
    "print(\"Count of i=\",c)"
   ]
  },
  {
   "cell_type": "code",
   "execution_count": 16,
   "metadata": {},
   "outputs": [
    {
     "name": "stdout",
     "output_type": "stream",
     "text": [
      "Count of i= 2\n"
     ]
    }
   ],
   "source": [
    "string = \"India is my country.\"\n",
    "c = string.count(\"i\",0,7)\n",
    "print(\"Count of i=\",c)"
   ]
  },
  {
   "cell_type": "markdown",
   "metadata": {},
   "source": [
    "### 3. Find()"
   ]
  },
  {
   "cell_type": "markdown",
   "metadata": {},
   "source": [
    "- It determines if string str occurs in string, or in a substring of string if starting index `beg` and ending index `end`    \n",
    " **Syntax:**    \n",
    "`str.find(str,beg,end)`\n",
    "- `beg` and `end` are optional\n",
    "- Default value of `beg=0` and `end=len(string)`\n",
    "\n",
    "- Returns index if present\n",
    "- -1 Otherwise"
   ]
  },
  {
   "cell_type": "code",
   "execution_count": 7,
   "metadata": {},
   "outputs": [
    {
     "name": "stdout",
     "output_type": "stream",
     "text": [
      "2\n"
     ]
    }
   ],
   "source": [
    "t = \"Areej\"\n",
    "a = t.find(\"e\")\n",
    "print(a)"
   ]
  },
  {
   "cell_type": "code",
   "execution_count": 17,
   "metadata": {},
   "outputs": [
    {
     "name": "stdout",
     "output_type": "stream",
     "text": [
      "14\n",
      "-1\n"
     ]
    }
   ],
   "source": [
    "t = \"This is a new python String method\"\n",
    "a = t.find(\"python\")\n",
    "b = t.find(\"Python\")\n",
    "\n",
    "print(a)\n",
    "print(b)"
   ]
  },
  {
   "cell_type": "markdown",
   "metadata": {},
   "source": [
    "### 4. Index()"
   ]
  },
  {
   "cell_type": "markdown",
   "metadata": {},
   "source": [
    "- Used to find the index of a substring in main string if substring present.\n",
    "\n",
    "- This method is same as find(), but raises an exception if sub is not found.\n",
    "\n",
    "- **Syntax:**    \n",
    "    `str.index(str,beg,end)\n",
    "    \n",
    "- `beg` and `end` are optional\n",
    "\n",
    "- Default value of `beg=0` and `end=len(string)`\n",
    "\n",
    "- Returns index if present\n",
    "\n",
    "- Otherwise raise an Exception"
   ]
  },
  {
   "cell_type": "code",
   "execution_count": 25,
   "metadata": {},
   "outputs": [
    {
     "data": {
      "text/plain": [
       "24"
      ]
     },
     "execution_count": 25,
     "metadata": {},
     "output_type": "execute_result"
    }
   ],
   "source": [
    "# index\n",
    "a = \"this is to test the index string method\"\n",
    "a.index(\"x\")"
   ]
  },
  {
   "cell_type": "code",
   "execution_count": 28,
   "metadata": {},
   "outputs": [
    {
     "ename": "ValueError",
     "evalue": "substring not found",
     "output_type": "error",
     "traceback": [
      "\u001b[0;31m---------------------------------------------------------------------------\u001b[0m",
      "\u001b[0;31mValueError\u001b[0m                                Traceback (most recent call last)",
      "\u001b[0;32m<ipython-input-28-f7db30b28dfc>\u001b[0m in \u001b[0;36m<module>\u001b[0;34m\u001b[0m\n\u001b[1;32m      1\u001b[0m \u001b[0;31m# index not found\u001b[0m\u001b[0;34m\u001b[0m\u001b[0;34m\u001b[0m\u001b[0;34m\u001b[0m\u001b[0m\n\u001b[1;32m      2\u001b[0m \u001b[0ma\u001b[0m \u001b[0;34m=\u001b[0m \u001b[0;34m\"this is to test the index string method\"\u001b[0m\u001b[0;34m\u001b[0m\u001b[0;34m\u001b[0m\u001b[0m\n\u001b[0;32m----> 3\u001b[0;31m \u001b[0ma\u001b[0m\u001b[0;34m.\u001b[0m\u001b[0mindex\u001b[0m\u001b[0;34m(\u001b[0m\u001b[0;34m\"y\"\u001b[0m\u001b[0;34m)\u001b[0m\u001b[0;34m\u001b[0m\u001b[0;34m\u001b[0m\u001b[0m\n\u001b[0m",
      "\u001b[0;31mValueError\u001b[0m: substring not found"
     ]
    }
   ],
   "source": [
    "# index not found\n",
    "a = \"this is to test the index string method\"\n",
    "a.index(\"y\")"
   ]
  },
  {
   "cell_type": "code",
   "execution_count": 27,
   "metadata": {},
   "outputs": [
    {
     "name": "stdout",
     "output_type": "stream",
     "text": [
      "Find: -1\n"
     ]
    },
    {
     "ename": "ValueError",
     "evalue": "substring not found",
     "output_type": "error",
     "traceback": [
      "\u001b[0;31m---------------------------------------------------------------------------\u001b[0m",
      "\u001b[0;31mValueError\u001b[0m                                Traceback (most recent call last)",
      "\u001b[0;32m<ipython-input-27-7ce31fdc2485>\u001b[0m in \u001b[0;36m<module>\u001b[0;34m\u001b[0m\n\u001b[1;32m      1\u001b[0m \u001b[0ma\u001b[0m \u001b[0;34m=\u001b[0m \u001b[0;34m\"Akshay\"\u001b[0m\u001b[0;34m\u001b[0m\u001b[0;34m\u001b[0m\u001b[0m\n\u001b[1;32m      2\u001b[0m \u001b[0mprint\u001b[0m\u001b[0;34m(\u001b[0m\u001b[0;34m\"Find:\"\u001b[0m\u001b[0;34m,\u001b[0m\u001b[0ma\u001b[0m\u001b[0;34m.\u001b[0m\u001b[0mfind\u001b[0m\u001b[0;34m(\u001b[0m\u001b[0;34m\"z\"\u001b[0m\u001b[0;34m)\u001b[0m\u001b[0;34m)\u001b[0m\u001b[0;34m\u001b[0m\u001b[0;34m\u001b[0m\u001b[0m\n\u001b[0;32m----> 3\u001b[0;31m \u001b[0mprint\u001b[0m\u001b[0;34m(\u001b[0m\u001b[0;34m\"index:\"\u001b[0m\u001b[0;34m,\u001b[0m\u001b[0ma\u001b[0m\u001b[0;34m.\u001b[0m\u001b[0mindex\u001b[0m\u001b[0;34m(\u001b[0m\u001b[0;34m\"z\"\u001b[0m\u001b[0;34m)\u001b[0m\u001b[0;34m)\u001b[0m\u001b[0;34m\u001b[0m\u001b[0;34m\u001b[0m\u001b[0m\n\u001b[0m",
      "\u001b[0;31mValueError\u001b[0m: substring not found"
     ]
    }
   ],
   "source": [
    "a = \"Akshay\"\n",
    "print(\"Find:\",a.find(\"z\"))\n",
    "print(\"index:\",a.index(\"z\"))"
   ]
  },
  {
   "cell_type": "markdown",
   "metadata": {},
   "source": [
    "### Find Vs Index\n",
    "```\n",
    "If index not found : error occurs in case when we use index method\n",
    "In case of Find, it returns -1\n",
    "```"
   ]
  },
  {
   "cell_type": "markdown",
   "metadata": {},
   "source": [
    "### 5. Join()"
   ]
  },
  {
   "cell_type": "markdown",
   "metadata": {},
   "source": [
    "- `join()` method returns a string in which the string elements of sequence have been joined by str separator.\n",
    "\n",
    "- **Syntax:**\n",
    "`str.join(sequence)`\n",
    "\n",
    "- It returns a string, which is the concatenation of the strings in the sequence"
   ]
  },
  {
   "cell_type": "code",
   "execution_count": 18,
   "metadata": {},
   "outputs": [
    {
     "name": "stdout",
     "output_type": "stream",
     "text": [
      "1arjun2arjun3\n"
     ]
    }
   ],
   "source": [
    "# string.join(iterable)\n",
    "a = [\"1\",\"2\",\"3\"]\n",
    "t = \"arjun\".join(a)\n",
    "print(t)"
   ]
  },
  {
   "cell_type": "code",
   "execution_count": 19,
   "metadata": {},
   "outputs": [
    {
     "name": "stdout",
     "output_type": "stream",
     "text": [
      "<class 'list'>\n",
      "1@2@3\n",
      "<class 'str'>\n"
     ]
    }
   ],
   "source": [
    "# string.join(iterable)\n",
    "a = [\"1\",\"2\",\"3\"]\n",
    "print(type(a))\n",
    "t = \"@\".join(a)\n",
    "print(t)\n",
    "print(type(t))"
   ]
  },
  {
   "cell_type": "markdown",
   "metadata": {},
   "source": [
    "### 6. Isalnum()"
   ]
  },
  {
   "cell_type": "markdown",
   "metadata": {},
   "source": [
    "- It checks whether the string consists of alphanumeric characters only.\n",
    "\n",
    "- **Syntax:**\n",
    "`str.isalnum()`\n",
    "\n",
    "- Returns `True` if the string only contains alpha numeric characters i.e [a-zA-Z0-9]\n",
    "\n",
    "- Returns `False` otherwise"
   ]
  },
  {
   "cell_type": "code",
   "execution_count": 18,
   "metadata": {},
   "outputs": [
    {
     "data": {
      "text/plain": [
       "True"
      ]
     },
     "execution_count": 18,
     "metadata": {},
     "output_type": "execute_result"
    }
   ],
   "source": [
    "a = \"1\"\n",
    "a.isalnum()"
   ]
  },
  {
   "cell_type": "code",
   "execution_count": 20,
   "metadata": {},
   "outputs": [
    {
     "data": {
      "text/plain": [
       "True"
      ]
     },
     "execution_count": 20,
     "metadata": {},
     "output_type": "execute_result"
    }
   ],
   "source": [
    "b = \"arj\"\n",
    "b.isalnum()"
   ]
  },
  {
   "cell_type": "code",
   "execution_count": 21,
   "metadata": {},
   "outputs": [
    {
     "data": {
      "text/plain": [
       "False"
      ]
     },
     "execution_count": 21,
     "metadata": {},
     "output_type": "execute_result"
    }
   ],
   "source": [
    "c = \"arj_12\"\n",
    "c.isalnum()"
   ]
  },
  {
   "cell_type": "code",
   "execution_count": 22,
   "metadata": {},
   "outputs": [
    {
     "data": {
      "text/plain": [
       "False"
      ]
     },
     "execution_count": 22,
     "metadata": {},
     "output_type": "execute_result"
    }
   ],
   "source": [
    "email = \"arjuncp40@gmail.com\"\n",
    "email.isalnum()"
   ]
  },
  {
   "cell_type": "markdown",
   "metadata": {},
   "source": [
    "### 7. Isalpha()"
   ]
  },
  {
   "cell_type": "markdown",
   "metadata": {},
   "source": [
    "- It checks whether the string consists of alphabets only.\n",
    "\n",
    "- **Syntax:**\n",
    "`str.isalpha()`\n",
    "\n",
    "- Returns `True` if the string only contains alphabets i.e [a-zA-Z]\n",
    "\n",
    "- Returns `False` otherwise"
   ]
  },
  {
   "cell_type": "code",
   "execution_count": 29,
   "metadata": {},
   "outputs": [
    {
     "name": "stdout",
     "output_type": "stream",
     "text": [
      "True\n",
      "False\n"
     ]
    }
   ],
   "source": [
    "name = \"ArjunCP\"\n",
    "name_2 = \"Arjuncp40\"\n",
    "print(name.isalpha())\n",
    "print(name_2.isalpha())"
   ]
  },
  {
   "cell_type": "markdown",
   "metadata": {},
   "source": [
    "### 8. Isdigit()"
   ]
  },
  {
   "cell_type": "markdown",
   "metadata": {},
   "source": [
    "- Checks whether the string consists of digits only.    \n",
    "\n",
    "- **Syntax:**   \n",
    "`str.isdigit()`\n"
   ]
  },
  {
   "cell_type": "code",
   "execution_count": 21,
   "metadata": {},
   "outputs": [
    {
     "name": "stdout",
     "output_type": "stream",
     "text": [
      "True\n",
      "False\n"
     ]
    }
   ],
   "source": [
    "phone1 ='900123'\n",
    "phone2 = '+91900123'\n",
    "print(phone1.isdigit())\n",
    "print(phone2.isdigit())"
   ]
  },
  {
   "cell_type": "markdown",
   "metadata": {},
   "source": [
    "### 9. Isspace()\n",
    "\n",
    "- Checks whether the string consists of whitespaces only.    \n",
    "\n",
    "- **Syntax:**   \n",
    "`str.isspace()`\n"
   ]
  },
  {
   "cell_type": "code",
   "execution_count": 22,
   "metadata": {},
   "outputs": [
    {
     "name": "stdout",
     "output_type": "stream",
     "text": [
      "True\n",
      "True\n",
      "False\n"
     ]
    }
   ],
   "source": [
    "word1 = \" \"\n",
    "word2 = \"    \"\n",
    "word3 = \"An apple a day\"\n",
    "\n",
    "print(word1.isspace())\n",
    "print(word2.isspace())\n",
    "print(word3.isspace())\n"
   ]
  },
  {
   "cell_type": "markdown",
   "metadata": {},
   "source": [
    "### 10. isupper()\n",
    "\n",
    "\n",
    "- Checks whether the string consists of upper case letters only.\n",
    "\n",
    "- **Syntax:**   \n",
    "`str.isupper()`\n"
   ]
  },
  {
   "cell_type": "code",
   "execution_count": 25,
   "metadata": {},
   "outputs": [
    {
     "name": "stdout",
     "output_type": "stream",
     "text": [
      "True\n",
      "False\n",
      "True\n",
      "True\n"
     ]
    }
   ],
   "source": [
    "str1 = \"SPIDERMAN\"\n",
    "str2 = \"AntMan\"\n",
    "str3 = \"Q\"\n",
    "str4 = \"OUT OF THE BOX\"\n",
    "print(str1.isupper())\n",
    "print(str2.isupper())\n",
    "print(str3.isupper())\n",
    "print(str4.isupper())"
   ]
  },
  {
   "cell_type": "markdown",
   "metadata": {},
   "source": [
    "### 11. islower()\n",
    "\n",
    "\n",
    "- Checks whether the string consists of lower case letters only.\n",
    "\n",
    "- **Syntax:**   \n",
    "`str.islower()`"
   ]
  },
  {
   "cell_type": "code",
   "execution_count": 23,
   "metadata": {},
   "outputs": [
    {
     "name": "stdout",
     "output_type": "stream",
     "text": [
      "True\n",
      "True\n",
      "False\n"
     ]
    }
   ],
   "source": [
    "str1 = \"out of the box\"\n",
    "str2 = \"ofb\"\n",
    "str3 = \"Ofb\"\n",
    "print(str1.islower())\n",
    "print(str2.islower())\n",
    "print(str3.islower())"
   ]
  },
  {
   "cell_type": "code",
   "execution_count": null,
   "metadata": {},
   "outputs": [],
   "source": []
  },
  {
   "cell_type": "markdown",
   "metadata": {},
   "source": [
    "### 12. replace()\n",
    "\n",
    "\n",
    "- replace() method returns a copy of the string in which the occurrences of old have been replaced with new.\n",
    "\n",
    "- **Syntax:**    \n",
    "`string.replace(old, new, count)`"
   ]
  },
  {
   "cell_type": "code",
   "execution_count": 31,
   "metadata": {},
   "outputs": [
    {
     "name": "stdout",
     "output_type": "stream",
     "text": [
      "this is *** name *** for *** new ***\n",
      "this is the name the for the new the\n"
     ]
    }
   ],
   "source": [
    "name = \"this is the name the for the new the\"\n",
    "print(name.replace(\"the\",\"***\"))\n",
    "print(name)"
   ]
  },
  {
   "cell_type": "code",
   "execution_count": 37,
   "metadata": {},
   "outputs": [
    {
     "name": "stdout",
     "output_type": "stream",
     "text": [
      "4\n",
      "new_name:  this is *** name *** for the new the\n",
      "this is the name the for the new the\n"
     ]
    }
   ],
   "source": [
    "name = \"this is the name the for the new the\"\n",
    "print(name.count(\"the\"))\n",
    "new_name = name.replace(\"the\",\"***\",2)\n",
    "print(\"new_name: \",new_name)\n",
    "print(name)"
   ]
  },
  {
   "cell_type": "markdown",
   "metadata": {},
   "source": [
    "### 13. rfind()\n",
    "\n",
    "- Finds the last occurance of the value to be found.\n",
    "\n",
    "- **Syntax:**\n",
    "`string.rfind(string_to_be_found)`\n",
    "\n",
    "- returns the `last index` where the substring str is found, \n",
    "- returns `-1` if no such index exists"
   ]
  },
  {
   "cell_type": "code",
   "execution_count": 38,
   "metadata": {},
   "outputs": [
    {
     "data": {
      "text/plain": [
       "-1"
      ]
     },
     "execution_count": 38,
     "metadata": {},
     "output_type": "execute_result"
    }
   ],
   "source": [
    "name = \"Akshay Kumar c\"\n",
    "name.rfind(\"kumar\")"
   ]
  },
  {
   "cell_type": "code",
   "execution_count": 39,
   "metadata": {},
   "outputs": [
    {
     "data": {
      "text/plain": [
       "7"
      ]
     },
     "execution_count": 39,
     "metadata": {},
     "output_type": "execute_result"
    }
   ],
   "source": [
    "name = \"Akshay Kumar c\"\n",
    "name.rfind(\"Kumar\")"
   ]
  },
  {
   "cell_type": "code",
   "execution_count": 44,
   "metadata": {},
   "outputs": [
    {
     "name": "stdout",
     "output_type": "stream",
     "text": [
      "RFIND :: 29\n",
      "FIND:: 7\n"
     ]
    }
   ],
   "source": [
    "name = \"Akshay Kumar c Kumar new yes Kumar\"\n",
    "print(\"RFIND ::\",name.rfind(\"Kumar\"))\n",
    "print(\"FIND::\",name.find(\"Kumar\"))"
   ]
  },
  {
   "cell_type": "markdown",
   "metadata": {},
   "source": [
    "### 14. split()\n",
    "\n",
    "\n",
    "- The method split() returns a list of all the words in the string, using str as the separator \n",
    "- splits on all whitespace if left unspecified\n",
    "- optionally limiting the number of splits to num.\n",
    "\n",
    "- **Syntax:**\n",
    "`str.split(str=\"\", num=string.count(str))`"
   ]
  },
  {
   "cell_type": "code",
   "execution_count": 46,
   "metadata": {},
   "outputs": [
    {
     "name": "stdout",
     "output_type": "stream",
     "text": [
      "Akshay_Kumar_c <class 'str'>\n",
      "['Akshay', 'Kumar', 'c'] <class 'list'>\n"
     ]
    }
   ],
   "source": [
    "name = \"Akshay_Kumar_c\"\n",
    "print(name , type(name))\n",
    "new_name = name.split(\"_\")\n",
    "print(new_name,type(new_name))"
   ]
  },
  {
   "cell_type": "markdown",
   "metadata": {},
   "source": [
    "### 15. strip()\n",
    "\n",
    "\n",
    "- Strip : removes extra spaces in the begining and ending of the character By default it removes spaces    \n",
    "- default white space characters   \n",
    "`str.strip([chars])`"
   ]
  },
  {
   "cell_type": "code",
   "execution_count": 53,
   "metadata": {},
   "outputs": [
    {
     "name": "stdout",
     "output_type": "stream",
     "text": [
      "  Akshay Kumar C   18\n",
      "Akshay Kumar C 14\n"
     ]
    }
   ],
   "source": [
    "name = \"  Akshay Kumar C  \"\n",
    "b = name.strip() # default\n",
    "print(name,len(name))\n",
    "print(b,len(b))"
   ]
  },
  {
   "cell_type": "code",
   "execution_count": 56,
   "metadata": {},
   "outputs": [
    {
     "name": "stdout",
     "output_type": "stream",
     "text": [
      "Akshay/-\n"
     ]
    }
   ],
   "source": [
    "name_2 = \"****,,,,...Akshay/-**\"\n",
    "print(name_2.strip(\"*,.\"))"
   ]
  },
  {
   "cell_type": "code",
   "execution_count": 58,
   "metadata": {},
   "outputs": [
    {
     "name": "stdout",
     "output_type": "stream",
     "text": [
      "Akshay/-*-\n"
     ]
    }
   ],
   "source": [
    "name_2 = \"****,,,,...Akshay/-*-*\"\n",
    "print(name_2.strip(\".*,\"))"
   ]
  },
  {
   "cell_type": "code",
   "execution_count": 60,
   "metadata": {},
   "outputs": [
    {
     "name": "stdout",
     "output_type": "stream",
     "text": [
      "-*,,,,...Akshay/*-\n"
     ]
    }
   ],
   "source": [
    "name_2 = \"***-*,,,,...Akshay/*-**\"\n",
    "print(name_2.strip(\".*,\"))"
   ]
  },
  {
   "cell_type": "markdown",
   "metadata": {},
   "source": [
    "### 16. rstrip()\n",
    "\n",
    "- returns a copy of the string in which all chars have been stripped from the end of the string\n",
    "- default white space charcters\n",
    "\n",
    "`str.rstrip([chars])`"
   ]
  },
  {
   "cell_type": "code",
   "execution_count": 75,
   "metadata": {},
   "outputs": [
    {
     "name": "stdout",
     "output_type": "stream",
     "text": [
      "strip:: Areej\n",
      "rstrip:: --Areej\n"
     ]
    }
   ],
   "source": [
    "name = \"--Areej--\"\n",
    "print(\"strip::\",name.strip(\"-\"))\n",
    "print(\"rstrip::\",name.rstrip(\"-\"))"
   ]
  },
  {
   "cell_type": "markdown",
   "metadata": {},
   "source": [
    "### 17. startswith()\n",
    "\n",
    "- checks whether string starts with str    \n",
    "\n",
    "\n",
    "- optionally restricting the matching with the given indices start and end   \n",
    "\n",
    "`str.startswith(str,beg,end)`\n"
   ]
  },
  {
   "cell_type": "code",
   "execution_count": 27,
   "metadata": {},
   "outputs": [
    {
     "name": "stdout",
     "output_type": "stream",
     "text": [
      "True\n",
      "False\n"
     ]
    }
   ],
   "source": [
    "name1 = \"#Nivin Pauly\"\n",
    "name2 = \"Dulqar Salman\"\n",
    "\n",
    "print(name1.startswith('#'))\n",
    "print(name2.startswith('#'))"
   ]
  },
  {
   "cell_type": "code",
   "execution_count": 31,
   "metadata": {},
   "outputs": [
    {
     "name": "stdout",
     "output_type": "stream",
     "text": [
      "id= 123\n",
      "phone= 9001234\n",
      "name= Rahul\n"
     ]
    }
   ],
   "source": [
    "data = ['id123', '+919001234','@Rahul']\n",
    "\n",
    "for item in data:\n",
    "    if item.startswith('id'):\n",
    "        print('id=',item[2:])\n",
    "    elif item.startswith('@'):\n",
    "        print('name=',item[1:])\n",
    "    elif item.startswith('+91'):\n",
    "        print('phone=',item[3:])\n",
    "    else:\n",
    "        pass\n"
   ]
  },
  {
   "cell_type": "markdown",
   "metadata": {},
   "source": [
    "---"
   ]
  },
  {
   "cell_type": "code",
   "execution_count": null,
   "metadata": {},
   "outputs": [],
   "source": []
  },
  {
   "cell_type": "markdown",
   "metadata": {},
   "source": [
    "# Activities"
   ]
  },
  {
   "cell_type": "markdown",
   "metadata": {},
   "source": [
    "#### Light Activities"
   ]
  },
  {
   "cell_type": "markdown",
   "metadata": {},
   "source": [
    "1. Get a name from the user and print the name in capital letters\n",
    "2. Get a name from user and print how many times the letter a is occuring \n",
    "3. Get a name from user, if the name is in upper case , print that the number is in uppercase\n",
    "4. A sentance is given<br>\n",
    "        s = \"My brother is very caring, i like my brother so much, my brother is very humble to heart\"<br>\n",
    "    write a code to replace the word brother to sister and print the new sentance\n",
    "5. Get a number from the user, check if the input from the user is a digit or not.<br>\n",
    "    If it is a number print - correct if it is not then print worng input\n"
   ]
  },
  {
   "cell_type": "markdown",
   "metadata": {},
   "source": [
    "### Moderate"
   ]
  },
  {
   "cell_type": "markdown",
   "metadata": {},
   "source": [
    "1. The given below are a list of names<br>\n",
    "akash,manu,mohan,manoj,rashiq,aajish,jose,aamil<br>\n",
    "Now from the list of the names print all the names that start with a\n",
    "2. When the user inputted the names, there occured a small error due to which along with the names some special characters also are in the name<br>\n",
    "write a code to remove the special characters from the names and print the new list<br>\n",
    "names = [\"akshay**\",\"jose***-\",\"abhinav*\",\"joseph****\",\"rashiq**--\"]\n",
    "3. Write a code to filter the list to correct names <br>\n",
    " names = [\"akash**\",\"  \",\"gokul\",\"gopal*\",\"    \"]<br>\n",
    " Hint : `as you can see in some names special characters have come in, some case there is no names only white spaces, so you need to remove the white spaces as well as the special characters from differet names`<br>\n",
    " And after filtering the code you are required to print the new list with the names"
   ]
  },
  {
   "cell_type": "markdown",
   "metadata": {},
   "source": []
  }
 ],
 "metadata": {
  "celltoolbar": "Slideshow",
  "kernelspec": {
   "display_name": "Python 3",
   "language": "python",
   "name": "python3"
  },
  "language_info": {
   "codemirror_mode": {
    "name": "ipython",
    "version": 3
   },
   "file_extension": ".py",
   "mimetype": "text/x-python",
   "name": "python",
   "nbconvert_exporter": "python",
   "pygments_lexer": "ipython3",
   "version": "3.9.0"
  }
 },
 "nbformat": 4,
 "nbformat_minor": 4
}
