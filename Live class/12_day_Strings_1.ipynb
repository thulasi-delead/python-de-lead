{
 "cells": [
  {
   "cell_type": "markdown",
   "metadata": {
    "slideshow": {
     "slide_type": "slide"
    }
   },
   "source": [
    "# Strings\n",
    "***Part 1***"
   ]
  },
  {
   "cell_type": "markdown",
   "metadata": {
    "slideshow": {
     "slide_type": "slide"
    }
   },
   "source": [
    "# Index\n",
    "\n",
    "- **String data type**\n",
    "    - **Indexing and accessing string characters**\n",
    "    - **Getting length of a string**\n",
    "    - **String Methods for alphabets**\n",
    "    - **In operator**\n",
    "    - **Transversal in string**\n",
    "        - using While loop\n",
    "        - Using for loop\n",
    "\n",
    "\n",
    "- **Activities**\n"
   ]
  },
  {
   "cell_type": "markdown",
   "metadata": {},
   "source": [
    "# Strings"
   ]
  },
  {
   "cell_type": "markdown",
   "metadata": {
    "slideshow": {
     "slide_type": "slide"
    }
   },
   "source": [
    "`A string is a sequence of characters. You can access the characters one at a time with the Square bracket operator`\n",
    "- One of the most popular types in python       <br><br>\n",
    "- Anything inside the quotes consider as string           <br><br>\n",
    "- Python treats single quotes same as the double quotes       <br><br>\n",
    "- There is no separate character type, they are treated here as strings with length 1.  <br><br>\n",
    "- Like list, strings also having index, which is similar to list index\n"
   ]
  },
  {
   "cell_type": "markdown",
   "metadata": {},
   "source": [
    "## Indexing and accessing string characters"
   ]
  },
  {
   "cell_type": "code",
   "execution_count": null,
   "metadata": {
    "slideshow": {
     "slide_type": "fragment"
    }
   },
   "outputs": [],
   "source": [
    "name = \"What is your name\""
   ]
  },
  {
   "cell_type": "code",
   "execution_count": 2,
   "metadata": {
    "slideshow": {
     "slide_type": "subslide"
    }
   },
   "outputs": [
    {
     "data": {
      "text/plain": [
       "'t'"
      ]
     },
     "execution_count": 2,
     "metadata": {},
     "output_type": "execute_result"
    }
   ],
   "source": [
    "n =\"what\"\n",
    "n[3]"
   ]
  },
  {
   "cell_type": "code",
   "execution_count": 3,
   "metadata": {
    "slideshow": {
     "slide_type": "slide"
    }
   },
   "outputs": [
    {
     "name": "stdout",
     "output_type": "stream",
     "text": [
      "B\n"
     ]
    }
   ],
   "source": [
    "# Predict\n",
    "\n",
    "name = \"Banana\"\n",
    "# letter = name[1] \n",
    "letter = name[0] \n",
    "print(letter) \n",
    "\n",
    "# what will be the output"
   ]
  },
  {
   "cell_type": "code",
   "execution_count": 4,
   "metadata": {
    "slideshow": {
     "slide_type": "slide"
    }
   },
   "outputs": [
    {
     "name": "stdout",
     "output_type": "stream",
     "text": [
      "index 0 A\n",
      "index 1 p\n",
      "index 2 p\n",
      "index 3 l\n",
      "index 4 e\n"
     ]
    }
   ],
   "source": [
    "fruit = \"Apple\"\n",
    "print(\"index 0\",fruit[0])\n",
    "print(\"index 1\",fruit[1])\n",
    "print(\"index 2\",fruit[2])\n",
    "print(\"index 3\",fruit[3])\n",
    "print(\"index 4\",fruit[4])"
   ]
  },
  {
   "cell_type": "code",
   "execution_count": 5,
   "metadata": {
    "slideshow": {
     "slide_type": "slide"
    }
   },
   "outputs": [
    {
     "data": {
      "text/plain": [
       "'a'"
      ]
     },
     "execution_count": 5,
     "metadata": {},
     "output_type": "execute_result"
    }
   ],
   "source": [
    "# getting characters of a strig\n",
    "name = \"Banana\"\n",
    "name[0] # --- O refers to the first index\n",
    "name[1] # --- 1 refers to the second index || 2nd character is printed"
   ]
  },
  {
   "cell_type": "markdown",
   "metadata": {
    "slideshow": {
     "slide_type": "slide"
    }
   },
   "source": [
    "**Understanding the Code**\n",
    "```\n",
    "name = \"Banana\"\n",
    "name[0]\n",
    "name[1]\n",
    "```\n",
    "- line 1 - `name = \"Banana\"` - variable name is assigned to a string Banana\n",
    "- line 2 - `name[0]` - This gets the first character of the string \"Banana\"\n",
    "- line 3 - `name[1]` - This gets the 2nd character of the string\n",
    "\n",
    "> The indexing of character starts from 0 "
   ]
  },
  {
   "cell_type": "markdown",
   "metadata": {
    "slideshow": {
     "slide_type": "slide"
    }
   },
   "source": [
    "![](banana.png)"
   ]
  },
  {
   "cell_type": "code",
   "execution_count": 2,
   "metadata": {
    "slideshow": {
     "slide_type": "slide"
    }
   },
   "outputs": [
    {
     "name": "stdout",
     "output_type": "stream",
     "text": [
      "n\n"
     ]
    },
    {
     "ename": "TypeError",
     "evalue": "string indices must be integers",
     "output_type": "error",
     "traceback": [
      "\u001b[0;31m---------------------------------------------------------------------------\u001b[0m",
      "\u001b[0;31mTypeError\u001b[0m                                 Traceback (most recent call last)",
      "\u001b[0;32m<ipython-input-2-b5089ed91f08>\u001b[0m in \u001b[0;36m<module>\u001b[0;34m\u001b[0m\n\u001b[1;32m      6\u001b[0m \u001b[0mprint\u001b[0m\u001b[0;34m(\u001b[0m\u001b[0mname\u001b[0m\u001b[0;34m[\u001b[0m\u001b[0ma\u001b[0m\u001b[0;34m]\u001b[0m\u001b[0;34m)\u001b[0m\u001b[0;34m\u001b[0m\u001b[0;34m\u001b[0m\u001b[0m\n\u001b[1;32m      7\u001b[0m \u001b[0;31m# print(name[(10/3)])\u001b[0m\u001b[0;34m\u001b[0m\u001b[0;34m\u001b[0m\u001b[0;34m\u001b[0m\u001b[0m\n\u001b[0;32m----> 8\u001b[0;31m \u001b[0mprint\u001b[0m\u001b[0;34m(\u001b[0m\u001b[0mname\u001b[0m\u001b[0;34m[\u001b[0m\u001b[0;34m(\u001b[0m\u001b[0;36m10\u001b[0m\u001b[0;34m/\u001b[0m\u001b[0;36m2\u001b[0m\u001b[0;34m)\u001b[0m\u001b[0;34m]\u001b[0m\u001b[0;34m)\u001b[0m\u001b[0;34m\u001b[0m\u001b[0;34m\u001b[0m\u001b[0m\n\u001b[0m",
      "\u001b[0;31mTypeError\u001b[0m: string indices must be integers"
     ]
    }
   ],
   "source": [
    "# We can use a operator or variable as a index \n",
    "# But the index has to be a integer\n",
    "a=2\n",
    "name = \"banana\"\n",
    "\n",
    "print(name[a])\n",
    "print(name[(10/2)])"
   ]
  },
  {
   "cell_type": "code",
   "execution_count": 1,
   "metadata": {},
   "outputs": [
    {
     "name": "stdout",
     "output_type": "stream",
     "text": [
      "n\n",
      "a\n"
     ]
    }
   ],
   "source": [
    "# We can use a operator or variable as a index \n",
    "# But the index has to be a integer\n",
    "a=2\n",
    "name = \"banana\"\n",
    "\n",
    "print(name[a])\n",
    "print(name[(10//2)])"
   ]
  },
  {
   "cell_type": "code",
   "execution_count": 7,
   "metadata": {
    "slideshow": {
     "slide_type": "slide"
    }
   },
   "outputs": [
    {
     "ename": "TypeError",
     "evalue": "string indices must be integers",
     "output_type": "error",
     "traceback": [
      "\u001b[0;31m---------------------------------------------------------------------------\u001b[0m",
      "\u001b[0;31mTypeError\u001b[0m                                 Traceback (most recent call last)",
      "\u001b[0;32m<ipython-input-7-5ef8416f3a58>\u001b[0m in \u001b[0;36m<module>\u001b[0;34m\u001b[0m\n\u001b[1;32m      1\u001b[0m \u001b[0;31m# We cannot use a float\u001b[0m\u001b[0;34m\u001b[0m\u001b[0;34m\u001b[0m\u001b[0;34m\u001b[0m\u001b[0m\n\u001b[1;32m      2\u001b[0m \u001b[0mname\u001b[0m \u001b[0;34m=\u001b[0m \u001b[0;34m\"banana\"\u001b[0m\u001b[0;34m\u001b[0m\u001b[0;34m\u001b[0m\u001b[0m\n\u001b[0;32m----> 3\u001b[0;31m \u001b[0mname\u001b[0m\u001b[0;34m[\u001b[0m\u001b[0;36m2.0\u001b[0m\u001b[0;34m]\u001b[0m\u001b[0;34m\u001b[0m\u001b[0;34m\u001b[0m\u001b[0m\n\u001b[0m",
      "\u001b[0;31mTypeError\u001b[0m: string indices must be integers"
     ]
    }
   ],
   "source": [
    "# We cannot use a float\n",
    "name = \"banana\"\n",
    "name[2.0]"
   ]
  },
  {
   "cell_type": "markdown",
   "metadata": {},
   "source": [
    "#### Negative indexing in string"
   ]
  },
  {
   "cell_type": "markdown",
   "metadata": {},
   "source": [
    "<font color=red>**Question 1**</font><br>\n",
    "Predict the output of the following code snippet:\n",
    "```\n",
    "flag = \"Indian\"\n",
    "print(flag[0])\n",
    "print(flag[-1])\n",
    "print(flag[-3])\n",
    "```"
   ]
  },
  {
   "cell_type": "markdown",
   "metadata": {},
   "source": [
    "**Note:**\n",
    "   - String index can be positive integer\n",
    "   - String index can be negative integer\n",
    "   - String index cannot be floating points"
   ]
  },
  {
   "cell_type": "markdown",
   "metadata": {
    "slideshow": {
     "slide_type": "slide"
    }
   },
   "source": [
    "## Getting the length of a string\n",
    "- Try to remember a build in function which gives the length of a value"
   ]
  },
  {
   "cell_type": "markdown",
   "metadata": {
    "slideshow": {
     "slide_type": "slide"
    }
   },
   "source": [
    "### len(value)\n",
    "Here value can be a string type."
   ]
  },
  {
   "cell_type": "code",
   "execution_count": 8,
   "metadata": {
    "slideshow": {
     "slide_type": "slide"
    }
   },
   "outputs": [
    {
     "name": "stdout",
     "output_type": "stream",
     "text": [
      "5\n"
     ]
    }
   ],
   "source": [
    "planet = \"Earth\"\n",
    "# Number of characters in EARTH\n",
    "print(len(planet))"
   ]
  },
  {
   "cell_type": "markdown",
   "metadata": {
    "slideshow": {
     "slide_type": "slide"
    }
   },
   "source": [
    "<font color=red>**Question 2**</font><br>\n",
    "Find the last character of the string inputed by the user.<br>\n",
    "Whithout using `[-1] method` <br>\n",
    "**OUTPUT**\n",
    "```\n",
    "Enter name: Arj\n",
    "Last character : j\n",
    "Enter name : Cool\n",
    "last name : l \n",
    "```"
   ]
  },
  {
   "cell_type": "code",
   "execution_count": null,
   "metadata": {},
   "outputs": [],
   "source": [
    "#code for Question 2"
   ]
  },
  {
   "cell_type": "code",
   "execution_count": null,
   "metadata": {
    "slideshow": {
     "slide_type": "slide"
    }
   },
   "outputs": [],
   "source": [
    "name = \"Amilia_fathima\"\n",
    "print(len(name))"
   ]
  },
  {
   "cell_type": "markdown",
   "metadata": {
    "slideshow": {
     "slide_type": "slide"
    }
   },
   "source": [
    "name = `\"Amilia_fathima\"`<br>\n",
    "len(name) or total characters = 14 <br>\n",
    "\n",
    "|A  |  m|  i|  l|  i|  a|  _|  f|  a|t  | h | i | m | a\n",
    "|---|---|---|---|---|---|---|---|---|---|---|---|---|---\n",
    "|0|1|2|3|4|5|6|7|8|9|10|11|12|13"
   ]
  },
  {
   "cell_type": "markdown",
   "metadata": {},
   "source": [
    "## String Methods\n",
    "\n",
    "#### Meethods related to case of the alphabets\n",
    "- str.upper()\n",
    "- str.lower()\n",
    "- str.swapcase()\n",
    "- str.capitalize()"
   ]
  },
  {
   "cell_type": "code",
   "execution_count": 4,
   "metadata": {},
   "outputs": [
    {
     "name": "stdout",
     "output_type": "stream",
     "text": [
      "LIONEL MESSI\n"
     ]
    }
   ],
   "source": [
    "#To convert lower case alphabets to upper case\n",
    "name = 'lionel messi'\n",
    "print(name.upper())"
   ]
  },
  {
   "cell_type": "code",
   "execution_count": 5,
   "metadata": {},
   "outputs": [
    {
     "name": "stdout",
     "output_type": "stream",
     "text": [
      "lionel messi\n"
     ]
    }
   ],
   "source": [
    "#To convert lower case alphabets to upper case\n",
    "name = 'lionel messi'\n",
    "name.upper()\n",
    "print(name)"
   ]
  },
  {
   "cell_type": "markdown",
   "metadata": {},
   "source": [
    "**Note:**\n",
    "    These methods not changing the original string value."
   ]
  },
  {
   "cell_type": "code",
   "execution_count": 8,
   "metadata": {},
   "outputs": [
    {
     "name": "stdout",
     "output_type": "stream",
     "text": [
      "kerala\n"
     ]
    }
   ],
   "source": [
    "#To convert upper case alphabets to lower case\n",
    "state = 'KERALA'\n",
    "print(state.lower())"
   ]
  },
  {
   "cell_type": "code",
   "execution_count": 9,
   "metadata": {},
   "outputs": [
    {
     "name": "stdout",
     "output_type": "stream",
     "text": [
      "Kerala\n"
     ]
    }
   ],
   "source": [
    "#To change the first letter into a capital letter\n",
    "state = 'kerala'\n",
    "print(state.capitalize())"
   ]
  },
  {
   "cell_type": "code",
   "execution_count": 10,
   "metadata": {
    "slideshow": {
     "slide_type": "fragment"
    }
   },
   "outputs": [],
   "source": [
    "# Perfom upper() lower() and capitalize on unser entered value"
   ]
  },
  {
   "cell_type": "code",
   "execution_count": 12,
   "metadata": {
    "slideshow": {
     "slide_type": "fragment"
    }
   },
   "outputs": [
    {
     "name": "stdout",
     "output_type": "stream",
     "text": [
      "MalayalaM\n"
     ]
    }
   ],
   "source": [
    "# To swap the cases\n",
    "language = 'mALAYALAm'\n",
    "\n",
    "print(language.swapcase())"
   ]
  },
  {
   "cell_type": "markdown",
   "metadata": {},
   "source": [
    "<font color=blue>**Try Yourself:**</font><br>\n",
    "```\n",
    "   - Accept your name,place and school/college name through keyboard\n",
    "   - Print your name in Block letters\n",
    "   - Print the place name with first letter capital letters and rest of them in small letters\n",
    "   - Print the school name, in which smaller letters should be converted into capital letter and vice-versa.\n",
    "```"
   ]
  },
  {
   "cell_type": "markdown",
   "metadata": {},
   "source": [
    "## membership operator -- in"
   ]
  },
  {
   "cell_type": "markdown",
   "metadata": {},
   "source": [
    "**Syntax:**   \n",
    "` letter in string_name:`\n",
    "\n",
    "- return True, When letter present in string_name\n",
    "- return Flase, When letter not present in string_name\n"
   ]
  },
  {
   "cell_type": "code",
   "execution_count": 14,
   "metadata": {
    "slideshow": {
     "slide_type": "slide"
    }
   },
   "outputs": [],
   "source": [
    "# using in operator\n",
    "name = \"Akshay Kumar\""
   ]
  },
  {
   "cell_type": "code",
   "execution_count": 15,
   "metadata": {
    "slideshow": {
     "slide_type": "fragment"
    }
   },
   "outputs": [],
   "source": [
    "initial = \"Kumar\""
   ]
  },
  {
   "cell_type": "code",
   "execution_count": 16,
   "metadata": {
    "slideshow": {
     "slide_type": "fragment"
    }
   },
   "outputs": [
    {
     "data": {
      "text/plain": [
       "True"
      ]
     },
     "execution_count": 16,
     "metadata": {},
     "output_type": "execute_result"
    }
   ],
   "source": [
    "initial in name"
   ]
  },
  {
   "cell_type": "code",
   "execution_count": 17,
   "metadata": {
    "slideshow": {
     "slide_type": "fragment"
    }
   },
   "outputs": [
    {
     "data": {
      "text/plain": [
       "False"
      ]
     },
     "execution_count": 17,
     "metadata": {},
     "output_type": "execute_result"
    }
   ],
   "source": [
    "\"sh\" in initial"
   ]
  },
  {
   "cell_type": "code",
   "execution_count": 18,
   "metadata": {
    "slideshow": {
     "slide_type": "fragment"
    }
   },
   "outputs": [
    {
     "name": "stdout",
     "output_type": "stream",
     "text": [
      "kumar is the initial\n"
     ]
    }
   ],
   "source": [
    "if initial in name:\n",
    "    print(\"kumar is the initial\")"
   ]
  },
  {
   "cell_type": "markdown",
   "metadata": {},
   "source": [
    "<font color=red>**Question 3**</font><br>\n",
    "```\n",
    "- Accept a string from user\n",
    "- Then accept a letter from user\n",
    "- Check whether the letter pressent in the string or not\n",
    "```"
   ]
  },
  {
   "cell_type": "code",
   "execution_count": 19,
   "metadata": {},
   "outputs": [],
   "source": [
    "#Code for question 3"
   ]
  },
  {
   "cell_type": "markdown",
   "metadata": {
    "slideshow": {
     "slide_type": "slide"
    }
   },
   "source": [
    "## Traversal\n",
    "A lot of computations involve processing a string one character at a time. Often they start at the beginning, select each character in turn, do something to it, and continue until the end. This pattern of processing is called a traversal.\n",
    "\n",
    "- Simply visiting the each character of the string at least once.\n",
    "- Loops are used to perform the traversal"
   ]
  },
  {
   "cell_type": "markdown",
   "metadata": {
    "slideshow": {
     "slide_type": "slide"
    }
   },
   "source": [
    "### 1. Using While"
   ]
  },
  {
   "cell_type": "code",
   "execution_count": null,
   "metadata": {
    "slideshow": {
     "slide_type": "slide"
    }
   },
   "outputs": [],
   "source": [
    "fruit = \"banana\"\n",
    "index = 0\n",
    "while index<len(fruit):\n",
    "    letter = fruit[index]\n",
    "    print(letter)\n",
    "    index = index + 1\n"
   ]
  },
  {
   "cell_type": "code",
   "execution_count": null,
   "metadata": {
    "slideshow": {
     "slide_type": "slide"
    }
   },
   "outputs": [],
   "source": [
    "#delete\n",
    "fruit = \"#banana\"\n",
    "index = 0\n",
    "while index<len(fruit):\n",
    "    letter = fruit[index]\n",
    "    if \"#\" in letter:\n",
    "        print(fruit)\n",
    "        break\n",
    "    index = index + 1\n"
   ]
  },
  {
   "cell_type": "markdown",
   "metadata": {
    "slideshow": {
     "slide_type": "slide"
    }
   },
   "source": [
    "<h3>Understanding the code</h3>\n",
    "\n",
    "This program will print each characters of the word \"mango\"\n",
    "\n",
    "fruit = \"mango\"\n",
    "- we are assigning string mango to variable fruit \n",
    "```\n",
    "index = 0\n",
    "while index<len(fruit):\n",
    "    letter = fruit[index]\n",
    "    print(letter)\n",
    "    index = index + 1\n",
    "```\n",
    "<br>\n",
    "\n",
    "<br>Loop Explanation<br>\n",
    "- `while index<len(fruit)` The loop will run until the value of index is less than the length of mango\n",
    "- mango has 5 characters ie. from index 0 to 4\n",
    "- initially when loop runs the value of index is 0\n",
    "    - checking test condition : 0(index)<5(len(fruit))\n",
    "    - Which is true and hence the body of while will be executed\n",
    "    - `letter = fruit[index]` : getting the character at the particular index\n",
    "    - ie. `letter = fruit[0]` : which is \"m\"\n",
    "    - in the next line we print the character by calling `print(letter)`\n",
    "    - To go to the next character we need to update the value of the index hence we increment the variable **index** : `index = index+1`\n",
    "\n",
    "- And these above given steps repeat until the test condition becomes FALSE\n",
    "- ie. When value of index becomes 5\n",
    "- So the last iteration will be when the value of index = 4\n",
    "\n",
    "<br>Loop when index = 4<br>\n",
    "\n",
    "- value of index = 4\n",
    "    - checking test condition : 4index)<5(len(fruit))\n",
    "    - Which is true and hence the body of while will be executed\n",
    "    - `letter = fruit[index]` : getting the character at the particular index - *ie. fruit[4] : charcter = \"o\"*\n",
    "    - ie. `letter = fruit[0]` : which is \"o\"\n",
    "    - in the next line we print the character by calling `print(letter)`\n",
    "    - To go to the next character we need to update the value of the index hence we increment the variable **index** : `index = index+1` \n",
    "    - now the index becomes 5\n",
    "    - Again the test condition is checked and it becomes false as 5<5 is false. \n",
    "    - The loop stops\n",
    "    "
   ]
  },
  {
   "cell_type": "markdown",
   "metadata": {
    "slideshow": {
     "slide_type": "slide"
    }
   },
   "source": [
    "<font color=red>**Question 3**</font><br>\n",
    "Print the characters in reverse order of the string in each line   \n",
    "Note:: use while loop\n",
    "```\n",
    "Output\n",
    "Enter a name = \"Mango\"\n",
    "o\n",
    "g\n",
    "n\n",
    "a\n",
    "M\n",
    "```"
   ]
  },
  {
   "cell_type": "code",
   "execution_count": null,
   "metadata": {},
   "outputs": [],
   "source": [
    "#code for Question 3"
   ]
  },
  {
   "cell_type": "markdown",
   "metadata": {},
   "source": [
    "<font color=red>**Question 4**</font><br>\n",
    "```\n",
    "- Accept a line of sentence from user\n",
    "- Count the number of vowels present in it\n",
    "- Note:: USe while loop\n",
    "```"
   ]
  },
  {
   "cell_type": "code",
   "execution_count": null,
   "metadata": {},
   "outputs": [],
   "source": [
    "#code for question4"
   ]
  },
  {
   "cell_type": "markdown",
   "metadata": {
    "slideshow": {
     "slide_type": "slide"
    }
   },
   "source": [
    "## 2. Using For loop"
   ]
  },
  {
   "cell_type": "code",
   "execution_count": 7,
   "metadata": {
    "slideshow": {
     "slide_type": "slide"
    }
   },
   "outputs": [
    {
     "name": "stdout",
     "output_type": "stream",
     "text": [
      "A\n",
      "p\n",
      "p\n",
      "l\n",
      "e\n"
     ]
    }
   ],
   "source": [
    "fruits = \"Apple\"\n",
    "for char in fruits:\n",
    "    print(char)"
   ]
  },
  {
   "cell_type": "markdown",
   "metadata": {
    "slideshow": {
     "slide_type": "slide"
    }
   },
   "source": [
    "> Each time the loop is executed, next character of the string is assigned to char"
   ]
  },
  {
   "cell_type": "code",
   "execution_count": null,
   "metadata": {
    "slideshow": {
     "slide_type": "slide"
    }
   },
   "outputs": [],
   "source": [
    "input_1 = input()\n",
    "print(input_1.lower())\n",
    "print(input_1.upper())"
   ]
  },
  {
   "cell_type": "code",
   "execution_count": null,
   "metadata": {},
   "outputs": [],
   "source": [
    "#code to detect the space from the name entered if space exists\n",
    "#Method 1 using if and in\n",
    "name = input(\"Enter name:\")\n"
   ]
  },
  {
   "cell_type": "code",
   "execution_count": null,
   "metadata": {},
   "outputs": [],
   "source": [
    "#code to delete the space from the name entered if space exists\n",
    "#Method 2 using for\n",
    "name = input(\"Enter name:\")"
   ]
  },
  {
   "cell_type": "markdown",
   "metadata": {
    "slideshow": {
     "slide_type": "slide"
    }
   },
   "source": [
    "<font color=red>**Question 5**</font><br>\n",
    "```\n",
    "- Accept the full name of user\n",
    "- If the name separated by swhite spaces, replace them with dot(.)\n",
    "- Then print the name\n",
    "Note:: Use for loop\n",
    "```\n",
    "-------\n",
    "OUTPUT:\n",
    "```\n",
    "Enter name: Rashiq Bin Ali<br>\n",
    "name = Rashiq.Bin.Ali\n",
    "\n",
    "```"
   ]
  },
  {
   "cell_type": "markdown",
   "metadata": {},
   "source": [
    "-----"
   ]
  },
  {
   "cell_type": "markdown",
   "metadata": {
    "slideshow": {
     "slide_type": "slide"
    }
   },
   "source": [
    "<font color=red>**Question 6**</font><br>\n",
    "```\n",
    "Take a input from user, if the user enters with \"#\" --- Do not print other wise make it upper case and print,\n",
    "If user types done - \"End the Program\"\n",
    "```\n",
    "----\n",
    "```\n",
    "Output\n",
    "Enter : Akshay\n",
    "user Output is : AKSHAY\n",
    "\n",
    "Enter :#Akshay\n",
    "```"
   ]
  },
  {
   "cell_type": "code",
   "execution_count": null,
   "metadata": {},
   "outputs": [],
   "source": [
    "# code for question6"
   ]
  },
  {
   "cell_type": "code",
   "execution_count": null,
   "metadata": {},
   "outputs": [],
   "source": []
  },
  {
   "cell_type": "code",
   "execution_count": 11,
   "metadata": {
    "slideshow": {
     "slide_type": "slide"
    }
   },
   "outputs": [
    {
     "name": "stdout",
     "output_type": "stream",
     "text": [
      "[25, 'Arjun', True, 35.6]\n"
     ]
    }
   ],
   "source": [
    "name = []\n",
    "name.append(25)\n",
    "name.append(\"Arjun\")\n",
    "name.append(True)\n",
    "name.append(35.6)\n",
    "print(name)"
   ]
  },
  {
   "cell_type": "code",
   "execution_count": null,
   "metadata": {
    "slideshow": {
     "slide_type": "fragment"
    }
   },
   "outputs": [],
   "source": [
    "#issue in this code\n",
    "comm()"
   ]
  },
  {
   "cell_type": "markdown",
   "metadata": {
    "slideshow": {
     "slide_type": "slide"
    }
   },
   "source": [
    "-------"
   ]
  },
  {
   "cell_type": "code",
   "execution_count": null,
   "metadata": {},
   "outputs": [],
   "source": [
    "# info - method 2\n",
    "# printing first character\n",
    "name=\"mango\"\n",
    "first_character = name[0]\n",
    "print(first_character)"
   ]
  },
  {
   "cell_type": "code",
   "execution_count": null,
   "metadata": {
    "slideshow": {
     "slide_type": "slide"
    }
   },
   "outputs": [],
   "source": [
    "def name():\n",
    "    user = input(\"Enter:\")\n",
    "    # user[0]  --- This gives the first character of the input\n",
    "    if \"#\" != user[0]:\n",
    "        print(user)"
   ]
  },
  {
   "cell_type": "code",
   "execution_count": null,
   "metadata": {
    "slideshow": {
     "slide_type": "fragment"
    }
   },
   "outputs": [],
   "source": [
    "name()"
   ]
  },
  {
   "cell_type": "code",
   "execution_count": null,
   "metadata": {
    "slideshow": {
     "slide_type": "fragment"
    }
   },
   "outputs": [],
   "source": [
    "name()"
   ]
  },
  {
   "cell_type": "code",
   "execution_count": null,
   "metadata": {
    "slideshow": {
     "slide_type": "fragment"
    }
   },
   "outputs": [],
   "source": [
    "name()"
   ]
  },
  {
   "cell_type": "markdown",
   "metadata": {
    "slideshow": {
     "slide_type": "slide"
    }
   },
   "source": [
    "<font color=blue>**Try Now:**</font><br>\n",
    "```\n",
    "How to reverse a string??????????\n",
    "```"
   ]
  },
  {
   "cell_type": "code",
   "execution_count": null,
   "metadata": {},
   "outputs": [],
   "source": [
    "#Method1 using while loop\n",
    "# rev = rev + char"
   ]
  },
  {
   "cell_type": "code",
   "execution_count": null,
   "metadata": {},
   "outputs": [],
   "source": [
    "#Method2 using while loop\n",
    "#rev = char + rev"
   ]
  },
  {
   "cell_type": "code",
   "execution_count": null,
   "metadata": {},
   "outputs": [],
   "source": [
    "#Method3 using for loop"
   ]
  },
  {
   "cell_type": "code",
   "execution_count": null,
   "metadata": {},
   "outputs": [],
   "source": [
    "#using for loop and range()"
   ]
  },
  {
   "cell_type": "markdown",
   "metadata": {},
   "source": [
    "**************"
   ]
  },
  {
   "cell_type": "markdown",
   "metadata": {},
   "source": [
    "# Activities"
   ]
  },
  {
   "cell_type": "markdown",
   "metadata": {},
   "source": [
    "<font color=red>**Activity 1**</font><br>\n",
    "```\n",
    "Write a program to print every character of a string entered by user in a new line using loop.\n",
    "```\n",
    "----\n",
    "OUTPUT:\n",
    "```\n",
    "Enter string: Hello\n",
    "H\n",
    "e\n",
    "l\n",
    "l\n",
    "o\n",
    "```"
   ]
  },
  {
   "cell_type": "markdown",
   "metadata": {},
   "source": [
    "<font color=red>**Activity 2**</font><br>\n",
    "```\n",
    "Write a program to check whether an entered string is palindrome or not?\n",
    "A palindrome reads same from front and back eg:- aba, ccaacc, mom, etc.\n",
    "```\n",
    "-----\n",
    "OUTPUT:\n",
    "```\n",
    "Case1\n",
    "Enter a string: malayalam\n",
    "malayalam is palindrome\n",
    "\n",
    "Case2\n",
    "Enter a string: hello\n",
    "hello is not a palindrome\n",
    "```"
   ]
  },
  {
   "cell_type": "markdown",
   "metadata": {},
   "source": [
    "<font color=red>**Activity 3**</font><br>\n",
    "```\n",
    "Write a program that takes your full name as input,\n",
    "And displays the abbreviations of the first and middle names except the last name, which is displayed as it is.\n",
    "Each part should be separated by a dot(.)\n",
    "For example, if your name is 'Sachin Ramesh Tendulkar' then  display name as S.R.Tendulkar\n",
    "```\n",
    "----\n",
    "OUTPUT:\n",
    "```\n",
    "Enter your full name: Sachin Ramesh Tendulkar\n",
    "Your short name: S.R.Tendulkar\n",
    "```"
   ]
  },
  {
   "cell_type": "markdown",
   "metadata": {},
   "source": [
    "<font color=red>**Activity 4**</font><br>\n",
    "```\n",
    "Write a program to find indices of the first and the last occurence of the letter 'o' in the string \"Hello, World\"\n",
    "```\n",
    "---\n",
    "OUTPUT:\n",
    "```\n",
    "First index: 4\n",
    "Second index: 8\n",
    "```"
   ]
  },
  {
   "cell_type": "markdown",
   "metadata": {},
   "source": [
    "<font color=red>**Activity 5**</font><br>\n",
    "```\n",
    "- Accept a sentence from user in which words are separated by white spaces.\n",
    "- Append each word into a list\n",
    "- Print the list\n",
    "- Print the largest word\n",
    "- Print the smallest word\n",
    "- Print each word in block letters\n",
    "- Create new string which contains the words of string1 but reverse in the order they appeared in string1\n",
    "```\n",
    "----\n",
    "OUTPUT:\n",
    "```\n",
    "Enter a sentence: January is the first month\n",
    "list : ['January','is','the','first','month']\n",
    "largest word: January\n",
    "smallest word: is\n",
    "JANUARY IS THE FIRST MONTH\n",
    "month first the is January\n",
    "```\n",
    "\n",
    "\n"
   ]
  },
  {
   "cell_type": "markdown",
   "metadata": {},
   "source": [
    "<font color=red>**Activity 6**</font><br>\n",
    "```\n",
    "Write a program to check if the two strings entered by user are anagrams or not. \n",
    "Two words are said to be anagrams if the letters of one word can be rearranged to form the other word.\n",
    "For example, jaxa and ajax are anagrams of each other.\n",
    "```\n",
    "----\n",
    "OUTPUT:\n",
    "```\n",
    "Case1\n",
    "Enter a string1: rat\n",
    "Enter a string2: art\n",
    "Anagrams\n",
    "\n",
    "Case2\n",
    "Enter a string1: meet\n",
    "Enter a string2: treat\n",
    "Not anagrams\n",
    "```"
   ]
  },
  {
   "cell_type": "code",
   "execution_count": null,
   "metadata": {},
   "outputs": [],
   "source": []
  }
 ],
 "metadata": {
  "celltoolbar": "Slideshow",
  "kernelspec": {
   "display_name": "Python 3",
   "language": "python",
   "name": "python3"
  },
  "language_info": {
   "codemirror_mode": {
    "name": "ipython",
    "version": 3
   },
   "file_extension": ".py",
   "mimetype": "text/x-python",
   "name": "python",
   "nbconvert_exporter": "python",
   "pygments_lexer": "ipython3",
   "version": "3.8.3"
  }
 },
 "nbformat": 4,
 "nbformat_minor": 4
}
