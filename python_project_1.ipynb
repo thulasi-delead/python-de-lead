{
  "nbformat": 4,
  "nbformat_minor": 0,
  "metadata": {
    "colab": {
      "provenance": [],
      "collapsed_sections": []
    },
    "kernelspec": {
      "name": "python3",
      "display_name": "Python 3"
    },
    "language_info": {
      "name": "python"
    }
  },
  "cells": [
    {
      "cell_type": "markdown",
      "source": [
        "Given two integer numbers. \n",
        "Condition : Return their product only if the product is equal to or lower than 1000, else return their sum."
      ],
      "metadata": {
        "id": "buLPy0D0krvh"
      }
    },
    {
      "cell_type": "code",
      "source": [
        "def multiplication_or_sum(num1, num2):\n",
        "    # calculate product of two number\n",
        "    product = num1 * num2\n",
        "    # check if product is less then 1000\n",
        "    if product <= 1000:\n",
        "        return product\n",
        "    else:\n",
        "        # product is greater than 1000 calculate sum\n",
        "        return num1 + num2"
      ],
      "metadata": {
        "id": "EAzDd7F-lVDs"
      },
      "execution_count": null,
      "outputs": []
    },
    {
      "cell_type": "code",
      "source": [
        "# first condition\n",
        "result = multiplication_or_sum(20, 30)\n",
        "print(\"The result is\", result)\n",
        "\n"
      ],
      "metadata": {
        "colab": {
          "base_uri": "https://localhost:8080/"
        },
        "id": "7UAJe3Hyj5PD",
        "outputId": "ac835bfd-cc78-47fe-fc69-357e2c0ceda7"
      },
      "execution_count": null,
      "outputs": [
        {
          "output_type": "stream",
          "name": "stdout",
          "text": [
            "The result is 600\n"
          ]
        }
      ]
    },
    {
      "cell_type": "code",
      "source": [
        "# Second condition\n",
        "result = multiplication_or_sum(400, 30)\n",
        "print(\"The result is\", result)"
      ],
      "metadata": {
        "colab": {
          "base_uri": "https://localhost:8080/"
        },
        "id": "1LkEo0xHkWjD",
        "outputId": "ef6e3e18-0795-4d9d-d460-8c858f323b3d"
      },
      "execution_count": null,
      "outputs": [
        {
          "output_type": "stream",
          "name": "stdout",
          "text": [
            "The result is 430\n"
          ]
        }
      ]
    },
    {
      "cell_type": "markdown",
      "source": [
        "Calculate the square of each number of list\n",
        "Python list is an ordered sequence of items. Assume you have a list of 10 numbers. Let’s see how to want to calculate the square of each number using for loop. \n"
      ],
      "metadata": {
        "id": "grO7HeIellit"
      }
    },
    {
      "cell_type": "code",
      "source": [
        "numbers = [1, 2, 3, 4, 5]\n",
        "# iterate over each element in list num\n",
        "for i in numbers:\n",
        "    # ** exponent operator\n",
        "    square = i ** 2\n",
        "    print(\"Square of:\", i, \"is:\", square)"
      ],
      "metadata": {
        "colab": {
          "base_uri": "https://localhost:8080/"
        },
        "id": "2c4NP1N6nejE",
        "outputId": "2e447d74-2c24-4a95-d93c-3c149c690930"
      },
      "execution_count": null,
      "outputs": [
        {
          "output_type": "stream",
          "name": "stdout",
          "text": [
            "Square of: 1 is: 1\n",
            "Square of: 2 is: 4\n",
            "Square of: 3 is: 9\n",
            "Square of: 4 is: 16\n",
            "Square of: 5 is: 25\n"
          ]
        }
      ]
    },
    {
      "cell_type": "markdown",
      "source": [
        "Write a program to calculate the average of 5 numbers in the list\n",
        "\n"
      ],
      "metadata": {
        "id": "R5wUZEsvoQRj"
      }
    },
    {
      "cell_type": "code",
      "source": [
        "numbers = [10, 25, 66, 40, 30]\n",
        "\n",
        "# definite iteration\n",
        "# run loop 5 times because list contains 5 items\n",
        "sum = 0\n",
        "for i in numbers:\n",
        "    sum = sum + i\n",
        "list_size = len(numbers)\n",
        "average = sum / list_size\n",
        "print(average)"
      ],
      "metadata": {
        "colab": {
          "base_uri": "https://localhost:8080/"
        },
        "id": "3TSQIqxtpGIj",
        "outputId": "1b167413-b638-4fb5-d85a-b22d286dd53b"
      },
      "execution_count": null,
      "outputs": [
        {
          "output_type": "stream",
          "name": "stdout",
          "text": [
            "34.2\n"
          ]
        }
      ]
    },
    {
      "cell_type": "markdown",
      "source": [
        "Use for loop to generate a list of numbers from 9 to 50 divisible by 3."
      ],
      "metadata": {
        "id": "_cPqsWF-pWkq"
      }
    },
    {
      "cell_type": "code",
      "source": [
        "for i in range(9,50):\n",
        "  if i%3==0:\n",
        "    print (i)\n"
      ],
      "metadata": {
        "colab": {
          "base_uri": "https://localhost:8080/"
        },
        "id": "tc6_BgJpqCb7",
        "outputId": "96cef42a-3f77-4e9c-adb0-51b98fb845d7"
      },
      "execution_count": null,
      "outputs": [
        {
          "output_type": "stream",
          "name": "stdout",
          "text": [
            "9\n",
            "12\n",
            "15\n",
            "18\n",
            "21\n",
            "24\n",
            "27\n",
            "30\n",
            "33\n",
            "36\n",
            "39\n",
            "42\n",
            "45\n",
            "48\n"
          ]
        }
      ]
    },
    {
      "cell_type": "markdown",
      "source": [
        "Input a name and a character from the name to check (lets say x).Check the current character is x or not from the name. If it is not x, it continues to the next iteration to check the following letter. else it increments the count"
      ],
      "metadata": {
        "id": "ClFO9gvnrBJY"
      }
    },
    {
      "cell_type": "code",
      "source": [
        "name = input(\"Enter any name:\")\n",
        "x = input(\"Enter any character to check if its present in the name : \")\n",
        "count = 0\n",
        "for char in name:\n",
        "    if char != x:\n",
        "        continue\n",
        "    else:\n",
        "        count = count + 1\n",
        "\n",
        "print('Total number of character in the name is:', count)"
      ],
      "metadata": {
        "colab": {
          "base_uri": "https://localhost:8080/"
        },
        "id": "mMT7sfzMsaYU",
        "outputId": "8634d54f-9d1b-43a7-8ae3-05cebc791dad"
      },
      "execution_count": null,
      "outputs": [
        {
          "output_type": "stream",
          "name": "stdout",
          "text": [
            "Enter any name:deepa\n",
            "Enter any character to check if its present in the name : e\n",
            "Total number of character in the name is: 2\n"
          ]
        }
      ]
    },
    {
      "cell_type": "markdown",
      "source": [
        "print a  pattern using nested for loop\n"
      ],
      "metadata": {
        "id": "Qr_eRnDavuQx"
      }
    },
    {
      "cell_type": "code",
      "source": [
        "rows = int(input(\"Enter number of rows the pattern should be printed:\"))\n",
        "# outer loop\n",
        "for i in range(1, rows + 1):\n",
        "    # inner loop\n",
        "    for j in range(1, i + 1):\n",
        "        print(\"*\", end=\" \")\n",
        "    print('')"
      ],
      "metadata": {
        "colab": {
          "base_uri": "https://localhost:8080/"
        },
        "id": "zFXZBreLxlpJ",
        "outputId": "a1092479-ad57-4071-bf14-5c7131312909"
      },
      "execution_count": null,
      "outputs": [
        {
          "output_type": "stream",
          "name": "stdout",
          "text": [
            "Enter number of rows the pattern should be printed:6\n",
            "* \n",
            "* * \n",
            "* * * \n",
            "* * * * \n",
            "* * * * * \n",
            "* * * * * * \n"
          ]
        }
      ]
    },
    {
      "cell_type": "markdown",
      "source": [
        "Input a string that contains a combination of lower and upper case letters. Write a program to arrange the characters of a string so that all lowercase letters should come first."
      ],
      "metadata": {
        "id": "sxaVuc0J0mz4"
      }
    },
    {
      "cell_type": "code",
      "source": [
        "name = input(\"input your name using both lowercase and uppercase :\")\n",
        "print('Original String:', name)\n",
        "lower = []\n",
        "upper = []\n",
        "for char in name:\n",
        "    if char.islower():\n",
        "        # add lowercase characters to lower list\n",
        "        lower.append(char)\n",
        "    else:\n",
        "        # add uppercase characters to lower list\n",
        "        upper.append(char)\n",
        "\n",
        "# Join both list\n",
        "sorted_str = ''.join(lower + upper)\n",
        "print('Result:', sorted_str)"
      ],
      "metadata": {
        "colab": {
          "base_uri": "https://localhost:8080/"
        },
        "id": "abLm6g9PygFy",
        "outputId": "f227fa1a-b17b-4474-918b-2a811152a339"
      },
      "execution_count": null,
      "outputs": [
        {
          "output_type": "stream",
          "name": "stdout",
          "text": [
            "input your name using both lowercase and uppercase :DEepA\n",
            "Original String: DEepA\n",
            "Result: epDEA\n"
          ]
        }
      ]
    },
    {
      "cell_type": "markdown",
      "source": [
        "Remove all occurances of a specific item from the list"
      ],
      "metadata": {
        "id": "-rmlJi5u3uPp"
      }
    },
    {
      "cell_type": "code",
      "source": [
        "list1 = [23, 20, 35, 20, 25, 60, 20]\n",
        "\n",
        "\n",
        "# remove specific items and return a new list\n",
        "def remove_value(sample_list, val):\n",
        "    return [i for i in sample_list if i != val]\n",
        "\n",
        "result = remove_value(list1, 20)\n",
        "print(result)\n"
      ],
      "metadata": {
        "colab": {
          "base_uri": "https://localhost:8080/"
        },
        "id": "PKnnCF9Y37Fv",
        "outputId": "5bf95ef6-e49c-453a-c1a3-901aa7ee3ac4"
      },
      "execution_count": null,
      "outputs": [
        {
          "output_type": "stream",
          "name": "stdout",
          "text": [
            "[23, 35, 25, 60]\n"
          ]
        }
      ]
    },
    {
      "cell_type": "markdown",
      "source": [
        "Number guessing game : Let the computer generate a random number between 1 and 9. Ask the user to guess the number and write the appropriate comments if he answers or doesnt answer correctly. Give 5 chances to the user to guess the correct number generated randomly"
      ],
      "metadata": {
        "id": "nj79kksVA75d"
      }
    },
    {
      "cell_type": "code",
      "source": [
        "import random # this module helps to generate random numbers\n",
        "\n",
        "print(\"Number guessing game\") #print the heading\n",
        "\n",
        "# randint function is used to generate the random integer number \n",
        "# generate a random number between 1 and 9\n",
        "\n",
        "number = random.randint(1, 9) \n",
        "\n",
        "# number of chances to be given to the user to guess the number.Initialise to 0\n",
        "\n",
        "chances = 0\n",
        "\n",
        "print(\"Guess a number (between 1 and 9):\")\n",
        "\n",
        "# While loop to count the number of chances (maximum chance allowed is 5)\n",
        "while chances < 5:\n",
        "\n",
        "    # Enter a number between 1 to 9\n",
        "\n",
        "    guess = int(input(\"Enter your guess:- \"))\n",
        "\n",
        "    # Compare the user entered number with the number to be guessed\n",
        "    \n",
        "    if guess == number:\n",
        "\n",
        "        # if number entered by user is same as the generated number by randint function then break from loop using loop control statement \"break\" after printing \"you won\"\n",
        "\n",
        "        print(\"Congratulation YOU WON!!!\")\n",
        "        break\n",
        "\n",
        "    # Check if the user entered number is smaller than the generated number\n",
        "    elif guess < number:\n",
        "        print(\"Your guess was too low: Guess a number higher than\", guess)\n",
        "\n",
        "    # The user entered number is greater than the generated number\n",
        "    else:\n",
        "        print(\"Your guess was too high: Guess a number lower than\", guess)\n",
        "\n",
        "    # Increase the value of chance by 1\n",
        "    chances += 1\n",
        "\n",
        "\n",
        "# if the user has exhausted the 5 chances print \"You lose\"\n",
        "if not chances < 5:\n",
        "    print(\"YOU LOSE!!! The number is\", number)\n"
      ],
      "metadata": {
        "colab": {
          "base_uri": "https://localhost:8080/"
        },
        "id": "aqNGB8MMBkHt",
        "outputId": "f35d2b54-9104-4222-d018-241143cd0741"
      },
      "execution_count": 1,
      "outputs": [
        {
          "output_type": "stream",
          "name": "stdout",
          "text": [
            "Number guessing game\n",
            "Guess a number (between 1 and 9):\n",
            "Enter your guess:- 3\n",
            "Your guess was too low: Guess a number higher than 3\n",
            "Enter your guess:- 5\n",
            "Congratulation YOU WON!!!\n"
          ]
        }
      ]
    },
    {
      "cell_type": "markdown",
      "source": [
        "Write a program that helps you practice  addition, subtraction, and multiplication using only the integers  0 to 10"
      ],
      "metadata": {
        "id": "vxY4quY3HjaK"
      }
    },
    {
      "cell_type": "code",
      "source": [
        "def addition():\n",
        "  num1=random.randint(0,10)\n",
        "  num2=random.randint(0,10)\n",
        "  print(f\"What is {num1} + {num2} ?\\n\")\n",
        "  ans=input(\"> \")\n",
        "  if int(ans)==num1+num2 :\n",
        "    print(\"Well done!!! Correct answer...keep on playing !! \\n\")\n",
        "    start_game()\n",
        "  else:\n",
        "    print(f\"Incorrect...the answer is {num1+num2}!! \\n\")\n",
        "    start_game()\n",
        "\n",
        "\n",
        "def subtraction():\n",
        "  num1=random.randint(0,10)\n",
        "  num2=random.randint(0,10)\n",
        "  if num2>num1:\n",
        "    temp=num1\n",
        "    num1=num2\n",
        "    num2=temp\n",
        "\n",
        "  print(f\"What is {num1} - {num2} ?\\n\")\n",
        "  ans=input(\"> \")\n",
        "  if int(ans)==num1-num2 :\n",
        "    print(\"Well done!!! Correct answer...keep on playing !! \\n\")\n",
        "    start_game()\n",
        "  else:\n",
        "    print(f\"Incorrect...the answer is {num1-num2}!! \\n\")\n",
        "    start_game()\n",
        "\n",
        "\n",
        "def multiplication():\n",
        "  num1=random.randint(0,10)\n",
        "  num2=random.randint(0,10)\n",
        "  print(f\"What is {num1} * {num2} ?\\n\")\n",
        "  ans=input(\"> \")\n",
        "  if int(ans)==num1*num2 :\n",
        "    print(\"Well done!!! Correct answer...keep on playing !! \\n\")\n",
        "    start_game()\n",
        "  else:\n",
        "    print(f\"Incorrect...the answer is {num1*num2}!! \\n\")\n",
        "    start_game()\n"
      ],
      "metadata": {
        "id": "7D-N9eoqJlmq"
      },
      "execution_count": 16,
      "outputs": []
    },
    {
      "cell_type": "code",
      "source": [
        "def start_game():\n",
        "  print(\"Lets practice Math and have fun \\n\")\n",
        "  print(\"What would you like to practice?\")\n",
        "  print(\"A - Addition\")\n",
        "  print(\"B - subtraction\")\n",
        "  print(\"C - Multiplication\")\n",
        "  print(\"D - Exit \\n\")\n",
        "\n",
        "  choice=input(\"Enter choice : \")\n",
        "  if choice==\"A\":\n",
        "    addition()\n",
        "  elif choice==\"B\":\n",
        "    subtraction()\n",
        "  elif choice==\"C\":\n",
        "    multiplication()\n",
        "  elif choice==\"D\":\n",
        "    print(\" Thank you for playing...You did really well!!!\")\n",
        "    return None\n",
        "  else:\n",
        "    print(\"Enter the correct choice \\n\")\n",
        "    start_game()\n",
        "\n",
        "\n",
        "start_game()"
      ],
      "metadata": {
        "colab": {
          "base_uri": "https://localhost:8080/"
        },
        "id": "1Y7nAjfBHo8a",
        "outputId": "ffef82a7-069b-4070-cf5d-eb383a042e7e"
      },
      "execution_count": 17,
      "outputs": [
        {
          "output_type": "stream",
          "name": "stdout",
          "text": [
            "Lets practice Math and have fun \n",
            "\n",
            "What would you like to practice?\n",
            "A - Addition\n",
            "B - subtraction\n",
            "C - Multiplication\n",
            "D - Exit \n",
            "\n",
            "Enter choice : A\n",
            "What is 3 + 2 ?\n",
            "\n",
            "> 5\n",
            "Well done!!! Correct answer...keep on playing !! \n",
            "\n",
            "Lets practice Math and have fun \n",
            "\n",
            "What would you like to practice?\n",
            "A - Addition\n",
            "B - subtraction\n",
            "C - Multiplication\n",
            "D - Exit \n",
            "\n",
            "Enter choice : B\n",
            "What is 7 - 6 ?\n",
            "\n",
            "> 3\n",
            "Incorrect...the answer is 1!! \n",
            "\n",
            "Lets practice Math and have fun \n",
            "\n",
            "What would you like to practice?\n",
            "A - Addition\n",
            "B - subtraction\n",
            "C - Multiplication\n",
            "D - Exit \n",
            "\n",
            "Enter choice : B\n",
            "What is 4 - 2 ?\n",
            "\n",
            "> 2\n",
            "Well done!!! Correct answer...keep on playing !! \n",
            "\n",
            "Lets practice Math and have fun \n",
            "\n",
            "What would you like to practice?\n",
            "A - Addition\n",
            "B - subtraction\n",
            "C - Multiplication\n",
            "D - Exit \n",
            "\n",
            "Enter choice : C\n",
            "What is 3 * 8 ?\n",
            "\n",
            "> 24\n",
            "Well done!!! Correct answer...keep on playing !! \n",
            "\n",
            "Lets practice Math and have fun \n",
            "\n",
            "What would you like to practice?\n",
            "A - Addition\n",
            "B - subtraction\n",
            "C - Multiplication\n",
            "D - Exit \n",
            "\n",
            "Enter choice : D\n",
            " Thank you for playing...You did really well!!!\n"
          ]
        }
      ]
    }
  ]
}