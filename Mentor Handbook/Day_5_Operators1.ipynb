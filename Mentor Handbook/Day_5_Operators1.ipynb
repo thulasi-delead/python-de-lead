{
 "cells": [
  {
   "cell_type": "markdown",
   "metadata": {
    "slideshow": {
     "slide_type": "slide"
    }
   },
   "source": [
    "# Index   \n",
    "\n",
    "\n",
    "- **Operators**   \n",
    "  1. **Arithmetic Operators**\n",
    "  2. **Assignemnt Operators**\n",
    "  3. **Comparison Operators**\n",
    "  4. **Logical Operators**\n",
    "  5. **Identity Operators**\n",
    "  6. **Membership Operators**\n",
    "  7. **Bitwise Operators**    \n",
    "  \n",
    "\n",
    "- **Activities**"
   ]
  },
  {
   "cell_type": "markdown",
   "metadata": {},
   "source": [
    "------"
   ]
  },
  {
   "cell_type": "markdown",
   "metadata": {},
   "source": [
    "<br>      \n",
    "<br>     "
   ]
  },
  {
   "cell_type": "markdown",
   "metadata": {
    "slideshow": {
     "slide_type": "slide"
    }
   },
   "source": [
    "# Operators\n",
    "#### Part I"
   ]
  },
  {
   "cell_type": "markdown",
   "metadata": {},
   "source": [
    "Operators are the basis for both control and management of data within the program.\n",
    "We use operators to define how one piece of data is compared to another or to modify the information within a variable.    \n",
    "An operator is capable of manipulating a certain value or operand.     \n",
    "Consider the expression  `2 + 7`, here 2 and 7 are called operands and `+` is called Operator.   \n",
    "When we perform certain operation on operands, we will get some output."
   ]
  },
  {
   "cell_type": "markdown",
   "metadata": {},
   "source": [
    "In Python operators can be classified as:\n",
    "\n",
    "1. Arithmetic operators\n",
    "2. Assignment operators\n",
    "3. Comparison operators\n",
    "4. Logical operators\n",
    "5. Identity operators\n",
    "6. Membership operators\n",
    "7. Bitwise operators"
   ]
  },
  {
   "cell_type": "markdown",
   "metadata": {},
   "source": [
    "Each of these categories performs a specific task.    \n",
    "For example, the arithmetic operators perform math-based tasks, while comparison operators perform comparisons among the variables/expressions.   \n",
    "Let us see each of the operators with example."
   ]
  },
  {
   "cell_type": "markdown",
   "metadata": {},
   "source": [
    "<br>     \n",
    "<br>      "
   ]
  },
  {
   "cell_type": "markdown",
   "metadata": {
    "slideshow": {
     "slide_type": "slide"
    }
   },
   "source": [
    "## 1. Arithmetic Operators\n",
    "\n",
    "- These are used with numeric values to perform mathematical operations\n",
    "\n",
    "```\n",
    "+ - Addition\n",
    "- - Subtraction\n",
    "/ - Division\n",
    "* - Multiplication\n",
    "% - Modulas\n",
    "** - Exponential\n",
    "// - Floor devision\n",
    "```"
   ]
  },
  {
   "cell_type": "markdown",
   "metadata": {},
   "source": [
    "<br>     "
   ]
  },
  {
   "cell_type": "markdown",
   "metadata": {},
   "source": [
    "#### Addition"
   ]
  },
  {
   "cell_type": "code",
   "execution_count": 3,
   "metadata": {},
   "outputs": [
    {
     "data": {
      "text/plain": [
       "50"
      ]
     },
     "execution_count": 3,
     "metadata": {},
     "output_type": "execute_result"
    }
   ],
   "source": [
    "20 + 30"
   ]
  },
  {
   "cell_type": "code",
   "execution_count": 2,
   "metadata": {},
   "outputs": [
    {
     "data": {
      "text/plain": [
       "19.57"
      ]
     },
     "execution_count": 2,
     "metadata": {},
     "output_type": "execute_result"
    }
   ],
   "source": [
    "10.5 + 9.07"
   ]
  },
  {
   "cell_type": "code",
   "execution_count": 4,
   "metadata": {},
   "outputs": [
    {
     "name": "stdout",
     "output_type": "stream",
     "text": [
      "40\n"
     ]
    }
   ],
   "source": [
    "x = 18\n",
    "y = 22\n",
    "print(x+y)"
   ]
  },
  {
   "cell_type": "code",
   "execution_count": 11,
   "metadata": {},
   "outputs": [
    {
     "name": "stdout",
     "output_type": "stream",
     "text": [
      "13.799999999999999\n"
     ]
    }
   ],
   "source": [
    "# adding floats\n",
    "print(12.2+1.6)"
   ]
  },
  {
   "cell_type": "code",
   "execution_count": 12,
   "metadata": {},
   "outputs": [
    {
     "name": "stdout",
     "output_type": "stream",
     "text": [
      "9.2\n"
     ]
    }
   ],
   "source": [
    "# adding float and integer\n",
    "print(6+3.2)"
   ]
  },
  {
   "cell_type": "code",
   "execution_count": 13,
   "metadata": {},
   "outputs": [
    {
     "name": "stdout",
     "output_type": "stream",
     "text": [
      "9\n"
     ]
    }
   ],
   "source": [
    "# adding three numbers\n",
    "print(1+2+6)"
   ]
  },
  {
   "cell_type": "code",
   "execution_count": 14,
   "metadata": {
    "scrolled": true
   },
   "outputs": [
    {
     "name": "stdout",
     "output_type": "stream",
     "text": [
      "Enter number1: 12\n",
      "Enter number2: 32\n",
      "44\n"
     ]
    }
   ],
   "source": [
    "# accept numbers using input() and add\n",
    "a = int(input(\"Enter number1: \"))\n",
    "b = int(input(\"Enter number2: \"))\n",
    "print(a+b)"
   ]
  },
  {
   "cell_type": "markdown",
   "metadata": {},
   "source": [
    "<br>     "
   ]
  },
  {
   "cell_type": "markdown",
   "metadata": {},
   "source": [
    "#### Subtraction"
   ]
  },
  {
   "cell_type": "code",
   "execution_count": 5,
   "metadata": {},
   "outputs": [
    {
     "data": {
      "text/plain": [
       "35"
      ]
     },
     "execution_count": 5,
     "metadata": {},
     "output_type": "execute_result"
    }
   ],
   "source": [
    "100 - 65"
   ]
  },
  {
   "cell_type": "code",
   "execution_count": 6,
   "metadata": {},
   "outputs": [
    {
     "data": {
      "text/plain": [
       "13.5"
      ]
     },
     "execution_count": 6,
     "metadata": {},
     "output_type": "execute_result"
    }
   ],
   "source": [
    "15.75 - 2.25"
   ]
  },
  {
   "cell_type": "code",
   "execution_count": 8,
   "metadata": {},
   "outputs": [
    {
     "name": "stdout",
     "output_type": "stream",
     "text": [
      "100\n"
     ]
    }
   ],
   "source": [
    "a = 123\n",
    "b = 23\n",
    "print(a-b)"
   ]
  },
  {
   "cell_type": "code",
   "execution_count": 15,
   "metadata": {},
   "outputs": [
    {
     "name": "stdout",
     "output_type": "stream",
     "text": [
      "5.5\n"
     ]
    }
   ],
   "source": [
    "# subtracting floats\n",
    "print(10.0-4.5)"
   ]
  },
  {
   "cell_type": "code",
   "execution_count": 16,
   "metadata": {},
   "outputs": [
    {
     "name": "stdout",
     "output_type": "stream",
     "text": [
      "5.5\n"
     ]
    }
   ],
   "source": [
    "# subtracting float and integer\n",
    "print(10-4.5)"
   ]
  },
  {
   "cell_type": "code",
   "execution_count": 17,
   "metadata": {},
   "outputs": [
    {
     "name": "stdout",
     "output_type": "stream",
     "text": [
      "Enter number1: 16\n",
      "Enter number2: 2\n",
      "14\n"
     ]
    }
   ],
   "source": [
    "# Accept numbers using input() and perform subtraction\n",
    "a = int(input(\"Enter number1: \"))\n",
    "b = int(input(\"Enter number2: \"))\n",
    "print(a-b)"
   ]
  },
  {
   "cell_type": "markdown",
   "metadata": {},
   "source": [
    "<br>     "
   ]
  },
  {
   "cell_type": "markdown",
   "metadata": {},
   "source": [
    "#### Multiplication"
   ]
  },
  {
   "cell_type": "code",
   "execution_count": 1,
   "metadata": {},
   "outputs": [
    {
     "data": {
      "text/plain": [
       "6"
      ]
     },
     "execution_count": 1,
     "metadata": {},
     "output_type": "execute_result"
    }
   ],
   "source": [
    "2*3"
   ]
  },
  {
   "cell_type": "code",
   "execution_count": 9,
   "metadata": {},
   "outputs": [
    {
     "data": {
      "text/plain": [
       "10"
      ]
     },
     "execution_count": 9,
     "metadata": {},
     "output_type": "execute_result"
    }
   ],
   "source": [
    "1*2*5"
   ]
  },
  {
   "cell_type": "code",
   "execution_count": 10,
   "metadata": {},
   "outputs": [
    {
     "name": "stdout",
     "output_type": "stream",
     "text": [
      "50\n"
     ]
    }
   ],
   "source": [
    "a = 10\n",
    "b = 5\n",
    "c = 1\n",
    "print(a*b*c)"
   ]
  },
  {
   "cell_type": "code",
   "execution_count": 18,
   "metadata": {},
   "outputs": [
    {
     "name": "stdout",
     "output_type": "stream",
     "text": [
      "Enter number1: 10\n",
      "Enter number2: 4\n",
      "40\n"
     ]
    }
   ],
   "source": [
    "# Accept two numbers and find the product of them\n",
    "a = int(input(\"Enter number1: \"))\n",
    "b = int(input(\"Enter number2: \"))\n",
    "print(a*b)"
   ]
  },
  {
   "cell_type": "code",
   "execution_count": 19,
   "metadata": {},
   "outputs": [
    {
     "name": "stdout",
     "output_type": "stream",
     "text": [
      "45.550999999999995\n"
     ]
    }
   ],
   "source": [
    "# multiplication of floats\n",
    "print(11.11*4.1)"
   ]
  },
  {
   "cell_type": "code",
   "execution_count": 20,
   "metadata": {},
   "outputs": [
    {
     "name": "stdout",
     "output_type": "stream",
     "text": [
      "61.5\n"
     ]
    }
   ],
   "source": [
    "# multiplication of float and integer\n",
    "print(20.5*3)"
   ]
  },
  {
   "cell_type": "markdown",
   "metadata": {},
   "source": [
    "<br>     "
   ]
  },
  {
   "cell_type": "markdown",
   "metadata": {},
   "source": [
    "#### Division"
   ]
  },
  {
   "cell_type": "code",
   "execution_count": 12,
   "metadata": {},
   "outputs": [
    {
     "data": {
      "text/plain": [
       "2.0"
      ]
     },
     "execution_count": 12,
     "metadata": {},
     "output_type": "execute_result"
    }
   ],
   "source": [
    "4/2"
   ]
  },
  {
   "cell_type": "code",
   "execution_count": 13,
   "metadata": {},
   "outputs": [
    {
     "data": {
      "text/plain": [
       "20.0"
      ]
     },
     "execution_count": 13,
     "metadata": {},
     "output_type": "execute_result"
    }
   ],
   "source": [
    "100/5"
   ]
  },
  {
   "cell_type": "code",
   "execution_count": 14,
   "metadata": {},
   "outputs": [
    {
     "data": {
      "text/plain": [
       "4.5"
      ]
     },
     "execution_count": 14,
     "metadata": {},
     "output_type": "execute_result"
    }
   ],
   "source": [
    "18/4"
   ]
  },
  {
   "cell_type": "code",
   "execution_count": 15,
   "metadata": {},
   "outputs": [
    {
     "data": {
      "text/plain": [
       "5.0"
      ]
     },
     "execution_count": 15,
     "metadata": {},
     "output_type": "execute_result"
    }
   ],
   "source": [
    "15/3"
   ]
  },
  {
   "cell_type": "markdown",
   "metadata": {},
   "source": [
    "<br>     "
   ]
  },
  {
   "cell_type": "markdown",
   "metadata": {},
   "source": [
    "<font color=brown>**Note:**</font>\n",
    "Whether the operands of division operator is int or float, result will always be float.   \n",
    "Then how can we make it integer?\n"
   ]
  },
  {
   "cell_type": "code",
   "execution_count": 22,
   "metadata": {},
   "outputs": [
    {
     "name": "stdout",
     "output_type": "stream",
     "text": [
      "4.0\n",
      "4\n"
     ]
    }
   ],
   "source": [
    "#use type conversion\n",
    "num1 = 16\n",
    "num2 = 4\n",
    "print(num1/num2)\n",
    "print(int(num1/num2))"
   ]
  },
  {
   "cell_type": "markdown",
   "metadata": {},
   "source": [
    "<br>     \n",
    "<br>      "
   ]
  },
  {
   "cell_type": "markdown",
   "metadata": {},
   "source": [
    "####  Floor Division"
   ]
  },
  {
   "cell_type": "code",
   "execution_count": 16,
   "metadata": {},
   "outputs": [
    {
     "data": {
      "text/plain": [
       "2"
      ]
     },
     "execution_count": 16,
     "metadata": {},
     "output_type": "execute_result"
    }
   ],
   "source": [
    "14//7"
   ]
  },
  {
   "cell_type": "code",
   "execution_count": 17,
   "metadata": {},
   "outputs": [
    {
     "data": {
      "text/plain": [
       "int"
      ]
     },
     "execution_count": 17,
     "metadata": {},
     "output_type": "execute_result"
    }
   ],
   "source": [
    "type(14//7)"
   ]
  },
  {
   "cell_type": "code",
   "execution_count": 18,
   "metadata": {},
   "outputs": [
    {
     "data": {
      "text/plain": [
       "5"
      ]
     },
     "execution_count": 18,
     "metadata": {},
     "output_type": "execute_result"
    }
   ],
   "source": [
    "16//3"
   ]
  },
  {
   "cell_type": "code",
   "execution_count": 19,
   "metadata": {
    "scrolled": true
   },
   "outputs": [
    {
     "name": "stdout",
     "output_type": "stream",
     "text": [
      "1.6666666666666667\n",
      "1\n",
      "6.875\n",
      "6\n",
      "6\n"
     ]
    }
   ],
   "source": [
    "print(15/9)\n",
    "print(15//9)\n",
    "print(55/8)\n",
    "print(int(55/8))\n",
    "print(55//8)"
   ]
  },
  {
   "cell_type": "code",
   "execution_count": null,
   "metadata": {},
   "outputs": [],
   "source": [
    "#Special Case Example\n",
    "a = 55.0\n",
    "b = 8\n",
    "print(a//b)"
   ]
  },
  {
   "cell_type": "markdown",
   "metadata": {},
   "source": [
    "**Explanantion:**   \n",
    "The above example can be considered as a special case of floor division operator. As we know floor division is used to perform integer division, so when we perform `55.0//8` we will get 6 as a result.\n",
    "But here one of the operands is float so the program controller will upgrade the final result also into `float` because float has higher storage capacity than integer. As a result we will get an output of `6.0` instead of `6`.  \n",
    "And this rule is applicable to all the arithmetic operators.   \n",
    "In general,  for any arithmetic operators if any one of the operand is `float` then the result will also be float.   "
   ]
  },
  {
   "cell_type": "markdown",
   "metadata": {},
   "source": [
    "<br>     "
   ]
  },
  {
   "cell_type": "markdown",
   "metadata": {},
   "source": [
    "#### Modulas Operator  \"%\"\n",
    "This gives the reminder of a division\n",
    "`a%b`\n",
    "- Here a is divided by b and the reminder is returned"
   ]
  },
  {
   "cell_type": "code",
   "execution_count": 25,
   "metadata": {},
   "outputs": [
    {
     "data": {
      "text/plain": [
       "0"
      ]
     },
     "execution_count": 25,
     "metadata": {},
     "output_type": "execute_result"
    }
   ],
   "source": [
    "15%5"
   ]
  },
  {
   "cell_type": "code",
   "execution_count": 27,
   "metadata": {},
   "outputs": [
    {
     "data": {
      "text/plain": [
       "2"
      ]
     },
     "execution_count": 27,
     "metadata": {},
     "output_type": "execute_result"
    }
   ],
   "source": [
    "14%3"
   ]
  },
  {
   "cell_type": "code",
   "execution_count": null,
   "metadata": {
    "slideshow": {
     "slide_type": "slide"
    }
   },
   "outputs": [],
   "source": [
    "a = 20\n",
    "b = 2\n",
    "a%b"
   ]
  },
  {
   "cell_type": "code",
   "execution_count": null,
   "metadata": {
    "slideshow": {
     "slide_type": "slide"
    }
   },
   "outputs": [],
   "source": [
    "a = 20\n",
    "b = 3\n",
    "a%b"
   ]
  },
  {
   "cell_type": "code",
   "execution_count": null,
   "metadata": {
    "slideshow": {
     "slide_type": "slide"
    }
   },
   "outputs": [],
   "source": [
    "# Understanding Modulas Operator\n",
    "a=20\n",
    "b=10\n",
    "print(a/b)\n",
    "print(a%b) # 20/10 -- remainder is 0"
   ]
  },
  {
   "cell_type": "markdown",
   "metadata": {},
   "source": [
    "<br>       "
   ]
  },
  {
   "cell_type": "markdown",
   "metadata": {},
   "source": [
    "#### Exponent Operator - **\n",
    "\n",
    "Denotes as a**b gives the output of a power b ( aᵇ )"
   ]
  },
  {
   "cell_type": "code",
   "execution_count": 28,
   "metadata": {},
   "outputs": [
    {
     "data": {
      "text/plain": [
       "4"
      ]
     },
     "execution_count": 28,
     "metadata": {},
     "output_type": "execute_result"
    }
   ],
   "source": [
    "2**2"
   ]
  },
  {
   "cell_type": "code",
   "execution_count": 30,
   "metadata": {},
   "outputs": [
    {
     "data": {
      "text/plain": [
       "49"
      ]
     },
     "execution_count": 30,
     "metadata": {},
     "output_type": "execute_result"
    }
   ],
   "source": [
    "7**2"
   ]
  },
  {
   "cell_type": "code",
   "execution_count": 31,
   "metadata": {},
   "outputs": [
    {
     "data": {
      "text/plain": [
       "125"
      ]
     },
     "execution_count": 31,
     "metadata": {},
     "output_type": "execute_result"
    }
   ],
   "source": [
    "5**3"
   ]
  },
  {
   "cell_type": "code",
   "execution_count": 32,
   "metadata": {},
   "outputs": [
    {
     "data": {
      "text/plain": [
       "-1"
      ]
     },
     "execution_count": 32,
     "metadata": {},
     "output_type": "execute_result"
    }
   ],
   "source": [
    "-1**3"
   ]
  },
  {
   "cell_type": "markdown",
   "metadata": {},
   "source": [
    "<br>     \n",
    "<br>      "
   ]
  },
  {
   "cell_type": "markdown",
   "metadata": {},
   "source": [
    "**<font color=Orange>Summary</font>**    \n",
    "\n",
    "Assume a = 15 and b = 2, then results of Arithemetic operations will be as follows:\n",
    "\n",
    "| Operator | Expression | Result |\n",
    "| ---- | ---- | ---- |\n",
    "| + | a+b | 17 |\n",
    "| - | a-b | 13\n",
    "| * | a\\*b  | 30 |\n",
    "| / | a/b | 7.5 |\n",
    "| // | a//b | 7 |\n",
    "| % | a%b | 1 |\n",
    "| \\*\\* | a\\*\\*b | 225 |\n",
    "\n",
    "\n"
   ]
  },
  {
   "cell_type": "markdown",
   "metadata": {},
   "source": [
    "<br>     \n",
    "<br>     "
   ]
  },
  {
   "cell_type": "markdown",
   "metadata": {},
   "source": [
    "**<font color=red>Question 1</font>**          \n",
    "Predict the output of following print statements:\n",
    "```\n",
    "   1. print(20/2)\n",
    "   2. print(1.0+2+3)\n",
    "   3. print(9//4.0)\n",
    "   4. print(3*3.0)\n",
    "   5. print(10//0)\n",
    "   6. print(2**3)\n",
    "   7. print(20%4)\n",
    "   8. print(20.0%4)\n",
    "```"
   ]
  },
  {
   "cell_type": "markdown",
   "metadata": {},
   "source": [
    "<br>     \n",
    "<br>     \n",
    "<br>    "
   ]
  },
  {
   "cell_type": "markdown",
   "metadata": {},
   "source": [
    "## 2. Assignment Operator\n",
    "These are the operators that place data within a variable.            \n",
    "Simplest example of assignment operator is `=`.     \n",
    "Assignment operators available in python are listed below:              \n",
    "```\n",
    "    =\n",
    "    +=\n",
    "    -=\n",
    "    *=\n",
    "    /=\n",
    "    %=\n",
    "    //=\n",
    "    **=\n",
    "    &=\n",
    "    |=\n",
    "    ^=\n",
    "    >>=\n",
    "    <<=\n",
    "```\n"
   ]
  },
  {
   "cell_type": "markdown",
   "metadata": {},
   "source": [
    "<br>       "
   ]
  },
  {
   "cell_type": "markdown",
   "metadata": {},
   "source": [
    "**=**"
   ]
  },
  {
   "cell_type": "code",
   "execution_count": null,
   "metadata": {},
   "outputs": [],
   "source": [
    "a = 20\n",
    "print(a)"
   ]
  },
  {
   "cell_type": "code",
   "execution_count": 33,
   "metadata": {},
   "outputs": [
    {
     "name": "stdout",
     "output_type": "stream",
     "text": [
      "10 20 30 -10\n"
     ]
    }
   ],
   "source": [
    "a = 10\n",
    "b = 20\n",
    "c = a+b\n",
    "d = a-b\n",
    "print(a,b,c,d)"
   ]
  },
  {
   "cell_type": "markdown",
   "metadata": {},
   "source": [
    "<br>       "
   ]
  },
  {
   "cell_type": "markdown",
   "metadata": {},
   "source": [
    "**+=**\n",
    "```\n",
    "   L.H.S += R.H.S Means   \n",
    "   L.H.S = L.H.S + R.H.S\n",
    "```"
   ]
  },
  {
   "cell_type": "code",
   "execution_count": 35,
   "metadata": {},
   "outputs": [
    {
     "name": "stdout",
     "output_type": "stream",
     "text": [
      "10\n",
      "11\n"
     ]
    }
   ],
   "source": [
    "#example 1 for +=\n",
    "a = 10\n",
    "print(a)\n",
    "a+=1 \n",
    "# a = a+1\n",
    "print(a)"
   ]
  },
  {
   "cell_type": "code",
   "execution_count": 23,
   "metadata": {},
   "outputs": [
    {
     "name": "stdout",
     "output_type": "stream",
     "text": [
      "0\n",
      "5\n"
     ]
    }
   ],
   "source": [
    "# example 2 fro +=\n",
    "x = 0\n",
    "print(x)\n",
    "x += 5\n",
    "print(x)"
   ]
  },
  {
   "cell_type": "markdown",
   "metadata": {},
   "source": [
    "<br>       "
   ]
  },
  {
   "cell_type": "markdown",
   "metadata": {},
   "source": [
    "**-=**\n",
    "```\n",
    "   L.H.S -= R.H.S Means   \n",
    "   L.H.S = L.H.S - R.H.S\n",
    "```"
   ]
  },
  {
   "cell_type": "code",
   "execution_count": 37,
   "metadata": {},
   "outputs": [
    {
     "name": "stdout",
     "output_type": "stream",
     "text": [
      "10\n",
      "9\n"
     ]
    }
   ],
   "source": [
    "# exmaple 1 for -=\n",
    "a =10\n",
    "print(a)\n",
    "a-=1 \n",
    "# a = a - 1\n",
    "print(a)"
   ]
  },
  {
   "cell_type": "code",
   "execution_count": 24,
   "metadata": {},
   "outputs": [
    {
     "name": "stdout",
     "output_type": "stream",
     "text": [
      "20\n",
      "18\n"
     ]
    }
   ],
   "source": [
    "# example 2 for -=\n",
    "x = 20\n",
    "print(x)\n",
    "x -= 2\n",
    "print(x)"
   ]
  },
  {
   "cell_type": "markdown",
   "metadata": {},
   "source": [
    "<br>       "
   ]
  },
  {
   "cell_type": "markdown",
   "metadata": {},
   "source": [
    "***=**"
   ]
  },
  {
   "cell_type": "code",
   "execution_count": 38,
   "metadata": {},
   "outputs": [
    {
     "name": "stdout",
     "output_type": "stream",
     "text": [
      "10\n",
      "20\n"
     ]
    }
   ],
   "source": [
    "a = 10\n",
    "print(a)\n",
    "a*=2\n",
    "# a=a*2\n",
    "print(a)"
   ]
  },
  {
   "cell_type": "code",
   "execution_count": 25,
   "metadata": {},
   "outputs": [
    {
     "name": "stdout",
     "output_type": "stream",
     "text": [
      "5\n",
      "10\n"
     ]
    }
   ],
   "source": [
    "x = 5\n",
    "print(x)\n",
    "x*=2\n",
    "\n",
    "print(x)"
   ]
  },
  {
   "cell_type": "markdown",
   "metadata": {},
   "source": [
    "<br>       "
   ]
  },
  {
   "cell_type": "markdown",
   "metadata": {},
   "source": [
    "**/=**\n"
   ]
  },
  {
   "cell_type": "code",
   "execution_count": 40,
   "metadata": {},
   "outputs": [
    {
     "name": "stdout",
     "output_type": "stream",
     "text": [
      "10\n",
      "5.0\n"
     ]
    }
   ],
   "source": [
    "a = 10\n",
    "print(a)\n",
    "a/=2\n",
    "# a=a/2\n",
    "print(a)"
   ]
  },
  {
   "cell_type": "markdown",
   "metadata": {},
   "source": [
    "<br>       "
   ]
  },
  {
   "cell_type": "markdown",
   "metadata": {},
   "source": [
    "**%=**"
   ]
  },
  {
   "cell_type": "code",
   "execution_count": 39,
   "metadata": {},
   "outputs": [
    {
     "name": "stdout",
     "output_type": "stream",
     "text": [
      "10\n",
      "0\n"
     ]
    }
   ],
   "source": [
    "a = 10\n",
    "print(a)\n",
    "a%=2\n",
    "a=a%2\n",
    "print(a)"
   ]
  },
  {
   "cell_type": "markdown",
   "metadata": {},
   "source": [
    "<br>       "
   ]
  },
  {
   "cell_type": "markdown",
   "metadata": {},
   "source": [
    "**//=**"
   ]
  },
  {
   "cell_type": "code",
   "execution_count": 41,
   "metadata": {},
   "outputs": [
    {
     "name": "stdout",
     "output_type": "stream",
     "text": [
      "10\n",
      "3\n"
     ]
    }
   ],
   "source": [
    "a = 10\n",
    "print(a)\n",
    "a//=3\n",
    "# a=a//3\n",
    "print(a)"
   ]
  },
  {
   "cell_type": "markdown",
   "metadata": {},
   "source": [
    "<br>     "
   ]
  },
  {
   "cell_type": "markdown",
   "metadata": {},
   "source": [
    "****=**"
   ]
  },
  {
   "cell_type": "code",
   "execution_count": 42,
   "metadata": {},
   "outputs": [
    {
     "name": "stdout",
     "output_type": "stream",
     "text": [
      "10\n",
      "100\n"
     ]
    }
   ],
   "source": [
    "a=10\n",
    "print(a)\n",
    "a**=2\n",
    "#a=a**5\n",
    "print(a)\n"
   ]
  },
  {
   "cell_type": "markdown",
   "metadata": {},
   "source": [
    "<br>     \n",
    "<br>     "
   ]
  },
  {
   "cell_type": "markdown",
   "metadata": {},
   "source": [
    "**<font color=red>Question 2</font>**          \n",
    "Predict the output of the following code snippet      \n",
    "```     \n",
    "    x = 5    \n",
    "    x **=3    \n",
    "    print(x)    \n",
    "```    "
   ]
  },
  {
   "cell_type": "code",
   "execution_count": 7,
   "metadata": {},
   "outputs": [
    {
     "name": "stdout",
     "output_type": "stream",
     "text": [
      "125\n"
     ]
    }
   ],
   "source": [
    "#code for question 2\n",
    "x = 5\n",
    "x **=3\n",
    "print(x)"
   ]
  },
  {
   "cell_type": "markdown",
   "metadata": {},
   "source": [
    "<br>     \n",
    "<br>     "
   ]
  },
  {
   "cell_type": "markdown",
   "metadata": {},
   "source": [
    "**<font color=red>Question 3</font>**          \n",
    "Accept two numbers from user say **X** and **Y**; perform **X** divided by **Y** and print quotient and remainder as integers.     "
   ]
  },
  {
   "cell_type": "code",
   "execution_count": 8,
   "metadata": {},
   "outputs": [
    {
     "name": "stdout",
     "output_type": "stream",
     "text": [
      "Enter a number:13\n",
      "Enter a number:3\n",
      "quotient=  4\n",
      "remainder=  1\n"
     ]
    }
   ],
   "source": [
    "#code for question 3\n",
    "x = int(input(\"Enter a number:\"))\n",
    "y = int(input(\"Enter a number:\"))\n",
    "quotient = x//y\n",
    "remainder = x%y\n",
    "print(\"quotient= \",quotient)\n",
    "print(\"remainder= \",remainder)\n"
   ]
  },
  {
   "cell_type": "markdown",
   "metadata": {},
   "source": [
    "<br>     \n",
    "<br>     "
   ]
  },
  {
   "cell_type": "markdown",
   "metadata": {},
   "source": [
    "**<font color=red>Question 4</font>**             \n",
    "Predict the output of the following code snippet        \n",
    "```     \n",
    "    A = 10   \n",
    "    A **= 2     \n",
    "    A /= 5     \n",
    "    A %= 2     \n",
    "    print(A)     \n",
    "```     "
   ]
  },
  {
   "cell_type": "code",
   "execution_count": 9,
   "metadata": {},
   "outputs": [
    {
     "name": "stdout",
     "output_type": "stream",
     "text": [
      "0.0\n"
     ]
    }
   ],
   "source": [
    "#code for question 4\n",
    "A = 10\n",
    "A **= 2 \n",
    "A /= 5\n",
    "A %= 2\n",
    "print(A)"
   ]
  },
  {
   "cell_type": "markdown",
   "metadata": {},
   "source": [
    "<br>     \n",
    "<br>     "
   ]
  },
  {
   "cell_type": "markdown",
   "metadata": {},
   "source": [
    "**<font color=orange>Summary:</font>**       \n",
    "Assume variable **a** having value **10** and variable **b** having value **5**, Then\n",
    "\n",
    "| Operator | Expression | Description | Result |\n",
    "| ----- | ----- | ----- | ----- |\n",
    "| = | c=a+b | Assign value from R.H.S to L.H.S| c=15\n",
    "| += | a+=2 | Add R.H.S to L.H.S and Assign to L.H.S | a=10+2, i.e a=12\n",
    "| -= | a-=2 | Subtract R.H.S to L.H.S and Assign to L.H.S | a=10-2, i.e a=8\n",
    "| \\*= | a\\*=2 | Multiply R.H.S to L.H.S and Assign to L.H.S | a=10\\*2, i.e a=20\n",
    "| /= | a/=2 | Divide L.H.S by R.H.S and Assign to L.H.S | a=10/2, i.e a=5.0\n",
    "| %= | a%=2 | Divide L.H.S by R.H.S and Assign remainder to L.H.S | a=10%2, i.e a=0\n",
    "| \\*\\*= | a\\*\\*=2 | Find L.H.S to the power of R.H.S and Assign to L.H.S | a=10**2, i.e a=100     \n"
   ]
  },
  {
   "cell_type": "markdown",
   "metadata": {},
   "source": [
    "<br>     \n",
    "<br>     "
   ]
  },
  {
   "cell_type": "markdown",
   "metadata": {},
   "source": [
    "## 3. Comparison Operator or Relational Operator      \n",
    "\n",
    "The relational operators compare one value to another and tells you when the relationship you’ve provided is True or False.     These operators compares the values of either side on them and decide the relation between them.           \n",
    "They have a bool return type:             \n",
    "   - Return True:  When the condition is True.       \n",
    "   - Return False: When the condition is False.            \n",
    "\n",
    "Some of the comparison operators are given below:         \n",
    "\n",
    "\n",
    "```\n",
    "    == :: Compares if LHS is equal to RHS    \n",
    "\n",
    "    != :: Checks if LHS Not equal to RHS     \n",
    "\n",
    "    > :: Checks if LHS is greater than RHS    \n",
    "\n",
    "    < :: Checks if LHS is lower than RHS     \n",
    "\n",
    "    >= :: Checks if LHS is greater than or equal to RHS    \n",
    "\n",
    "    <= :: Checks if LHS is lower than or equal to RHS     \n",
    "\n",
    "```"
   ]
  },
  {
   "cell_type": "code",
   "execution_count": 51,
   "metadata": {},
   "outputs": [
    {
     "name": "stdout",
     "output_type": "stream",
     "text": [
      "False\n"
     ]
    }
   ],
   "source": [
    "print(10==20)"
   ]
  },
  {
   "cell_type": "code",
   "execution_count": 52,
   "metadata": {},
   "outputs": [
    {
     "name": "stdout",
     "output_type": "stream",
     "text": [
      "True\n"
     ]
    }
   ],
   "source": [
    "print(10==10.0)"
   ]
  },
  {
   "cell_type": "code",
   "execution_count": 53,
   "metadata": {},
   "outputs": [
    {
     "name": "stdout",
     "output_type": "stream",
     "text": [
      "False\n"
     ]
    }
   ],
   "source": [
    "print('a'=='A')"
   ]
  },
  {
   "cell_type": "code",
   "execution_count": 54,
   "metadata": {},
   "outputs": [
    {
     "name": "stdout",
     "output_type": "stream",
     "text": [
      "True\n"
     ]
    }
   ],
   "source": [
    "print('a'=='a')"
   ]
  },
  {
   "cell_type": "code",
   "execution_count": 55,
   "metadata": {},
   "outputs": [
    {
     "name": "stdout",
     "output_type": "stream",
     "text": [
      "False\n",
      "True\n",
      "False\n"
     ]
    }
   ],
   "source": [
    "a =20\n",
    "b = 30\n",
    "print(a==b)\n",
    "print(a==20)\n",
    "print(b==20)"
   ]
  },
  {
   "cell_type": "code",
   "execution_count": 13,
   "metadata": {
    "slideshow": {
     "slide_type": "slide"
    }
   },
   "outputs": [
    {
     "data": {
      "text/plain": [
       "True"
      ]
     },
     "execution_count": 13,
     "metadata": {},
     "output_type": "execute_result"
    }
   ],
   "source": [
    "x = 20\n",
    "y = 10\n",
    "x>y"
   ]
  },
  {
   "cell_type": "code",
   "execution_count": 10,
   "metadata": {
    "slideshow": {
     "slide_type": "slide"
    }
   },
   "outputs": [
    {
     "data": {
      "text/plain": [
       "True"
      ]
     },
     "execution_count": 10,
     "metadata": {},
     "output_type": "execute_result"
    }
   ],
   "source": [
    "x=1\n",
    "y=5\n",
    "x<y"
   ]
  },
  {
   "cell_type": "code",
   "execution_count": 9,
   "metadata": {
    "slideshow": {
     "slide_type": "slide"
    }
   },
   "outputs": [
    {
     "data": {
      "text/plain": [
       "True"
      ]
     },
     "execution_count": 9,
     "metadata": {},
     "output_type": "execute_result"
    }
   ],
   "source": [
    "x = 10\n",
    "x == 10"
   ]
  },
  {
   "cell_type": "code",
   "execution_count": 11,
   "metadata": {
    "slideshow": {
     "slide_type": "slide"
    }
   },
   "outputs": [
    {
     "data": {
      "text/plain": [
       "True"
      ]
     },
     "execution_count": 11,
     "metadata": {},
     "output_type": "execute_result"
    }
   ],
   "source": [
    "x=10\n",
    "x!=100"
   ]
  },
  {
   "cell_type": "code",
   "execution_count": 12,
   "metadata": {},
   "outputs": [
    {
     "data": {
      "text/plain": [
       "True"
      ]
     },
     "execution_count": 12,
     "metadata": {},
     "output_type": "execute_result"
    }
   ],
   "source": [
    "x=10\n",
    "x>=10"
   ]
  },
  {
   "cell_type": "code",
   "execution_count": 13,
   "metadata": {},
   "outputs": [
    {
     "data": {
      "text/plain": [
       "True"
      ]
     },
     "execution_count": 13,
     "metadata": {},
     "output_type": "execute_result"
    }
   ],
   "source": [
    "x=10\n",
    "x<=10"
   ]
  },
  {
   "cell_type": "code",
   "execution_count": null,
   "metadata": {
    "slideshow": {
     "slide_type": "slide"
    }
   },
   "outputs": [],
   "source": [
    "x =100\n",
    "y =10\n",
    "x <= y"
   ]
  },
  {
   "cell_type": "code",
   "execution_count": null,
   "metadata": {
    "slideshow": {
     "slide_type": "slide"
    }
   },
   "outputs": [],
   "source": [
    "x>=y"
   ]
  },
  {
   "cell_type": "code",
   "execution_count": null,
   "metadata": {
    "slideshow": {
     "slide_type": "slide"
    }
   },
   "outputs": [],
   "source": [
    "# not equal to\n",
    "x=100\n",
    "y=10\n",
    "x != y"
   ]
  },
  {
   "cell_type": "markdown",
   "metadata": {},
   "source": [
    "<br>     \n",
    "<br>     "
   ]
  },
  {
   "cell_type": "markdown",
   "metadata": {},
   "source": [
    "**<font color=Orange>Summary:</font>**    \n",
    "\n",
    "Assume **a=8, b=6 and c=8,** then results of Arithemetic operations will be as follows:\n",
    "\n",
    "| Operator | Description | Example |\n",
    "| ----- | ----- | ----- |\n",
    "| == | True, only when L.H.S equals R.H.S              | a==c, gives True |\n",
    "| != | True, only when L.H.S not equals R.H.S          | a!=b, gives True |\n",
    "| <  | True, when L.H.S less than R.H.S                | b<a, gives True |\n",
    "| >  | True, when L.H.S greater than R.H.S             | a>b, gives True |\n",
    "| <= | True, when L.H.S less than or equal to R.H.S    | a<=c, gives True |\n",
    "| >= | True, when L.H.S greater than or equal to R.H.S | a>=b, gives True |\n",
    "\n"
   ]
  },
  {
   "cell_type": "markdown",
   "metadata": {},
   "source": [
    "<br>     \n",
    "<br>     "
   ]
  },
  {
   "cell_type": "markdown",
   "metadata": {
    "slideshow": {
     "slide_type": "slide"
    }
   },
   "source": [
    "**<font color=red>Question 5</font>**      \n",
    "Predict the output of the following code snippet         \n",
    "```\n",
    "    x=10\n",
    "    y=100\n",
    "    print(\"1. checking if x is equal to y:\",x is y)\n",
    "    print(\"2. checking if x is not equal to y:\", x is not y)\n",
    "    print(\"3. checking if x is not equal to y:\", x!=y)\n",
    "    print(\"4. checking if x is less than y:\",x<y)\n",
    "    print(\"5. checking if x is Greater than y:\",x>y)\n",
    "    print(\"6. checking if x is equal to or less than y:\",x<=y)\n",
    "    print(\"7. checking if x is equal to or greater than y:\",x>=y)\n",
    "```"
   ]
  },
  {
   "cell_type": "code",
   "execution_count": 10,
   "metadata": {},
   "outputs": [
    {
     "name": "stdout",
     "output_type": "stream",
     "text": [
      "1. checking if x is equal to y: False\n",
      "2. checking if x is not equal to y: True\n",
      "3. checking if x is not equal to y: True\n",
      "4. checking if x is less than y: True\n",
      "5. checking if x is Greater than y: False\n",
      "6. checking if x is equal to or less than y: True\n",
      "7. checking if x is equal to or greater than y: False\n"
     ]
    }
   ],
   "source": [
    "#Code for question 5\n",
    "x=10\n",
    "y=100\n",
    "print(\"1. checking if x is equal to y:\",x is y)\n",
    "print(\"2. checking if x is not equal to y:\", x is not y)\n",
    "print(\"3. checking if x is not equal to y:\", x!=y)\n",
    "print(\"4. checking if x is less than y:\",x<y)\n",
    "print(\"5. checking if x is Greater than y:\",x>y)\n",
    "print(\"6. checking if x is equal to or less than y:\",x<=y)\n",
    "print(\"7. checking if x is equal to or greater than y:\",x>=y)"
   ]
  },
  {
   "cell_type": "markdown",
   "metadata": {},
   "source": [
    "----"
   ]
  },
  {
   "cell_type": "markdown",
   "metadata": {},
   "source": [
    "<br>     \n",
    "<br>    "
   ]
  },
  {
   "cell_type": "markdown",
   "metadata": {},
   "source": [
    "# <font color=blue>ACTIVITIES</font>"
   ]
  },
  {
   "cell_type": "markdown",
   "metadata": {},
   "source": [
    "<br>     "
   ]
  },
  {
   "cell_type": "markdown",
   "metadata": {},
   "source": [
    "**<font color=Green>Light</font>**     "
   ]
  },
  {
   "cell_type": "markdown",
   "metadata": {},
   "source": [
    "1. Accept two numbers from user and then find sum, difference, product, quotient and remainder of them.   \n",
    "\n",
    "\n",
    "\n",
    "2. Accept the measurement of length and breadth of a rectangle from user. Then print its area.   \n",
    "   **<font color=Grey>Hint:</font>**         \n",
    "```\n",
    "   area of rectangle = length x breadth\n",
    "```\n",
    "\n",
    "\n",
    "\n",
    "3. Consider the following code snippet; Correct the expressions written inside the print statments, to get all the output as True.   \n",
    "```\n",
    "   p = 'A'\n",
    "   q = 'a'\n",
    "   a = 11\n",
    "   b = 7\n",
    "   c = 11.0\n",
    "   print(p == q)\n",
    "   print(a == c)\n",
    "   print(c > a)\n",
    "   print(b <= a)\n",
    "   print( (a+b) <= 15 )\n",
    "```\n",
    "\n"
   ]
  },
  {
   "cell_type": "markdown",
   "metadata": {},
   "source": [
    "<br>     \n",
    "<br>    "
   ]
  },
  {
   "cell_type": "markdown",
   "metadata": {},
   "source": [
    "**<font color=Purple>Moderate</font>**     "
   ]
  },
  {
   "cell_type": "markdown",
   "metadata": {},
   "source": [
    "4. Accept atemperature value from user which is in Celsius. Convert it into Fahreheit and print the Corresponsing Fahrenheit temperature.      \n",
    "   **<font color=Grey>Hint:</font>**       \n",
    "```\n",
    "   F = Cx(9/5) + 32   \n",
    "   Where C is the temperature value in celsius and F is temperature value in Fahrenheit\n",
    "   \n",
    "```\n"
   ]
  },
  {
   "cell_type": "markdown",
   "metadata": {},
   "source": [
    "5. John wants to find the square of a number and he wrote the following code. But it has some erors. Find the error and fix them to get the desired output.    \n",
    "```\n",
    "   num = input(\"Enter a number\")\n",
    "   square = num**num\n",
    "   print(\"square of \",num,\" = \",square)\n",
    "```    \n",
    "\n",
    "   **<font color=Grey>Expected Output:</font>**         \n",
    "```\n",
    "   Enter a number: 10\n",
    "   square of 10 = 100\n",
    "```"
   ]
  },
  {
   "cell_type": "markdown",
   "metadata": {},
   "source": [
    "<br>     \n",
    "<br>    "
   ]
  },
  {
   "cell_type": "markdown",
   "metadata": {},
   "source": [
    "**<font color=Crimson>Complex</font>**      "
   ]
  },
  {
   "cell_type": "markdown",
   "metadata": {},
   "source": [
    "6. Accept a number from user and find the square root of the number entered.   \n",
    "\n",
    "\n",
    "7. Accept a number from user; Then find its floor value and ceil value.    \n",
    "\n",
    "   **<font color=Grey>Expected Output:</font>**      \n",
    "```\n",
    "   Enter a floating point number: 12.7\n",
    "   Floor value = 12\n",
    "   Ceil value = 13\n",
    "```\n"
   ]
  },
  {
   "cell_type": "markdown",
   "metadata": {},
   "source": [
    "----"
   ]
  },
  {
   "cell_type": "markdown",
   "metadata": {},
   "source": [
    "<br>          "
   ]
  },
  {
   "cell_type": "markdown",
   "metadata": {},
   "source": [
    "# Answers"
   ]
  },
  {
   "cell_type": "code",
   "execution_count": 1,
   "metadata": {},
   "outputs": [
    {
     "name": "stdout",
     "output_type": "stream",
     "text": [
      "Enter number1: 15\n",
      "Enter number2: 12\n",
      "Sum= 27\n",
      "Difference= 3\n",
      "Product= 180\n",
      "Quotient= 1\n",
      "Remainder= 3\n"
     ]
    }
   ],
   "source": [
    "# Activity 1\n",
    "#------------\n",
    "\n",
    "a = int(input(\"Enter number1: \"))\n",
    "b = int(input(\"Enter number2: \"))\n",
    "\n",
    "sum = a+b\n",
    "difference = a-b\n",
    "product = a*b\n",
    "quotient = a//b\n",
    "remainder = a%b\n",
    "\n",
    "print(\"Sum=\",sum)\n",
    "print(\"Difference=\",difference)\n",
    "print(\"Product=\",product)\n",
    "print(\"Quotient=\",quotient)\n",
    "print(\"Remainder=\",remainder)"
   ]
  },
  {
   "cell_type": "markdown",
   "metadata": {},
   "source": [
    "<br>          "
   ]
  },
  {
   "cell_type": "code",
   "execution_count": 2,
   "metadata": {},
   "outputs": [
    {
     "name": "stdout",
     "output_type": "stream",
     "text": [
      "Enter the length of the rectangle: 6\n",
      "Enter the breadth of the rectangle: 8\n",
      "Area of rectangle = 48.0\n"
     ]
    }
   ],
   "source": [
    "# Activity 2\n",
    "#------------\n",
    "l = float(input(\"Enter the length of the rectangle: \"))\n",
    "b = float(input(\"Enter the breadth of the rectangle: \"))\n",
    "\n",
    "area = l*b\n",
    "print(\"Area of rectangle =\",area)"
   ]
  },
  {
   "cell_type": "markdown",
   "metadata": {},
   "source": [
    "<br>          "
   ]
  },
  {
   "cell_type": "code",
   "execution_count": 3,
   "metadata": {},
   "outputs": [
    {
     "name": "stdout",
     "output_type": "stream",
     "text": [
      "True\n",
      "True\n",
      "True\n",
      "True\n",
      "True\n"
     ]
    }
   ],
   "source": [
    "# Activity 3\n",
    "#------------\n",
    "\n",
    "p = 'A'\n",
    "q = 'a'\n",
    "a = 11\n",
    "b = 7\n",
    "c = 11.0\n",
    "print(p != q)\n",
    "print(a == c)\n",
    "print(c >= a)\n",
    "print(b <= a)\n",
    "print( (a+b) >= 15 )"
   ]
  },
  {
   "cell_type": "markdown",
   "metadata": {},
   "source": [
    "<br>          "
   ]
  },
  {
   "cell_type": "code",
   "execution_count": 4,
   "metadata": {},
   "outputs": [
    {
     "name": "stdout",
     "output_type": "stream",
     "text": [
      "Enter temperature value in celsius: 37\n",
      "37.0 degree celsius = 98.6 degree fahrenheit\n"
     ]
    }
   ],
   "source": [
    "# Activity 4\n",
    "#------------\n",
    "\n",
    "C = float(input(\"Enter temperature value in celsius: \"))\n",
    "F = C*9/5 + 32   \n",
    "print(C,\"degree celsius =\",F,\"degree fahrenheit\")"
   ]
  },
  {
   "cell_type": "markdown",
   "metadata": {},
   "source": [
    "<br>          "
   ]
  },
  {
   "cell_type": "code",
   "execution_count": 5,
   "metadata": {},
   "outputs": [
    {
     "name": "stdout",
     "output_type": "stream",
     "text": [
      "Enter a number: 5\n",
      "square of  5  =  25\n"
     ]
    }
   ],
   "source": [
    "# Activity 5\n",
    "#------------\n",
    "\n",
    "num = int(input(\"Enter a number: \"))\n",
    "square = num**2\n",
    "print(\"square of \",num,\" = \",square)\n"
   ]
  },
  {
   "cell_type": "markdown",
   "metadata": {},
   "source": [
    "<br>          "
   ]
  },
  {
   "cell_type": "code",
   "execution_count": 6,
   "metadata": {},
   "outputs": [
    {
     "name": "stdout",
     "output_type": "stream",
     "text": [
      "Enter a number: 16\n",
      "square root of  16  =  4.0\n"
     ]
    }
   ],
   "source": [
    "# Activity 6\n",
    "#------------\n",
    "\n",
    "num = int(input(\"Enter a number: \"))\n",
    "square_root = num**(1/2)\n",
    "print(\"square root of \",num,\" = \",square_root)"
   ]
  },
  {
   "cell_type": "markdown",
   "metadata": {},
   "source": [
    "<br>          "
   ]
  },
  {
   "cell_type": "code",
   "execution_count": 7,
   "metadata": {},
   "outputs": [
    {
     "name": "stdout",
     "output_type": "stream",
     "text": [
      "Enter a floating point number: 4.765\n",
      "Floor value = 4\n",
      "Ceil value = 5\n"
     ]
    }
   ],
   "source": [
    "# Activity 7\n",
    "#------------\n",
    "\n",
    "num = float(input(\"Enter a floating point number: \"))\n",
    "floor = int(num)\n",
    "ceil = floor+1\n",
    "\n",
    "print('Floor value =',floor)\n",
    "print('Ceil value =',ceil)"
   ]
  },
  {
   "cell_type": "markdown",
   "metadata": {},
   "source": [
    "<br>          "
   ]
  },
  {
   "cell_type": "markdown",
   "metadata": {},
   "source": [
    "-------"
   ]
  }
 ],
 "metadata": {
  "kernelspec": {
   "display_name": "Python 3",
   "language": "python",
   "name": "python3"
  },
  "language_info": {
   "codemirror_mode": {
    "name": "ipython",
    "version": 3
   },
   "file_extension": ".py",
   "mimetype": "text/x-python",
   "name": "python",
   "nbconvert_exporter": "python",
   "pygments_lexer": "ipython3",
   "version": "3.8.3"
  }
 },
 "nbformat": 4,
 "nbformat_minor": 4
}
