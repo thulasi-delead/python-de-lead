{
 "cells": [
  {
   "cell_type": "markdown",
   "metadata": {},
   "source": [
    "## Index\n",
    "\n",
    "- **Getting input from user**   \n",
    "    - input() method     \n",
    "    - Type of input data.     \n",
    "\n",
    "\n",
    "- **Type Conversions**\n",
    "    - int()\n",
    "    - float()\n",
    "    - str()\n",
    "    - bool()\n",
    "\n",
    "\n",
    "- **Activities**\n",
    "\n",
    "---"
   ]
  },
  {
   "cell_type": "markdown",
   "metadata": {},
   "source": [
    "<br>      \n",
    "<br>        "
   ]
  },
  {
   "cell_type": "markdown",
   "metadata": {
    "slideshow": {
     "slide_type": "slide"
    }
   },
   "source": [
    "## Getting Input from user"
   ]
  },
  {
   "cell_type": "markdown",
   "metadata": {},
   "source": [
    "- `input([prompt])` function reads one line from standard input and returns it as a string. \n",
    "- You can also write some prompt message in `input()` function while waiting for user input"
   ]
  },
  {
   "cell_type": "markdown",
   "metadata": {
    "slideshow": {
     "slide_type": "slide"
    }
   },
   "source": [
    "### Syntax \n",
    "*for getting input from user*\n",
    "\n",
    "```\n",
    "input()\n",
    "input(\"Text to be seen by user\")\n",
    "```"
   ]
  },
  {
   "cell_type": "code",
   "execution_count": 1,
   "metadata": {
    "slideshow": {
     "slide_type": "slide"
    }
   },
   "outputs": [
    {
     "name": "stdout",
     "output_type": "stream",
     "text": [
      "Text to be seen by user:abcdefgh\n",
      "12345678\n"
     ]
    },
    {
     "data": {
      "text/plain": [
       "'12345678'"
      ]
     },
     "execution_count": 1,
     "metadata": {},
     "output_type": "execute_result"
    }
   ],
   "source": [
    "# Syntax for INPUT\n",
    "input(\"Text to be seen by user:\")\n",
    "input()"
   ]
  },
  {
   "cell_type": "code",
   "execution_count": 2,
   "metadata": {},
   "outputs": [
    {
     "name": "stdout",
     "output_type": "stream",
     "text": [
      "Enter your name:Roger Federer\n",
      "Roger Federer\n"
     ]
    }
   ],
   "source": [
    "#taking input and printing it\n",
    "print(input(\"Enter your name:\"))"
   ]
  },
  {
   "cell_type": "code",
   "execution_count": 3,
   "metadata": {},
   "outputs": [
    {
     "name": "stdout",
     "output_type": "stream",
     "text": [
      "Enter your age:26\n",
      "26\n"
     ]
    }
   ],
   "source": [
    "#taking an integer input and printing it\n",
    "print(input(\"Enter your age:\"))"
   ]
  },
  {
   "cell_type": "code",
   "execution_count": 4,
   "metadata": {},
   "outputs": [
    {
     "name": "stdout",
     "output_type": "stream",
     "text": [
      "Enter your weight:60.5\n",
      "60.5\n"
     ]
    }
   ],
   "source": [
    "#taking a float value and printing it\n",
    "print(input(\"Enter your weight:\"))"
   ]
  },
  {
   "cell_type": "code",
   "execution_count": 5,
   "metadata": {},
   "outputs": [
    {
     "name": "stdout",
     "output_type": "stream",
     "text": [
      "You like Python; True/False?True\n",
      "True\n"
     ]
    }
   ],
   "source": [
    "#taking a bool value and printing it\n",
    "print(input(\"You like Python; True/False?\"))"
   ]
  },
  {
   "cell_type": "code",
   "execution_count": 6,
   "metadata": {},
   "outputs": [
    {
     "name": "stdout",
     "output_type": "stream",
     "text": [
      "10\n",
      "10\n"
     ]
    }
   ],
   "source": [
    "#taking input and assigning it to a variable\n",
    "x = input()\n",
    "print(x)"
   ]
  },
  {
   "cell_type": "code",
   "execution_count": 1,
   "metadata": {},
   "outputs": [
    {
     "name": "stdout",
     "output_type": "stream",
     "text": [
      "10\n",
      "x= 10\n"
     ]
    }
   ],
   "source": [
    "#taking input and assigning it to a variable\n",
    "x = input()\n",
    "print(\"x=\",x)"
   ]
  },
  {
   "cell_type": "code",
   "execution_count": 2,
   "metadata": {},
   "outputs": [
    {
     "name": "stdout",
     "output_type": "stream",
     "text": [
      "Enter a string:qwerty\n",
      "Enter an integer:21\n",
      "Enter a floating point number:1.54\n",
      "qwerty 21 1.54\n"
     ]
    }
   ],
   "source": [
    "# taking multiple inputs from user and print them\n",
    "a = input(\"Enter a string:\")\n",
    "b = input(\"Enter an integer:\")\n",
    "c = input(\"Enter a floating point number:\")\n",
    "print(a,b,c)"
   ]
  },
  {
   "cell_type": "code",
   "execution_count": 3,
   "metadata": {
    "scrolled": true
   },
   "outputs": [
    {
     "name": "stdout",
     "output_type": "stream",
     "text": [
      "Enter A:10\n",
      "Enter B:100\n",
      "10 100\n"
     ]
    }
   ],
   "source": [
    "#taking input for multiple variables in same line\n",
    "a,b = input(\"Enter A:\"),input(\"Enter B:\")\n",
    "print(a,b)"
   ]
  },
  {
   "cell_type": "markdown",
   "metadata": {},
   "source": [
    "<br>      \n"
   ]
  },
  {
   "cell_type": "markdown",
   "metadata": {},
   "source": [
    "**<font color=Crimson>Note For Mentor:</font>**      \n",
    "   Make them understand the difference between `input([prompt])` and `print()`.      \n"
   ]
  },
  {
   "cell_type": "markdown",
   "metadata": {},
   "source": [
    "<br>      \n",
    "<br>     "
   ]
  },
  {
   "cell_type": "markdown",
   "metadata": {
    "slideshow": {
     "slide_type": "slide"
    }
   },
   "source": [
    "**<font color =red>Question 1</font>**     \n",
    "Get the name and age of the user and print the details.     \n"
   ]
  },
  {
   "cell_type": "code",
   "execution_count": 2,
   "metadata": {
    "scrolled": true,
    "slideshow": {
     "slide_type": "slide"
    }
   },
   "outputs": [
    {
     "name": "stdout",
     "output_type": "stream",
     "text": [
      "Enter your name:Sachin\n",
      "Enter your age:21\n",
      "Name: Sachin\n",
      "Age: 21\n"
     ]
    }
   ],
   "source": [
    "#Code for question 1\n",
    "name = input(\"Enter your name:\")\n",
    "age = input(\"Enter your age:\")\n",
    "print(\"Name:\",name)\n",
    "print(\"Age:\",age)\n"
   ]
  },
  {
   "cell_type": "markdown",
   "metadata": {},
   "source": [
    "<br>      \n",
    "<br>     "
   ]
  },
  {
   "cell_type": "markdown",
   "metadata": {
    "slideshow": {
     "slide_type": "slide"
    }
   },
   "source": [
    "**<font color =red>Question 2</font>**        \n",
    "Get the name of the student, school name and class.       \n",
    "Print details in different lines.    "
   ]
  },
  {
   "cell_type": "code",
   "execution_count": 3,
   "metadata": {},
   "outputs": [
    {
     "name": "stdout",
     "output_type": "stream",
     "text": [
      "Enter name:Nithya\n",
      "Enter school name:Little Flower\n",
      "Enter class:8\n",
      "Name: Nithya\n",
      "Class: 8\n",
      "School: Little Flower\n"
     ]
    }
   ],
   "source": [
    "#Code for question 2:: Method 1\n",
    "name = input(\"Enter name:\")\n",
    "school = input(\"Enter school name:\")\n",
    "Class = input(\"Enter class:\")\n",
    "print(\"Name:\",name)\n",
    "print(\"Class:\",Class)\n",
    "print(\"School:\",school)\n",
    "\n"
   ]
  },
  {
   "cell_type": "code",
   "execution_count": 4,
   "metadata": {
    "scrolled": true,
    "slideshow": {
     "slide_type": "subslide"
    }
   },
   "outputs": [
    {
     "name": "stdout",
     "output_type": "stream",
     "text": [
      "Enter name:Rafeeq\n",
      "Enter school name:Public School\n",
      "Enter class:7\n",
      "Name: Rafeeq \n",
      "Class: 7 \n",
      "School: Public School\n"
     ]
    }
   ],
   "source": [
    "#Code for question 2:: Method 2\n",
    "name = input(\"Enter name:\")\n",
    "school = input(\"Enter school name:\")\n",
    "Class = input(\"Enter class:\")\n",
    "print(\"Name:\",name,\"\\nClass:\",Class,\"\\nSchool:\",school)  #Using escape characters\n"
   ]
  },
  {
   "cell_type": "markdown",
   "metadata": {},
   "source": [
    "<br>      \n",
    "<br>     "
   ]
  },
  {
   "cell_type": "markdown",
   "metadata": {
    "slideshow": {
     "slide_type": "slide"
    }
   },
   "source": [
    "**<font color =red>Question 3</font>**           \n",
    "Take two numbers from user and print their sum.        \n",
    "```\n",
    "    Enter number 1 = 30\n",
    "    Enter number 2 = 25\n",
    "    sum = 55\n",
    "```"
   ]
  },
  {
   "cell_type": "code",
   "execution_count": 5,
   "metadata": {},
   "outputs": [
    {
     "name": "stdout",
     "output_type": "stream",
     "text": [
      "Enter number 1 =44\n",
      "Enter number 2 =33\n",
      "Sum = 4433\n"
     ]
    }
   ],
   "source": [
    "#Code for question 3\n",
    "num1 = input(\"Enter number 1 =\")\n",
    "num2 = input(\"Enter number 2 =\")\n",
    "sum = num1+num2\n",
    "print(\"Sum =\",sum)"
   ]
  },
  {
   "cell_type": "markdown",
   "metadata": {},
   "source": [
    "<br>      \n",
    "<br>     "
   ]
  },
  {
   "cell_type": "markdown",
   "metadata": {},
   "source": [
    "**<font color=Crimson>Note For Mentor:</font>**       \n",
    "- When you take inputs through input() method, by default the values will be in the form of strings.     \n",
    "\n",
    "- In the above code, number1 and number2 has taken as strings.      \n",
    "   \n",
    "- When we try to perform add opeartions with two strings, Output will be a concatenated string.      \n",
    "\n",
    "- i.e:-     \n",
    "```      \n",
    "         \"44\" + \"33\" = \"4433\" --- strings     \n",
    "         44 + 33 = 77  ----------  numbers         \n",
    "```      "
   ]
  },
  {
   "cell_type": "markdown",
   "metadata": {},
   "source": [
    "<br>      \n",
    "<br>     "
   ]
  },
  {
   "cell_type": "markdown",
   "metadata": {},
   "source": [
    "### Type of the data taking through input()"
   ]
  },
  {
   "cell_type": "markdown",
   "metadata": {},
   "source": [
    "- By default the data taking through input() will be in the string format\n",
    "\n",
    "- Because `input()` reads data from standard input and return it as string.   "
   ]
  },
  {
   "cell_type": "markdown",
   "metadata": {},
   "source": [
    "**Note:** We cannot perform mathematical operations directly on the numbers getting through input()"
   ]
  },
  {
   "cell_type": "markdown",
   "metadata": {},
   "source": [
    "<br>      \n",
    "<br>     "
   ]
  },
  {
   "cell_type": "code",
   "execution_count": 5,
   "metadata": {},
   "outputs": [
    {
     "name": "stdout",
     "output_type": "stream",
     "text": [
      "13\n",
      "13\n",
      "<class 'str'>\n"
     ]
    }
   ],
   "source": [
    "x = input()\n",
    "print(x)\n",
    "print(type(x))"
   ]
  },
  {
   "cell_type": "code",
   "execution_count": 9,
   "metadata": {
    "scrolled": true
   },
   "outputs": [
    {
     "name": "stdout",
     "output_type": "stream",
     "text": [
      "Enter your favourite author's name:Paulo Coehlo\n",
      "Paulo Coehlo\n",
      "<class 'str'>\n"
     ]
    }
   ],
   "source": [
    "# taking a string input and check its type\n",
    "author = input(\"Enter your favourite author's name:\")\n",
    "print(author)\n",
    "print(type(author))"
   ]
  },
  {
   "cell_type": "markdown",
   "metadata": {},
   "source": [
    "<br>      "
   ]
  },
  {
   "cell_type": "markdown",
   "metadata": {},
   "source": [
    "**<font color=brown>Note:</font>**         \n",
    "Look at the type class `<class 'str'>`. This means that the input we have taken are saved as a string.      \n",
    "Now let's see how the other data types are saving when we use `input()`.      \n"
   ]
  },
  {
   "cell_type": "markdown",
   "metadata": {},
   "source": [
    "<br>      "
   ]
  },
  {
   "cell_type": "code",
   "execution_count": 6,
   "metadata": {},
   "outputs": [
    {
     "name": "stdout",
     "output_type": "stream",
     "text": [
      "Enter a vowel character:a\n",
      "<class 'str'>\n"
     ]
    }
   ],
   "source": [
    "# taking a single alphabet as input and check its type\n",
    "letter = input(\"Enter a vowel character:\")\n",
    "print(type(letter))"
   ]
  },
  {
   "cell_type": "markdown",
   "metadata": {},
   "source": [
    "<br>      \n",
    "<br>     "
   ]
  },
  {
   "cell_type": "markdown",
   "metadata": {},
   "source": [
    "**<font color=Crimson>Note For Mentor:</font>**         \n",
    "\n",
    "- In python, both single character and multi-character values are considered as strings.     \n",
    "\n",
    "i.e         \n",
    "```     \n",
    "    char = 'a'  -------> string     \n",
    "    word = '#hello'----> string      \n",
    "```     \n",
    "\n",
    "- Also, there is no different meaning for single quotes and double quotes.      \n",
    "\n",
    "- In python, Anything within the single quotes or double quotes are considered as string.        \n"
   ]
  },
  {
   "cell_type": "code",
   "execution_count": 10,
   "metadata": {},
   "outputs": [
    {
     "name": "stdout",
     "output_type": "stream",
     "text": [
      "Enter your lucky number:18\n",
      "18\n",
      "<class 'str'>\n"
     ]
    }
   ],
   "source": [
    "# taking an integer input and check its type\n",
    "number = input(\"Enter your lucky number:\")\n",
    "print(number)\n",
    "print(type(number))"
   ]
  },
  {
   "cell_type": "markdown",
   "metadata": {},
   "source": [
    "<br>      \n",
    "<br>     "
   ]
  },
  {
   "cell_type": "markdown",
   "metadata": {},
   "source": [
    "**<font color=brown>Note:</font>**           \n",
    "Numbers are also saved as str when we use `input()` method to take inputs from user.      "
   ]
  },
  {
   "cell_type": "markdown",
   "metadata": {},
   "source": [
    "<br>      "
   ]
  },
  {
   "cell_type": "code",
   "execution_count": 7,
   "metadata": {},
   "outputs": [
    {
     "name": "stdout",
     "output_type": "stream",
     "text": [
      "Enter your weight:55.8\n",
      "55.8\n",
      "<class 'str'>\n"
     ]
    }
   ],
   "source": [
    "# taking a float input and check its type\n",
    "weight = input(\"Enter your weight:\")\n",
    "print(weight)\n",
    "print(type(weight))"
   ]
  },
  {
   "cell_type": "code",
   "execution_count": 8,
   "metadata": {
    "scrolled": true
   },
   "outputs": [
    {
     "name": "stdout",
     "output_type": "stream",
     "text": [
      "Choose True/False:True\n",
      "True\n",
      "<class 'str'>\n"
     ]
    }
   ],
   "source": [
    "# taking a bool input and check its type\n",
    "option = input(\"Choose True/False:\")\n",
    "print(option)\n",
    "print(type(option))"
   ]
  },
  {
   "cell_type": "markdown",
   "metadata": {},
   "source": [
    "<br>      "
   ]
  },
  {
   "cell_type": "markdown",
   "metadata": {},
   "source": [
    "**<font color=Brown>Note:</font>**               \n",
    "- In order to convert the data input into desired input data type, we can use type conversion methods. As follows:      "
   ]
  },
  {
   "cell_type": "markdown",
   "metadata": {},
   "source": [
    "<br>      \n",
    "<br>     \n",
    "<br>    "
   ]
  },
  {
   "cell_type": "markdown",
   "metadata": {},
   "source": [
    "## Type Conversion"
   ]
  },
  {
   "cell_type": "markdown",
   "metadata": {},
   "source": [
    "Sometimes, we may need to convert the built in data types from one type to another for convenience. In order to achieve this, we have type conversion methods available in python.    "
   ]
  },
  {
   "cell_type": "markdown",
   "metadata": {},
   "source": [
    "- How to convert a data from opne type to another type?\n",
    "    - **string to integer**\n",
    "    - **integer to string**\n",
    "    - **string to float**\n",
    "    - **float to string**\n",
    "    - **integer to float**\n",
    "    - **float to integer**\n",
    "    - **int to bool**\n",
    "    - **bool to int**\n",
    "    "
   ]
  },
  {
   "cell_type": "markdown",
   "metadata": {},
   "source": [
    "<br>      \n"
   ]
  },
  {
   "cell_type": "markdown",
   "metadata": {
    "slideshow": {
     "slide_type": "slide"
    }
   },
   "source": [
    "### Converting str into int\n",
    "`int(value)` ----> Integer    \n",
    "Where value can be str/float\n"
   ]
  },
  {
   "cell_type": "code",
   "execution_count": 10,
   "metadata": {},
   "outputs": [
    {
     "name": "stdout",
     "output_type": "stream",
     "text": [
      "80\n",
      "<class 'int'>\n"
     ]
    }
   ],
   "source": [
    "#simple example for str ---> int\n",
    "number = int(\"80\")\n",
    "print(number)\n",
    "print(type(number))"
   ]
  },
  {
   "cell_type": "code",
   "execution_count": 14,
   "metadata": {
    "slideshow": {
     "slide_type": "slide"
    }
   },
   "outputs": [
    {
     "name": "stdout",
     "output_type": "stream",
     "text": [
      "<class 'str'>\n",
      "*------*\n",
      "<class 'int'>\n"
     ]
    }
   ],
   "source": [
    "# int(value)\n",
    "a = \"12\"\n",
    "print(type(a))\n",
    "print(\"*------*\")\n",
    "b = int(a)\n",
    "print(type(b))"
   ]
  },
  {
   "cell_type": "code",
   "execution_count": 14,
   "metadata": {
    "slideshow": {
     "slide_type": "slide"
    }
   },
   "outputs": [
    {
     "name": "stdout",
     "output_type": "stream",
     "text": [
      "type of a : <class 'str'> value of a: 21\n",
      "type of b : <class 'float'> value of b: 22.8\n",
      "\n",
      "---------- After Converting ----------\n",
      "\n",
      "type of a : <class 'int'> value of a: 21\n",
      "type of b : <class 'int'> value of b: 22\n"
     ]
    }
   ],
   "source": [
    "a = \"21\" # str\n",
    "b = 22.8 # float\n",
    "convert_a = int(a) \n",
    "convert_b = int(b) \n",
    "print(\"type of a :\",type(a),\"value of a:\",a)\n",
    "print(\"type of b :\",type(b),\"value of b:\",b)\n",
    "print(\"\\n---------- After Converting ----------\\n\")\n",
    "print(\"type of a :\",type(convert_a),\"value of a:\",convert_a)\n",
    "print(\"type of b :\",type(convert_b),\"value of b:\",convert_b)"
   ]
  },
  {
   "cell_type": "code",
   "execution_count": 1,
   "metadata": {},
   "outputs": [
    {
     "name": "stdout",
     "output_type": "stream",
     "text": [
      "Enter a number:12\n",
      "------Before Converting------\n",
      "12\n",
      "<class 'str'>\n",
      "\n",
      "------After Converting------\n",
      "12\n",
      "<class 'int'>\n"
     ]
    }
   ],
   "source": [
    "# convert the data which has taken through input() into int\n",
    "#----------------------------------------------------------\n",
    "num = input(\"Enter a number:\")\n",
    "print(\"------Before Converting------\")\n",
    "print(num)\n",
    "print(type(num))\n",
    "num = int(num)\n",
    "print(\"\\n------After Converting------\")\n",
    "print(num)\n",
    "print(type(num))\n"
   ]
  },
  {
   "cell_type": "code",
   "execution_count": 20,
   "metadata": {
    "slideshow": {
     "slide_type": "slide"
    }
   },
   "outputs": [],
   "source": [
    "#Now the solution for Question 3\n",
    "# Accept two numbers, add them to find the sum"
   ]
  },
  {
   "cell_type": "code",
   "execution_count": 16,
   "metadata": {
    "slideshow": {
     "slide_type": "slide"
    }
   },
   "outputs": [
    {
     "name": "stdout",
     "output_type": "stream",
     "text": [
      "number 1 = 22\n",
      "number 2 = 25\n",
      "sum =  47\n"
     ]
    }
   ],
   "source": [
    "#METHOD 1\n",
    "# -----------\n",
    "# calculate the sum of two numbers\n",
    "# get numbers from user\n",
    "# convert while finding the sum\n",
    "\n",
    "# OUTPUT\n",
    "# number 1 = 10\n",
    "# number 2 = 20\n",
    "# sum = 30\n",
    "\n",
    "num_1 = input(\"number 1 = \")\n",
    "num_2 = input(\"number 2 = \")\n",
    "sum_1 = int(num_1) + int(num_2)\n",
    "print(\"sum = \",sum_1)\n",
    "\n"
   ]
  },
  {
   "cell_type": "code",
   "execution_count": 18,
   "metadata": {
    "slideshow": {
     "slide_type": "slide"
    }
   },
   "outputs": [
    {
     "name": "stdout",
     "output_type": "stream",
     "text": [
      "number 1 = 10\n",
      "number 2 = 20\n",
      "sum =  30\n"
     ]
    }
   ],
   "source": [
    "# Method 2\n",
    "#__________________________________\n",
    "# calculate the sum of two numbers\n",
    "# get numbers from user\n",
    "# convert when taking input\n",
    "\n",
    "# OUTPUT\n",
    "# number 1 = 10\n",
    "# number 2 = 20\n",
    "# sum = 30\n",
    "\n",
    "num_1 = int(input(\"number 1 = \"))\n",
    "num_2 = int(input(\"number 2 = \"))\n",
    "sum = num_1 + num_2\n",
    "print(\"sum = \",sum)\n",
    "\n"
   ]
  },
  {
   "cell_type": "code",
   "execution_count": 22,
   "metadata": {
    "slideshow": {
     "slide_type": "slide"
    }
   },
   "outputs": [
    {
     "name": "stdout",
     "output_type": "stream",
     "text": [
      "number 1 = 10\n",
      "number 2 = 20\n",
      "sum =  30\n"
     ]
    }
   ],
   "source": [
    "# Method 3\n",
    "# --------------------------------\n",
    "# calculate the sum of two numbers\n",
    "# get numbers from user\n",
    "# convert while printing\n",
    "\n",
    "# OUTPUT\n",
    "# number 1 = 10\n",
    "# number 2 = 20\n",
    "# sum = 30\n",
    "\n",
    "num_1 = input(\"number 1 = \") # num_1 - Str\n",
    "num_2 = input(\"number 2 = \") # num_2 - Str\n",
    "print(\"sum = \", (int(num_1) + int(num_2)) )\n",
    "\n"
   ]
  },
  {
   "cell_type": "markdown",
   "metadata": {},
   "source": [
    "<br>      \n",
    "<br>     "
   ]
  },
  {
   "cell_type": "markdown",
   "metadata": {},
   "source": [
    "**<font color =red>Question 4</font>**      \n",
    "What will be the output of following code snippet?          \n",
    "```    \n",
    "    num = 'a'     \n",
    "    print(int(num))    \n",
    "```"
   ]
  },
  {
   "cell_type": "code",
   "execution_count": 2,
   "metadata": {
    "scrolled": true
   },
   "outputs": [
    {
     "ename": "ValueError",
     "evalue": "invalid literal for int() with base 10: 'a'",
     "output_type": "error",
     "traceback": [
      "\u001b[1;31m---------------------------------------------------------------------------\u001b[0m",
      "\u001b[1;31mValueError\u001b[0m                                Traceback (most recent call last)",
      "\u001b[1;32m<ipython-input-2-bf07a46df13b>\u001b[0m in \u001b[0;36m<module>\u001b[1;34m\u001b[0m\n\u001b[0;32m      1\u001b[0m \u001b[1;31m# code for question4\u001b[0m\u001b[1;33m\u001b[0m\u001b[1;33m\u001b[0m\u001b[1;33m\u001b[0m\u001b[0m\n\u001b[0;32m      2\u001b[0m \u001b[0mnum\u001b[0m \u001b[1;33m=\u001b[0m \u001b[1;34m'a'\u001b[0m\u001b[1;33m\u001b[0m\u001b[1;33m\u001b[0m\u001b[0m\n\u001b[1;32m----> 3\u001b[1;33m \u001b[0mprint\u001b[0m\u001b[1;33m(\u001b[0m\u001b[0mint\u001b[0m\u001b[1;33m(\u001b[0m\u001b[0mnum\u001b[0m\u001b[1;33m)\u001b[0m\u001b[1;33m)\u001b[0m\u001b[1;33m\u001b[0m\u001b[1;33m\u001b[0m\u001b[0m\n\u001b[0m",
      "\u001b[1;31mValueError\u001b[0m: invalid literal for int() with base 10: 'a'"
     ]
    }
   ],
   "source": [
    "# code for question4\n",
    "num = 'a'\n",
    "print(int(num))"
   ]
  },
  {
   "cell_type": "markdown",
   "metadata": {},
   "source": [
    "**Explanation:**        \n",
    "```\n",
    "    We cannot convert an alphabet/special character into an integer;\n",
    "    When you try to convert a string value that is not formatted as an integer, \n",
    "    the Python interpreter will throw a ValueError  saying invalid literal for int() with base 10.       \n",
    "    \n",
    "```"
   ]
  },
  {
   "cell_type": "markdown",
   "metadata": {},
   "source": [
    "<br>      \n",
    "<br>     "
   ]
  },
  {
   "cell_type": "code",
   "execution_count": 3,
   "metadata": {},
   "outputs": [
    {
     "ename": "ValueError",
     "evalue": "invalid literal for int() with base 10: 'a'",
     "output_type": "error",
     "traceback": [
      "\u001b[1;31m---------------------------------------------------------------------------\u001b[0m",
      "\u001b[1;31mValueError\u001b[0m                                Traceback (most recent call last)",
      "\u001b[1;32m<ipython-input-3-c4d60017d376>\u001b[0m in \u001b[0;36m<module>\u001b[1;34m\u001b[0m\n\u001b[0;32m      1\u001b[0m \u001b[1;31m#show some error case1\u001b[0m\u001b[1;33m\u001b[0m\u001b[1;33m\u001b[0m\u001b[1;33m\u001b[0m\u001b[0m\n\u001b[0;32m      2\u001b[0m \u001b[0mnum\u001b[0m \u001b[1;33m=\u001b[0m \u001b[1;34m'a'\u001b[0m\u001b[1;33m\u001b[0m\u001b[1;33m\u001b[0m\u001b[0m\n\u001b[1;32m----> 3\u001b[1;33m \u001b[0mprint\u001b[0m\u001b[1;33m(\u001b[0m\u001b[0mint\u001b[0m\u001b[1;33m(\u001b[0m\u001b[0mnum\u001b[0m\u001b[1;33m)\u001b[0m\u001b[1;33m)\u001b[0m\u001b[1;33m\u001b[0m\u001b[1;33m\u001b[0m\u001b[0m\n\u001b[0m",
      "\u001b[1;31mValueError\u001b[0m: invalid literal for int() with base 10: 'a'"
     ]
    }
   ],
   "source": [
    "#show some error case1\n",
    "num = 'a'\n",
    "print(int(num))"
   ]
  },
  {
   "cell_type": "code",
   "execution_count": 4,
   "metadata": {},
   "outputs": [
    {
     "ename": "ValueError",
     "evalue": "invalid literal for int() with base 10: '+'",
     "output_type": "error",
     "traceback": [
      "\u001b[1;31m---------------------------------------------------------------------------\u001b[0m",
      "\u001b[1;31mValueError\u001b[0m                                Traceback (most recent call last)",
      "\u001b[1;32m<ipython-input-4-e17dde9bf58f>\u001b[0m in \u001b[0;36m<module>\u001b[1;34m\u001b[0m\n\u001b[0;32m      1\u001b[0m \u001b[1;31m#show some error case2\u001b[0m\u001b[1;33m\u001b[0m\u001b[1;33m\u001b[0m\u001b[1;33m\u001b[0m\u001b[0m\n\u001b[0;32m      2\u001b[0m \u001b[0mnum\u001b[0m \u001b[1;33m=\u001b[0m \u001b[1;34m'+'\u001b[0m\u001b[1;33m\u001b[0m\u001b[1;33m\u001b[0m\u001b[0m\n\u001b[1;32m----> 3\u001b[1;33m \u001b[0mprint\u001b[0m\u001b[1;33m(\u001b[0m\u001b[0mint\u001b[0m\u001b[1;33m(\u001b[0m\u001b[0mnum\u001b[0m\u001b[1;33m)\u001b[0m\u001b[1;33m)\u001b[0m\u001b[1;33m\u001b[0m\u001b[1;33m\u001b[0m\u001b[0m\n\u001b[0m",
      "\u001b[1;31mValueError\u001b[0m: invalid literal for int() with base 10: '+'"
     ]
    }
   ],
   "source": [
    "#show some error case2\n",
    "num = '+'\n",
    "print(int(num))"
   ]
  },
  {
   "cell_type": "code",
   "execution_count": 5,
   "metadata": {
    "scrolled": true
   },
   "outputs": [
    {
     "ename": "ValueError",
     "evalue": "invalid literal for int() with base 10: '_'",
     "output_type": "error",
     "traceback": [
      "\u001b[1;31m---------------------------------------------------------------------------\u001b[0m",
      "\u001b[1;31mValueError\u001b[0m                                Traceback (most recent call last)",
      "\u001b[1;32m<ipython-input-5-7ba31ee3cd2c>\u001b[0m in \u001b[0;36m<module>\u001b[1;34m\u001b[0m\n\u001b[0;32m      1\u001b[0m \u001b[1;31m#show some error case2\u001b[0m\u001b[1;33m\u001b[0m\u001b[1;33m\u001b[0m\u001b[1;33m\u001b[0m\u001b[0m\n\u001b[0;32m      2\u001b[0m \u001b[0mnum\u001b[0m \u001b[1;33m=\u001b[0m \u001b[1;34m'_'\u001b[0m\u001b[1;33m\u001b[0m\u001b[1;33m\u001b[0m\u001b[0m\n\u001b[1;32m----> 3\u001b[1;33m \u001b[0mprint\u001b[0m\u001b[1;33m(\u001b[0m\u001b[0mint\u001b[0m\u001b[1;33m(\u001b[0m\u001b[0mnum\u001b[0m\u001b[1;33m)\u001b[0m\u001b[1;33m)\u001b[0m\u001b[1;33m\u001b[0m\u001b[1;33m\u001b[0m\u001b[0m\n\u001b[0m",
      "\u001b[1;31mValueError\u001b[0m: invalid literal for int() with base 10: '_'"
     ]
    }
   ],
   "source": [
    "#show some error case2\n",
    "num = '_'\n",
    "print(int(num))"
   ]
  },
  {
   "cell_type": "markdown",
   "metadata": {},
   "source": [
    "<br>      \n",
    "<br>     "
   ]
  },
  {
   "cell_type": "markdown",
   "metadata": {},
   "source": [
    "### Converting float to int"
   ]
  },
  {
   "cell_type": "markdown",
   "metadata": {},
   "source": [
    "**Syntax:**    \n",
    "    `int(value)`----> Integer      \n",
    "    Where value can be float/str\n",
    "    "
   ]
  },
  {
   "cell_type": "code",
   "execution_count": 5,
   "metadata": {
    "slideshow": {
     "slide_type": "slide"
    }
   },
   "outputs": [
    {
     "name": "stdout",
     "output_type": "stream",
     "text": [
      "22\n",
      "22\n"
     ]
    }
   ],
   "source": [
    "a = 22.5 # --float\n",
    "b = \"22\" # -- str\n",
    "print(int(a))\n",
    "print(int(b))"
   ]
  },
  {
   "cell_type": "markdown",
   "metadata": {},
   "source": [
    "<br>      "
   ]
  },
  {
   "cell_type": "markdown",
   "metadata": {},
   "source": [
    "### Converting str to float"
   ]
  },
  {
   "cell_type": "markdown",
   "metadata": {},
   "source": [
    "**Syntax:**    \n",
    "    `float(value)`----> Float    \n",
    "    Where value can be int/str"
   ]
  },
  {
   "cell_type": "code",
   "execution_count": 7,
   "metadata": {},
   "outputs": [
    {
     "name": "stdout",
     "output_type": "stream",
     "text": [
      "0.0\n"
     ]
    }
   ],
   "source": [
    "#str to float example1\n",
    "f = \"0.0\"\n",
    "print(float(f))"
   ]
  },
  {
   "cell_type": "code",
   "execution_count": 6,
   "metadata": {},
   "outputs": [
    {
     "name": "stdout",
     "output_type": "stream",
     "text": [
      "Enter a float number:10.3\n",
      "10.3\n",
      "<class 'float'>\n"
     ]
    }
   ],
   "source": [
    "#str to float example2\n",
    "val = float(input(\"Enter a float number:\"))\n",
    "print(val)\n",
    "print(type(val))"
   ]
  },
  {
   "cell_type": "code",
   "execution_count": 8,
   "metadata": {},
   "outputs": [
    {
     "name": "stdout",
     "output_type": "stream",
     "text": [
      "Enter an integer number:13\n",
      "13.0\n",
      "<class 'float'>\n"
     ]
    }
   ],
   "source": [
    "#str to float example3\n",
    "val = float(input(\"Enter an integer number:\"))\n",
    "print(val)\n",
    "print(type(val))"
   ]
  },
  {
   "cell_type": "markdown",
   "metadata": {},
   "source": [
    "<br>      \n",
    "<br>        \n",
    "<br>    "
   ]
  },
  {
   "cell_type": "markdown",
   "metadata": {},
   "source": [
    "**<font color =red>Question 5</font>**          \n",
    "What will be the output of following code snippet?      \n",
    "```    \n",
    "    num = 'f'      \n",
    "    print(float(num))      \n",
    "```    "
   ]
  },
  {
   "cell_type": "code",
   "execution_count": 9,
   "metadata": {},
   "outputs": [
    {
     "ename": "ValueError",
     "evalue": "could not convert string to float: 'f'",
     "output_type": "error",
     "traceback": [
      "\u001b[1;31m---------------------------------------------------------------------------\u001b[0m",
      "\u001b[1;31mValueError\u001b[0m                                Traceback (most recent call last)",
      "\u001b[1;32m<ipython-input-9-960d93dc812c>\u001b[0m in \u001b[0;36m<module>\u001b[1;34m\u001b[0m\n\u001b[0;32m      1\u001b[0m \u001b[1;31m#Code for Question5\u001b[0m\u001b[1;33m\u001b[0m\u001b[1;33m\u001b[0m\u001b[1;33m\u001b[0m\u001b[0m\n\u001b[0;32m      2\u001b[0m \u001b[0mnum\u001b[0m \u001b[1;33m=\u001b[0m \u001b[1;34m'f'\u001b[0m\u001b[1;33m\u001b[0m\u001b[1;33m\u001b[0m\u001b[0m\n\u001b[1;32m----> 3\u001b[1;33m \u001b[0mprint\u001b[0m\u001b[1;33m(\u001b[0m\u001b[0mfloat\u001b[0m\u001b[1;33m(\u001b[0m\u001b[0mnum\u001b[0m\u001b[1;33m)\u001b[0m\u001b[1;33m)\u001b[0m\u001b[1;33m\u001b[0m\u001b[1;33m\u001b[0m\u001b[0m\n\u001b[0m",
      "\u001b[1;31mValueError\u001b[0m: could not convert string to float: 'f'"
     ]
    }
   ],
   "source": [
    "#Code for Question5\n",
    "num = 'f'\n",
    "print(float(num))"
   ]
  },
  {
   "cell_type": "markdown",
   "metadata": {},
   "source": [
    "**Explanation:**        \n",
    "```      \n",
    "    We cannot convert an alphabet/special character into float;\n",
    "    When we try to convert a string value that is not formatted as a floating point number, \n",
    "    the Python interpreter will throw a ValueError  saying could not convert string to float.                \n",
    "    \n",
    "```      "
   ]
  },
  {
   "cell_type": "markdown",
   "metadata": {},
   "source": [
    "<br>      "
   ]
  },
  {
   "cell_type": "markdown",
   "metadata": {},
   "source": [
    "### Converting int to float"
   ]
  },
  {
   "cell_type": "markdown",
   "metadata": {},
   "source": [
    "**Syntax:**    \n",
    "    `float(value)`----> Float    \n",
    "    Where value can be int/str"
   ]
  },
  {
   "cell_type": "code",
   "execution_count": 10,
   "metadata": {},
   "outputs": [
    {
     "name": "stdout",
     "output_type": "stream",
     "text": [
      "10.0\n"
     ]
    }
   ],
   "source": [
    "#int to float example1\n",
    "a= 10\n",
    "print(float(a))\n"
   ]
  },
  {
   "cell_type": "code",
   "execution_count": 11,
   "metadata": {},
   "outputs": [
    {
     "name": "stdout",
     "output_type": "stream",
     "text": [
      "-12.0\n"
     ]
    }
   ],
   "source": [
    "#int to float example2\n",
    "x = -12\n",
    "print(float(x))"
   ]
  },
  {
   "cell_type": "markdown",
   "metadata": {},
   "source": [
    "<br>      "
   ]
  },
  {
   "cell_type": "markdown",
   "metadata": {},
   "source": [
    "### Converting int/float to str"
   ]
  },
  {
   "cell_type": "markdown",
   "metadata": {},
   "source": [
    "In python, It is possible to convert all types of literals into str type using `str()`"
   ]
  },
  {
   "cell_type": "markdown",
   "metadata": {},
   "source": [
    "**Syntax:**    \n",
    "    `str(value)`----> String    \n",
    "    Where value can be int/float"
   ]
  },
  {
   "cell_type": "code",
   "execution_count": 13,
   "metadata": {},
   "outputs": [
    {
     "name": "stdout",
     "output_type": "stream",
     "text": [
      "41\n",
      "-25\n"
     ]
    }
   ],
   "source": [
    "#example1\n",
    "print(str(41))\n",
    "print(str(-25))"
   ]
  },
  {
   "cell_type": "code",
   "execution_count": 14,
   "metadata": {},
   "outputs": [
    {
     "name": "stdout",
     "output_type": "stream",
     "text": [
      "63\n",
      "<class 'str'>\n",
      "99.99\n",
      "<class 'str'>\n"
     ]
    }
   ],
   "source": [
    "#example2\n",
    "num1 = str(63)\n",
    "num2 = str(99.99)\n",
    "print(num1)\n",
    "print(type(num1))\n",
    "print(num2)\n",
    "print(type(num2))"
   ]
  },
  {
   "cell_type": "code",
   "execution_count": 17,
   "metadata": {},
   "outputs": [
    {
     "name": "stdout",
     "output_type": "stream",
     "text": [
      "6399.99\n"
     ]
    }
   ],
   "source": [
    "print(num1+num2)"
   ]
  },
  {
   "cell_type": "code",
   "execution_count": 16,
   "metadata": {},
   "outputs": [
    {
     "name": "stdout",
     "output_type": "stream",
     "text": [
      "10101010101\n",
      "<class 'str'>\n"
     ]
    }
   ],
   "source": [
    "#example3\n",
    "str1 = str(10101010101)\n",
    "print(str1)\n",
    "print(type(str1))"
   ]
  },
  {
   "cell_type": "markdown",
   "metadata": {},
   "source": [
    "<br>      \n",
    "<br>     "
   ]
  },
  {
   "cell_type": "markdown",
   "metadata": {},
   "source": [
    "**<font color= Orange>Summary</font>**     \n",
    "\n",
    "- `str(data)`: For converting any type of data into **string**     \n",
    "- `int(data)`: For converting any type of data into **integer**     \n",
    "- `float(data)`: For converting any type of data into **float**     \n",
    "- `bool(data)`: For converting any type of data into **bool**     \n",
    "\n",
    "\n",
    "- alphabets and special characters cannot be converted into integer or float      "
   ]
  },
  {
   "cell_type": "markdown",
   "metadata": {},
   "source": [
    "<br>      \n",
    "<br>     \n",
    "<br>     "
   ]
  },
  {
   "cell_type": "markdown",
   "metadata": {},
   "source": [
    "**<font color =red>Question 6</font>**      \n",
    "Write a python program to accept two numbers from user and convert it to float and find the average.     \n"
   ]
  },
  {
   "cell_type": "code",
   "execution_count": 1,
   "metadata": {},
   "outputs": [
    {
     "name": "stdout",
     "output_type": "stream",
     "text": [
      "Enter number1: 10\n",
      "Enter number2: 15\n",
      "Average= 12.5\n"
     ]
    }
   ],
   "source": [
    "num1 = float(input(\"Enter number1: \"))\n",
    "num2 = float(input(\"Enter number2: \"))\n",
    "\n",
    "print(\"Average=\",(num1+num2)/2)   "
   ]
  },
  {
   "cell_type": "markdown",
   "metadata": {},
   "source": [
    "<br>      \n",
    "<br>     "
   ]
  },
  {
   "cell_type": "markdown",
   "metadata": {},
   "source": [
    "**<font color =red>Question 7</font>**     \n",
    "Accept two alphabets from user and try to add them and print the result.      "
   ]
  },
  {
   "cell_type": "code",
   "execution_count": 2,
   "metadata": {},
   "outputs": [
    {
     "name": "stdout",
     "output_type": "stream",
     "text": [
      "Enter an alphabet: H\n",
      "Enter another alphabet: I\n",
      "HI\n"
     ]
    }
   ],
   "source": [
    "a = input(\"Enter an alphabet: \")\n",
    "b = input(\"Enter another alphabet: \")\n",
    "print(a+b)"
   ]
  },
  {
   "cell_type": "markdown",
   "metadata": {},
   "source": [
    "**Note:**     \n",
    "When we try to add two strings using '+' operator, we will get a concatenated string as output.            "
   ]
  },
  {
   "cell_type": "markdown",
   "metadata": {},
   "source": [
    "---"
   ]
  },
  {
   "cell_type": "markdown",
   "metadata": {},
   "source": [
    "<br>      \n",
    "<br>     \n",
    "<br>    "
   ]
  },
  {
   "cell_type": "markdown",
   "metadata": {},
   "source": [
    "# <font color =blue>ACTIVITIES</font>"
   ]
  },
  {
   "cell_type": "markdown",
   "metadata": {},
   "source": [
    "<br>        "
   ]
  },
  {
   "cell_type": "markdown",
   "metadata": {},
   "source": [
    "<font color =Green>**Light**</font>\n",
    "\n",
    "1. Write a python program to accept the name, age, class and school from user. Then convert age and class into integer and print all the details into the console.          \n",
    "\n",
    "\n",
    "\n",
    "2. Accept an integer and a float number from user and find the sum.          \n",
    "\n",
    "\n",
    "\n",
    "3. In the activity 2, print the result in integer format.          \n",
    "\n",
    "\n"
   ]
  },
  {
   "cell_type": "markdown",
   "metadata": {},
   "source": [
    "<br>       \n",
    "<br>       "
   ]
  },
  {
   "cell_type": "markdown",
   "metadata": {},
   "source": [
    "**<font color =Purple>Moderate</font>**         \n",
    "\n",
    "4. Accept day, month and year of the date of birth from the user and print the date in **dd/mm/yyyy** format.        \n",
    "\n",
    "\n",
    "5. Accept hour, minute and second of a time from user and print the time in **HH:MM:SS** format.       \n",
    "\n"
   ]
  },
  {
   "cell_type": "markdown",
   "metadata": {},
   "source": [
    "<br>       \n",
    "<br>       "
   ]
  },
  {
   "cell_type": "markdown",
   "metadata": {},
   "source": [
    "**<font color =Crimson>Complex</font>**              \n",
    "\n",
    "6. Consider the following code snippet to find the average of three numbers. But there are some bugs; identify them and fix to get the desired output.\n",
    "```\n",
    "   num1,num2,num3 = input(\"Enter number1, number2 and number3: \")\n",
    "   sum = num1+num2+num3\n",
    "   avg = sum/3\n",
    "   print(\"Average=\",avg)\n",
    "```    \n",
    "\n",
    "**<font color =grey>Sample Input:</font>**    \n",
    "```\n",
    "   num1 = 5\n",
    "   num2 = 8\n",
    "   num3 = 3\n",
    "```\n",
    "\n",
    "**<font color =Grey>Expected Output:</font>**     \n",
    "```\n",
    "   Average = 5.333333333333333\n",
    "```\n",
    "\n"
   ]
  },
  {
   "cell_type": "markdown",
   "metadata": {},
   "source": [
    "---"
   ]
  },
  {
   "cell_type": "markdown",
   "metadata": {},
   "source": [
    "<br>     "
   ]
  },
  {
   "cell_type": "markdown",
   "metadata": {},
   "source": [
    "# Answers"
   ]
  },
  {
   "cell_type": "code",
   "execution_count": null,
   "metadata": {},
   "outputs": [],
   "source": [
    "# Activity 1\n",
    "#-----------\n",
    "\n",
    "name = input(\"Enter your name: \")\n",
    "age = int(input(\"Enter your age: \"))\n",
    "Class = int(input(\"Enter your class: \"))\n",
    "school = input(\"Enter school name: \")\n",
    "\n",
    "print(\"Name: \",name)\n",
    "print(\"Age: \",age)\n",
    "print(\"Class: \",Class)\n",
    "print(\"School: \",school)"
   ]
  },
  {
   "cell_type": "markdown",
   "metadata": {},
   "source": [
    "<br>          "
   ]
  },
  {
   "cell_type": "code",
   "execution_count": null,
   "metadata": {},
   "outputs": [],
   "source": [
    "# Activity 2\n",
    "#-----------\n",
    "\n",
    "i = int(input(\"Enter an integer: \"))\n",
    "f = float(input(\"Enter a float number: \"))\n",
    "\n",
    "print(\"Sum=\",i+f)"
   ]
  },
  {
   "cell_type": "markdown",
   "metadata": {},
   "source": [
    "<br>          "
   ]
  },
  {
   "cell_type": "code",
   "execution_count": null,
   "metadata": {},
   "outputs": [],
   "source": [
    "# Activity 3 : Method 1\n",
    "#----------------------\n",
    "\n",
    "i = int(input(\"Enter an integer: \"))\n",
    "f = float(input(\"Enter a float number: \"))\n",
    "\n",
    "print(\"Sum=\",int(i+f))"
   ]
  },
  {
   "cell_type": "code",
   "execution_count": null,
   "metadata": {},
   "outputs": [],
   "source": [
    "# Activity 3 : Method 2\n",
    "#----------------------\n",
    "\n",
    "i = int(input(\"Enter an integer: \"))\n",
    "f = float(input(\"Enter a float number: \"))\n",
    "\n",
    "sum = i+f\n",
    "sum = int(sum)\n",
    "print(\"Sum=\",sum)"
   ]
  },
  {
   "cell_type": "markdown",
   "metadata": {},
   "source": [
    "<br>          "
   ]
  },
  {
   "cell_type": "code",
   "execution_count": null,
   "metadata": {},
   "outputs": [],
   "source": [
    "# Activity 4\n",
    "#-----------\n",
    "\n",
    "d = input(\"Enter day of your DOB as two digit: \")\n",
    "m = input(\"Enter month of your DOB as two digit: \")\n",
    "y = input(\"Enter year of your DOB as 4 digit: \")\n",
    "\n",
    "dob = d+'/'+m+'/'+y\n",
    "print(\"Date of birth:\",dob)"
   ]
  },
  {
   "cell_type": "markdown",
   "metadata": {},
   "source": [
    "<br>          "
   ]
  },
  {
   "cell_type": "code",
   "execution_count": null,
   "metadata": {},
   "outputs": [],
   "source": [
    "# Activity 5\n",
    "#-----------\n",
    "\n",
    "\n",
    "h = input(\"Enter hours of time as two digit: \")\n",
    "m = input(\"Enter minutes of time as two digit: \")\n",
    "s = input(\"Enter seconds of time as two digit: \")\n",
    "\n",
    "time = h+':'+m+':'+s\n",
    "print(\"Time:\",time)"
   ]
  },
  {
   "cell_type": "markdown",
   "metadata": {},
   "source": [
    "<br>      "
   ]
  },
  {
   "cell_type": "code",
   "execution_count": null,
   "metadata": {},
   "outputs": [],
   "source": [
    "# Activity 6\n",
    "#-----------\n",
    "\n",
    "num1,num2,num3 = input(\"Enter number1, number2 and number3: \"),input(),input()\n",
    "sum = int(num1)+int(num2)+int(num3)\n",
    "avg = sum/3\n",
    "print(\"Average=\",avg)"
   ]
  },
  {
   "cell_type": "markdown",
   "metadata": {},
   "source": [
    "<br>          "
   ]
  },
  {
   "cell_type": "markdown",
   "metadata": {},
   "source": [
    "--------"
   ]
  }
 ],
 "metadata": {
  "kernelspec": {
   "display_name": "Python 3",
   "language": "python",
   "name": "python3"
  },
  "language_info": {
   "codemirror_mode": {
    "name": "ipython",
    "version": 3
   },
   "file_extension": ".py",
   "mimetype": "text/x-python",
   "name": "python",
   "nbconvert_exporter": "python",
   "pygments_lexer": "ipython3",
   "version": "3.8.3"
  }
 },
 "nbformat": 4,
 "nbformat_minor": 4
}
