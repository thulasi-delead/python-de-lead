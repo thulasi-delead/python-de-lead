{
 "cells": [
  {
   "cell_type": "markdown",
   "id": "f828c69b",
   "metadata": {},
   "source": [
    "# Index   \n",
    "\n",
    "\n",
    "- **Operators: Part II**        \n",
    "  1. **Arithmetic Operators**\n",
    "  2. **Assignment Operators**\n",
    "  3. **Comparison Operators**\n",
    "  4. **Logical Operators**\n",
    "  5. **Identity Operators**\n",
    "  6. **Membership Operators**\n",
    "  7. **Bitwise Operators**    \n",
    "  \n",
    "\n",
    "\n",
    "- **Activities**"
   ]
  },
  {
   "cell_type": "markdown",
   "id": "a1bedc10",
   "metadata": {},
   "source": [
    "---"
   ]
  },
  {
   "cell_type": "markdown",
   "id": "59001178",
   "metadata": {},
   "source": [
    "# Operators \n",
    "#### Part II"
   ]
  },
  {
   "cell_type": "markdown",
   "id": "2ddfab80",
   "metadata": {},
   "source": [
    "Python has the following Operators:\n",
    "\n",
    "1. Arithmetic operators\n",
    "2. Assignment operators\n",
    "3. Comparison operators\n",
    "4. Logical operators\n",
    "5. Identity operators\n",
    "6. Membership operators\n",
    "7. Bitwise operators"
   ]
  },
  {
   "cell_type": "markdown",
   "id": "772896f2",
   "metadata": {},
   "source": [
    "<br>"
   ]
  },
  {
   "cell_type": "markdown",
   "id": "cf7923fd",
   "metadata": {},
   "source": [
    "## 4. Logical Operators   \n",
    "\n",
    "The logical operators combine the `True` or `False` value of variables or expressions so that you can determine their resultant truth value. We use logical operators to create boolean expressions which important in decision making.    \n",
    "\n",
    "- They perform \n",
    "    - Logical AND\n",
    "    - Logical OR\n",
    "    - Logical NOT Operations"
   ]
  },
  {
   "cell_type": "markdown",
   "id": "dcc030f3",
   "metadata": {},
   "source": [
    "### 1. AND Operator\n",
    "\n",
    "```\n",
    "a=10 \n",
    "b=20\n",
    "a>10 and b>10\n",
    "```\n",
    "\n",
    "In the above expression, there are two boolean expressions separated by AND. depends upon the Truth value of both the expressions, AND operator will give a final Truth value. Here `a>10` is False as a =10 and `b>10` is True as b =20.\n",
    "As a result the expression will become: `False and True` which gives a final Truth value of `False` as per the Truth Table of AND operator. The Truth Table of AND operator is decsribed below: \n",
    "\n",
    "<br> \n",
    "\n",
    "\n",
    "LHS | RHS | OUTPUT |\n",
    "---|---|---|\n",
    "False|False|False|\n",
    "False|True|False|\n",
    "True|False|False|\n",
    "True|True|True|\n",
    "\n",
    "\n",
    "In general, AND operator will give a `True` output only when both the operands/expressions are `True`.    \n",
    "If any one of the operands/expressions is `False` Truth value will be `False`.   \n"
   ]
  },
  {
   "cell_type": "markdown",
   "id": "4ba41dca",
   "metadata": {},
   "source": [
    "<br>\n",
    "<br>"
   ]
  },
  {
   "cell_type": "markdown",
   "id": "299f000b",
   "metadata": {},
   "source": [
    "**<font color=Crimson>Note for Mentor:</font>**      \n",
    "- Ask the students for some real-world situation where we perform and operation to take a decision.\n",
    "\n",
    "- Consider the following sentence in English:    \n",
    "If it’s sunny outside and you have a car, then you can go for an outing.   \n",
    "Mentor can explain the truth table of above sentence as follows:   \n",
    "| Sunny or not | have a car or not | can go for outing or not |\n",
    "| ---- | ---- | ---- |\n",
    "| Sunny | have a car | can go for outing |\n",
    "| Sunny | no car | cannot go for outing |\n",
    "| not sunny | have a car | cannot go for outing |\n",
    "| not sunny | no car | cannot go for outing |"
   ]
  },
  {
   "cell_type": "markdown",
   "id": "85427b93",
   "metadata": {},
   "source": [
    "<br>\n",
    "<br>"
   ]
  },
  {
   "cell_type": "code",
   "execution_count": 16,
   "id": "4a7a4d64",
   "metadata": {},
   "outputs": [
    {
     "name": "stdout",
     "output_type": "stream",
     "text": [
      "False\n"
     ]
    }
   ],
   "source": [
    "print(True and False)"
   ]
  },
  {
   "cell_type": "code",
   "execution_count": 17,
   "id": "5c28a2ea",
   "metadata": {},
   "outputs": [
    {
     "name": "stdout",
     "output_type": "stream",
     "text": [
      "False\n"
     ]
    }
   ],
   "source": [
    "print( False and True)"
   ]
  },
  {
   "cell_type": "code",
   "execution_count": 19,
   "id": "e8715a8a",
   "metadata": {},
   "outputs": [
    {
     "name": "stdout",
     "output_type": "stream",
     "text": [
      "True\n"
     ]
    }
   ],
   "source": [
    "print(True and True)"
   ]
  },
  {
   "cell_type": "code",
   "execution_count": 23,
   "id": "59f4f6bd",
   "metadata": {},
   "outputs": [
    {
     "name": "stdout",
     "output_type": "stream",
     "text": [
      "0\n"
     ]
    }
   ],
   "source": [
    "print(1 and 0)"
   ]
  },
  {
   "cell_type": "code",
   "execution_count": 3,
   "id": "eefa9ed0",
   "metadata": {},
   "outputs": [
    {
     "name": "stdout",
     "output_type": "stream",
     "text": [
      "True\n"
     ]
    }
   ],
   "source": [
    "a=10 \n",
    "b=20\n",
    "\n",
    "print(a>0 and b>10)"
   ]
  },
  {
   "cell_type": "code",
   "execution_count": 5,
   "id": "2bc12f16",
   "metadata": {},
   "outputs": [
    {
     "name": "stdout",
     "output_type": "stream",
     "text": [
      "True\n",
      "False\n"
     ]
    }
   ],
   "source": [
    "# To check a number is single digit or not?\n",
    "### and operator\n",
    "a = 5\n",
    "print(a>=0 and a<10)\n",
    "\n",
    "b = 11\n",
    "print(b>=0 and b<10)"
   ]
  },
  {
   "cell_type": "code",
   "execution_count": 6,
   "id": "25844e39",
   "metadata": {},
   "outputs": [
    {
     "name": "stdout",
     "output_type": "stream",
     "text": [
      "True\n"
     ]
    }
   ],
   "source": [
    "name = 'Rohith'\n",
    "gender = 'Male'\n",
    "age = 21\n",
    "print(gender=='Male' and age>=18)"
   ]
  },
  {
   "cell_type": "markdown",
   "id": "51f49842",
   "metadata": {},
   "source": [
    "<br>     "
   ]
  },
  {
   "cell_type": "markdown",
   "id": "3977694c",
   "metadata": {},
   "source": [
    "**<font color=brown>Note:</font>**        \n",
    "When we use logical `and` operator both the side of the expression has to be `True` to get a `True` output.      \n",
    "If any side of the expression is `False`, Output will be `False`.    "
   ]
  },
  {
   "cell_type": "markdown",
   "id": "914e0db7",
   "metadata": {},
   "source": [
    "<br>\n",
    "<br>"
   ]
  },
  {
   "cell_type": "markdown",
   "id": "11628df9",
   "metadata": {},
   "source": [
    "### 2. OR Operator\n",
    "\n",
    "```\n",
    "a=10 \n",
    "b=20\n",
    "a>10 or b>10\n",
    "```\n",
    "In the above expression, there are two boolean expressions separated by Logical OR. Depends upon the Truth value of both the expressions, OR operator will give a final Truth value. Here `a>10` is False as a =10 and `b>10` is True as b =20.\n",
    "As a result the expression will become: `False or True` which gives a final Truth value of `True` as per the Truth Table of OR operator. The Truth Table of OR operator is decsribed below: \n",
    "\n",
    "<br>\n",
    "\n",
    "\n",
    "\n",
    "LHS | RHS | OUTPUT |\n",
    "---|---|---|\n",
    "False|False|False|\n",
    "False|True|True|\n",
    "True|False|True|\n",
    "True|True|True|    \n",
    "\n",
    "\n",
    "In general, Logical OR operator will give a `True` output if any one of the operands/expressions is `True`.    \n",
    "It gives an output of `False` only when both the operands/expressions are `False`.  \n",
    "\n",
    "Now let see how logical `OR` working in python.     "
   ]
  },
  {
   "cell_type": "markdown",
   "id": "87f0ad4a",
   "metadata": {},
   "source": [
    "<br>\n",
    "<br>"
   ]
  },
  {
   "cell_type": "markdown",
   "id": "ad536804",
   "metadata": {},
   "source": [
    "**<font color=Crimson>Note for Mentor:</font>**       \n",
    "- Ask the students for some real world situation/statement in which logical OR can be implemented.      \n",
    "- Consider the following statement written in English:         \n",
    "For you to get an off day, either it's must be a public holiday or your mentor should be on leave.     \n",
    "Mentor can explain the truth table of above sentence as follows:     \n",
    "| Public holiday/not | mentor is on leave/not | Off day/not |\n",
    "| ---- | ---- | ---- |\n",
    "| public holiday | on leave | off day |\n",
    "| public holiday | not on leave | off day |\n",
    "| Not a public holiday | on leave | off day |\n",
    "| Not a public holiday | not on leave | not an off day |\n",
    "\n",
    "Now let see how Logical OR wroking in python.    \n",
    "<br>"
   ]
  },
  {
   "cell_type": "markdown",
   "id": "0f1aa199",
   "metadata": {},
   "source": [
    "<br>"
   ]
  },
  {
   "cell_type": "code",
   "execution_count": 9,
   "id": "13f6fb8a",
   "metadata": {},
   "outputs": [
    {
     "name": "stdout",
     "output_type": "stream",
     "text": [
      "True\n"
     ]
    }
   ],
   "source": [
    "print(True or True)"
   ]
  },
  {
   "cell_type": "code",
   "execution_count": 12,
   "id": "82df2681",
   "metadata": {},
   "outputs": [
    {
     "name": "stdout",
     "output_type": "stream",
     "text": [
      "True\n"
     ]
    }
   ],
   "source": [
    "print(True or False)"
   ]
  },
  {
   "cell_type": "code",
   "execution_count": 13,
   "id": "e3b61966",
   "metadata": {},
   "outputs": [
    {
     "name": "stdout",
     "output_type": "stream",
     "text": [
      "1\n"
     ]
    }
   ],
   "source": [
    "print(1 or 0)"
   ]
  },
  {
   "cell_type": "code",
   "execution_count": 14,
   "id": "caf9b460",
   "metadata": {},
   "outputs": [
    {
     "name": "stdout",
     "output_type": "stream",
     "text": [
      "True\n"
     ]
    }
   ],
   "source": [
    "print(True or abcd)"
   ]
  },
  {
   "cell_type": "code",
   "execution_count": 8,
   "id": "9f5305c4",
   "metadata": {},
   "outputs": [
    {
     "name": "stdout",
     "output_type": "stream",
     "text": [
      "True\n"
     ]
    }
   ],
   "source": [
    "a = 10\n",
    "b = 5\n",
    "\n",
    "\n",
    "print(b<a or b==a)"
   ]
  },
  {
   "cell_type": "code",
   "execution_count": 1,
   "id": "c791a299",
   "metadata": {},
   "outputs": [
    {
     "name": "stdout",
     "output_type": "stream",
     "text": [
      "True\n"
     ]
    }
   ],
   "source": [
    "option = 'y'\n",
    "print( option=='y' or option=='Y')   # here final bool expression is True or False => True"
   ]
  },
  {
   "cell_type": "code",
   "execution_count": 2,
   "id": "1913beab",
   "metadata": {},
   "outputs": [
    {
     "name": "stdout",
     "output_type": "stream",
     "text": [
      "False\n"
     ]
    }
   ],
   "source": [
    "color = 'blue'\n",
    "\n",
    "print( color== 'black' or color == 'white')    # here final bool expression is False or False => False"
   ]
  },
  {
   "cell_type": "markdown",
   "id": "eab3c709",
   "metadata": {},
   "source": [
    "<br>"
   ]
  },
  {
   "cell_type": "markdown",
   "id": "1101cd55",
   "metadata": {},
   "source": [
    "**<font color=brown>Note:</font>**        \n",
    "When we use logical `OR` operator if any one side of the expression is `True`, output will be `True`.         \n",
    "Output will be `False` only when both the side of the expression is `False`        "
   ]
  },
  {
   "cell_type": "markdown",
   "id": "a3e8159b",
   "metadata": {},
   "source": [
    "<br>\n",
    "<br>"
   ]
  },
  {
   "cell_type": "markdown",
   "id": "e5aecccf",
   "metadata": {},
   "source": [
    "### 3. NOT Operator\n",
    "\n",
    "```\n",
    "a=10 \n",
    "b=20\n",
    "\n",
    "not(a>b)\n",
    "```\n",
    "In the above expression, there is one boolean expression negated using NOT operator. Depends upon the Truth value of the expression , NOT operator will give a final Truth value. Here `a>10` is False as a =10 and b =20. \n",
    "As a result the expression will become: `not False` which gives a final Truth value of `True` as per the Truth Table of NOT operator. The Truth Table of NOT operator is decsribed below:\n",
    "\n",
    "| Operand's Truth value | Output |\n",
    "| -------- | -------- |\n",
    "| True | False |\n",
    "| False | True |\n",
    "\n",
    "In general we can say that, `Not` is the negation operator. Whcih gives True output when input is False and False output when input is True. It's as simple as that.   \n"
   ]
  },
  {
   "cell_type": "markdown",
   "id": "10eb4435",
   "metadata": {},
   "source": [
    "<br>\n",
    "<br>"
   ]
  },
  {
   "cell_type": "markdown",
   "id": "34af13da",
   "metadata": {},
   "source": [
    "**<font color=Crimson>Note for Mentor:</font>**     \n",
    "- Ask the students for some real world situation/statement in which logical NOT can be implemented.          \n",
    "- Consider the following statement written in English:      \n",
    "If there is no power supply in house, Inverter battery will start working.        \n",
    "Mentor can explain the truth table of above sentence as follows:        \n",
    "| power supply is there/not | Inverter will work/not |\n",
    "| ------------------------- | ---------------------- |\n",
    "| Power supply is there | Inverter will not work |\n",
    "| Power supply is not there | Inverter will work |\n"
   ]
  },
  {
   "cell_type": "markdown",
   "id": "972087b4",
   "metadata": {},
   "source": [
    "<br>"
   ]
  },
  {
   "cell_type": "code",
   "execution_count": 27,
   "id": "2c19efd6",
   "metadata": {},
   "outputs": [
    {
     "data": {
      "text/plain": [
       "False"
      ]
     },
     "execution_count": 27,
     "metadata": {},
     "output_type": "execute_result"
    }
   ],
   "source": [
    "not True"
   ]
  },
  {
   "cell_type": "code",
   "execution_count": 28,
   "id": "dd59fe82",
   "metadata": {},
   "outputs": [
    {
     "data": {
      "text/plain": [
       "True"
      ]
     },
     "execution_count": 28,
     "metadata": {},
     "output_type": "execute_result"
    }
   ],
   "source": [
    "not False"
   ]
  },
  {
   "cell_type": "code",
   "execution_count": null,
   "id": "48e327c8",
   "metadata": {},
   "outputs": [],
   "source": [
    "a = 10\n",
    "b = 20\n",
    "print(a>b)\n",
    "print(not(a>b))"
   ]
  },
  {
   "cell_type": "markdown",
   "id": "68a31976",
   "metadata": {},
   "source": [
    "<br>\n",
    "<br>"
   ]
  },
  {
   "cell_type": "markdown",
   "id": "a67ffce8",
   "metadata": {},
   "source": [
    "**<font color=orange>Summary:</font>**   \n",
    "The following table will give a summary of logical operators.     \n",
    "\n",
    "| Operator | Description | Truth Table |\n",
    "| ----- | ----- | ----- |\n",
    "| **and** | Determines whether both the operands are True | True and True => True      |\n",
    "|       |                                               | True and False => False    |\n",
    "|       |                                               | False and True => Fasle    |\n",
    "|       |                                               | False and Fasle => Fasle   |\n",
    "| | | |\n",
    "| **or**  | Determines when one of two operands is True.  | True and True => True      |\n",
    "|       |                                               | True and False => True     |\n",
    "|       |                                               | False and True => True     |\n",
    "|       |                                               | False and Fasle => Fasle   |\n",
    "| | | |\n",
    "| **not** | Negates the truth value of a single operand.  | not True => False          |\n",
    "|       |                                               | not False => True          |\n",
    "\n",
    "\n",
    "\n",
    "<br>\n",
    "<br>"
   ]
  },
  {
   "cell_type": "markdown",
   "id": "220a58dc",
   "metadata": {},
   "source": [
    "<br>\n",
    "<br>"
   ]
  },
  {
   "cell_type": "markdown",
   "id": "8bb0b0e2",
   "metadata": {},
   "source": [
    "**<font color=red>Question 1</font>**      \n",
    "Predict True or False     \n",
    "```\n",
    "    a=10\n",
    "    b=5\n",
    "    c=8\n",
    "    print(\"1: \",(a<b)and(b>c))\n",
    "    print(\"2: \",(a>=b)or(b>=c))\n",
    "    print(\"3: \",(a-b)>=(b+c))\n",
    "    print(\"4: \",(a>b) and (b<=c) and (c<b))\n",
    "```"
   ]
  },
  {
   "cell_type": "code",
   "execution_count": 3,
   "id": "b3040bcb",
   "metadata": {},
   "outputs": [
    {
     "name": "stdout",
     "output_type": "stream",
     "text": [
      "1:  False\n",
      "2:  True\n",
      "3:  False\n",
      "4:  False\n"
     ]
    }
   ],
   "source": [
    "a=10\n",
    "b=5\n",
    "c=8\n",
    "print(\"1: \",(a<b)and(b>c))\n",
    "print(\"2: \",(a>=b)or(b>=c))\n",
    "print(\"3: \",(a-b)>=(b+c))\n",
    "print(\"4: \",(a>b) and (b<=c) and (c<b))       "
   ]
  },
  {
   "cell_type": "markdown",
   "id": "fb4b8b36",
   "metadata": {},
   "source": [
    "<br>"
   ]
  },
  {
   "cell_type": "markdown",
   "id": "684fa4a6",
   "metadata": {},
   "source": [
    "**<font color=red>Question 2</font>**        \n",
    "Accept three numbers from user say A,B and C.           \n",
    "Print True if A is greatest among them else False.      "
   ]
  },
  {
   "cell_type": "code",
   "execution_count": 6,
   "id": "40ff0c1a",
   "metadata": {},
   "outputs": [
    {
     "name": "stdout",
     "output_type": "stream",
     "text": [
      "Enter number1: 10\n",
      "Enter number2: -345\n",
      "Enter number3: 0\n",
      "True\n"
     ]
    }
   ],
   "source": [
    "a = int(input(\"Enter number1: \"))\n",
    "b = int(input(\"Enter number2: \"))\n",
    "c= int(input(\"Enter number3: \"))\n",
    "print(a>b and a>c)"
   ]
  },
  {
   "cell_type": "markdown",
   "id": "086258b1",
   "metadata": {},
   "source": [
    "<br>\n",
    "<br>"
   ]
  },
  {
   "cell_type": "markdown",
   "id": "258c9d91",
   "metadata": {},
   "source": [
    "## 5. Identity Operator\n",
    "\n",
    "Identity operators can be used for two purposes. First usage is to determine whether a value or expression is of a certain class or type and the second usage is to check whether two values are located in same part of the memory.    \n",
    "`is` and `is not` are the identity operators both are used to check if two values are located on the same part of the memory.   \n",
    "There are two identity operators in python:\n",
    "- is\n",
    "- is not   \n",
    "<br> \n",
    "> Two variables that are equal does not imply that they are identical\n"
   ]
  },
  {
   "cell_type": "markdown",
   "id": "07cb11a2",
   "metadata": {},
   "source": [
    "#### is operator:    \n",
    "\n",
    "Usage 1::       \n",
    "- True, if the given operand/expression belongs to the given class.\n",
    "- For example,       \n",
    "Expression `type(10) is int` will give `True` as output.    \n",
    "<br>\n",
    "\n",
    "Usage 2::   \n",
    "- True, if the operands are identical    \n",
    "- i.e Evaluates to true if the variables on either side of the operator point to the same object and false otherwise.  \n",
    "- For example,    \n",
    "```\n",
    "    Expression (a is b) return True if id(a) = id(b) \n",
    "    Where id(var) is used to get the memory location of that particaluar varaiable.   \n",
    "```\n",
    "<br>\n",
    "<br>\n",
    "\n",
    "#### is not operator: \n",
    "\n",
    "Usage 1::     \n",
    "- True, if the given operand/expression NOT belongs to the given class.\n",
    "- For example,       \n",
    "Expression `type(10) is not str` will give `True` as output.    \n",
    "<br>\n",
    "\n",
    "Usage 2::       \n",
    "- True if the operands are not identical    \n",
    "- i.e Evaluates to False if the variables on either side of the operator point to the same object and true otherwise.   \n",
    "- For example,  \n",
    "```\n",
    "    Expression (a is b) return True if id(a) ≠ id(b)\n",
    "```\n",
    "<br>"
   ]
  },
  {
   "cell_type": "code",
   "execution_count": 6,
   "id": "0b8edceb",
   "metadata": {},
   "outputs": [
    {
     "name": "stdout",
     "output_type": "stream",
     "text": [
      "140723002882112\n",
      "140723002882112\n"
     ]
    }
   ],
   "source": [
    "a = 10\n",
    "b = 10\n",
    "print( id(a))\n",
    "print( id(b))"
   ]
  },
  {
   "cell_type": "code",
   "execution_count": 2,
   "id": "e18d7ddd",
   "metadata": {},
   "outputs": [
    {
     "name": "stdout",
     "output_type": "stream",
     "text": [
      "True\n",
      "True\n"
     ]
    }
   ],
   "source": [
    "# as strings are not mutable they occupy the same memory\n",
    "a = \"name\"\n",
    "b = \"name\"\n",
    "print(a is b)\n",
    "print(a==b)"
   ]
  },
  {
   "cell_type": "code",
   "execution_count": 3,
   "id": "12090a88",
   "metadata": {},
   "outputs": [
    {
     "name": "stdout",
     "output_type": "stream",
     "text": [
      "2871522111344\n",
      "2871522111344\n"
     ]
    }
   ],
   "source": [
    "print(id(a))\n",
    "print(id(b))"
   ]
  },
  {
   "cell_type": "code",
   "execution_count": 9,
   "id": "986b2dfd",
   "metadata": {},
   "outputs": [
    {
     "name": "stdout",
     "output_type": "stream",
     "text": [
      "False\n",
      "True\n",
      "True\n",
      "False\n"
     ]
    }
   ],
   "source": [
    "# To check the type()\n",
    "a = 10\n",
    "b = 'Python'\n",
    "c = 25.5\n",
    "\n",
    "print(type(a) is int)\n",
    "print(type(b) is str)\n",
    "print(type(c) is int)"
   ]
  },
  {
   "cell_type": "markdown",
   "id": "74d1c3dc",
   "metadata": {},
   "source": [
    "<br>"
   ]
  },
  {
   "cell_type": "markdown",
   "id": "381d1b5c",
   "metadata": {},
   "source": [
    "**<font color=Crimson>Note for Mentor:</font>**           \n",
    "You can show them few examples of `is` and `is not` with the help of `id()` function.     "
   ]
  },
  {
   "cell_type": "markdown",
   "id": "5f0d3c0b",
   "metadata": {},
   "source": [
    "<br>"
   ]
  },
  {
   "cell_type": "code",
   "execution_count": 32,
   "id": "eba20ac0",
   "metadata": {},
   "outputs": [
    {
     "name": "stdout",
     "output_type": "stream",
     "text": [
      "True\n"
     ]
    }
   ],
   "source": [
    "a = 3\n",
    "b = 3\n",
    "print(a is b)"
   ]
  },
  {
   "cell_type": "code",
   "execution_count": 31,
   "id": "4c715c34",
   "metadata": {},
   "outputs": [
    {
     "name": "stdout",
     "output_type": "stream",
     "text": [
      "False\n"
     ]
    }
   ],
   "source": [
    "# as the lists elements can be changed they do not occupy the same memory\n",
    "a = [1,5,3]\n",
    "b = [1,5,3]\n",
    "print(a is b)"
   ]
  },
  {
   "cell_type": "markdown",
   "id": "3d9e217b",
   "metadata": {},
   "source": [
    "<br>"
   ]
  },
  {
   "cell_type": "markdown",
   "id": "6c8e28f7",
   "metadata": {},
   "source": [
    "**<font color=Brown>Note:</font>**               \n",
    "`is` and `is not` can also be used to check the type of a variable belongs to a given class.       \n",
    "i.e      \n",
    "```     \n",
    "   a = 'Indian'        \n",
    "   b = 10        \n",
    "   print( type(a) is str )        \n",
    "   print( type(b) is not float)        \n",
    "``` \n",
    "   **<font color=Grey>Expected Output:</font>**           \n",
    "```\n",
    "   True\n",
    "   True\n",
    "```"
   ]
  },
  {
   "cell_type": "markdown",
   "id": "adf90a40",
   "metadata": {},
   "source": [
    "<br>\n",
    "<br>"
   ]
  },
  {
   "cell_type": "markdown",
   "id": "14b69540",
   "metadata": {},
   "source": [
    "## 6. Membership Operator\n",
    "\n",
    "The membership operators detect the appearance of a value within a sequence and then output the truth value of that appearance. Where a sequence can be a list, a string , a tuple , a dictionary etc.   \n",
    "There are two membership operators in python: `in` and `not in`.   \n",
    "<br>"
   ]
  },
  {
   "cell_type": "markdown",
   "id": "e603a004",
   "metadata": {},
   "source": [
    "#### in:   \n",
    "- Returns true if the specified value/element present in the sequence.       \n",
    "- For example:        \n",
    "```    \n",
    "    13 in [11,13,15,17,19] , returns True     \n",
    "    21 in [11,13,15,17,19], returns False       \n",
    "```        \n",
    "\n",
    "#### not in:   \n",
    "- Returns true if the specified value/element not present in the sequence.         \n",
    "- For example:       \n",
    "```     \n",
    "    'm' not in 'apple' , returns True       \n",
    "    'p' not in 'apple' , returns False       \n",
    "    \n",
    "```     \n",
    "    "
   ]
  },
  {
   "cell_type": "markdown",
   "id": "57c3ac86",
   "metadata": {},
   "source": [
    "<br>     "
   ]
  },
  {
   "cell_type": "code",
   "execution_count": 46,
   "id": "53213ead",
   "metadata": {},
   "outputs": [
    {
     "data": {
      "text/plain": [
       "True"
      ]
     },
     "execution_count": 46,
     "metadata": {},
     "output_type": "execute_result"
    }
   ],
   "source": [
    "nums = [1,2,3,4,5]\n",
    "1 in nums\n",
    "10 not in nums"
   ]
  },
  {
   "cell_type": "code",
   "execution_count": 47,
   "id": "3c71a27a",
   "metadata": {},
   "outputs": [
    {
     "data": {
      "text/plain": [
       "True"
      ]
     },
     "execution_count": 47,
     "metadata": {},
     "output_type": "execute_result"
    }
   ],
   "source": [
    "6 in [10,9,8,7,6,5,4,3,2,1]"
   ]
  },
  {
   "cell_type": "code",
   "execution_count": 43,
   "id": "d2c5e590",
   "metadata": {},
   "outputs": [
    {
     "data": {
      "text/plain": [
       "False"
      ]
     },
     "execution_count": 43,
     "metadata": {},
     "output_type": "execute_result"
    }
   ],
   "source": [
    "n = \"name\"\n",
    "\"g\" in n"
   ]
  },
  {
   "cell_type": "code",
   "execution_count": 48,
   "id": "9b8ed912",
   "metadata": {},
   "outputs": [
    {
     "name": "stdout",
     "output_type": "stream",
     "text": [
      "True\n"
     ]
    }
   ],
   "source": [
    "word = 'querty'\n",
    "print('r' in word)"
   ]
  },
  {
   "cell_type": "code",
   "execution_count": 42,
   "id": "711672ff",
   "metadata": {},
   "outputs": [
    {
     "data": {
      "text/plain": [
       "True"
      ]
     },
     "execution_count": 42,
     "metadata": {},
     "output_type": "execute_result"
    }
   ],
   "source": [
    "week = ['Monday','Tuesday','Wednesday','Thursday','Friday','Saturday']\n",
    "'Thursday' in week"
   ]
  },
  {
   "cell_type": "code",
   "execution_count": 45,
   "id": "dc14e8a4",
   "metadata": {},
   "outputs": [
    {
     "name": "stdout",
     "output_type": "stream",
     "text": [
      "True\n",
      "False\n"
     ]
    }
   ],
   "source": [
    "tup = (10,20,30,40,50)\n",
    "print(20 in tup)\n",
    "print(200 in tup)"
   ]
  },
  {
   "cell_type": "markdown",
   "id": "ce6d734d",
   "metadata": {},
   "source": [
    "<br>\n",
    "<br>"
   ]
  },
  {
   "cell_type": "markdown",
   "id": "4572c1ef",
   "metadata": {},
   "source": [
    "**<font color=Crimson>Note for Mentor:</font>**        \n",
    "Before start explaining the precedence and associativity of python operators, ask them to predict the output ofthe following mathematical expression written in python:   \n",
    "```\n",
    "    a = 2    \n",
    "    b = 5    \n",
    "    c = 0   \n",
    "    d = 1\n",
    "    result = a+b*c/d-a\n",
    "    print(result)     \n",
    "```\n",
    "After getting the answers from students, mentor can run the same code and show them the result.   \n",
    "\n",
    "After this example mentor can start explaining what is the order of operation in python as follows:    \n",
    "\n",
    "<br>      "
   ]
  },
  {
   "cell_type": "markdown",
   "id": "db50d34c",
   "metadata": {},
   "source": [
    "<br>      \n",
    "<br>         "
   ]
  },
  {
   "cell_type": "markdown",
   "id": "7c3fd485",
   "metadata": {},
   "source": [
    "## Order of  Operation      \n",
    "When we create some simple statements that contain just one operator, the order of determining the output of that operator is also simple. However, when we start working with multiple operators, it becomes necessary to determine which operator to evaluate first. In order to address this case python has some rules regarding the Order or Precedence of Operators. \n",
    "When two operators have the same precedence, associativity helps to determine the order of operations. \n",
    "Simlaryly associativity is the order in which an expression is evaluated that has multiple operators of the same precedence. Almost all the operators have left-to-right associativity.   \n",
    "\n",
    "The precedence and associativity of python operators are described in the following table in which all the operators listed from highest precedence to lowest.      \n",
    "    \n",
    "\n",
    "Operators | Description | Associativity \n",
    "-----|----|-----\n",
    "( )\t|Parentheses | \tleft-to-right \n",
    "**\t|Exponent| \tright-to-left\n",
    "+ - |Unary Operators | \n",
    "*  /  %|\tMultiplication/division/modulus|\tleft-to-right\n",
    "+  -\t|Addition/subtraction|\tleft-to-right\n",
    "<<  >>\t| Bitwise shift left, Bitwise shift right|\tleft-to-right\n",
    ">  >=  > >=| Relational less than/lesser  than or equal to|\tleft-to-right\n",
    " | Relational greater than/greater  than or equal to| \n",
    "==  !=|\tRelational is equal to/is not equal to|\tleft-to-right\n",
    "is, is not | Identity Operator | left to right\n",
    "in, not in | Membership Operator | \n",
    "not | Logical NOT | left to right \n",
    "and | Logical AND | left to right\n",
    "or | Logical OR | left to right\n",
    "= += -= | Assignement operators | right to left "
   ]
  },
  {
   "cell_type": "code",
   "execution_count": 53,
   "id": "06dd0ac9",
   "metadata": {},
   "outputs": [
    {
     "data": {
      "text/plain": [
       "102.0"
      ]
     },
     "execution_count": 53,
     "metadata": {},
     "output_type": "execute_result"
    }
   ],
   "source": [
    "20*5-2/(2*1)+3\n",
    "\n",
    "#20*5-2/2+3\n",
    "#100-2/2+3\n",
    "#100-1.0+3\n",
    "#99.0+3\n",
    "#102.0"
   ]
  },
  {
   "cell_type": "code",
   "execution_count": 59,
   "id": "300c550c",
   "metadata": {},
   "outputs": [
    {
     "data": {
      "text/plain": [
       "40.0"
      ]
     },
     "execution_count": 59,
     "metadata": {},
     "output_type": "execute_result"
    }
   ],
   "source": [
    "4+3**2 *(20/5)"
   ]
  },
  {
   "cell_type": "code",
   "execution_count": 8,
   "id": "5e0bf655",
   "metadata": {},
   "outputs": [
    {
     "name": "stdout",
     "output_type": "stream",
     "text": [
      "20.0\n",
      "30.0\n",
      "20.0\n",
      "30.0\n"
     ]
    }
   ],
   "source": [
    "#example with some mathematical expressions\n",
    "a = 10\n",
    "b = 5\n",
    "c = 2\n",
    "d = 1\n",
    "\n",
    "exp1 = a+b*c/d\n",
    "exp2 = (a+b)*c/d\n",
    "exp3 = a+b*(c/d)\n",
    "exp4 = (a+b)*(c/d)\n",
    "\n",
    "print(exp1)\n",
    "print(exp2)\n",
    "print(exp3)\n",
    "print(exp4)"
   ]
  },
  {
   "cell_type": "code",
   "execution_count": 49,
   "id": "99e5477d",
   "metadata": {},
   "outputs": [
    {
     "name": "stdout",
     "output_type": "stream",
     "text": [
      "250.0\n",
      "5\n",
      "625\n"
     ]
    }
   ],
   "source": [
    "# Left-right associativity  \n",
    "# 50 / 2 * 10 is calculated as   \n",
    "print(50 / 2 * 10)  \n",
    "    \n",
    "# Left-right associativity  \n",
    "# 4 - 2 + 3 is calculated as   \n",
    "print(4 - 2 + 3)   \n",
    "    \n",
    "# right-left associativity  \n",
    "# 5 ** 2 ** 2 is calculated as   \n",
    "# 5 ** (2 ** 2) and not as (5 ** 2) ** 2  \n",
    "print(5 ** 2 ** 2) "
   ]
  },
  {
   "cell_type": "markdown",
   "id": "95cba0b8",
   "metadata": {},
   "source": [
    "<br>\n",
    "<br>"
   ]
  },
  {
   "cell_type": "markdown",
   "id": "0e3432e1",
   "metadata": {},
   "source": [
    "**<font color=red>Question 6</font>**     \n",
    "What will be the correct output select from the options.       \n",
    "```\n",
    "    a=10\n",
    "    b=0\n",
    "    c=2\n",
    "    d=5\n",
    "    result = a-d+b//d*c**2\n",
    "    print(result)\n",
    "```\n",
    "<b><font color=blue>\n",
    "&emsp; &emsp; A. 0   \n",
    "&emsp; &emsp; B. 6   \n",
    "&emsp; &emsp; C. 5   \n",
    "&emsp; &emsp; D. 5.0   \n",
    "</font></b>"
   ]
  },
  {
   "cell_type": "markdown",
   "id": "fcec4746",
   "metadata": {},
   "source": [
    "---"
   ]
  },
  {
   "cell_type": "markdown",
   "id": "81415a4e",
   "metadata": {},
   "source": [
    "<br>     \n",
    "<br>      "
   ]
  },
  {
   "cell_type": "markdown",
   "id": "82174eb3",
   "metadata": {},
   "source": [
    "# <font color=Blue>ACTIVITIES</font>    "
   ]
  },
  {
   "cell_type": "markdown",
   "id": "92d3627e",
   "metadata": {},
   "source": [
    "<br>    "
   ]
  },
  {
   "cell_type": "markdown",
   "id": "5768db42",
   "metadata": {},
   "source": [
    "**<font color=Green>Light</font>**    "
   ]
  },
  {
   "cell_type": "markdown",
   "id": "d5c5d850",
   "metadata": {},
   "source": [
    "1. Accept a name from user and Print `True` if **Blank Space** is present in the name.   \n",
    "\n",
    "\n",
    "2. Accept a number from user and print `True` if it is a three digit number.   \n",
    "\n",
    "\n",
    "3. Accept an alphabet from user and print `False` if it is not a vowel.    \n",
    " "
   ]
  },
  {
   "cell_type": "markdown",
   "id": "8286b636",
   "metadata": {},
   "source": [
    "<br>     \n",
    "<br>      "
   ]
  },
  {
   "cell_type": "markdown",
   "id": "2fbe74ab",
   "metadata": {},
   "source": [
    "**<font color=Purple>Moderate</font>**    "
   ]
  },
  {
   "cell_type": "markdown",
   "id": "7bd74a9b",
   "metadata": {},
   "source": [
    "4. Consider a list containing all the prime numbers between 10 and 30.   \n",
    "   A. Print `True` if 17 is present.   \n",
    "   B. Print `False` if 29 is not present.\n"
   ]
  },
  {
   "cell_type": "markdown",
   "id": "8c2a2d29",
   "metadata": {},
   "source": [
    "5. Consider the following code snippet, find the errors and fix them.      \n",
    "```\n",
    "   data1 = 'age'\n",
    "   data2 = 25\n",
    "   Print 'True' if type of data1 is str\n",
    "   Print 'True' if type of data2 is not float   \n",
    "```\n",
    " "
   ]
  },
  {
   "cell_type": "markdown",
   "id": "1fb78c01",
   "metadata": {},
   "source": [
    "<br>     \n",
    "<br>      "
   ]
  },
  {
   "cell_type": "markdown",
   "id": "f7857fc9",
   "metadata": {},
   "source": [
    "**<font color=Crimson>Complex</font>**        "
   ]
  },
  {
   "cell_type": "markdown",
   "id": "4f23d9fa",
   "metadata": {},
   "source": [
    "6. Accept the values of `a`,`b` and `c` of a quadratic equation of the form `ax² + bx + c = 0`, where `a` ≠ 0.   \n",
    "   A. Print the equation in the above mentioned format   \n",
    "   B. Find the determinant of the equation   \n",
    "   C. Print True if the equation has real roots.     \n",
    "   <font color=Crimson>**Hint:**</font>   \n",
    "   determinant = b² - 4ac   \n",
    "   square can be denoted as ^2 while printing\n",
    "\n",
    "\n",
    "<br>\n",
    "<br>"
   ]
  },
  {
   "cell_type": "markdown",
   "id": "7b311047",
   "metadata": {},
   "source": [
    "----"
   ]
  },
  {
   "cell_type": "markdown",
   "id": "6f8f7de8",
   "metadata": {},
   "source": [
    "# Answers"
   ]
  },
  {
   "cell_type": "code",
   "execution_count": 9,
   "id": "083fc40f",
   "metadata": {},
   "outputs": [
    {
     "name": "stdout",
     "output_type": "stream",
     "text": [
      "Enter the name: Rahul Sharma\n",
      "True\n"
     ]
    }
   ],
   "source": [
    "# Activity 1\n",
    "name = input(\"Enter the name: \")\n",
    "print(' ' in name)"
   ]
  },
  {
   "cell_type": "markdown",
   "id": "50b8db09",
   "metadata": {},
   "source": [
    "<br>         "
   ]
  },
  {
   "cell_type": "code",
   "execution_count": 10,
   "id": "703cf4c6",
   "metadata": {},
   "outputs": [
    {
     "name": "stdout",
     "output_type": "stream",
     "text": [
      "Enter a number: 234\n",
      "True\n"
     ]
    }
   ],
   "source": [
    "#Activity 2\n",
    "num = int(input(\"Enter a number: \"))\n",
    "print(num>=100 and num<=999)"
   ]
  },
  {
   "cell_type": "markdown",
   "id": "cd797044",
   "metadata": {},
   "source": [
    "<br>         "
   ]
  },
  {
   "cell_type": "code",
   "execution_count": 11,
   "id": "e5efe805",
   "metadata": {},
   "outputs": [
    {
     "name": "stdout",
     "output_type": "stream",
     "text": [
      "Enter an alphabet: f\n",
      "False\n"
     ]
    }
   ],
   "source": [
    "#Activity 3 :: Method 1\n",
    "letter = input(\"Enter an alphabet: \")\n",
    "print('a' == letter or 'e' == letter or 'i'==letter or 'o'==letter or 'u'==letter)"
   ]
  },
  {
   "cell_type": "code",
   "execution_count": 12,
   "id": "24d01bd1",
   "metadata": {},
   "outputs": [
    {
     "name": "stdout",
     "output_type": "stream",
     "text": [
      "Enter an alphabet: h\n",
      "False\n"
     ]
    }
   ],
   "source": [
    "#Activity 3 :: Method 2\n",
    "letter = input(\"Enter an alphabet: \")\n",
    "print(letter in 'aeiou')"
   ]
  },
  {
   "cell_type": "markdown",
   "id": "f7b55902",
   "metadata": {},
   "source": [
    "<br>         "
   ]
  },
  {
   "cell_type": "code",
   "execution_count": 15,
   "id": "90ec5ea5",
   "metadata": {},
   "outputs": [
    {
     "name": "stdout",
     "output_type": "stream",
     "text": [
      "True\n",
      "True\n"
     ]
    }
   ],
   "source": [
    "#Activity 4\n",
    "lis = [11,13,17,19,23,29]\n",
    "print(17 in lis)\n",
    "print(29 in lis)"
   ]
  },
  {
   "cell_type": "markdown",
   "id": "fecc040b",
   "metadata": {},
   "source": [
    "<br>         "
   ]
  },
  {
   "cell_type": "code",
   "execution_count": 16,
   "id": "c80faf6f",
   "metadata": {},
   "outputs": [
    {
     "name": "stdout",
     "output_type": "stream",
     "text": [
      "True\n",
      "True\n"
     ]
    }
   ],
   "source": [
    "#Activity 5\n",
    "data1 = 'age'\n",
    "data2 = 25\n",
    "print(type(data1) is str)\n",
    "print(type(data2) is not float)"
   ]
  },
  {
   "cell_type": "markdown",
   "id": "2ce616ba",
   "metadata": {},
   "source": [
    "<br>         "
   ]
  },
  {
   "cell_type": "code",
   "execution_count": 1,
   "id": "9d732c7e",
   "metadata": {},
   "outputs": [
    {
     "name": "stdout",
     "output_type": "stream",
     "text": [
      "Enter a: 1\n",
      "Enter b: 5\n",
      "Enter c: 6\n",
      "Equation:  1x^2+5x+6=0\n",
      "Determinant= 1\n",
      "True\n"
     ]
    }
   ],
   "source": [
    "# Activity 6\n",
    "#------------\n",
    "\n",
    "a = int(input(\"Enter a: \"))\n",
    "b = int(input(\"Enter b: \"))\n",
    "c = int(input(\"Enter c: \"))\n",
    "\n",
    "eqn = str(a)+'x^2+'+str(b)+'x+'+str(c)+'=0'\n",
    "print(\"Equation: \",eqn)\n",
    "\n",
    "determinant = (b**2) - (4*a*c)\n",
    "print(\"Determinant=\",determinant)\n",
    "print(determinant>=0)"
   ]
  },
  {
   "cell_type": "markdown",
   "id": "0c9797e4",
   "metadata": {},
   "source": [
    "------"
   ]
  }
 ],
 "metadata": {
  "kernelspec": {
   "display_name": "Python 3",
   "language": "python",
   "name": "python3"
  },
  "language_info": {
   "codemirror_mode": {
    "name": "ipython",
    "version": 3
   },
   "file_extension": ".py",
   "mimetype": "text/x-python",
   "name": "python",
   "nbconvert_exporter": "python",
   "pygments_lexer": "ipython3",
   "version": "3.8.3"
  }
 },
 "nbformat": 4,
 "nbformat_minor": 5
}
