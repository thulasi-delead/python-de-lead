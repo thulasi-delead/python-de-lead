{
 "cells": [
  {
   "cell_type": "markdown",
   "id": "14b579bc",
   "metadata": {},
   "source": [
    "# Index   \n",
    "\n",
    "* **High Level Language**   \n",
    "\n",
    "\n",
    "* **Compiler Vs Interpreter**   \n",
    "\n",
    "\n",
    "* **What is an Algorithm?**   \n",
    "\n",
    "\n",
    "* **What is  a Program?**   \n",
    "\n",
    "\n",
    "* **What is a Script?**   \n",
    "  * .py extension   \n",
    "  \n",
    "\n",
    "* **Errors in program**   \n",
    "  * Syntax Error   \n",
    "  * Logical Error   \n",
    "  * Semantic Error   \n",
    " \n",
    "\n",
    "* **Shell**   \n",
    "  * Terminal\n",
    "  * Text editor Vs Shell   \n",
    "  * How to check the version of python   \n",
    "  \n",
    "  \n",
    "* **How to check python version ?**\n",
    "\n",
    "\n",
    "\n",
    "* **How to get the location of python interpreter ?**\n",
    "\n",
    "\n",
    "* **Working With VS CODE**   \n",
    "\n",
    "\n",
    "* **Working with PyCharm**   \n",
    "\n",
    "\n",
    "* **Coding in Pydroid**  \n",
    "\n",
    "---"
   ]
  },
  {
   "cell_type": "markdown",
   "id": "5f6f0177",
   "metadata": {},
   "source": [
    "<br>    \n",
    "<br>        "
   ]
  },
  {
   "cell_type": "markdown",
   "id": "a0cb4c04",
   "metadata": {},
   "source": [
    "## High Level Languages  \n",
    "\n",
    "\n",
    "\n",
    "###  Machine Language\n",
    "   \n",
    "  - These are the sequence of instructions written in the form of binary numbers consisting of 1's, O's\n",
    "  - In early days codes refered to machine language.     \n",
    "  \n",
    "  \n",
    "  eg:-   \n",
    "  ![](images/machine_lang.jpg)    \n",
    "\n",
    "\n",
    "<br>\n",
    "\n",
    "#### <font color=Crimson>Note For Mentor:</font>     \n",
    "\n",
    "- Show them few examples for binary number.\n",
    "\n",
    "| decimal number | binary number |\n",
    "|---|---|\n",
    "| 0 | 0| \n",
    "| 1 | 1 |\n",
    "| 2 | 10 |\n",
    "| 3 | 11 |\n",
    "| 4 | 100 |\n",
    "| 5 | 101 |\n",
    "| 6 | 110 |\n",
    "| 7 | 111 |\n",
    "| 8 | 1000 |\n",
    "| 9 | 1001 |\n",
    "| 10 | 1010 |\n",
    "\n",
    "\n",
    "\n",
    "\n",
    "- Show how the voltage pulses are decoding into binary numbers\n",
    "\n",
    "![](images/voltage.jpg)\n",
    "\n",
    "<br>\n",
    "<br>"
   ]
  },
  {
   "cell_type": "markdown",
   "id": "d0977765",
   "metadata": {},
   "source": [
    "<br>    \n",
    "<br>        "
   ]
  },
  {
   "cell_type": "markdown",
   "id": "68757432",
   "metadata": {},
   "source": [
    "### High Level Language\n",
    "\n",
    "\n",
    "- These languages are written using a set of words and symbols following some rules similar to a natural language such as English.\n",
    "\n",
    "\n",
    "- **Source Code**: Programs that written in high-level languages are known as source code.  \n",
    "\n",
    "\n",
    "  \n",
    "-  These programs are converted into machine–readable form by using compilers or interpreters   \n",
    "\n",
    "\n",
    "- **High Level Languagues**: C, C++, Java, PHP, Python etc      \n",
    "\n",
    "\n",
    "     eg:-      \n",
    "     C program for adding two integers      \n",
    "```\n",
    "      int a,b;   \n",
    "      a = 10;   \n",
    "      b = 20;   \n",
    "      printf(\"%d\",a+b)\n",
    "```\n",
    "  \n",
    "---"
   ]
  },
  {
   "cell_type": "markdown",
   "id": "46459335",
   "metadata": {},
   "source": [
    "<br>"
   ]
  },
  {
   "cell_type": "markdown",
   "id": "35ac1f87",
   "metadata": {},
   "source": [
    "#### <font color=Crimson>Note For Mentor:</font>\n",
    "Now the mentor can show, how the python program look like"
   ]
  },
  {
   "cell_type": "markdown",
   "id": "6874b4b2",
   "metadata": {},
   "source": [
    "<br>"
   ]
  },
  {
   "cell_type": "code",
   "execution_count": 1,
   "id": "f32fec3e",
   "metadata": {
    "slideshow": {
     "slide_type": "skip"
    }
   },
   "outputs": [
    {
     "name": "stdout",
     "output_type": "stream",
     "text": [
      "26\n"
     ]
    }
   ],
   "source": [
    "#Python program to add two numbers\n",
    "a = 10\n",
    "b = 16\n",
    "print(a+b)"
   ]
  },
  {
   "cell_type": "code",
   "execution_count": 3,
   "id": "d41caaf2",
   "metadata": {},
   "outputs": [
    {
     "name": "stdout",
     "output_type": "stream",
     "text": [
      "26\n"
     ]
    }
   ],
   "source": [
    "print(10+16)"
   ]
  },
  {
   "cell_type": "code",
   "execution_count": 2,
   "id": "c0fd281c",
   "metadata": {},
   "outputs": [
    {
     "name": "stdout",
     "output_type": "stream",
     "text": [
      "Elon Musk\n"
     ]
    }
   ],
   "source": [
    "#Python program to print a sentence\n",
    "name = \"Elon Musk\"\n",
    "print(name)"
   ]
  },
  {
   "cell_type": "code",
   "execution_count": 4,
   "id": "eeba68a6",
   "metadata": {},
   "outputs": [
    {
     "name": "stdout",
     "output_type": "stream",
     "text": [
      "Elon Musk\n"
     ]
    }
   ],
   "source": [
    "print(\"Elon Musk\")"
   ]
  },
  {
   "cell_type": "markdown",
   "id": "d6350eb1",
   "metadata": {},
   "source": [
    "<br>    \n",
    "<br>        "
   ]
  },
  {
   "cell_type": "markdown",
   "id": "affad6bf",
   "metadata": {},
   "source": [
    "## Compiler & Interpreter   \n",
    "\n",
    "1. **Compiler**      \n",
    "\n",
    "- A kind of translator that translates a program into another program(target language)     \n",
    "\n",
    "\n",
    "- Usually Known as the language translator of high-level language into machine language      \n",
    "\n",
    "\n",
    "- Translation Process:   \n",
    "    1. Compiler loads the program into main memory and stores.   \n",
    "    2. Scans and translates the entire source code into machine language.   \n",
    "    3. During the scanning time, checks the syntax(grammar rules), if it is wrong,   \n",
    "    4. Display error messages to screen, and stops the translation; in case of errors compiler never create the target code.   \n",
    "    5. Once the program has been compiled, the resulting machine code is saved separately, and can be run on its own at anytime.\n",
    "\n",
    " ![](images/compiler.jpg)\n",
    "  \n",
    "\n",
    "- C, C++ and Java are using compilers.\n"
   ]
  },
  {
   "cell_type": "markdown",
   "id": "3739c180",
   "metadata": {},
   "source": [
    "<br>"
   ]
  },
  {
   "cell_type": "markdown",
   "id": "06ac8c71",
   "metadata": {},
   "source": [
    "2. **Interpreter**\n",
    "\n",
    "*Interpreter is also a language translator that translates high-level language into machine language. Unlike compiler, interpreter translates a statement in the source code at a time and executes the statement immediately. When an error is encountered in the program, the execution of the program is halted and an error message is displayed.*    \n",
    "\n",
    "\n",
    "  ![](images/interpreter.jpg)   \n",
    "\n",
    "\n",
    "- Python, PHP and Java Script are using interpreters.   \n"
   ]
  },
  {
   "cell_type": "markdown",
   "id": "3cd8f54b",
   "metadata": {},
   "source": [
    "<br>"
   ]
  },
  {
   "cell_type": "markdown",
   "id": "cae9ce73",
   "metadata": {},
   "source": [
    "#### <font color=Crimson>Note For Mentor:</font>   \n",
    "\n",
    "- If possible, mentor can show some success and error messages in python.\n",
    "\n",
    "<br> <br>\n",
    "\n",
    "3. **Compiler Vs Interpreter**   \n",
    "\n",
    "\n",
    "  ![](images/compiler_interpreter.jpg)"
   ]
  },
  {
   "cell_type": "markdown",
   "id": "6508e755",
   "metadata": {},
   "source": [
    "#### <font color=Crimson>Note For Mentor:</font>\n",
    "- Explain the difference between `compiler` and `interpreter` using a real-time example.   \n",
    "- *Suppose you know two languages French and English. One of your friends knows English only. Assume there is a nice book written in French which he cannot read but you can. Now you can help him in two diffrent ways:*   \n",
    "      1. Read one line at a time and translate it from French to English; tell her the english version. \n",
    "      2. Read the entire book, write a translated version in English and give that English version to her.\n",
    "        \n",
    "*Here the first method is `interpreter` and second method is `compiler`*\n",
    "\n",
    "*A Real-time example of translating a political speech of a political leader from one language to another can be shared with the students to explain the working of interpreter. Because in this case a line-by-line translation takes place instantly.*\n"
   ]
  },
  {
   "cell_type": "markdown",
   "id": "f19f1d76",
   "metadata": {},
   "source": [
    "<br>    \n",
    "<br>        "
   ]
  },
  {
   "cell_type": "markdown",
   "id": "5a8f838d",
   "metadata": {},
   "source": [
    "## What is an algorithm?"
   ]
  },
  {
   "cell_type": "markdown",
   "id": "c1b87809",
   "metadata": {},
   "source": [
    "<font color=Crimson><b>Note for Mentor:</b></font>\n",
    "\n",
    "Ask them, does anybody know how to make a tea/omlet? If anyone said yes, you can ask them to tell the recipe of Tea.   \n",
    "Later tell them to write it as a step by step procedure in finite number of steps and using minimal number of words.     \n",
    "With that example you can start explaining the term algorithm.      \n",
    "\n",
    "<br>"
   ]
  },
  {
   "cell_type": "markdown",
   "id": "9c532d74",
   "metadata": {},
   "source": [
    "\n",
    "* An algorithm is a finite set of instructions that, if followed, accomplishes a particular task.\n",
    "\n",
    "\n",
    "* In simple words It is the procedures to solve a problem, usually written as steps.   \n",
    "\n",
    "\n",
    "* Recipe of a dish, solving a mathematical equation etc can be written as an algorithm   \n",
    "\n",
    "\n",
    "* eg:-   \n",
    "\n",
    "\n",
    " **`Algorithm for adding two numbers`**\n",
    " - STEP 1. START   \n",
    " - STEP 2. Take two numbers say X and Y\n",
    " - STEP 3. Perform addition X+Y\n",
    " - STEP 4. Say the result as SUM\n",
    " - STEP 5. Print SUM\n",
    " - STEP 6. END   \n",
    "\n"
   ]
  },
  {
   "cell_type": "markdown",
   "id": "28b86e09",
   "metadata": {},
   "source": [
    "<br>"
   ]
  },
  {
   "cell_type": "markdown",
   "id": "aab5d575",
   "metadata": {},
   "source": [
    "#### <font color=Crimson>Note For Mentor:</font>\n",
    "\n",
    "- Ask the students for some other real-time problem/task to write an algorithm \n",
    "  For example:- Telling someone the way to your school, how to make a paper boat, how to start a car.  \n",
    "\n",
    "- Ask them to write an algorithm to find whether a number is positive or negative."
   ]
  },
  {
   "cell_type": "markdown",
   "id": "72ca8951",
   "metadata": {},
   "source": [
    "<br>"
   ]
  },
  {
   "cell_type": "markdown",
   "id": "5c15b455",
   "metadata": {},
   "source": [
    "## What is a program ?\n",
    "\n",
    "- Elaborated algorithm that can be a set of instructions for computer to perform a task.    \n",
    "\n",
    "\n",
    "- It is the expression of an algorithm in a programming language.    \n",
    "\n",
    "\n",
    "- Simply a set of instructions to perform some task over a set of data.\n",
    "\n",
    "\n",
    "- Unlike algorithm, to write a program we need to follow some grammar rules called syntax. \n",
    "\n"
   ]
  },
  {
   "cell_type": "markdown",
   "id": "8b129e14",
   "metadata": {},
   "source": [
    "#### Algorthm into program\n"
   ]
  },
  {
   "cell_type": "code",
   "execution_count": 1,
   "id": "0ac21de4",
   "metadata": {},
   "outputs": [
    {
     "name": "stdout",
     "output_type": "stream",
     "text": [
      "42\n"
     ]
    }
   ],
   "source": [
    "#Write a python program to find the sum of two numbers\n",
    "# Converting the above example of algorithm into a program\n",
    "\n",
    "A = 12\n",
    "B = 30       ## Corresponding code for step2 of algorithm\n",
    "\n",
    "sum = A+B    ## Corresponding code for step3 and step4 of algorithm\n",
    "print(sum)   ## Corresponding code for step5 of algorithm"
   ]
  },
  {
   "cell_type": "markdown",
   "id": "c216cc62",
   "metadata": {},
   "source": [
    "<br>"
   ]
  },
  {
   "cell_type": "markdown",
   "id": "27e4a0ef",
   "metadata": {},
   "source": [
    "## What is Script ?\n",
    "\n",
    "- *Scripts are set of commands executed by certain programs or scripting engines*   \n",
    "\n",
    "\n",
    "- Scripting languages are types of programming languages where the instructions are written for a run-time environment.\n",
    "\n",
    "\n",
    "- Scripts are executed by interpreter instead of compiler.   \n",
    "\n",
    "\n",
    "- You will be able to execute the program without compilation, as they are interpreted languages.\n",
    "\n",
    "\n",
    "- They are usually text documents with set of commands in it.   \n",
    "\n",
    "\n",
    "- Widely used to generate webpages \n",
    "\n",
    "\n",
    "- Examples for scripting languages:\n",
    "     - php\n",
    "     - java script\n",
    "     - python script\n",
    "     - JQuery\n"
   ]
  },
  {
   "cell_type": "markdown",
   "id": "3fa06820",
   "metadata": {},
   "source": [
    "<br>    \n",
    "<br>   "
   ]
  },
  {
   "cell_type": "markdown",
   "id": "ca712a04",
   "metadata": {},
   "source": [
    "#### <font color=Crimson>Note For Mentor:</font>      \n",
    "Webpages are so dynamic because the contents of webpages change over a small interval of time. So the server cannot compile the program each time to get the web page refreshed. That's why scriting languages are widely using for web developement.        \n",
    "\n",
    "<br>"
   ]
  },
  {
   "cell_type": "markdown",
   "id": "3bc8b436",
   "metadata": {},
   "source": [
    "\n",
    "* **.py extension**   \n",
    "   - python scripts are saved with ``.py`` extension\n",
    "   - In terminal they can be run as a python script by executing the following command:   \n",
    "   - **&#36;**`python file_name.py`  \n",
    "   - then output will be displayed in the terminal itself.  <br> \n",
    "\n",
    "\n",
    "**Python script running in linux terminal**   \n",
    "![](images/python_script.jpg) \n",
    "    \n",
    " \n",
    "- **.js extension**\n",
    "\n",
    "   - extension for java script files.\n",
    "   - widely used as the client side scripting language for web developement.   \n",
    "  \n",
    "  \n",
    "- **.php extension**   \n",
    "\n",
    "   - extension for php script files.   \n",
    "   - PHP (Hypertext Preprocessor) is an HTML-embedded, server-side scripting language designed for web development.   \n",
    "\n",
    "\n",
    "\n"
   ]
  },
  {
   "cell_type": "markdown",
   "id": "6bb9ed3d",
   "metadata": {},
   "source": [
    "<br>"
   ]
  },
  {
   "cell_type": "markdown",
   "id": "43aad9dd",
   "metadata": {},
   "source": [
    "## Error in Program\n",
    "\n",
    "### 1. Syntax Error\n",
    "\n",
    "- To write a program we need to follow some grammar rules of that programming language called **syntax**.   \n",
    "\n",
    "\n",
    "- Syntax of each programming language differs like how grammar rules varies among the communication languages.        \n",
    "  eg: printing statement in different languages   \n",
    "     1. C programming:      ``printf(\"Hello World!\");``\n",
    "     2. C++ programming:    ``cout<<\"Hello World!\";``\n",
    "     3. Python programming: ``print(\"Hello World!\")``\n",
    "\n",
    "\n",
    "\n",
    "- The error occured due to bad syntax is called **syntax error**    \n",
    "\n",
    "\n",
    "- They occurs at the compilation time   \n",
    "\n",
    "\n"
   ]
  },
  {
   "cell_type": "code",
   "execution_count": 5,
   "id": "1c2fae87",
   "metadata": {},
   "outputs": [
    {
     "ename": "SyntaxError",
     "evalue": "Missing parentheses in call to 'print'. Did you mean print(\"Hello World!\")? (<ipython-input-5-0104708bdd81>, line 5)",
     "output_type": "error",
     "traceback": [
      "\u001b[1;36m  File \u001b[1;32m\"<ipython-input-5-0104708bdd81>\"\u001b[1;36m, line \u001b[1;32m5\u001b[0m\n\u001b[1;33m    print \"Hello World!\"\u001b[0m\n\u001b[1;37m          ^\u001b[0m\n\u001b[1;31mSyntaxError\u001b[0m\u001b[1;31m:\u001b[0m Missing parentheses in call to 'print'. Did you mean print(\"Hello World!\")?\n"
     ]
    }
   ],
   "source": [
    "#syntax error example1 in python\n",
    "# in print statement--> Wrongly written structure\n",
    "#  missing ()\n",
    "\n",
    "print \"Hello World!\""
   ]
  },
  {
   "cell_type": "code",
   "execution_count": 10,
   "id": "456b0523",
   "metadata": {},
   "outputs": [
    {
     "ename": "SyntaxError",
     "evalue": "invalid syntax (<ipython-input-10-1e7e42f515eb>, line 5)",
     "output_type": "error",
     "traceback": [
      "\u001b[1;36m  File \u001b[1;32m\"<ipython-input-10-1e7e42f515eb>\"\u001b[1;36m, line \u001b[1;32m5\u001b[0m\n\u001b[1;33m    print (\"Hello World!\"):\u001b[0m\n\u001b[1;37m                           ^\u001b[0m\n\u001b[1;31mSyntaxError\u001b[0m\u001b[1;31m:\u001b[0m invalid syntax\n"
     ]
    }
   ],
   "source": [
    "#syntax error example1 in python\n",
    "# in print statement--> Wrongly written structure\n",
    "#  Adding extra characters at the end\n",
    "\n",
    "print (\"Hello World!\"):"
   ]
  },
  {
   "cell_type": "code",
   "execution_count": 8,
   "id": "30f91b4e",
   "metadata": {},
   "outputs": [
    {
     "ename": "SyntaxError",
     "evalue": "cannot assign to literal (<ipython-input-8-b3295c90220f>, line 2)",
     "output_type": "error",
     "traceback": [
      "\u001b[1;36m  File \u001b[1;32m\"<ipython-input-8-b3295c90220f>\"\u001b[1;36m, line \u001b[1;32m2\u001b[0m\n\u001b[1;33m    10 = a\u001b[0m\n\u001b[1;37m    ^\u001b[0m\n\u001b[1;31mSyntaxError\u001b[0m\u001b[1;31m:\u001b[0m cannot assign to literal\n"
     ]
    }
   ],
   "source": [
    "#syntax error example3 in python\n",
    "10 = a\n",
    "print(a)\n"
   ]
  },
  {
   "cell_type": "code",
   "execution_count": 11,
   "id": "e1f89aa2",
   "metadata": {},
   "outputs": [
    {
     "ename": "SyntaxError",
     "evalue": "invalid syntax (<ipython-input-11-c1e37d450a2f>, line 2)",
     "output_type": "error",
     "traceback": [
      "\u001b[1;36m  File \u001b[1;32m\"<ipython-input-11-c1e37d450a2f>\"\u001b[1;36m, line \u001b[1;32m2\u001b[0m\n\u001b[1;33m    if a = 10\u001b[0m\n\u001b[1;37m         ^\u001b[0m\n\u001b[1;31mSyntaxError\u001b[0m\u001b[1;31m:\u001b[0m invalid syntax\n"
     ]
    }
   ],
   "source": [
    "#syntax error example3 in python\n",
    "if a = 10\n",
    "    print(a)\n"
   ]
  },
  {
   "cell_type": "markdown",
   "id": "3eb986cd",
   "metadata": {},
   "source": [
    "### 2. Logical or Semantic Error\n",
    "\n",
    "- Errors related to the meaning or logic.\n",
    "\n",
    "\n",
    "- Errors that leads to **incorrect outputs.**   \n",
    "\n",
    "\n",
    "- Actual output differs from expected output  \n",
    "\n",
    "\n",
    "- There won't be any error messages from compiler/interpreter, so hard to rectify them.  \n",
    "\n",
    "\n",
    "- The programmer typically find the logical error.\n",
    "\n",
    "\n",
    "- eg: Arithemetic expressions written in a different order, putting a wrong condition in the program, while calculating percentage you forget to multiply the fraction with 100 etc\n"
   ]
  },
  {
   "cell_type": "code",
   "execution_count": 12,
   "id": "83ef3275",
   "metadata": {},
   "outputs": [
    {
     "name": "stdout",
     "output_type": "stream",
     "text": [
      "8000\n"
     ]
    }
   ],
   "source": [
    "#Logical error example1 in python\n",
    "# to calculate the interest of 1000 Rs with an interest rate of 8\n",
    "\n",
    "interest = 1000*(8)   #Here i am forgot to divide by 100\n",
    "print(interest)"
   ]
  },
  {
   "cell_type": "code",
   "execution_count": 14,
   "id": "c29e4aa9",
   "metadata": {},
   "outputs": [
    {
     "name": "stdout",
     "output_type": "stream",
     "text": [
      "30\n"
     ]
    }
   ],
   "source": [
    "#Logical error example2 in python\n",
    "# perimeter of rectangle = 2(l+b)\n",
    "l = 12\n",
    "b = 6\n",
    "perimeter = 2*l+b   #Here we forgot to put () around l+b\n",
    "print(perimeter)"
   ]
  },
  {
   "cell_type": "markdown",
   "id": "e345d546",
   "metadata": {},
   "source": [
    "### 3. Run-time errors or Exceptions\n",
    "\n",
    "- Semetimes, a program results in an error after the compilation of the program and in between the execution.\n",
    "\n",
    "- The compiler/interpreter finds the run-time errors\n",
    "\n",
    "- In python these can be handled using the Exception Handling methods\n",
    "\n",
    "- eg:-\n",
    "```\n",
    "    - Division by zero\n",
    "    - Importing an unknown module\n",
    "    - Infinite loop\n",
    "    \n",
    "```\n"
   ]
  },
  {
   "cell_type": "code",
   "execution_count": 1,
   "id": "5376e4db",
   "metadata": {},
   "outputs": [
    {
     "ename": "ZeroDivisionError",
     "evalue": "division by zero",
     "output_type": "error",
     "traceback": [
      "\u001b[1;31m---------------------------------------------------------------------------\u001b[0m",
      "\u001b[1;31mZeroDivisionError\u001b[0m                         Traceback (most recent call last)",
      "\u001b[1;32m<ipython-input-1-8e2758cbc8ec>\u001b[0m in \u001b[0;36m<module>\u001b[1;34m\u001b[0m\n\u001b[0;32m      1\u001b[0m \u001b[1;31m#run-time error example1 in python\u001b[0m\u001b[1;33m\u001b[0m\u001b[1;33m\u001b[0m\u001b[1;33m\u001b[0m\u001b[0m\n\u001b[0;32m      2\u001b[0m \u001b[1;33m\u001b[0m\u001b[0m\n\u001b[1;32m----> 3\u001b[1;33m \u001b[0mprint\u001b[0m\u001b[1;33m(\u001b[0m\u001b[1;36m100\u001b[0m\u001b[1;33m/\u001b[0m\u001b[1;36m0\u001b[0m\u001b[1;33m)\u001b[0m\u001b[1;33m\u001b[0m\u001b[1;33m\u001b[0m\u001b[0m\n\u001b[0m",
      "\u001b[1;31mZeroDivisionError\u001b[0m: division by zero"
     ]
    }
   ],
   "source": [
    "#run-time error example1 in python\n",
    "\n",
    "print(100/0)"
   ]
  },
  {
   "cell_type": "markdown",
   "id": "86ac6f37",
   "metadata": {},
   "source": [
    "<br>"
   ]
  },
  {
   "cell_type": "markdown",
   "id": "2a4d45b2",
   "metadata": {},
   "source": [
    "## python in terminal\n",
    "\n",
    "### Text editor Vs Shell    \n",
    "\n",
    "\n",
    "* You can create and execute python programs in three ways:   \n",
    "\n",
    "   1. Using a text editor   \n",
    "   2. Using shell mode   \n",
    "   3. Using a software (Python IDE such as VSCode, PyCharm, Spyder etc)      \n",
    "\n",
    "\n",
    "#### Text editor   \n",
    " \n",
    "   1. Open any text editor (gedit,nano,notepad,notepad++,sublime etc)   \n",
    "   2. Create a file and write python code in it.    \n",
    "   3. Save with ``.py`` extension   \n",
    "   4. Now to run this file in terminal(cmd in windows) you need to invoke the python interpreter using the following command:     \n",
    "      **&#36;**``python <filename.py>`` -------------in linux  terminal   \n",
    "      ``c:>python <filename.py>`` -----------in windows cammand prompt  \n",
    "   5. You will get the output in terminal itself   \n",
    "  \n",
    "\n",
    "#### Python Shell\n",
    "\n",
    "\n",
    "   - You can start Python from Unix, DOS, or any other system that provides you a command-line interpreter or shell window.   \n",
    "\n",
    "   1. Open terminal/cmd   \n",
    "   2. Navigate to the folder where you installed the python    \n",
    "   3. type **python** and enter   \n",
    "   4. Now the terminal will become a  python shell window and you can execute your codes there, this is like a simple      calculator you can perform simple arithmetic operations directly on it.     \n",
    "   5. Use the command **exit()** to go back to terminal mode   \n",
    "\n",
    "  ![](images/python_shell.jpg)   \n",
    "\n",
    "\n",
    "#### Using Software IDE's\n",
    "\n",
    "\n",
    "  * Apart from the above mentioned two methods we can code python using external software IDE such as VSCode, PyCharm etc   \n",
    "\n",
    "  1. **VS Code**   \n",
    "\n",
    "    1. Open VS code   \n",
    "    2. Go to file-->New File   \n",
    "    3. In the opening file, click on select a language   \n",
    "    4. Select python as language   \n",
    "    5. Write your program    \n",
    "    6. Save it as python script   \n",
    "    7. Go to Run-->Run Without Debugging   \n",
    "    8. Output will be displayed on the terminal tab   \n"
   ]
  },
  {
   "cell_type": "markdown",
   "id": "f3bfbf05",
   "metadata": {},
   "source": [
    "<br>"
   ]
  },
  {
   "cell_type": "markdown",
   "id": "a3456ab3",
   "metadata": {},
   "source": [
    "## How to check python version ?\n",
    "\n",
    "1. execute the command **python -V** on terminal/cmd   \n",
    "2. Using **sys.version** method   "
   ]
  },
  {
   "cell_type": "code",
   "execution_count": 16,
   "id": "3bb7f865",
   "metadata": {},
   "outputs": [
    {
     "name": "stdout",
     "output_type": "stream",
     "text": [
      "3.8.3 (default, Jul  2 2020, 17:30:36) [MSC v.1916 64 bit (AMD64)]\n"
     ]
    }
   ],
   "source": [
    "##version check using sys.version method\n",
    "import sys\n",
    "print(sys.version)"
   ]
  },
  {
   "cell_type": "markdown",
   "id": "41dc464e",
   "metadata": {},
   "source": [
    "## How to get the location of python interpreter"
   ]
  },
  {
   "cell_type": "code",
   "execution_count": 18,
   "id": "a0af2ff4",
   "metadata": {},
   "outputs": [
    {
     "name": "stdout",
     "output_type": "stream",
     "text": [
      "C:\\anaconda3\n"
     ]
    }
   ],
   "source": [
    "# how to get the location of our python interpreter\n",
    "import os,sys\n",
    "print(os.path.dirname(sys.executable))"
   ]
  },
  {
   "cell_type": "markdown",
   "id": "ec47f2eb",
   "metadata": {},
   "source": [
    "----"
   ]
  },
  {
   "cell_type": "markdown",
   "id": "331824e1",
   "metadata": {},
   "source": [
    "## <font color=blue> ACTIVITIES </font>    \n",
    "<br>   "
   ]
  },
  {
   "cell_type": "markdown",
   "id": "cbf16714",
   "metadata": {},
   "source": [
    "**<font color=Green> Light </font>**     \n",
    "\n",
    "1. Install Python interpreter   \n",
    "\n",
    "\n",
    "2. Find the location of your python interpreter using code   \n",
    "\n",
    "\n",
    "3. Find the version of your python interpreter using code   \n",
    "\n",
    "<br>\n",
    "<br>\n",
    "\n",
    "**<font color=purple> Moderate </font>**            \n",
    "\n",
    "4. Create a python script file named sample.py, and write a code to print your name; Then run the script in terminal/cmd\n"
   ]
  },
  {
   "cell_type": "markdown",
   "id": "e23f6a05",
   "metadata": {},
   "source": [
    "-----"
   ]
  }
 ],
 "metadata": {
  "kernelspec": {
   "display_name": "Python 3",
   "language": "python",
   "name": "python3"
  },
  "language_info": {
   "codemirror_mode": {
    "name": "ipython",
    "version": 3
   },
   "file_extension": ".py",
   "mimetype": "text/x-python",
   "name": "python",
   "nbconvert_exporter": "python",
   "pygments_lexer": "ipython3",
   "version": "3.8.3"
  }
 },
 "nbformat": 4,
 "nbformat_minor": 5
}
