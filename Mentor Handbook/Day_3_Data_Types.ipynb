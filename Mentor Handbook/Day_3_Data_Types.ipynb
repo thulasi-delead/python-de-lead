{
 "cells": [
  {
   "cell_type": "markdown",
   "metadata": {},
   "source": [
    "# Index\n",
    "\n",
    "- **Print statement**    \n",
    "\n",
    "\n",
    "- **value and type**    \n",
    "\n",
    "\n",
    "- **Python syntax rules**   \n",
    "\n",
    "\n",
    "- **Identifiers**   \n",
    "\n",
    "\n",
    "- **Assigning Values to variable and Printing**    \n",
    "\n",
    "\n",
    "- **Keywords**   \n",
    "\n",
    "\n",
    "- **Data Types**\n",
    "    * int \n",
    "    * float\n",
    "    * str\n",
    "    * bool   \n",
    "    \n",
    "\n",
    "- **Activities**\n"
   ]
  },
  {
   "cell_type": "markdown",
   "metadata": {},
   "source": [
    "---"
   ]
  },
  {
   "cell_type": "markdown",
   "metadata": {},
   "source": [
    "<br>      \n",
    "<br>     "
   ]
  },
  {
   "cell_type": "markdown",
   "metadata": {},
   "source": [
    "## Print Statement"
   ]
  },
  {
   "cell_type": "markdown",
   "metadata": {},
   "source": [
    "- **syntax:** `print(statement)`\n",
    "    - where the statement can be a string, or an identifier or an expression    \n",
    "    \n",
    "    \n",
    "- Used to display something on the running console\n",
    "\n",
    "\n",
    "- eg: \n",
    "    - To show the results of mathematical problem\n",
    "    - To convey some messages to the user\n",
    "    - To show the output results of the problem\n"
   ]
  },
  {
   "cell_type": "code",
   "execution_count": 2,
   "metadata": {},
   "outputs": [
    {
     "name": "stdout",
     "output_type": "stream",
     "text": [
      "Hello World!\n"
     ]
    }
   ],
   "source": [
    "#To print a message to screen:\n",
    "print(\"Hello World!\")"
   ]
  },
  {
   "cell_type": "code",
   "execution_count": 3,
   "metadata": {},
   "outputs": [
    {
     "name": "stdout",
     "output_type": "stream",
     "text": [
      "Hi I am Tony\n"
     ]
    }
   ],
   "source": [
    "print(\"Hi I am Tony\")"
   ]
  },
  {
   "cell_type": "code",
   "execution_count": 5,
   "metadata": {},
   "outputs": [
    {
     "name": "stdout",
     "output_type": "stream",
     "text": [
      "Hello Firends \n",
      "My name is Tony\n"
     ]
    }
   ],
   "source": [
    "#newline in print\n",
    "print(\"Hello Firends \\nMy name is Tony\")"
   ]
  },
  {
   "cell_type": "code",
   "execution_count": 6,
   "metadata": {},
   "outputs": [
    {
     "name": "stdout",
     "output_type": "stream",
     "text": [
      "Hello Friends \tMy name is Tony\n"
     ]
    }
   ],
   "source": [
    "#tab space in print\n",
    "print(\"Hello Friends \\tMy name is Tony\")"
   ]
  },
  {
   "cell_type": "code",
   "execution_count": 7,
   "metadata": {},
   "outputs": [
    {
     "name": "stdout",
     "output_type": "stream",
     "text": [
      "Hai Hello How are you?\n"
     ]
    }
   ],
   "source": [
    "#multiple prints in same statement\n",
    "print(\"Hai\",\"Hello\",\"How are you?\")"
   ]
  },
  {
   "cell_type": "code",
   "execution_count": null,
   "metadata": {},
   "outputs": [],
   "source": [
    "print(\"Hai\")\n",
    "print(\"Hello\")\n",
    "print(\"How are you?\")"
   ]
  },
  {
   "cell_type": "markdown",
   "metadata": {},
   "source": [
    "<br>      \n",
    "<br>       "
   ]
  },
  {
   "cell_type": "markdown",
   "metadata": {},
   "source": [
    "**<font color=Brown>Key Notes:</font>**         "
   ]
  },
  {
   "cell_type": "markdown",
   "metadata": {},
   "source": [
    "1. Anything written within quotes inside the print statement will print as it as onto screen.   \n",
    "\n",
    "2. Commas can be used to separate diffrent expressions in print method.    \n",
    "\n",
    "3. \"\\n\" can be used for newline and \"\\t\" can be used for tab space    \n",
    "\n",
    "4. Every print statement automatically add one newline at the end.\n"
   ]
  },
  {
   "cell_type": "markdown",
   "metadata": {},
   "source": [
    "<br>      \n",
    "<br>       "
   ]
  },
  {
   "cell_type": "markdown",
   "metadata": {},
   "source": [
    "**<font color=red>Question 1</font>**     \n",
    "Suppose, you have two print statements in your program first one to print your first name and the other one to print the last name. But in the output console you want to see the output in single line.        \n"
   ]
  },
  {
   "cell_type": "code",
   "execution_count": 1,
   "metadata": {},
   "outputs": [
    {
     "name": "stdout",
     "output_type": "stream",
     "text": [
      "Amit\n",
      "Kumar\n"
     ]
    }
   ],
   "source": [
    "#Normal case\n",
    "print(\"Amit\")\n",
    "print(\"Kumar\")"
   ]
  },
  {
   "cell_type": "code",
   "execution_count": 2,
   "metadata": {},
   "outputs": [
    {
     "name": "stdout",
     "output_type": "stream",
     "text": [
      "Amit Kumar\n"
     ]
    }
   ],
   "source": [
    "#solution for question1\n",
    "print(\"Amit\",end=' ')\n",
    "print(\"Kumar\")"
   ]
  },
  {
   "cell_type": "code",
   "execution_count": 3,
   "metadata": {},
   "outputs": [
    {
     "name": "stdout",
     "output_type": "stream",
     "text": [
      "Amit,Kumar\n"
     ]
    }
   ],
   "source": [
    "# putting a comma between first name and last name\n",
    "\n",
    "print(\"Amit\",end=\",\")\n",
    "print(\"Kumar\")"
   ]
  },
  {
   "cell_type": "markdown",
   "metadata": {},
   "source": [
    "<br>      \n",
    "<br>       "
   ]
  },
  {
   "cell_type": "markdown",
   "metadata": {},
   "source": [
    "**<font color=Brown>Key Notes:</font>**      \n",
    "\n",
    "- Every print statement automatically add one newline at the end.     \n",
    "\n",
    "- If you want to remove/replace the newline character from the end, you can use `end` parameter in print statement along with a specific delimiter instead of newline.     \n",
    "\n",
    "- **Syntax:**   \n",
    "`print(\"text\",end='delimiter')`\n"
   ]
  },
  {
   "cell_type": "markdown",
   "metadata": {},
   "source": [
    "<br>      \n",
    "<br>       \n",
    "<br>     "
   ]
  },
  {
   "cell_type": "markdown",
   "metadata": {
    "slideshow": {
     "slide_type": "-"
    }
   },
   "source": [
    "## Variables, Values and Type"
   ]
  },
  {
   "cell_type": "markdown",
   "metadata": {},
   "source": [
    "**Values:**\n",
    "Possible values that python can work with. Possible values that python can handle is listed below:\n",
    "- Numbers\n",
    "- Alphabets\n",
    "- Special characters\n",
    "- Boolean values\n"
   ]
  },
  {
   "cell_type": "code",
   "execution_count": 6,
   "metadata": {},
   "outputs": [
    {
     "name": "stdout",
     "output_type": "stream",
     "text": [
      "10\n"
     ]
    }
   ],
   "source": [
    "# number values1\n",
    "print(10)"
   ]
  },
  {
   "cell_type": "code",
   "execution_count": 7,
   "metadata": {},
   "outputs": [
    {
     "name": "stdout",
     "output_type": "stream",
     "text": [
      "-17\n"
     ]
    }
   ],
   "source": [
    "# number values1\n",
    "print(-17)"
   ]
  },
  {
   "cell_type": "code",
   "execution_count": 8,
   "metadata": {},
   "outputs": [
    {
     "name": "stdout",
     "output_type": "stream",
     "text": [
      "9.8\n"
     ]
    }
   ],
   "source": [
    "# decimal points\n",
    "print(9.8)"
   ]
  },
  {
   "cell_type": "code",
   "execution_count": 10,
   "metadata": {},
   "outputs": [
    {
     "name": "stdout",
     "output_type": "stream",
     "text": [
      "3.14\n"
     ]
    }
   ],
   "source": [
    "# decimal points\n",
    "print(3.14)"
   ]
  },
  {
   "cell_type": "code",
   "execution_count": null,
   "metadata": {},
   "outputs": [],
   "source": [
    "# single alphabet\n",
    "print('a')"
   ]
  },
  {
   "cell_type": "code",
   "execution_count": 11,
   "metadata": {},
   "outputs": [
    {
     "name": "stdout",
     "output_type": "stream",
     "text": [
      "Hello World!\n"
     ]
    }
   ],
   "source": [
    "# string\n",
    "print('Hello World!')"
   ]
  },
  {
   "cell_type": "markdown",
   "metadata": {},
   "source": [
    "<br>     "
   ]
  },
  {
   "cell_type": "markdown",
   "metadata": {},
   "source": [
    "**Variables:**        \n",
    "variable is a kind of storage box that holds a value. Whenever you want to work with the value, you access it using the variable.Just as we store things in boxes in the real world, so you store values in variables when you are writing a program.\n",
    "In otherwords, these are the reserved memory locations to store the values. \n",
    "And they are identified by their names."
   ]
  },
  {
   "cell_type": "markdown",
   "metadata": {},
   "source": [
    "<br>     "
   ]
  },
  {
   "cell_type": "code",
   "execution_count": 1,
   "metadata": {},
   "outputs": [
    {
     "name": "stdout",
     "output_type": "stream",
     "text": [
      "10\n"
     ]
    }
   ],
   "source": [
    "a = 10\n",
    "print(a)"
   ]
  },
  {
   "cell_type": "code",
   "execution_count": 2,
   "metadata": {},
   "outputs": [
    {
     "name": "stdout",
     "output_type": "stream",
     "text": [
      "12.55\n"
     ]
    }
   ],
   "source": [
    "b = 12.55\n",
    "print(b)"
   ]
  },
  {
   "cell_type": "code",
   "execution_count": 4,
   "metadata": {},
   "outputs": [
    {
     "name": "stdout",
     "output_type": "stream",
     "text": [
      "Chocolate is sweeter than Vannilla\n"
     ]
    }
   ],
   "source": [
    "c = \"Chocolate is sweeter than Vannilla\"\n",
    "print(c)"
   ]
  },
  {
   "cell_type": "code",
   "execution_count": 6,
   "metadata": {},
   "outputs": [
    {
     "name": "stdout",
     "output_type": "stream",
     "text": [
      "name\n",
      "age\n",
      "weight\n",
      "----------\n",
      "Aditi\n",
      "15\n",
      "48.5\n"
     ]
    }
   ],
   "source": [
    "#Example\n",
    "name = 'Aditi'\n",
    "age = 15\n",
    "weight = 48.5\n",
    "\n",
    "print(\"name\")\n",
    "print(\"age\")\n",
    "print(\"weight\")\n",
    "\n",
    "print(\"----------\")\n",
    "\n",
    "print(name)\n",
    "print(age)\n",
    "print(weight)"
   ]
  },
  {
   "cell_type": "markdown",
   "metadata": {},
   "source": [
    "<br>         "
   ]
  },
  {
   "cell_type": "markdown",
   "metadata": {},
   "source": [
    "**Explanantion:**       \n",
    "In the above example name, age and weight are the variables where as 'Aditi', 10 and 48.5 are the values that holds by the variables respectively.     \n",
    "When you print the variable name using `print()` method, you will get the value as output. Note that variable name should not be in quotes.         "
   ]
  },
  {
   "cell_type": "markdown",
   "metadata": {},
   "source": [
    "<br>      \n",
    "<br>         "
   ]
  },
  {
   "cell_type": "markdown",
   "metadata": {},
   "source": [
    "**<font color=Crimson>Note For Mentor:</font>**            \n",
    "- Show them how memory_location , memory_address , variable_name, value are related to, with the help of some drawings.     \n",
    "\n",
    "- Ask student to define some variables and print their value.       \n"
   ]
  },
  {
   "cell_type": "markdown",
   "metadata": {},
   "source": [
    "<br>      \n",
    "<br>       "
   ]
  },
  {
   "cell_type": "markdown",
   "metadata": {},
   "source": [
    "## Python syntax rules"
   ]
  },
  {
   "cell_type": "markdown",
   "metadata": {},
   "source": [
    "- Syntax is nothing but grammar rules for the coding\n",
    "   - Spelling\n",
    "   - Structure\n",
    "   - Block of codes\n",
    "   - Different notations has different meaning\n",
    "   - Case sensitiveness\n",
    "   - Reserved words\n"
   ]
  },
  {
   "cell_type": "markdown",
   "metadata": {},
   "source": [
    "<br>      \n",
    "<br>       "
   ]
  },
  {
   "cell_type": "markdown",
   "metadata": {},
   "source": [
    "**<font color=Crimson>Note For Mentor:</font>**       \n",
    "- Explain each of the above mentioned basic elements of python syntax rules, you can use the normal communication language grammar rules as an example.         "
   ]
  },
  {
   "cell_type": "markdown",
   "metadata": {},
   "source": [
    "<br>      "
   ]
  },
  {
   "cell_type": "code",
   "execution_count": 13,
   "metadata": {},
   "outputs": [
    {
     "ename": "SyntaxError",
     "evalue": "Missing parentheses in call to 'print'. Did you mean print(\"Hello World!\")? (<ipython-input-13-62d2f323d025>, line 2)",
     "output_type": "error",
     "traceback": [
      "\u001b[1;36m  File \u001b[1;32m\"<ipython-input-13-62d2f323d025>\"\u001b[1;36m, line \u001b[1;32m2\u001b[0m\n\u001b[1;33m    print \"Hello World!\"\u001b[0m\n\u001b[1;37m          ^\u001b[0m\n\u001b[1;31mSyntaxError\u001b[0m\u001b[1;31m:\u001b[0m Missing parentheses in call to 'print'. Did you mean print(\"Hello World!\")?\n"
     ]
    }
   ],
   "source": [
    "#syntax violation example1\n",
    "print \"Hello World!\""
   ]
  },
  {
   "cell_type": "code",
   "execution_count": 3,
   "metadata": {},
   "outputs": [
    {
     "ename": "SyntaxError",
     "evalue": "unexpected EOF while parsing (<ipython-input-3-89d7f5214439>, line 2)",
     "output_type": "error",
     "traceback": [
      "\u001b[1;36m  File \u001b[1;32m\"<ipython-input-3-89d7f5214439>\"\u001b[1;36m, line \u001b[1;32m2\u001b[0m\n\u001b[1;33m    print(\"Hello World!)\"\u001b[0m\n\u001b[1;37m                         ^\u001b[0m\n\u001b[1;31mSyntaxError\u001b[0m\u001b[1;31m:\u001b[0m unexpected EOF while parsing\n"
     ]
    }
   ],
   "source": [
    "#syntax violation example2\n",
    "print(\"Hello World!)\""
   ]
  },
  {
   "cell_type": "code",
   "execution_count": 14,
   "metadata": {},
   "outputs": [
    {
     "ename": "SyntaxError",
     "evalue": "EOL while scanning string literal (<ipython-input-14-9edff7aefdbf>, line 2)",
     "output_type": "error",
     "traceback": [
      "\u001b[1;36m  File \u001b[1;32m\"<ipython-input-14-9edff7aefdbf>\"\u001b[1;36m, line \u001b[1;32m2\u001b[0m\n\u001b[1;33m    print(\"Hello World!)\u001b[0m\n\u001b[1;37m                        ^\u001b[0m\n\u001b[1;31mSyntaxError\u001b[0m\u001b[1;31m:\u001b[0m EOL while scanning string literal\n"
     ]
    }
   ],
   "source": [
    "#syntax violation example3\n",
    "print(\"Hello World!)"
   ]
  },
  {
   "cell_type": "markdown",
   "metadata": {},
   "source": [
    "#### Indentation"
   ]
  },
  {
   "cell_type": "markdown",
   "metadata": {},
   "source": [
    "- Python has no curly braces{} to represent the block of codes   \n",
    "\n",
    "- Indentations are used to represent block of codes such as class, function, conditional branches, control blocks etc   \n",
    "\n",
    "- <b><font color =blue>4 Spaces and 1 Tab</b></font> <br>"
   ]
  },
  {
   "cell_type": "code",
   "execution_count": 17,
   "metadata": {},
   "outputs": [
    {
     "name": "stdout",
     "output_type": "stream",
     "text": [
      "A=10\n"
     ]
    }
   ],
   "source": [
    "#indentation example1 if clause\n",
    "a = 10\n",
    "if a>5:\n",
    "    print(\"A\",end='=')\n",
    "    print(a)\n",
    "    "
   ]
  },
  {
   "cell_type": "code",
   "execution_count": 18,
   "metadata": {},
   "outputs": [],
   "source": [
    "#indentation example2 function clause\n",
    "\n",
    "def calculate():\n",
    "    pass   \n",
    "    pass\n",
    "    pass"
   ]
  },
  {
   "cell_type": "code",
   "execution_count": 15,
   "metadata": {
    "scrolled": true
   },
   "outputs": [
    {
     "ename": "IndentationError",
     "evalue": "unexpected indent (<ipython-input-15-4e3c8acd1b42>, line 3)",
     "output_type": "error",
     "traceback": [
      "\u001b[1;36m  File \u001b[1;32m\"<ipython-input-15-4e3c8acd1b42>\"\u001b[1;36m, line \u001b[1;32m3\u001b[0m\n\u001b[1;33m    print(\"Let us learn python\")\u001b[0m\n\u001b[1;37m    ^\u001b[0m\n\u001b[1;31mIndentationError\u001b[0m\u001b[1;31m:\u001b[0m unexpected indent\n"
     ]
    }
   ],
   "source": [
    "#indentation error example\n",
    "print(\"Hello World!\")\n",
    "    print(\"Let us learn python\")"
   ]
  },
  {
   "cell_type": "markdown",
   "metadata": {},
   "source": [
    "<br>      \n",
    "<br>       \n",
    "<br>     "
   ]
  },
  {
   "cell_type": "markdown",
   "metadata": {},
   "source": [
    "## Variable/identifiers naming"
   ]
  },
  {
   "cell_type": "markdown",
   "metadata": {},
   "source": [
    "- *A python **identifier** is a name used to identify a variable, function, class, module, or other object.*"
   ]
  },
  {
   "cell_type": "markdown",
   "metadata": {},
   "source": [
    "### Rules     \n",
    "\n",
    "- Must start with a letter or underscore(_)\n",
    "- Cannot start with a number\n",
    "- Can only contain alphanumeric characters and underscore {a-z A-Z 0-9 _}\n",
    "- They are case sensitive"
   ]
  },
  {
   "cell_type": "code",
   "execution_count": 19,
   "metadata": {},
   "outputs": [
    {
     "name": "stdout",
     "output_type": "stream",
     "text": [
      "Arun\n",
      "Tony\n",
      "Seetha\n",
      "Nila\n",
      "Ajmal\n",
      "Mary\n"
     ]
    }
   ],
   "source": [
    "# variable names example1 possible cases\n",
    "name = \"Arun\"\n",
    "print(name)\n",
    "\n",
    "Name = \"Tony\"\n",
    "print(Name)\n",
    "\n",
    "name_ = \"Seetha\"\n",
    "print(name_)\n",
    "\n",
    "first_name = \"Nila\"\n",
    "print(first_name)\n",
    "\n",
    "name1 = \"Ajmal\"\n",
    "print(name1)\n",
    "\n",
    "_name = \"Mary\"\n",
    "print(_name)"
   ]
  },
  {
   "cell_type": "code",
   "execution_count": 20,
   "metadata": {},
   "outputs": [
    {
     "ename": "SyntaxError",
     "evalue": "invalid syntax (<ipython-input-20-a04bbf3467a0>, line 3)",
     "output_type": "error",
     "traceback": [
      "\u001b[1;36m  File \u001b[1;32m\"<ipython-input-20-a04bbf3467a0>\"\u001b[1;36m, line \u001b[1;32m3\u001b[0m\n\u001b[1;33m    name. = \"nikhil\"\u001b[0m\n\u001b[1;37m          ^\u001b[0m\n\u001b[1;31mSyntaxError\u001b[0m\u001b[1;31m:\u001b[0m invalid syntax\n"
     ]
    }
   ],
   "source": [
    "# variable names example2 - violation\n",
    "\n",
    "name. = \"nikhil\"\n",
    "print(name.)"
   ]
  },
  {
   "cell_type": "code",
   "execution_count": 21,
   "metadata": {},
   "outputs": [
    {
     "ename": "SyntaxError",
     "evalue": "invalid syntax (<ipython-input-21-b05a9be99614>, line 2)",
     "output_type": "error",
     "traceback": [
      "\u001b[1;36m  File \u001b[1;32m\"<ipython-input-21-b05a9be99614>\"\u001b[1;36m, line \u001b[1;32m2\u001b[0m\n\u001b[1;33m    email@ = 'abcd@yahho.com'\u001b[0m\n\u001b[1;37m           ^\u001b[0m\n\u001b[1;31mSyntaxError\u001b[0m\u001b[1;31m:\u001b[0m invalid syntax\n"
     ]
    }
   ],
   "source": [
    "# variable names example2 - violation\n",
    "email@ = 'abcd@yahho.com'\n",
    "print(email@)"
   ]
  },
  {
   "cell_type": "code",
   "execution_count": 22,
   "metadata": {},
   "outputs": [
    {
     "ename": "SyntaxError",
     "evalue": "invalid syntax (<ipython-input-22-b7ec5afb735e>, line 1)",
     "output_type": "error",
     "traceback": [
      "\u001b[1;36m  File \u001b[1;32m\"<ipython-input-22-b7ec5afb735e>\"\u001b[1;36m, line \u001b[1;32m1\u001b[0m\n\u001b[1;33m    1st_name = \"Amit\"\u001b[0m\n\u001b[1;37m     ^\u001b[0m\n\u001b[1;31mSyntaxError\u001b[0m\u001b[1;31m:\u001b[0m invalid syntax\n"
     ]
    }
   ],
   "source": [
    "1st_name = \"Amit\"\n",
    "print(1st_name)"
   ]
  },
  {
   "cell_type": "markdown",
   "metadata": {},
   "source": [
    "<br>        "
   ]
  },
  {
   "cell_type": "markdown",
   "metadata": {},
   "source": [
    "**<font color=Crimson>Note For Mentor:</font>**             \n",
    "- Show the students some cases of identifiers name, and let them identify the violations of naming rules.          "
   ]
  },
  {
   "cell_type": "markdown",
   "metadata": {},
   "source": [
    "<br>        \n",
    "<br>      "
   ]
  },
  {
   "cell_type": "markdown",
   "metadata": {},
   "source": [
    "## Assigning Values to Variable and Printing them"
   ]
  },
  {
   "cell_type": "markdown",
   "metadata": {},
   "source": [
    "Python variables do not need explicit declaration to reserve memory space. The declaration happens automatically when you assign a value to a variable. The equal sign (=) is used to assign values to variables.     \n",
    "\n",
    "- Using Assignment operator(=)\n",
    "- The value present in the RHS will be assigned to the variable name present in the LHS.    \n",
    "\n",
    "Look at the following examples:"
   ]
  },
  {
   "cell_type": "code",
   "execution_count": 2,
   "metadata": {},
   "outputs": [
    {
     "name": "stdout",
     "output_type": "stream",
     "text": [
      "13 -5 3.14\n"
     ]
    }
   ],
   "source": [
    "#variable assignment for numbers\n",
    "a = 13\n",
    "b = -5\n",
    "pi = 3.14\n",
    "\n",
    "# Here, 13,-5, and 3.14 are the values assigned to the variables a, b and pi respectively.\n",
    "\n",
    "print(a,b,pi)"
   ]
  },
  {
   "cell_type": "code",
   "execution_count": 25,
   "metadata": {},
   "outputs": [
    {
     "name": "stdout",
     "output_type": "stream",
     "text": [
      "A\n",
      "Hello\n",
      "Hello World\n",
      "abcd@efgh#1234\n"
     ]
    }
   ],
   "source": [
    "#variable assignment for strings\n",
    "str1 = 'A'\n",
    "str2 = 'Hello'\n",
    "str3 = 'Hello World'\n",
    "str4 = 'abcd@efgh#1234'\n",
    "\n",
    "print(str1)\n",
    "print(str2)\n",
    "print(str3)\n",
    "print(str4)"
   ]
  },
  {
   "cell_type": "code",
   "execution_count": 1,
   "metadata": {},
   "outputs": [
    {
     "name": "stdout",
     "output_type": "stream",
     "text": [
      "None\n"
     ]
    }
   ],
   "source": [
    "#variable assignment for None\n",
    "var = None\n",
    "print(var)"
   ]
  },
  {
   "cell_type": "code",
   "execution_count": 3,
   "metadata": {},
   "outputs": [
    {
     "name": "stdout",
     "output_type": "stream",
     "text": [
      "Number= 55\n"
     ]
    }
   ],
   "source": [
    "#printing variable value along with a string message\n",
    "num = 55\n",
    "print(\"Number=\",num)"
   ]
  },
  {
   "cell_type": "code",
   "execution_count": 4,
   "metadata": {},
   "outputs": [
    {
     "name": "stdout",
     "output_type": "stream",
     "text": [
      "Nation = India\n"
     ]
    }
   ],
   "source": [
    "#printing variable value along with a string message\n",
    "nation = \"India\"\n",
    "print(\"Nation =\",nation)"
   ]
  },
  {
   "cell_type": "markdown",
   "metadata": {},
   "source": [
    "<br>        "
   ]
  },
  {
   "cell_type": "markdown",
   "metadata": {},
   "source": [
    "#### Multiple assignment     "
   ]
  },
  {
   "cell_type": "markdown",
   "metadata": {},
   "source": [
    "- Can be assign same value for different variables in same line\n",
    "- Also we can assign different values for different variables in single line"
   ]
  },
  {
   "cell_type": "code",
   "execution_count": 29,
   "metadata": {},
   "outputs": [
    {
     "name": "stdout",
     "output_type": "stream",
     "text": [
      "20 20 20\n"
     ]
    }
   ],
   "source": [
    "#Show assigning in multipline first\n",
    "a = 20\n",
    "b = 20\n",
    "c = 20\n",
    "print(a,b,c)"
   ]
  },
  {
   "cell_type": "code",
   "execution_count": 30,
   "metadata": {},
   "outputs": [
    {
     "name": "stdout",
     "output_type": "stream",
     "text": [
      "20 20 20\n"
     ]
    }
   ],
   "source": [
    "#Show example for case1\n",
    "a=b=c = 20\n",
    "print(a,b,c)"
   ]
  },
  {
   "cell_type": "code",
   "execution_count": 31,
   "metadata": {},
   "outputs": [
    {
     "name": "stdout",
     "output_type": "stream",
     "text": [
      "10 5 50\n"
     ]
    }
   ],
   "source": [
    "#show example for case2\n",
    "a,b,c = 10,5,50\n",
    "print(a,b,c)"
   ]
  },
  {
   "cell_type": "code",
   "execution_count": 32,
   "metadata": {},
   "outputs": [
    {
     "name": "stdout",
     "output_type": "stream",
     "text": [
      "Hai 1 4.8 -6\n"
     ]
    }
   ],
   "source": [
    "#show example for case2 with diffferent datatypes\n",
    "#Let them answer\n",
    "a,b,c,d = 'Hai',1,4.8,-6\n",
    "print(a,b,c,d)"
   ]
  },
  {
   "cell_type": "markdown",
   "metadata": {},
   "source": [
    "<br>        \n",
    "<br>      "
   ]
  },
  {
   "cell_type": "markdown",
   "metadata": {},
   "source": [
    "**<font color=red>Question2</font>**     \n",
    "Declare a variable named `class` and print its value to the console.      "
   ]
  },
  {
   "cell_type": "code",
   "execution_count": 33,
   "metadata": {},
   "outputs": [
    {
     "ename": "SyntaxError",
     "evalue": "invalid syntax (<ipython-input-33-2a18dfa9cff3>, line 2)",
     "output_type": "error",
     "traceback": [
      "\u001b[1;36m  File \u001b[1;32m\"<ipython-input-33-2a18dfa9cff3>\"\u001b[1;36m, line \u001b[1;32m2\u001b[0m\n\u001b[1;33m    class = 12\u001b[0m\n\u001b[1;37m          ^\u001b[0m\n\u001b[1;31mSyntaxError\u001b[0m\u001b[1;31m:\u001b[0m invalid syntax\n"
     ]
    }
   ],
   "source": [
    "#code for question2\n",
    "class = 12\n",
    "print(class)"
   ]
  },
  {
   "cell_type": "markdown",
   "metadata": {},
   "source": [
    "<br>        \n",
    "<br>      "
   ]
  },
  {
   "cell_type": "markdown",
   "metadata": {},
   "source": [
    "**<font color=red>Question3</font>**      \n",
    "Declare a variable named `global` and print its value to the console.      "
   ]
  },
  {
   "cell_type": "code",
   "execution_count": 34,
   "metadata": {
    "scrolled": true
   },
   "outputs": [
    {
     "ename": "SyntaxError",
     "evalue": "invalid syntax (<ipython-input-34-243d1de5b8c3>, line 2)",
     "output_type": "error",
     "traceback": [
      "\u001b[1;36m  File \u001b[1;32m\"<ipython-input-34-243d1de5b8c3>\"\u001b[1;36m, line \u001b[1;32m2\u001b[0m\n\u001b[1;33m    global = 15\u001b[0m\n\u001b[1;37m           ^\u001b[0m\n\u001b[1;31mSyntaxError\u001b[0m\u001b[1;31m:\u001b[0m invalid syntax\n"
     ]
    }
   ],
   "source": [
    "#code for question 3\n",
    "global = 15\n",
    "print(global)"
   ]
  },
  {
   "cell_type": "markdown",
   "metadata": {},
   "source": [
    "<br>        \n",
    "<br>      "
   ]
  },
  {
   "cell_type": "markdown",
   "metadata": {},
   "source": [
    "**<font color=Crimson>Note for Mentor:</font>**           \n",
    "1. Can we write x=100 instead of x = 100?             \n",
    "    - Yes we can; But follow the second method, beacuse it will enhance the readability.          \n",
    "\n",
    "2. Is that possible to re-assign a variable?     \n",
    "    - Yes we can; Then the lastest assigned value will be there in the variable. Look at the following example.      "
   ]
  },
  {
   "cell_type": "code",
   "execution_count": 5,
   "metadata": {},
   "outputs": [
    {
     "name": "stdout",
     "output_type": "stream",
     "text": [
      "Red\n",
      "Blue\n",
      "Green\n"
     ]
    }
   ],
   "source": [
    "color = \"Red\"  # Assign the color red to the variable color\n",
    "print(color)\n",
    "\n",
    "color = \"Blue\"    #Re-assigning color with blue\n",
    "print(color)\n",
    "\n",
    "color = \"Green\"\n",
    "print(color)"
   ]
  },
  {
   "cell_type": "markdown",
   "metadata": {},
   "source": [
    "<br>        \n",
    "<br>      \n",
    "<br>     "
   ]
  },
  {
   "cell_type": "markdown",
   "metadata": {},
   "source": [
    "## Keywords\n",
    "\n",
    "- Keywords are **reserved words**.     \n",
    "- Cannot use them as identifier names.     \n",
    "- All the keywords of python are in lower case letters.     "
   ]
  },
  {
   "cell_type": "markdown",
   "metadata": {},
   "source": [
    "| and |assert | break | class |\n",
    "| ---- | ---- | ----- |------|\n",
    "| continue | def | del | elif |      \n",
    "| else | except | exec | finally |\n",
    "| for | from | global | if | \n",
    "| import | in | is | lambda |    \n",
    "| not | nor | pass | print |  \n",
    "| raise | return | try | while |\n",
    "| with | yield |     |   |\n",
    "\n",
    "<br>       \n"
   ]
  },
  {
   "cell_type": "code",
   "execution_count": 35,
   "metadata": {},
   "outputs": [
    {
     "ename": "SyntaxError",
     "evalue": "invalid syntax (<ipython-input-35-76dc4267eca3>, line 2)",
     "output_type": "error",
     "traceback": [
      "\u001b[1;36m  File \u001b[1;32m\"<ipython-input-35-76dc4267eca3>\"\u001b[1;36m, line \u001b[1;32m2\u001b[0m\n\u001b[1;33m    break = \"10 AM\"\u001b[0m\n\u001b[1;37m          ^\u001b[0m\n\u001b[1;31mSyntaxError\u001b[0m\u001b[1;31m:\u001b[0m invalid syntax\n"
     ]
    }
   ],
   "source": [
    "#use keywords as identifier\n",
    "break = \"10 AM\"\n",
    "class = 11\n",
    "print(break,class)\n"
   ]
  },
  {
   "cell_type": "code",
   "execution_count": 36,
   "metadata": {
    "scrolled": true
   },
   "outputs": [
    {
     "ename": "SyntaxError",
     "evalue": "invalid syntax (<ipython-input-36-6389e98f9fea>, line 2)",
     "output_type": "error",
     "traceback": [
      "\u001b[1;36m  File \u001b[1;32m\"<ipython-input-36-6389e98f9fea>\"\u001b[1;36m, line \u001b[1;32m2\u001b[0m\n\u001b[1;33m    try = 5\u001b[0m\n\u001b[1;37m        ^\u001b[0m\n\u001b[1;31mSyntaxError\u001b[0m\u001b[1;31m:\u001b[0m invalid syntax\n"
     ]
    }
   ],
   "source": [
    "#use keywords as identifier\n",
    "try = 5\n",
    "pass = \"No\"\n",
    "print(try,pass)"
   ]
  },
  {
   "cell_type": "markdown",
   "metadata": {},
   "source": [
    "<br>     "
   ]
  },
  {
   "cell_type": "markdown",
   "metadata": {},
   "source": [
    "**<font color=Crimson>Note For the Mentor</font>**         \n",
    "Note the name of the error: `SyntaxError: invalid syntax`.              "
   ]
  },
  {
   "cell_type": "markdown",
   "metadata": {},
   "source": [
    "<br>        \n",
    "<br>      \n",
    "<br>     "
   ]
  },
  {
   "cell_type": "markdown",
   "metadata": {},
   "source": [
    "## Data Types"
   ]
  },
  {
   "cell_type": "markdown",
   "metadata": {},
   "source": [
    "People tend to store things in the wrong sort of box. For example, you might find a pair of shoes in a garment bag and a supply of pens in a shoebox. However, Python likes to be neat. In order to achieve this we have categorised the variables and their values into several classes called data types. \n",
    "Basically types are the category or the class in which the values comes under."
   ]
  },
  {
   "cell_type": "markdown",
   "metadata": {},
   "source": [
    "- **Numeric**\n",
    "    - integers (signed integers)\n",
    "    - float    (floating point real values)\n",
    "    - complex  (complex numbers having real and imaginary parts)   \n",
    "    \n",
    "- **String**\n",
    "\n",
    "- **Boolean**"
   ]
  },
  {
   "cell_type": "markdown",
   "metadata": {},
   "source": [
    "### Numeric"
   ]
  },
  {
   "cell_type": "markdown",
   "metadata": {},
   "source": [
    "#### int\n",
    "This data type can be positive integers, negative integers and zero.\n",
    "In general Integers are represented by the `int` data type."
   ]
  },
  {
   "cell_type": "code",
   "execution_count": 38,
   "metadata": {},
   "outputs": [
    {
     "name": "stdout",
     "output_type": "stream",
     "text": [
      "8\n",
      "1234\n",
      "1000000\n"
     ]
    }
   ],
   "source": [
    "#example for +integer\n",
    "a = 8\n",
    "b = 1234\n",
    "c = 1000000\n",
    "print(a)\n",
    "print(b)\n",
    "print(c)"
   ]
  },
  {
   "cell_type": "code",
   "execution_count": 39,
   "metadata": {},
   "outputs": [
    {
     "name": "stdout",
     "output_type": "stream",
     "text": [
      "-2\n",
      "-111\n"
     ]
    }
   ],
   "source": [
    "#example for -integer\n",
    "a = -2\n",
    "b = -111\n",
    "print(a)\n",
    "print(b)"
   ]
  },
  {
   "cell_type": "code",
   "execution_count": 40,
   "metadata": {},
   "outputs": [
    {
     "name": "stdout",
     "output_type": "stream",
     "text": [
      "0\n"
     ]
    }
   ],
   "source": [
    "#example for zero\n",
    "x = 0\n",
    "print(x)"
   ]
  },
  {
   "cell_type": "markdown",
   "metadata": {},
   "source": [
    "<br>        "
   ]
  },
  {
   "cell_type": "markdown",
   "metadata": {},
   "source": [
    "#### float\n",
    "Any number that includes a decimal portion is a floating-point value. For example, 10.0 has a decimal part, so it’s a floating-point value.     "
   ]
  },
  {
   "cell_type": "code",
   "execution_count": 41,
   "metadata": {},
   "outputs": [
    {
     "name": "stdout",
     "output_type": "stream",
     "text": [
      "10.5\n",
      "6.6666666666666\n",
      "-3.2345\n"
     ]
    }
   ],
   "source": [
    "#example for floating point\n",
    "d = 10.5\n",
    "e = 6.6666666666666\n",
    "f = -3.2345\n",
    "print(d)\n",
    "print(e)\n",
    "print(f)"
   ]
  },
  {
   "cell_type": "markdown",
   "metadata": {},
   "source": [
    "<br>        "
   ]
  },
  {
   "cell_type": "markdown",
   "metadata": {},
   "source": [
    "**<font color=Brown>Note:</font>**      \n",
    "People usually thinks `1` and `1.0` are same. But in python they are equal in value but differs in type.      \n",
    "`1` comes under the type of `int` on the other hand `1.0` comes under the type of `float`.      "
   ]
  },
  {
   "cell_type": "markdown",
   "metadata": {},
   "source": [
    "<br>         "
   ]
  },
  {
   "cell_type": "markdown",
   "metadata": {},
   "source": [
    "#### String (str)\n",
    "**<font color =green>anything within the double quotes is considered as str type.</font>**          \n",
    "A string is simply any grouping of characters you place within double quotes. The characters can be alphabets, special characters or numbers.     \n",
    "Note that quote is necessary for the `str` type.     \n",
    "Look at the following examples:     "
   ]
  },
  {
   "cell_type": "code",
   "execution_count": 42,
   "metadata": {},
   "outputs": [
    {
     "name": "stdout",
     "output_type": "stream",
     "text": [
      "a\n",
      "hai\n"
     ]
    }
   ],
   "source": [
    "#example for string1 - alphabets within quotes\n",
    "str1 = \"a\"\n",
    "str2 = \"hai\"\n",
    "print(str1)\n",
    "print(str2)"
   ]
  },
  {
   "cell_type": "code",
   "execution_count": 43,
   "metadata": {},
   "outputs": [
    {
     "name": "stdout",
     "output_type": "stream",
     "text": [
      "123\n"
     ]
    }
   ],
   "source": [
    "#example for string2 - numbers within quotes\n",
    "str3 = \"123\"   \n",
    "print(str3)"
   ]
  },
  {
   "cell_type": "code",
   "execution_count": 44,
   "metadata": {},
   "outputs": [
    {
     "name": "stdout",
     "output_type": "stream",
     "text": [
      "#Holi\n"
     ]
    }
   ],
   "source": [
    "#example for string3 - special characters within quotes\n",
    "str3 = \"#Holi\"\n",
    "print(str3)"
   ]
  },
  {
   "cell_type": "code",
   "execution_count": 45,
   "metadata": {},
   "outputs": [
    {
     "name": "stdout",
     "output_type": "stream",
     "text": [
      "45.0559\n"
     ]
    }
   ],
   "source": [
    "#example for string4   - decimal points within quotes\n",
    "str4 = \"45.0559\"\n",
    "print(str4)"
   ]
  },
  {
   "cell_type": "markdown",
   "metadata": {},
   "source": [
    "<br>         "
   ]
  },
  {
   "cell_type": "markdown",
   "metadata": {},
   "source": [
    "##### Boolean(bool)"
   ]
  },
  {
   "cell_type": "markdown",
   "metadata": {},
   "source": [
    "Computers always provide a straight answer which can be either True or False. There is no in between answers. \n",
    "And this behaviour will be very useful in decision making. In order to replicate this behaviour of computer, python has a data type called `Bool`.\n",
    "- **2 states:<font color =green>True</font> or <font color =red>False</font>**          \n",
    "\n",
    "\n",
    "- It is equivalent to the following real-life states:\n",
    "    - ON and OFF\n",
    "    - Truth or Dare\n",
    "    - 1 or 0\n",
    "    - Yes or No"
   ]
  },
  {
   "cell_type": "markdown",
   "metadata": {},
   "source": [
    "<br>        "
   ]
  },
  {
   "cell_type": "markdown",
   "metadata": {},
   "source": [
    "**<font color=Crimson>Note For Mentor:</font>**       \n",
    "- Ask them for some real-time example where we need bool data.     \n",
    "- eg:-      \n",
    "```      \n",
    "    - Yes/No questions     \n",
    "    - To identify the state of an electronic/electric device (ON/OFF).    \n",
    "```      "
   ]
  },
  {
   "cell_type": "code",
   "execution_count": 46,
   "metadata": {},
   "outputs": [
    {
     "name": "stdout",
     "output_type": "stream",
     "text": [
      "True False\n"
     ]
    }
   ],
   "source": [
    "# bool example1\n",
    "x = True\n",
    "y = False\n",
    "print(x,y)"
   ]
  },
  {
   "cell_type": "code",
   "execution_count": 54,
   "metadata": {},
   "outputs": [
    {
     "name": "stdout",
     "output_type": "stream",
     "text": [
      "True True False\n"
     ]
    }
   ],
   "source": [
    "# bool example2\n",
    "case1 = True\n",
    "case2 = True\n",
    "case3 = False\n",
    "print(case1,case2,case3)"
   ]
  },
  {
   "cell_type": "code",
   "execution_count": 55,
   "metadata": {},
   "outputs": [
    {
     "ename": "NameError",
     "evalue": "name 'true' is not defined",
     "output_type": "error",
     "traceback": [
      "\u001b[1;31m---------------------------------------------------------------------------\u001b[0m",
      "\u001b[1;31mNameError\u001b[0m                                 Traceback (most recent call last)",
      "\u001b[1;32m<ipython-input-55-de9029c5c155>\u001b[0m in \u001b[0;36m<module>\u001b[1;34m\u001b[0m\n\u001b[0;32m      1\u001b[0m \u001b[1;31m# bool example 3 - error case\u001b[0m\u001b[1;33m\u001b[0m\u001b[1;33m\u001b[0m\u001b[1;33m\u001b[0m\u001b[0m\n\u001b[1;32m----> 2\u001b[1;33m \u001b[0mp\u001b[0m \u001b[1;33m=\u001b[0m \u001b[0mtrue\u001b[0m\u001b[1;33m\u001b[0m\u001b[1;33m\u001b[0m\u001b[0m\n\u001b[0m\u001b[0;32m      3\u001b[0m \u001b[0mq\u001b[0m \u001b[1;33m=\u001b[0m \u001b[0mfalse\u001b[0m\u001b[1;33m\u001b[0m\u001b[1;33m\u001b[0m\u001b[0m\n\u001b[0;32m      4\u001b[0m \u001b[0mprint\u001b[0m\u001b[1;33m(\u001b[0m\u001b[0mp\u001b[0m\u001b[1;33m,\u001b[0m\u001b[0mq\u001b[0m\u001b[1;33m)\u001b[0m\u001b[1;33m\u001b[0m\u001b[1;33m\u001b[0m\u001b[0m\n",
      "\u001b[1;31mNameError\u001b[0m: name 'true' is not defined"
     ]
    }
   ],
   "source": [
    "# bool example 3 - error case\n",
    "p = true\n",
    "q = false\n",
    "print(p,q)"
   ]
  },
  {
   "cell_type": "code",
   "execution_count": 56,
   "metadata": {
    "scrolled": true
   },
   "outputs": [
    {
     "ename": "NameError",
     "evalue": "name 'TRUE' is not defined",
     "output_type": "error",
     "traceback": [
      "\u001b[1;31m---------------------------------------------------------------------------\u001b[0m",
      "\u001b[1;31mNameError\u001b[0m                                 Traceback (most recent call last)",
      "\u001b[1;32m<ipython-input-56-c444e210412b>\u001b[0m in \u001b[0;36m<module>\u001b[1;34m\u001b[0m\n\u001b[0;32m      1\u001b[0m \u001b[1;31m# bool example 4 - error case\u001b[0m\u001b[1;33m\u001b[0m\u001b[1;33m\u001b[0m\u001b[1;33m\u001b[0m\u001b[0m\n\u001b[1;32m----> 2\u001b[1;33m \u001b[0mp\u001b[0m \u001b[1;33m=\u001b[0m \u001b[0mTRUE\u001b[0m\u001b[1;33m\u001b[0m\u001b[1;33m\u001b[0m\u001b[0m\n\u001b[0m\u001b[0;32m      3\u001b[0m \u001b[0mq\u001b[0m \u001b[1;33m=\u001b[0m \u001b[0mFALSE\u001b[0m\u001b[1;33m\u001b[0m\u001b[1;33m\u001b[0m\u001b[0m\n\u001b[0;32m      4\u001b[0m \u001b[0mprint\u001b[0m\u001b[1;33m(\u001b[0m\u001b[0mp\u001b[0m\u001b[1;33m,\u001b[0m\u001b[0mq\u001b[0m\u001b[1;33m)\u001b[0m\u001b[1;33m\u001b[0m\u001b[1;33m\u001b[0m\u001b[0m\n",
      "\u001b[1;31mNameError\u001b[0m: name 'TRUE' is not defined"
     ]
    }
   ],
   "source": [
    "# bool example 4 - error case\n",
    "p = TRUE\n",
    "q = FALSE\n",
    "print(p,q)"
   ]
  },
  {
   "cell_type": "markdown",
   "metadata": {},
   "source": [
    "<br>        \n",
    "<br>      "
   ]
  },
  {
   "cell_type": "markdown",
   "metadata": {},
   "source": [
    "## type() function"
   ]
  },
  {
   "cell_type": "markdown",
   "metadata": {},
   "source": [
    "- Used to get the data type of the values\n",
    "- **syntax:** `type(value)`"
   ]
  },
  {
   "cell_type": "markdown",
   "metadata": {},
   "source": [
    "<br>     "
   ]
  },
  {
   "cell_type": "markdown",
   "metadata": {},
   "source": [
    "**<font color=Crimson>Note For Mentor:</font>**      \n",
    "- Show them as many cases as possible to make them understand the data types and type() function.       "
   ]
  },
  {
   "cell_type": "code",
   "execution_count": 61,
   "metadata": {},
   "outputs": [
    {
     "data": {
      "text/plain": [
       "int"
      ]
     },
     "execution_count": 61,
     "metadata": {},
     "output_type": "execute_result"
    }
   ],
   "source": [
    "#type() example1\n",
    "type(100)"
   ]
  },
  {
   "cell_type": "code",
   "execution_count": 62,
   "metadata": {},
   "outputs": [
    {
     "data": {
      "text/plain": [
       "int"
      ]
     },
     "execution_count": 62,
     "metadata": {},
     "output_type": "execute_result"
    }
   ],
   "source": [
    "#type() example2\n",
    "type(-12)"
   ]
  },
  {
   "cell_type": "code",
   "execution_count": 64,
   "metadata": {},
   "outputs": [
    {
     "data": {
      "text/plain": [
       "bool"
      ]
     },
     "execution_count": 64,
     "metadata": {},
     "output_type": "execute_result"
    }
   ],
   "source": [
    "#type() example3\n",
    "type(\"Apple\")"
   ]
  },
  {
   "cell_type": "code",
   "execution_count": 65,
   "metadata": {},
   "outputs": [
    {
     "data": {
      "text/plain": [
       "bool"
      ]
     },
     "execution_count": 65,
     "metadata": {},
     "output_type": "execute_result"
    }
   ],
   "source": [
    "type(True)"
   ]
  },
  {
   "cell_type": "code",
   "execution_count": 66,
   "metadata": {},
   "outputs": [
    {
     "name": "stdout",
     "output_type": "stream",
     "text": [
      "<class 'int'>\n",
      "<class 'float'>\n",
      "<class 'int'>\n",
      "<class 'int'>\n"
     ]
    }
   ],
   "source": [
    "a = 18\n",
    "b = 40.25\n",
    "c = -22\n",
    "d = 0\n",
    "\n",
    "print(type(a))\n",
    "print(type(b))\n",
    "print(type(c))\n",
    "print(type(d))"
   ]
  },
  {
   "cell_type": "code",
   "execution_count": 67,
   "metadata": {},
   "outputs": [
    {
     "name": "stdout",
     "output_type": "stream",
     "text": [
      "<class 'str'>\n",
      "<class 'str'>\n",
      "<class 'str'>\n",
      "<class 'str'>\n"
     ]
    }
   ],
   "source": [
    "str1 = \"H\"\n",
    "str2 = \"This is the use of type function\"\n",
    "str3 = \"#\"\n",
    "str4 = \"1234\"\n",
    "print(type(str1))\n",
    "print(type(str2))\n",
    "print(type(str3))\n",
    "print(type(str4))"
   ]
  },
  {
   "cell_type": "code",
   "execution_count": 68,
   "metadata": {
    "scrolled": true
   },
   "outputs": [
    {
     "name": "stdout",
     "output_type": "stream",
     "text": [
      "<class 'bool'>\n",
      "<class 'bool'>\n",
      "<class 'str'>\n",
      "<class 'str'>\n"
     ]
    }
   ],
   "source": [
    "val1 = True\n",
    "val2 = False\n",
    "val3 = \"True\"\n",
    "val4 = \"False\"\n",
    "print(type(val1))\n",
    "print(type(val2))\n",
    "print(type(val3))\n",
    "print(type(val4))"
   ]
  },
  {
   "cell_type": "markdown",
   "metadata": {},
   "source": [
    "<br>        \n",
    "<br>      "
   ]
  },
  {
   "cell_type": "markdown",
   "metadata": {},
   "source": [
    "**<font color=red>Question4</font>**      \n",
    "Predict the output of the following codes:          \n",
    "`     \n",
    "    print(type(\"1000\"))      \n",
    "`     "
   ]
  },
  {
   "cell_type": "code",
   "execution_count": null,
   "metadata": {},
   "outputs": [],
   "source": [
    "#type() example1 ----- predict the output\n",
    "print(type(66.66))"
   ]
  },
  {
   "cell_type": "code",
   "execution_count": null,
   "metadata": {},
   "outputs": [],
   "source": [
    "#type() example2 ----- predict the output\n",
    "print(type(-12.21))"
   ]
  },
  {
   "cell_type": "code",
   "execution_count": null,
   "metadata": {},
   "outputs": [],
   "source": [
    "#type() example3 ----- predict the output\n",
    "print(type(0))"
   ]
  },
  {
   "cell_type": "code",
   "execution_count": null,
   "metadata": {},
   "outputs": [],
   "source": [
    "#type() example4 ----- predict the output\n",
    "print(type(\"Football\"))"
   ]
  },
  {
   "cell_type": "code",
   "execution_count": null,
   "metadata": {},
   "outputs": [],
   "source": [
    "#type() example5 ----- for complex\n",
    "print(type(6+5j))"
   ]
  },
  {
   "cell_type": "code",
   "execution_count": null,
   "metadata": {},
   "outputs": [],
   "source": [
    "#type() example6 -----\n",
    "print(type(\"True\"))"
   ]
  },
  {
   "cell_type": "markdown",
   "metadata": {},
   "source": [
    "<br>        \n",
    "<br>      "
   ]
  },
  {
   "cell_type": "markdown",
   "metadata": {
    "slideshow": {
     "slide_type": "slide"
    }
   },
   "source": [
    "**<font color =red>Question 5</font>**              \n",
    "Check if the following names can be used as a variable or not?            \n",
    "\n",
    "```    \n",
    "    1. print = 15     \n",
    "    2. a = \"ak\"    \n",
    "    3. b = 33     \n",
    "    4. c = 2.5    \n",
    "    5. d = [1,2,3,4]    \n",
    "    6. list*name = [1,2,3,4]    \n",
    "    7. 2list*name = [5,6,8]    \n",
    "    8. list_names = [5,6,8]    \n",
    "    9. 3_list_name = [1,5,10]    \n",
    "    10.13_name = \"Arjun\"     \n",
    "```    "
   ]
  },
  {
   "cell_type": "markdown",
   "metadata": {},
   "source": [
    "1. No: Keyword\n",
    "2. Yes\n",
    "3. Yes\n",
    "4. Yes\n",
    "5. Yes\n",
    "6. No: There is one special character other than underscore(_)\n",
    "7. No: Starting with a number is not allowed\n",
    "8. Yes\n",
    "9. No: Starting with a number is not allowed\n",
    "10. No: Starting with a number is not allowed"
   ]
  },
  {
   "cell_type": "markdown",
   "metadata": {},
   "source": [
    "<br>        \n",
    "<br>      "
   ]
  },
  {
   "cell_type": "markdown",
   "metadata": {
    "slideshow": {
     "slide_type": "slide"
    }
   },
   "source": [
    "**<font color =red>Question 6</font>**             \n",
    "Check the following names can be used as a variable or not?         \n",
    "\n",
    "```     \n",
    "    1. print = 15     \n",
    "    2. print_number = 15      \n",
    "    3. print 13 = 15     \n",
    "    4. print13 = 15     \n",
    "    5. print_1 = 30     \n",
    "    6. print1 = 20     \n",
    "    7. print2 = 50     \n",
    "    8. PrintNum = \"Printing Numbers\"     \n",
    "    9. PRINT = \"Yes\"           \n",
    "```      "
   ]
  },
  {
   "cell_type": "markdown",
   "metadata": {},
   "source": [
    "Answer:      \n",
    "1. No, because `print` is a keyword it cannot be used as variable.     \n",
    "2. Yes, The variable `print_number` has satisfied all the rules of naming.     \n",
    "3. No, There is a space in the variable name `print 13` which is not allowed.    \n",
    "4. Yes, The variable `print13` has satisfied all the rules of naming.             \n",
    "5. Yes, The variable `print_1` has satisfied all the rules of naming.          \n",
    "6. Yes, The variable `print1` has satisfied all the rules of naming.            \n",
    "7. Yes, The variable `print2` has satisfied all the rules of naming.            \n",
    "8. Yes, The variable `PrintNum` has satisfied all the rules of naming.         \n",
    "9. Yes, The variable `PRINT` has satisfied all the rules of naming.            \n"
   ]
  },
  {
   "cell_type": "markdown",
   "metadata": {},
   "source": [
    "<br>        \n",
    "<br>      "
   ]
  },
  {
   "cell_type": "markdown",
   "metadata": {
    "slideshow": {
     "slide_type": "slide"
    }
   },
   "source": [
    "**<font color =red>Question 7</font>**        \n",
    "What will be Output of the following code?          \n",
    " \n",
    "```    \n",
    "    number = 10     \n",
    "    print(number,type(number))     \n",
    "    print(\"number\",type(\"number\"))     \n",
    "```    "
   ]
  },
  {
   "cell_type": "code",
   "execution_count": 72,
   "metadata": {
    "slideshow": {
     "slide_type": "slide"
    }
   },
   "outputs": [
    {
     "name": "stdout",
     "output_type": "stream",
     "text": [
      "10 <class 'int'>\n",
      "number <class 'str'>\n"
     ]
    }
   ],
   "source": [
    "number = 10\n",
    "print(number,type(number))\n",
    "print(\"number\",type(\"number\"))"
   ]
  },
  {
   "cell_type": "markdown",
   "metadata": {},
   "source": [
    "<br>        \n",
    "<br>      "
   ]
  },
  {
   "cell_type": "markdown",
   "metadata": {
    "slideshow": {
     "slide_type": "slide"
    }
   },
   "source": [
    "*<font color =grey>Understanding datatypes a bit more deeper</font>*<br>                         \n",
    "**<font color =red>Question 8</font>**      \n",
    "What will be Output of the following code?         \n",
    "Also specify the type of the values          \n",
    "```\n",
    "    print(10.3)\n",
    "    print(\"10\")\n",
    "    print(\"yes\")\n",
    "    print(22)\n",
    "```"
   ]
  },
  {
   "cell_type": "code",
   "execution_count": 73,
   "metadata": {
    "slideshow": {
     "slide_type": "slide"
    }
   },
   "outputs": [
    {
     "name": "stdout",
     "output_type": "stream",
     "text": [
      "10.3\n",
      "10\n",
      "yes\n",
      "22\n"
     ]
    }
   ],
   "source": [
    "#show the results here!\n",
    "print(10.3)\n",
    "print(\"10\")\n",
    "print(\"yes\")\n",
    "print(22)"
   ]
  },
  {
   "cell_type": "markdown",
   "metadata": {},
   "source": [
    "<br>        \n",
    "<br>      "
   ]
  },
  {
   "cell_type": "markdown",
   "metadata": {
    "slideshow": {
     "slide_type": "slide"
    }
   },
   "source": [
    "*<font color =grey>Understanding datatypes of Input</font>*              \n",
    "\n",
    "**<font color =red>Question 9</font>**                \n",
    "Write a program to print the sum of two numbers?          \n",
    "number 1 = 15          \n",
    "number 2 = 30           \n",
    "\n",
    "**<font color =brown>Expected Output:</font>**       \n",
    "```\n",
    "    Sum = 45\n",
    "```"
   ]
  },
  {
   "cell_type": "code",
   "execution_count": 76,
   "metadata": {
    "slideshow": {
     "slide_type": "slide"
    }
   },
   "outputs": [
    {
     "name": "stdout",
     "output_type": "stream",
     "text": [
      "Sum = 45\n"
     ]
    }
   ],
   "source": [
    "#sum of two numbers\n",
    "number1 = 15\n",
    "number2 = 30\n",
    "print(\"Sum =\",number1+number2)"
   ]
  },
  {
   "cell_type": "markdown",
   "metadata": {},
   "source": [
    "<br>        "
   ]
  },
  {
   "cell_type": "markdown",
   "metadata": {
    "slideshow": {
     "slide_type": "slide"
    }
   },
   "source": [
    "**<font color=Crimson>Note For Mentor:</font>**         \n",
    "- With the above program, show them how to print more formatted results.      \n"
   ]
  },
  {
   "cell_type": "markdown",
   "metadata": {
    "slideshow": {
     "slide_type": "skip"
    }
   },
   "source": [
    "------"
   ]
  },
  {
   "cell_type": "markdown",
   "metadata": {},
   "source": [
    "<br>        \n",
    "<br>      "
   ]
  },
  {
   "cell_type": "markdown",
   "metadata": {
    "slideshow": {
     "slide_type": "skip"
    }
   },
   "source": [
    " # <font color=blue>ACTIVITIES</font>"
   ]
  },
  {
   "cell_type": "markdown",
   "metadata": {},
   "source": [
    "<br>     "
   ]
  },
  {
   "cell_type": "markdown",
   "metadata": {},
   "source": [
    "**<font color=green>Light </font>**      "
   ]
  },
  {
   "cell_type": "markdown",
   "metadata": {
    "slideshow": {
     "slide_type": "slide"
    }
   },
   "source": [
    "1.  Perform the **subtraction** of two numbers, and print the result   \n",
    " \n",
    " \n",
    "2.  Print the data type of the following variables:\n",
    " ```\n",
    "    x = 19.0\n",
    "    y = -25\n",
    "    z = 0\n",
    "    name = 'Irin'\n",
    "    number = '20'\n",
    "```\n",
    " \n",
    " \n",
    "3.  Let a,b,c are three python variables. In which a holds your name, b holds your age and c holds your weight.    \n",
    "     1. print the values of a,b and c\n",
    "     2. print the data type of a,b and c\n",
    " "
   ]
  },
  {
   "cell_type": "markdown",
   "metadata": {},
   "source": [
    "<br>      \n",
    "<br>     "
   ]
  },
  {
   "cell_type": "markdown",
   "metadata": {},
   "source": [
    "**<font color=Purple>Mederate </font>**          "
   ]
  },
  {
   "cell_type": "markdown",
   "metadata": {},
   "source": [
    "4.  Let `X`=33 and `Y`=5.0, perform addition and save result into a variable named `sum`,     \n",
    "     Then print value and type of `sum`.   \n",
    "     \n",
    "     \n",
    "     \n",
    "5.  Consider the following code snippet of python having some errors; identify the errors and fix it.\n",
    "```\n",
    "   name = Ajay\n",
    "   age = '12'\n",
    "   print(\"After 5 years, age of \", name,\" = \", age+5)\n",
    "```\n",
    "\n",
    "6. Consider the following code snippet for finding the sum of two numbers; identify the errors and fix it.\n",
    "```\n",
    "   num-1 = 10\n",
    "   num-2 = 20.5\n",
    "   print(\"sum=num-1+num-2\")\n",
    "```"
   ]
  },
  {
   "cell_type": "markdown",
   "metadata": {},
   "source": [
    "<br>      \n",
    "<br>     "
   ]
  },
  {
   "cell_type": "markdown",
   "metadata": {},
   "source": [
    "----"
   ]
  },
  {
   "cell_type": "markdown",
   "metadata": {},
   "source": [
    "# Answers"
   ]
  },
  {
   "cell_type": "code",
   "execution_count": 1,
   "metadata": {},
   "outputs": [
    {
     "name": "stdout",
     "output_type": "stream",
     "text": [
      "Difference= -10\n"
     ]
    }
   ],
   "source": [
    "# Activity 1\n",
    "#-------------\n",
    "\n",
    "a = 10\n",
    "b = 20\n",
    "print(\"Difference=\",a-b)"
   ]
  },
  {
   "cell_type": "markdown",
   "metadata": {},
   "source": [
    "<br>         "
   ]
  },
  {
   "cell_type": "code",
   "execution_count": 2,
   "metadata": {},
   "outputs": [
    {
     "name": "stdout",
     "output_type": "stream",
     "text": [
      "<class 'float'>\n",
      "<class 'int'>\n",
      "<class 'int'>\n",
      "<class 'str'>\n",
      "<class 'str'>\n"
     ]
    }
   ],
   "source": [
    "# Activity 2\n",
    "#------------\n",
    "\n",
    "x = 19.0\n",
    "y = -25\n",
    "z = 0\n",
    "name = 'Irin'\n",
    "number = '20'\n",
    "\n",
    "print(type(x))\n",
    "print(type(y))\n",
    "print(type(z))\n",
    "print(type(name))\n",
    "print(type(number))"
   ]
  },
  {
   "cell_type": "markdown",
   "metadata": {},
   "source": [
    "<br>         "
   ]
  },
  {
   "cell_type": "code",
   "execution_count": 3,
   "metadata": {},
   "outputs": [
    {
     "name": "stdout",
     "output_type": "stream",
     "text": [
      "John \t <class 'str'>\n",
      "25 \t <class 'int'>\n",
      "72.5 \t <class 'float'>\n"
     ]
    }
   ],
   "source": [
    "# Activity 3\n",
    "#-------------\n",
    "\n",
    "a = 'John'\n",
    "b = 25\n",
    "c = 72.5\n",
    "\n",
    "print(a,'\\t',type(a))\n",
    "print(b,'\\t',type(b))\n",
    "print(c,'\\t',type(c))"
   ]
  },
  {
   "cell_type": "markdown",
   "metadata": {},
   "source": [
    "<br>         "
   ]
  },
  {
   "cell_type": "code",
   "execution_count": 4,
   "metadata": {},
   "outputs": [
    {
     "name": "stdout",
     "output_type": "stream",
     "text": [
      "Sum= 38.0\n"
     ]
    }
   ],
   "source": [
    "# Activity 4\n",
    "#-------------\n",
    "X = 33\n",
    "Y = 5.0\n",
    "sum = X+Y\n",
    "print(\"Sum=\",sum)"
   ]
  },
  {
   "cell_type": "markdown",
   "metadata": {},
   "source": [
    "<br>         "
   ]
  },
  {
   "cell_type": "code",
   "execution_count": 5,
   "metadata": {},
   "outputs": [
    {
     "name": "stdout",
     "output_type": "stream",
     "text": [
      "After 5 years, age of  Ajay  =  17\n"
     ]
    }
   ],
   "source": [
    "# Activity 5\n",
    "#-------------\n",
    "\n",
    "'''name = Ajay                                         # error quotes missing\n",
    "age = '12'                                             # error for numbers no need of quotes\n",
    "print(\"After 5 years, age of \", name,\" = \", age+5)'''  \n",
    "\n",
    "name = 'Ajay'\n",
    "age = 12\n",
    "print(\"After 5 years, age of \", name,\" = \", age+5)"
   ]
  },
  {
   "cell_type": "markdown",
   "metadata": {},
   "source": [
    "<br>         "
   ]
  },
  {
   "cell_type": "code",
   "execution_count": 6,
   "metadata": {},
   "outputs": [
    {
     "name": "stdout",
     "output_type": "stream",
     "text": [
      "sum= 30.5\n"
     ]
    }
   ],
   "source": [
    "# Activity 6\n",
    "#-------------\n",
    "\n",
    "'''num-1 = 10                         # invalid variable name, hyphen not allowed\n",
    "num-2 = 20.5                          # invalid variable name, hyphen not allowed\n",
    "print(\"sum=num-1+num-2\")'''           # mis placed quotes\n",
    "\n",
    "\n",
    "num_1 = 10\n",
    "num_2 = 20.5\n",
    "print(\"sum=\",num_1+num_2)\n"
   ]
  },
  {
   "cell_type": "markdown",
   "metadata": {},
   "source": [
    "<br>         "
   ]
  },
  {
   "cell_type": "markdown",
   "metadata": {},
   "source": [
    "-------"
   ]
  }
 ],
 "metadata": {
  "kernelspec": {
   "display_name": "Python 3",
   "language": "python",
   "name": "python3"
  },
  "language_info": {
   "codemirror_mode": {
    "name": "ipython",
    "version": 3
   },
   "file_extension": ".py",
   "mimetype": "text/x-python",
   "name": "python",
   "nbconvert_exporter": "python",
   "pygments_lexer": "ipython3",
   "version": "3.8.3"
  }
 },
 "nbformat": 4,
 "nbformat_minor": 4
}
