{
 "cells": [
  {
   "cell_type": "markdown",
   "metadata": {},
   "source": [
    "# Index    <br>\n",
    "\n",
    "\n",
    "   \n",
    "- **Conditional Execution**\n",
    "    - If condition\n",
    "\n",
    "\n",
    "\n",
    "- **Alternative execution:**\n",
    "    - if and else\n",
    "    - conditional execution with logical operators\n",
    "    \n",
    "    \n",
    "    \n",
    "- **Activities**"
   ]
  },
  {
   "cell_type": "markdown",
   "metadata": {},
   "source": [
    "-----"
   ]
  },
  {
   "cell_type": "markdown",
   "metadata": {},
   "source": [
    "<br>        \n",
    "<br>        "
   ]
  },
  {
   "cell_type": "markdown",
   "metadata": {},
   "source": [
    "# Conditional Statements"
   ]
  },
  {
   "cell_type": "markdown",
   "metadata": {},
   "source": [
    "## Conditional Execution\n",
    "Checking the condition and doing something with that information<br>\n",
    "In order to write useful programs, we always need the ability to check conditions and change the behavior of the program accordingly. Conditional statements give us this ability.     \n",
    "\n",
    "`If condition` is the simplest form of conditional execution and the easiest method for making a decision in Python. It simply\n",
    "states that if something is true, Python should perform the steps that follow.     \n",
    "The if statement contains a logical expression using which, data is compared and a decision is made based on the result of the\n",
    "comparison. The result of the logical expression is always a bool type otherwise the controller will convert it into bool value beacuse decision making process is always rely on two states, that is True or False.    \n",
    "\n"
   ]
  },
  {
   "cell_type": "markdown",
   "metadata": {},
   "source": [
    "<br>     "
   ]
  },
  {
   "cell_type": "markdown",
   "metadata": {},
   "source": [
    "### Understanding if condition"
   ]
  },
  {
   "cell_type": "markdown",
   "metadata": {},
   "source": [
    "**<font color=Crimson>Note for Mentor:</font>**       \n",
    "\n",
    "Mentors can explain the flow of control of if statment with the help of following flow chart. Also mentors can explain few real world situation similar to if-statements in programming.   \n",
    "For example, consider the following statements of real world:   \n",
    "1. If it's sunny outside, then you can go for a drive.   \n",
    "2. If this year is leap year then the month February will be having 29 days.   \n",
    "3. If the phone number contains 10 digits, then it's a valid phone number.   \n",
    "4. If the age of a person is greater than or equal to 18, then he/she can vote for the country.     \n",
    "<br>       \n",
    "\n",
    "You can ask them to convert any of the above example into a step by step procedure, as follows:\n",
    "1. Accept the age of person   \n",
    "2. check whether age>=18 or not   \n",
    "3. If yes, prit he can vote   \n",
    "4. If no, print he cannot vote.   \n",
    "5. End   \n"
   ]
  },
  {
   "cell_type": "markdown",
   "metadata": {},
   "source": [
    "![](images/if-diagram.jpg)"
   ]
  },
  {
   "cell_type": "markdown",
   "metadata": {},
   "source": [
    "<br>      "
   ]
  },
  {
   "cell_type": "markdown",
   "metadata": {},
   "source": [
    "**Syntax:**     \n",
    "```\n",
    "if test_condition:\n",
    "    body of if\n",
    "```"
   ]
  },
  {
   "cell_type": "markdown",
   "metadata": {},
   "source": [
    "\n",
    "After `if` next we need to write the test conditon and followed by colon(`:`)     \n",
    "\n",
    "- The body of the if condition is written in the next line.          \n",
    "    \n",
    "- Remember that the body of the if condition should be intended  (4 spaces should be left before the body).         \n",
    "\n",
    "- If the test condition is **True**:         \n",
    "     - The statement inside the if condition is executed.        \n",
    "     \n",
    "- If the test condition is **False**:    \n",
    "     - The statement inside the if condition will not executed.       "
   ]
  },
  {
   "cell_type": "markdown",
   "metadata": {},
   "source": [
    "<br>     "
   ]
  },
  {
   "cell_type": "markdown",
   "metadata": {},
   "source": [
    "**<font color=Brown>Note:</font>**         \n",
    "- There is no limit to the number of statements that can appear in the body.    \n",
    "- There has to be at least one.      \n",
    "- In case we need to write a if condition which does not have a statement inside, then we can add pass statement.   \n",
    "\n",
    "```\n",
    "      if test-condition:\n",
    "            pass \n",
    " \n",
    "      where pass does nothing!\n",
    "```        \n",
    "\n",
    "Let's have a look on some examples of if statements.     \n",
    "<br>     \n",
    "<br>     "
   ]
  },
  {
   "cell_type": "code",
   "execution_count": 3,
   "metadata": {},
   "outputs": [
    {
     "name": "stdout",
     "output_type": "stream",
     "text": [
      "IN\n",
      "OUT\n"
     ]
    }
   ],
   "source": [
    "#simple example with bool values\n",
    "\n",
    "if True:\n",
    "    print(\"IN\")\n",
    "\n",
    "print(\"OUT\")"
   ]
  },
  {
   "cell_type": "code",
   "execution_count": 4,
   "metadata": {},
   "outputs": [
    {
     "name": "stdout",
     "output_type": "stream",
     "text": [
      "OUT\n"
     ]
    }
   ],
   "source": [
    "if False:\n",
    "    print(\"IN\")\n",
    "\n",
    "print(\"OUT\")"
   ]
  },
  {
   "cell_type": "markdown",
   "metadata": {},
   "source": [
    "<br>"
   ]
  },
  {
   "cell_type": "markdown",
   "metadata": {},
   "source": [
    "**<font color=Crimson>Note for Mentor:</font>**     \n",
    "- Ask them what are the other statements/expressions that can be written in the above code snippet instead of True and False.   \n",
    "- Show them few examples with comparison and logical expressions.       \n",
    "- Also show them, some error cases when we use some non bool expressions in 'if condition'.     \n"
   ]
  },
  {
   "cell_type": "markdown",
   "metadata": {},
   "source": [
    "<br>"
   ]
  },
  {
   "cell_type": "code",
   "execution_count": 6,
   "metadata": {},
   "outputs": [
    {
     "ename": "SyntaxError",
     "evalue": "invalid syntax (<ipython-input-6-2fdbf180d925>, line 2)",
     "output_type": "error",
     "traceback": [
      "\u001b[1;36m  File \u001b[1;32m\"<ipython-input-6-2fdbf180d925>\"\u001b[1;36m, line \u001b[1;32m2\u001b[0m\n\u001b[1;33m    if x = 1:\u001b[0m\n\u001b[1;37m         ^\u001b[0m\n\u001b[1;31mSyntaxError\u001b[0m\u001b[1;31m:\u001b[0m invalid syntax\n"
     ]
    }
   ],
   "source": [
    "#Error while using assignment operator\n",
    "x =1\n",
    "if x = 1:\n",
    "    print('statement 1')\n",
    "print('statement 2')"
   ]
  },
  {
   "cell_type": "code",
   "execution_count": 7,
   "metadata": {},
   "outputs": [
    {
     "name": "stdout",
     "output_type": "stream",
     "text": [
      "statement 1\n",
      "statement 2\n"
     ]
    }
   ],
   "source": [
    "# No Error while using comparison operator\n",
    "x =1\n",
    "if x == 1:\n",
    "    print('statement 1')\n",
    "print('statement 2')"
   ]
  },
  {
   "cell_type": "code",
   "execution_count": 2,
   "metadata": {},
   "outputs": [
    {
     "name": "stdout",
     "output_type": "stream",
     "text": [
      "x is a positive number\n",
      "This program is to understand if condition\n"
     ]
    }
   ],
   "source": [
    "# example 1: Check whether the number is positive\n",
    "# ----------------------------------------------\n",
    "\n",
    "x= 10\n",
    "if x>0:\n",
    "    print(\"x is a positive number\")\n",
    "print(\"This program is to understand if condition\")"
   ]
  },
  {
   "cell_type": "code",
   "execution_count": 1,
   "metadata": {},
   "outputs": [
    {
     "name": "stdout",
     "output_type": "stream",
     "text": [
      "Enter your age: 23\n",
      "You are eligible for voting!\n"
     ]
    }
   ],
   "source": [
    "# example 2: Check the eligibility for voting\n",
    "# Method 1\n",
    "# -------------------------------------------\n",
    "\n",
    "age = int(input(\"Enter your age: \"))\n",
    "if age>=18:\n",
    "    print(\"You are eligible for voting!\")"
   ]
  },
  {
   "cell_type": "code",
   "execution_count": 2,
   "metadata": {},
   "outputs": [
    {
     "name": "stdout",
     "output_type": "stream",
     "text": [
      "Enter your age: 13\n",
      "You are not eligible for voting!\n"
     ]
    }
   ],
   "source": [
    "# example 2 - Checking whether a person is eligible for voting or not\n",
    "# Method 2\n",
    "# --------------------------------------------------------------------\n",
    "\n",
    "age = int(input(\"Enter your age: \"))\n",
    "if age>=18:\n",
    "    print(\"You are eligible for voting!\")\n",
    "if age<18:\n",
    "    print(\"You are not eligible for voting!\")"
   ]
  },
  {
   "cell_type": "markdown",
   "metadata": {},
   "source": [
    "**Explanation:**   \n",
    "In the Method1 of example2 we have just checked, the person is above 18?\n",
    "If yes, then will print \"You are eligible for voting!\". But it's not giving the output if the result is False.\n",
    "In order to include the branch for `False` case, we have written another if statement in Method2 of example2 in which it has checked another condition along with the already existing one.   \n",
    "i.e \n",
    "`if age<18:` This condition will provide an output for those who are not eligible for voting.   \n",
    "\n"
   ]
  },
  {
   "cell_type": "markdown",
   "metadata": {},
   "source": [
    "<br>     \n",
    "<br>    "
   ]
  },
  {
   "cell_type": "code",
   "execution_count": 3,
   "metadata": {},
   "outputs": [
    {
     "name": "stdout",
     "output_type": "stream",
     "text": [
      "Enter a tagline: #GodsOwnCountry\n",
      "#GodsOwnCountry\n",
      "It is #Tag\n"
     ]
    }
   ],
   "source": [
    "# mutiple statements inside if\n",
    "# if letter '#' present in the tagline, print tagline\n",
    "# Also print 'It is #Tag'\n",
    "\n",
    "tagline = input(\"Enter a tagline: \")\n",
    "if '#' in tagline:\n",
    "    print(tagline)\n",
    "    print(\"It is #Tag\")"
   ]
  },
  {
   "cell_type": "markdown",
   "metadata": {},
   "source": [
    "<br>\n",
    "Let's see few questions for decision making using `if statement.`   \n",
    "<br>     \n",
    "<br>     "
   ]
  },
  {
   "cell_type": "markdown",
   "metadata": {},
   "source": [
    "**<font color=red>Question 2</font>**          \n",
    "Write a program to check whether the number is negative.     "
   ]
  },
  {
   "cell_type": "code",
   "execution_count": 4,
   "metadata": {},
   "outputs": [
    {
     "name": "stdout",
     "output_type": "stream",
     "text": [
      "-21 is negative!\n"
     ]
    }
   ],
   "source": [
    "# code for question 2\n",
    "# A number is negative when it is less than 0\n",
    "\n",
    "num = -21\n",
    "if num<0:\n",
    "    print(num, \"is negative!\")"
   ]
  },
  {
   "cell_type": "markdown",
   "metadata": {},
   "source": [
    "<br>"
   ]
  },
  {
   "cell_type": "markdown",
   "metadata": {},
   "source": [
    "**<font color=red>Question 3</font>**           \n",
    "Take two numbers as input from user and print which number is greatest.     \n",
    "\n",
    "   **<font color=Grey>Expected Output</font>**      \n",
    "```\n",
    "    Enter number 1 : 10\n",
    "    Enter number 2 : 20\n",
    "    The number 20 is greatest\n",
    "```"
   ]
  },
  {
   "cell_type": "code",
   "execution_count": 7,
   "metadata": {
    "scrolled": true
   },
   "outputs": [
    {
     "name": "stdout",
     "output_type": "stream",
     "text": [
      "Enter number 1: 12\n",
      "Enter number 2: 6\n",
      "The number 12  is greatest\n"
     ]
    }
   ],
   "source": [
    "#code for question3\n",
    "num1 = int(input(\"Enter number 1: \"))\n",
    "num2 = int(input(\"Enter number 2: \"))\n",
    "if num1>num2:\n",
    "    print(\"The number\",num1,\" is greatest\")\n",
    "if num2>num1:\n",
    "    print(\"The number\",num2,\" is greatest\")"
   ]
  },
  {
   "cell_type": "markdown",
   "metadata": {},
   "source": [
    "<br>"
   ]
  },
  {
   "cell_type": "markdown",
   "metadata": {},
   "source": [
    "**<font color=red>Question 4</font>**             \n",
    "check whether the entered number is two digit?            \n",
    "If two digit, print the number is two digit         "
   ]
  },
  {
   "cell_type": "code",
   "execution_count": 8,
   "metadata": {
    "scrolled": true
   },
   "outputs": [
    {
     "name": "stdout",
     "output_type": "stream",
     "text": [
      "Enter number: 23\n",
      "Number is two digit:\n"
     ]
    }
   ],
   "source": [
    "#Code for question 4\n",
    "num = int(input(\"Enter number: \"))\n",
    "if num>=10 and num<100:\n",
    "    print(\"Number is two digit:\")"
   ]
  },
  {
   "cell_type": "markdown",
   "metadata": {},
   "source": [
    "<br>"
   ]
  },
  {
   "cell_type": "markdown",
   "metadata": {},
   "source": [
    "**<font color=red>Question 5</font>**           \n",
    "Accept a an alphabet from user.         \n",
    "And check whether the entered letter is vowel?         "
   ]
  },
  {
   "cell_type": "code",
   "execution_count": 10,
   "metadata": {},
   "outputs": [
    {
     "name": "stdout",
     "output_type": "stream",
     "text": [
      "Enter an alphabet: E\n",
      "Entered alphabet is vowel!\n"
     ]
    }
   ],
   "source": [
    "# Code for question 5\n",
    "alpha = input(\"Enter an alphabet: \")\n",
    "\n",
    "if alpha in 'aeiou' or alpha in 'AEIOU':\n",
    "    print(\"Entered alphabet is vowel!\")"
   ]
  },
  {
   "cell_type": "markdown",
   "metadata": {},
   "source": [
    "<br>\n",
    "<br>"
   ]
  },
  {
   "cell_type": "markdown",
   "metadata": {},
   "source": [
    "## Alternative Execution"
   ]
  },
  {
   "cell_type": "markdown",
   "metadata": {},
   "source": [
    "Many of the decisions we made in the above examples into a category of choosing one of two options based on conditions.\n",
    "But we have checked the condition twice. Now we can take perform that decision making in a single condition checking where we place the block of codes for both `True` and `False` cases. And this methodology of programming is called alternative execution. Also it can be considered as the second form of if-condition."
   ]
  },
  {
   "cell_type": "markdown",
   "metadata": {},
   "source": [
    "### Undersatnding if-else"
   ]
  },
  {
   "cell_type": "markdown",
   "metadata": {},
   "source": [
    "![](images/if-else-diagram.jpg)"
   ]
  },
  {
   "cell_type": "markdown",
   "metadata": {},
   "source": [
    "<br>"
   ]
  },
  {
   "cell_type": "markdown",
   "metadata": {},
   "source": [
    "**<font color=crimson>Note for Mentor:</font>**      \n",
    "Give a real world example for alternative execution.       \n",
    "For example, when looking at a signal light, you choose one of two options: press on the brake to stop OR press the accelerator to continue. The option you choose depends on the conditions. A green light signals that you can continue on through the light; a red light tells you to stop.     \n",
    "<br>     \n",
    "<br>     "
   ]
  },
  {
   "cell_type": "markdown",
   "metadata": {},
   "source": [
    "**Syntax:**\n",
    "\n",
    "```\n",
    "    if test_condition:\n",
    "        statements to be executed if the\n",
    "        test condition is True\n",
    "    else:\n",
    "        statements to be executed if the\n",
    "        test condtion is False\n",
    "\n",
    "```\n",
    "\n",
    "\n",
    "- If the test_condition is True, statements inside the if block will get executed.\n",
    "\n",
    "- Otherwise, statements inside the else block will get executed.\n"
   ]
  },
  {
   "cell_type": "markdown",
   "metadata": {},
   "source": [
    "<br>     "
   ]
  },
  {
   "cell_type": "markdown",
   "metadata": {},
   "source": [
    "**<font color=Brown>Note:</font>**          \n",
    "There is no test condition along with else.      "
   ]
  },
  {
   "cell_type": "code",
   "execution_count": 9,
   "metadata": {},
   "outputs": [
    {
     "name": "stdout",
     "output_type": "stream",
     "text": [
      "This is inside if clause\n"
     ]
    }
   ],
   "source": [
    "#simple example1 with bool values\n",
    "\n",
    "if True:\n",
    "    print(\"This is inside if clause\")\n",
    "    \n",
    "else:\n",
    "    print(\"This is inside else clause\")"
   ]
  },
  {
   "cell_type": "code",
   "execution_count": 1,
   "metadata": {},
   "outputs": [
    {
     "name": "stdout",
     "output_type": "stream",
     "text": [
      "A is not one\n"
     ]
    }
   ],
   "source": [
    "#simple example2 with int values\n",
    "a = 0\n",
    "\n",
    "if a == 1 :\n",
    "    print(\"A is one\")\n",
    "    \n",
    "else:\n",
    "    print(\"A is not one\")"
   ]
  },
  {
   "cell_type": "code",
   "execution_count": 2,
   "metadata": {},
   "outputs": [
    {
     "name": "stdout",
     "output_type": "stream",
     "text": [
      "Holiday\n"
     ]
    }
   ],
   "source": [
    "#simple example3 with str values\n",
    "\n",
    "week_day = 'sunday'\n",
    "\n",
    "if week_day == 'sunday':\n",
    "    print(\"Holiday\")\n",
    "else:\n",
    "    print(\"Working day\")"
   ]
  },
  {
   "cell_type": "markdown",
   "metadata": {},
   "source": [
    "<br>\n",
    "<br>"
   ]
  },
  {
   "cell_type": "markdown",
   "metadata": {},
   "source": [
    "**<font color=Crimson>Note for Mentor:</font>**       \n",
    "Ask the students for some real-time example that can be expressed in if-else statements.       \n",
    "\n",
    "For example:          \n",
    "   1.  A person can vote if and only if his age is 18 and above.    \n",
    "   2.  The day will be sunny if the temperature is above 30 degree celsius.    \n",
    "   3.  A student will pass the exam if he scored 40% marks.       \n"
   ]
  },
  {
   "cell_type": "markdown",
   "metadata": {},
   "source": [
    "<br>\n",
    "<br>"
   ]
  },
  {
   "cell_type": "markdown",
   "metadata": {},
   "source": [
    "**<font color=red>Question 6</font>**       \n",
    "Check whether the number is positive or negative?      \n"
   ]
  },
  {
   "cell_type": "code",
   "execution_count": null,
   "metadata": {},
   "outputs": [],
   "source": [
    "#coide for question 6\n",
    "#number is positive when >0 and negative when <0\n",
    "#-----------------------------------------------\n",
    "\n",
    "x = 46\n",
    "if x>0:\n",
    "    print(\"Positive!\")\n",
    "else:\n",
    "    print(\"Negative\")\n",
    "    "
   ]
  },
  {
   "cell_type": "markdown",
   "metadata": {},
   "source": [
    "<br>"
   ]
  },
  {
   "cell_type": "markdown",
   "metadata": {},
   "source": [
    "**<font color=red>Question 7</font>**      \n",
    "Get a number as input from user and check for ODD or EVEN.    \n"
   ]
  },
  {
   "cell_type": "markdown",
   "metadata": {},
   "source": [
    "**<font color=Crimson>Note for Mentor:</font>**        \n",
    "Mentor can show different way of writing code for the above question.         "
   ]
  },
  {
   "cell_type": "code",
   "execution_count": 12,
   "metadata": {},
   "outputs": [
    {
     "name": "stdout",
     "output_type": "stream",
     "text": [
      "Enter a number:23\n",
      "ODD\n"
     ]
    }
   ],
   "source": [
    "#code for question7\n",
    "# Method1: using two if statements\n",
    "#---------------------------------\n",
    "\n",
    "num = int(input(\"Enter a number:\"))\n",
    "if num%2 == 0:\n",
    "    print(\"EVEN\")\n",
    "if num%2 ==1:\n",
    "    print(\"ODD\")"
   ]
  },
  {
   "cell_type": "code",
   "execution_count": 13,
   "metadata": {},
   "outputs": [
    {
     "name": "stdout",
     "output_type": "stream",
     "text": [
      "Enter a number:41\n",
      "ODD\n"
     ]
    }
   ],
   "source": [
    "# code for question 7\n",
    "# Method 2: using if and else with relational operators\n",
    "#------------------------------------------------------\n",
    "\n",
    "num = int(input(\"Enter a number:\"))\n",
    "if num%2 == 0:\n",
    "    print(\"EVEN\")\n",
    "else:\n",
    "    print(\"ODD\")\n",
    "\n"
   ]
  },
  {
   "cell_type": "code",
   "execution_count": 14,
   "metadata": {},
   "outputs": [
    {
     "name": "stdout",
     "output_type": "stream",
     "text": [
      "Enter a number:44\n",
      "EVEN\n"
     ]
    }
   ],
   "source": [
    "# code for question 7\n",
    "# Method3 : using if-else without relational operators\n",
    "# ----------------------------------------------------\n",
    "\n",
    "num = int(input(\"Enter a number:\"))\n",
    "if num%2:\n",
    "    print(\"ODD\")\n",
    "else:\n",
    "    print(\"EVEN\")\n"
   ]
  },
  {
   "cell_type": "markdown",
   "metadata": {},
   "source": [
    "<br>"
   ]
  },
  {
   "cell_type": "markdown",
   "metadata": {},
   "source": [
    "## Conditional Execution with Relational and Logical operators   \n",
    "\n",
    "To test mutiple criteria or condition we can combine conditional execution with the operators such as Realtional operators and Logical operators.   \n",
    "For example, A number is said to be two digit if and only if the given number is greater than 9 and less than 100. Here in this case we have two condition for one single branch of execution this can be achived using the logical `and` operator as follows:"
   ]
  },
  {
   "cell_type": "code",
   "execution_count": 6,
   "metadata": {},
   "outputs": [
    {
     "name": "stdout",
     "output_type": "stream",
     "text": [
      "Two digit number\n"
     ]
    }
   ],
   "source": [
    "number = 14\n",
    "if number>9 and number<100:    # we have used AND operator to combine \n",
    "    print(\"Two digit number\")  # two boolean expressions having relational operators\n",
    "else:\n",
    "    print(\"Not a two digit number\")"
   ]
  },
  {
   "cell_type": "markdown",
   "metadata": {},
   "source": [
    "<br>"
   ]
  },
  {
   "cell_type": "markdown",
   "metadata": {},
   "source": [
    "**<font color=red>Question 8</font>**           \n",
    "Accept an alpabet from user and check whether it is vowel/consonant?       "
   ]
  },
  {
   "cell_type": "code",
   "execution_count": 3,
   "metadata": {},
   "outputs": [
    {
     "name": "stdout",
     "output_type": "stream",
     "text": [
      "Enter an alphabet:a\n",
      "Vowel\n"
     ]
    }
   ],
   "source": [
    "#code for question 8\n",
    "# Method1: using if-else and OR operator\n",
    "# --------------------------------------\n",
    "\n",
    "alpha = input(\"Enter an alphabet:\")\n",
    "if alpha=='a' or alpha=='e' or alpha=='i' or alpha=='o' or alpha=='u':\n",
    "    print(\"Vowel\")\n",
    "else:\n",
    "    print(\"Consonant\")"
   ]
  },
  {
   "cell_type": "code",
   "execution_count": 4,
   "metadata": {},
   "outputs": [
    {
     "name": "stdout",
     "output_type": "stream",
     "text": [
      "Enter an alphabet:i\n",
      "Vowel\n"
     ]
    }
   ],
   "source": [
    "#code for question 8\n",
    "# Method2: using if-else and  IN operator\n",
    "# ---------------------------------------\n",
    "\n",
    "alpha = input(\"Enter an alphabet:\")\n",
    "if alpha in 'aeiou':\n",
    "    print(\"Vowel\")\n",
    "else:\n",
    "    print(\"Consonant\")"
   ]
  },
  {
   "cell_type": "markdown",
   "metadata": {},
   "source": [
    "<br>"
   ]
  },
  {
   "cell_type": "markdown",
   "metadata": {},
   "source": [
    "**<font color=red>Question 9</font>**         \n",
    "check whether the length of the password is between 5 and 10.     "
   ]
  },
  {
   "cell_type": "code",
   "execution_count": 17,
   "metadata": {},
   "outputs": [
    {
     "name": "stdout",
     "output_type": "stream",
     "text": [
      "Enter you password: abcd123\n",
      "valid\n"
     ]
    }
   ],
   "source": [
    "# Code for question 9\n",
    "# Legth of password is between 5-10\n",
    "#----------------------------------\n",
    "\n",
    "passwd = input(\"Enter you password: \")\n",
    "\n",
    "if len(passwd)>4 and len(passwd)<10:\n",
    "    print(\"valid\")\n",
    "else:\n",
    "    print(\"invalid\")"
   ]
  },
  {
   "cell_type": "markdown",
   "metadata": {},
   "source": [
    "**<font color=Crimson>Note for Mentor:</font>**            \n",
    "Show them more examples having the combination of comparison, logical and membership operators.   "
   ]
  },
  {
   "cell_type": "markdown",
   "metadata": {},
   "source": [
    "---"
   ]
  },
  {
   "cell_type": "markdown",
   "metadata": {},
   "source": [
    "# <font color=blue>ACTIVITIES</font>   \n",
    "<br>"
   ]
  },
  {
   "cell_type": "markdown",
   "metadata": {},
   "source": [
    "**<font color=Green>Light</font>**        "
   ]
  },
  {
   "cell_type": "markdown",
   "metadata": {},
   "source": [
    "1. Get a number as input from user and     \n",
    "   Check whether the entered number is a multiple of 3 or not?              \n",
    "\n",
    "\n",
    "\n",
    "2.  Accept a word from user.      \n",
    "    Then accept an alphabet also.     \n",
    "    Check whether the alphabet present in the word          \n",
    "\n",
    "\n",
    "3. Get a name as input from user;            \n",
    "   If the length of the name is more than 6 characters,         \n",
    "   Print that the name is Big otherwise print name is small.       \n",
    "\n"
   ]
  },
  {
   "cell_type": "markdown",
   "metadata": {},
   "source": [
    "<br>\n",
    "<br>"
   ]
  },
  {
   "cell_type": "markdown",
   "metadata": {},
   "source": [
    "**<font color=Purple>Moderate</font>**     "
   ]
  },
  {
   "cell_type": "markdown",
   "metadata": {},
   "source": [
    "4. Accept a number from user and check whether it is perfect square or not?      \n",
    "\n",
    "\n",
    "\n",
    "5. Check whether a user entered alphabet is upper case or lower case?        \n",
    "\n",
    "\n",
    "\n",
    "6. Get the three numbers as input from user;      \n",
    "   Print the greatest of 3 numbers.       "
   ]
  },
  {
   "cell_type": "markdown",
   "metadata": {},
   "source": [
    "<br>\n",
    "<br>"
   ]
  },
  {
   "cell_type": "markdown",
   "metadata": {},
   "source": [
    "**<font color=Crimson>Complex</font>**     "
   ]
  },
  {
   "cell_type": "markdown",
   "metadata": {},
   "source": [
    "7. Accept a password from user, print valid password if it satisfies the following criteria,\n",
    "   otherwise print Invalid password.       \n",
    "     1. Password length should be atleast 8        \n",
    "     2. It should atleast contain 1 digit.       \n",
    "     3. And there should not be any white spaces in the password.           \n"
   ]
  },
  {
   "cell_type": "markdown",
   "metadata": {},
   "source": [
    "---"
   ]
  },
  {
   "cell_type": "markdown",
   "metadata": {},
   "source": [
    "<br>\n",
    "<br>"
   ]
  },
  {
   "cell_type": "markdown",
   "metadata": {},
   "source": [
    "# Answers"
   ]
  },
  {
   "cell_type": "code",
   "execution_count": 1,
   "metadata": {},
   "outputs": [
    {
     "name": "stdout",
     "output_type": "stream",
     "text": [
      "Enter a number: 33\n",
      "33 is multiple of 3\n"
     ]
    }
   ],
   "source": [
    "# Activity 1\n",
    "#------------\n",
    "\n",
    "num = int(input(\"Enter a number: \"))\n",
    "if num%3 ==0:\n",
    "    print(num,'is multiple of 3')\n",
    "else:\n",
    "    print(num,'is NOT a multiple of 3')"
   ]
  },
  {
   "cell_type": "markdown",
   "metadata": {},
   "source": [
    "<br>         "
   ]
  },
  {
   "cell_type": "code",
   "execution_count": 2,
   "metadata": {},
   "outputs": [
    {
     "name": "stdout",
     "output_type": "stream",
     "text": [
      "Enter a word: elephant\n",
      "Enter an alphabet: p\n",
      "p is present in the word elephant\n"
     ]
    }
   ],
   "source": [
    "# Activity 2\n",
    "#------------\n",
    "\n",
    "word = input(\"Enter a word: \")\n",
    "alpha = input(\"Enter an alphabet: \")\n",
    "\n",
    "if alpha in word:\n",
    "    print(alpha,\"is present in the word\",word)\n",
    "else:\n",
    "    print(alpha,\"is NOT present in the word\",word)\n",
    "\n"
   ]
  },
  {
   "cell_type": "markdown",
   "metadata": {},
   "source": [
    "<br>         "
   ]
  },
  {
   "cell_type": "code",
   "execution_count": 3,
   "metadata": {},
   "outputs": [
    {
     "name": "stdout",
     "output_type": "stream",
     "text": [
      "Enter a name: Nikhil\n",
      "Name is small\n"
     ]
    }
   ],
   "source": [
    "# Activity 3\n",
    "#------------\n",
    "\n",
    "name = input(\"Enter a name: \")\n",
    "if len(name)>6:\n",
    "    print(\"Name is big\")\n",
    "else:\n",
    "    print(\"Name is small\")"
   ]
  },
  {
   "cell_type": "markdown",
   "metadata": {},
   "source": [
    "<br>         "
   ]
  },
  {
   "cell_type": "code",
   "execution_count": 9,
   "metadata": {},
   "outputs": [
    {
     "name": "stdout",
     "output_type": "stream",
     "text": [
      "Enter a number: 24\n",
      "24 is not a perfect square\n"
     ]
    }
   ],
   "source": [
    "# Activity 4\n",
    "#------------\n",
    "\n",
    "num = int(input(\"Enter a number: \"))\n",
    "\n",
    "sqrt = num**(1/2)\n",
    "\n",
    "if sqrt == int(sqrt):\n",
    "    print(num,'is a perfect square')\n",
    "else:\n",
    "    print(num,'is not a perfect square')"
   ]
  },
  {
   "cell_type": "markdown",
   "metadata": {},
   "source": [
    "<br>         "
   ]
  },
  {
   "cell_type": "code",
   "execution_count": 5,
   "metadata": {},
   "outputs": [
    {
     "name": "stdout",
     "output_type": "stream",
     "text": [
      "Enter an alphabet: P\n",
      "Upper case letter\n"
     ]
    }
   ],
   "source": [
    "# Activity 5\n",
    "#------------\n",
    "\n",
    "alpha = input(\"Enter an alphabet: \")\n",
    "if alpha in 'abcdefghijklmnopqrstuvwxyz':\n",
    "    print(\"Lower case letter\")\n",
    "else:\n",
    "    print(\"Upper case letter\")"
   ]
  },
  {
   "cell_type": "markdown",
   "metadata": {},
   "source": [
    "<br>         "
   ]
  },
  {
   "cell_type": "code",
   "execution_count": 6,
   "metadata": {},
   "outputs": [
    {
     "name": "stdout",
     "output_type": "stream",
     "text": [
      "Enter a number1: 12\n",
      "Enter a number2: 5\n",
      "Enter a number3: 9\n",
      "12 is greatest\n"
     ]
    }
   ],
   "source": [
    "# Activity 6\n",
    "#------------\n",
    "\n",
    "a = int(input(\"Enter a number1: \"))\n",
    "b = int(input(\"Enter a number2: \"))\n",
    "c = int(input(\"Enter a number3: \"))\n",
    "\n",
    "if a>b and a>c:\n",
    "    print(a,'is greatest')\n",
    "if b>a and b>c:\n",
    "    print(b,'is greatest')\n",
    "if c>a and c>b:\n",
    "    print(c,'is greatest')\n"
   ]
  },
  {
   "cell_type": "markdown",
   "metadata": {},
   "source": [
    "<br>         "
   ]
  },
  {
   "cell_type": "code",
   "execution_count": 7,
   "metadata": {},
   "outputs": [
    {
     "name": "stdout",
     "output_type": "stream",
     "text": [
      "Enter a password: qwerty123\n",
      "Valid password!\n"
     ]
    }
   ],
   "source": [
    "# Activity 7\n",
    "#------------\n",
    "\n",
    "passwd = input(\"Enter a password: \")\n",
    "\n",
    "if len(passwd)>=8 and ' 'not in passwd and ('0' in passwd or '1' in passwd or '2' in passwd or '3' in passwd or \n",
    "                                        '4' in passwd or '5' in passwd or '6' in passwd or '7' in passwd or \n",
    "                                        '8' in passwd or '9' in passwd):\n",
    "    print(\"Valid password!\")\n",
    "    \n",
    "else:\n",
    "    print(\"Password Invalid!\")"
   ]
  },
  {
   "cell_type": "markdown",
   "metadata": {},
   "source": [
    "<br>         "
   ]
  },
  {
   "cell_type": "markdown",
   "metadata": {},
   "source": [
    "-------"
   ]
  }
 ],
 "metadata": {
  "kernelspec": {
   "display_name": "Python 3",
   "language": "python",
   "name": "python3"
  },
  "language_info": {
   "codemirror_mode": {
    "name": "ipython",
    "version": 3
   },
   "file_extension": ".py",
   "mimetype": "text/x-python",
   "name": "python",
   "nbconvert_exporter": "python",
   "pygments_lexer": "ipython3",
   "version": "3.8.3"
  }
 },
 "nbformat": 4,
 "nbformat_minor": 4
}
