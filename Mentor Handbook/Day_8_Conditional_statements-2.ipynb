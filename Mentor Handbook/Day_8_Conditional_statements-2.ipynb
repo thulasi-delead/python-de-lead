{
 "cells": [
  {
   "cell_type": "markdown",
   "id": "3436a49b",
   "metadata": {},
   "source": [
    "# Index    <br>\n",
    "\n",
    "- **Chained conditional**\n",
    "    - Multiple test conditions using if\n",
    "    - elif\n",
    "    - if-elif-else\n",
    "\n",
    "\n",
    "\n",
    "- **Nested Conditional**\n",
    "    - Nested if\n",
    "    - Nesting inside if-elif-else\n",
    "\n",
    "       \n",
    "       \n",
    "- **Activities**"
   ]
  },
  {
   "cell_type": "markdown",
   "id": "06e5670e",
   "metadata": {},
   "source": [
    "---"
   ]
  },
  {
   "cell_type": "markdown",
   "id": "42874335",
   "metadata": {},
   "source": [
    "# Chained Conditional\n",
    "\n",
    "Sometimes there are more than two possibilities and we need more than two branches. For example, when you go to a coffee shop and look at the menu card, there will be muiltiple types of coffee available such as cafe latte, cappuccino, cold coffee, Americano etc. After you choose one of the items from the menu the server will bring it you.    \n",
    "Creating a menu selection requires something like an if...else statement, but with an extra feature called `elif`. Which is nothing but a combination of `if` and `else` statement. So\n",
    "The way to expressing a menu of choices/conditions in programming with if, elif and else statements is known as **chained conditional.**     \n",
    "   \n"
   ]
  },
  {
   "cell_type": "markdown",
   "id": "9d0feb5a",
   "metadata": {},
   "source": [
    "## Elif\n",
    "\n",
    "Elif is an abbreviation of “else if.”. The elif statement allows you to check multiple expressions for TRUE and execute a\n",
    "block of code as soon as one of the conditions evaluates to TRUE. Here also exactly one branch will be executed. There is no limit of the number of elif statements, but the last branch has to be an else statement.    \n"
   ]
  },
  {
   "cell_type": "markdown",
   "id": "39c72121",
   "metadata": {},
   "source": [
    "**<font color=brown>Note:</font>**    \n",
    "\n",
    "- Elif is followed by test condition and ended with colon (:)\n",
    "- Elif can end with or without Else.\n",
    "- It is a good practice to add Else at the end."
   ]
  },
  {
   "cell_type": "markdown",
   "id": "d8733b1d",
   "metadata": {},
   "source": [
    "**Syntax:**    \n",
    "```\n",
    "    if test_condtion1:\n",
    "        statements.............\n",
    "        (executes only if condition1 is TRUE)\n",
    "\n",
    "    elif test_condition2:\n",
    "        statements.............\n",
    "        (Executes when condtion1 is FALSE and condition2 is True)\n",
    "\n",
    "    elif test_condition3:\n",
    "        statements...............\n",
    "        (Executes when condtion1 and condition2 are False and condition3  is True)\n",
    "        \n",
    "    else:\n",
    "        statements\n",
    "        (Executes when all the previous written condtions are False)\n",
    "    \n",
    "```\n"
   ]
  },
  {
   "cell_type": "markdown",
   "id": "259e9946",
   "metadata": {},
   "source": [
    "**<font color=brown>Note:</font>**   \n",
    "\n",
    "1. Keep in mind that we can add as many elif as we want.   \n",
    "2. Only one clause will be executed among all the if-elif-else clauses.      \n",
    "3. Each condition is checked in order. If the first one is false, the next is checked, and so on.           \n",
    "   If one of them is true, the corresponding branch will execute, and the statement will end immeaditely.          \n",
    "   Even if more than one condition is true, only the first true branch will execute.     \n"
   ]
  },
  {
   "cell_type": "markdown",
   "id": "5116f1cd",
   "metadata": {},
   "source": [
    "<br>\n",
    "<br>"
   ]
  },
  {
   "cell_type": "code",
   "execution_count": null,
   "id": "648e7d63",
   "metadata": {},
   "outputs": [],
   "source": [
    "# simple example2 with bool values\n",
    "#---------------------------------\n",
    "\n",
    "if False:\n",
    "    print(\"One\")\n",
    "elif True:\n",
    "    print(\"Two\")\n",
    "elif False:\n",
    "    print(\"Three\")\n",
    "else:\n",
    "    print(\"Four\")"
   ]
  },
  {
   "cell_type": "code",
   "execution_count": null,
   "id": "a73aa868",
   "metadata": {},
   "outputs": [],
   "source": [
    "# simple example2 with bool values\n",
    "#----------------------------------\n",
    "\n",
    "if False:\n",
    "    print(\"One\")\n",
    "    \n",
    "elif True:\n",
    "    print(\"Two\")\n",
    "    \n",
    "elif True:\n",
    "    print(\"Three\")\n",
    "    \n",
    "elif True:\n",
    "    print(\"Four\")\n",
    "    \n",
    "else:\n",
    "    print(\"Five\")"
   ]
  },
  {
   "cell_type": "code",
   "execution_count": null,
   "id": "ded2ac51",
   "metadata": {},
   "outputs": [],
   "source": [
    "#example3\n",
    "#Find the largest of two numbers using if-elif-else\n",
    "#--------------------------------------------------\n",
    "\n",
    "a = int(input(\"Enter A:\"))\n",
    "b = int(input(\"Enter B:\"))\n",
    "\n",
    "if a>b:\n",
    "    print(a,\" is big\")\n",
    "elif a<b:\n",
    "    print(b,\" is big\")\n",
    "else:\n",
    "    print(\"Both are equal\")"
   ]
  },
  {
   "cell_type": "code",
   "execution_count": 3,
   "id": "930578a8",
   "metadata": {},
   "outputs": [
    {
     "name": "stdout",
     "output_type": "stream",
     "text": [
      "Four\n"
     ]
    }
   ],
   "source": [
    "#example 4\n",
    "#Digit to word conversion\n",
    "# ------------------------\n",
    "\n",
    "num = 4\n",
    "\n",
    "if num == 1:\n",
    "    print(\"One\")\n",
    "elif num== 2:\n",
    "    print(\"Two\")\n",
    "elif num == 3:\n",
    "    print(\"Three\")\n",
    "elif num== 4:\n",
    "    print(\"Four\")\n",
    "elif num==5:\n",
    "    print(\"Five\") \n",
    "elif num==6:\n",
    "    print(\"Six\")\n",
    "elif num==7:\n",
    "    print(\"Seven\")\n",
    "elif num==8:\n",
    "    print(\"Eight\")\n",
    "elif num==9:\n",
    "    print(\"Nine\")\n",
    "elif num==0:\n",
    "    print(\"Zero\")\n",
    "else:\n",
    "    print(\"Not a valid digit!\")"
   ]
  },
  {
   "cell_type": "markdown",
   "id": "663def79",
   "metadata": {},
   "source": [
    "<br>\n",
    "<br>"
   ]
  },
  {
   "cell_type": "markdown",
   "id": "4969dc2b",
   "metadata": {},
   "source": [
    "**<font color=red>Question1</font>**    \n",
    "Get the score of a student from the user (score out of 50) and print the grade\n",
    "- A : >45\n",
    "- B : >35\n",
    "- C : >25\n",
    "- D : >15\n",
    "- any other score : Failed\n",
    "    \n",
    "   <font color=Grey>**Expected Output**</font>         \n",
    "```\n",
    "    Enter your score : 33\n",
    "    Grade : C\n",
    "```"
   ]
  },
  {
   "cell_type": "code",
   "execution_count": 4,
   "id": "70abb372",
   "metadata": {},
   "outputs": [
    {
     "name": "stdout",
     "output_type": "stream",
     "text": [
      "Enter you marl out of 50:35\n",
      "C grade\n"
     ]
    }
   ],
   "source": [
    "#Approaching the above problem with mutltiple IF\n",
    "mark = int(input(\"Enter you marl out of 50:\"))\n",
    "if mark > 45:\n",
    "    print(\"A grade\")\n",
    "if mark > 35 and mark<=45:\n",
    "    print(\"B grade\")\n",
    "if mark>25 and mark<=35:\n",
    "    print(\"C grade\")\n",
    "if mark > 15 and mark<=25:\n",
    "    print(\"D grade\")"
   ]
  },
  {
   "cell_type": "code",
   "execution_count": 6,
   "id": "2f5ac280",
   "metadata": {},
   "outputs": [
    {
     "name": "stdout",
     "output_type": "stream",
     "text": [
      "Enter you marl out of 50:19\n",
      "D grade\n"
     ]
    }
   ],
   "source": [
    "#Approaching the above problem with IF-ELIF-ELSE\n",
    "mark = int(input(\"Enter you marl out of 50:\"))\n",
    "if mark>45:\n",
    "    print(\"A grade\")\n",
    "elif mark>35:\n",
    "    print(\"B grade\")\n",
    "elif mark>25:\n",
    "    print(\"C grade\")\n",
    "elif mark>15:\n",
    "    print(\"D grade\")\n",
    "else:\n",
    "    print(\"E grade\")"
   ]
  },
  {
   "cell_type": "markdown",
   "id": "18b90a58",
   "metadata": {},
   "source": [
    "<br>\n",
    "<br>\n",
    "<br>"
   ]
  },
  {
   "cell_type": "markdown",
   "id": "0e921835",
   "metadata": {},
   "source": [
    "## Nested Condtionals\n",
    "\n",
    "The decision making process often happens in multiple levels. For example consider the previuosly discussed example of coffee shop. It is obvious that in the menu there will be multiple choices. But even if you choose one of the items, again there will be choices available to you. For example if you choose cappuccino as your coffee the server may ask whether you want sugar or not.   \n",
    "So one conditional can be nested with another, and it is called as nested conditional. Nesting can be done any of the branches of the if-elif-else clauses as per the situation demand.   \n",
    "\n",
    "\n",
    "#### Syntax:\n",
    "\n",
    "```\n",
    "if test_conditonal_1:\n",
    "    statement\n",
    "else:\n",
    "    if test-conditon_2:\n",
    "        statement\n",
    "    else:\n",
    "        statement\n",
    "```\n",
    "\n",
    "Here we can see that inside the first else condition there is if and else condition.<br>\n",
    "It is not necessary that we need to add a conditional only in else, we can add conditional in if or elif also."
   ]
  },
  {
   "cell_type": "code",
   "execution_count": 5,
   "id": "345dafcb",
   "metadata": {},
   "outputs": [
    {
     "name": "stdout",
     "output_type": "stream",
     "text": [
      "Two\n"
     ]
    }
   ],
   "source": [
    "#simple example with bool values\n",
    "# Nesting inside if clause\n",
    "#--------------------------------\n",
    "\n",
    "if True:\n",
    "    \n",
    "    if False:\n",
    "        print(\"one\")\n",
    "    else:\n",
    "        print(\"Two\")\n",
    "        \n",
    "elif False:\n",
    "    \n",
    "    print('Three')\n",
    "    \n",
    "else:\n",
    "    print(\"Four\")"
   ]
  },
  {
   "cell_type": "code",
   "execution_count": 6,
   "id": "174c189b",
   "metadata": {},
   "outputs": [
    {
     "name": "stdout",
     "output_type": "stream",
     "text": [
      "Four\n"
     ]
    }
   ],
   "source": [
    "#simple example with bool values\n",
    "# Nesting inside both if and else clause\n",
    "#--------------------------------\n",
    "\n",
    "if False:\n",
    "    \n",
    "    if False:\n",
    "        print(\"one\")\n",
    "    else:\n",
    "        print(\"Two\")\n",
    "        \n",
    "elif False:\n",
    "    print('Three')\n",
    "        \n",
    "    \n",
    "else:\n",
    "    if True:\n",
    "        print(\"Four\")\n",
    "    else:\n",
    "        print(\"six\")"
   ]
  },
  {
   "cell_type": "markdown",
   "id": "7bce2007",
   "metadata": {},
   "source": [
    "<br>\n",
    "<br>"
   ]
  },
  {
   "cell_type": "markdown",
   "id": "8261803d",
   "metadata": {},
   "source": [
    "**<font color=red>Question 2</font>**     \n",
    "Find the greatest of three numbers using nested if-else\n",
    "```\n",
    "Let \n",
    "a= 10\n",
    "b=20\n",
    "c=15\n",
    "```"
   ]
  },
  {
   "cell_type": "code",
   "execution_count": 7,
   "id": "3b7abfd2",
   "metadata": {},
   "outputs": [
    {
     "name": "stdout",
     "output_type": "stream",
     "text": [
      "B= 20\n"
     ]
    }
   ],
   "source": [
    "#Greatest of three numbers using nested if\n",
    "# ----------------------------------------\n",
    "\n",
    "a=10\n",
    "b=20\n",
    "c=15\n",
    "\n",
    "if a>b:\n",
    "    if a>c:\n",
    "        print(\"A=\",a)\n",
    "    else:\n",
    "        print(\"c=\",c)\n",
    "else:\n",
    "    if b>c:\n",
    "        print(\"B=\",b)\n",
    "    else:\n",
    "        print(\"C=\",c)"
   ]
  },
  {
   "cell_type": "markdown",
   "id": "abe16758",
   "metadata": {},
   "source": [
    "<br>\n",
    "<br>"
   ]
  },
  {
   "cell_type": "markdown",
   "id": "621d9ad6",
   "metadata": {},
   "source": [
    "<font color = grey>\n",
    "This program helps to understand nested if statements.             \n",
    "If inside a if.      \n",
    "</font>\n",
    "\n",
    "**<font color = red >Question 3</font>**      \n",
    "Take two numbers from user,    \n",
    "Print equal if two numbers are equal.   \n",
    "Otherwise check whether the number1 is positive or not.   \n",
    "If positive, find the greatest among the two.   \n",
    "\n",
    " \n",
    "**<font color = grey>Expected Output</font>**    \n",
    "Enter number 1 - 35   \n",
    "Enter number 2 - 25    \n",
    "number 1 is greater    \n",
    "<br>"
   ]
  },
  {
   "cell_type": "code",
   "execution_count": 7,
   "id": "62abb4e9",
   "metadata": {
    "scrolled": true
   },
   "outputs": [
    {
     "name": "stdout",
     "output_type": "stream",
     "text": [
      "Enter number1: 26\n",
      "Enter number2: 17\n",
      "26\n"
     ]
    }
   ],
   "source": [
    "# code for Question 3\n",
    "num1 = int(input(\"Enter number1: \"))\n",
    "num2 = int(input(\"Enter number2: \"))\n",
    "\n",
    "if num1 == num2:\n",
    "    print(\"Equals\")\n",
    "else:\n",
    "    if num1>0:\n",
    "        if num1>num2:\n",
    "            print(num1)\n",
    "        else:\n",
    "            print(num2)"
   ]
  },
  {
   "cell_type": "markdown",
   "id": "4cde7ac1",
   "metadata": {},
   "source": [
    "<br>\n",
    "<br>"
   ]
  },
  {
   "cell_type": "markdown",
   "id": "a74825cd",
   "metadata": {},
   "source": [
    "**<font color=Crimson>Note for Mentor:</font>**         \n",
    "  Logical operators often provide a way to simplify nested conditional statements.    \n",
    "  Show the students that how can we simplify nested conditionals using logical operators.    \n",
    "\n",
    "**Example:**    \n",
    "```\n",
    "    if x>0:\n",
    "        if x<10:\n",
    "        print(\"x is a single digit number\")\n",
    "```\n",
    "\n",
    "This can be converted into a much easier and simpler solution\n",
    "\n",
    "```\n",
    "    if x>0 and x<10:\n",
    "        print(\"x is a single digit number\")\n",
    "```\n",
    "<br>"
   ]
  },
  {
   "cell_type": "markdown",
   "id": "91c11772",
   "metadata": {},
   "source": [
    "<br>\n",
    "<br>"
   ]
  },
  {
   "cell_type": "code",
   "execution_count": 8,
   "id": "577f9136",
   "metadata": {},
   "outputs": [
    {
     "name": "stdout",
     "output_type": "stream",
     "text": [
      "B = 20\n"
     ]
    }
   ],
   "source": [
    "#Greatest of three numbers using if-elif-else and logical AND\n",
    "# Simplified method\n",
    "# -----------------------------------------------------------\n",
    "\n",
    "a=10\n",
    "b=20\n",
    "c=15\n",
    "\n",
    "if a>b and a>c:\n",
    "    print(\"A =\",a)\n",
    "elif b>a and b>c:\n",
    "    print(\"B =\",b)\n",
    "else:\n",
    "    print(\"C =\",c)\n"
   ]
  },
  {
   "cell_type": "markdown",
   "id": "2cad8afc",
   "metadata": {},
   "source": [
    "<br>"
   ]
  },
  {
   "cell_type": "markdown",
   "id": "897eedac",
   "metadata": {},
   "source": [
    "**<font color=red>Question 4</font>**     \n",
    "Check whether the entered number is two digit or single digit.    \n",
    "\n",
    "   **<font color=Grey>Expected Output</font>**         \n",
    "```\n",
    "    Enter a number: 11     \n",
    "    11 is a Two digit number\n",
    "```"
   ]
  },
  {
   "cell_type": "code",
   "execution_count": 11,
   "id": "c781264a",
   "metadata": {},
   "outputs": [
    {
     "name": "stdout",
     "output_type": "stream",
     "text": [
      "Enter a number: 025\n",
      "25 is two digit\n"
     ]
    }
   ],
   "source": [
    "#code for quetion4\n",
    "n = int(input(\"Enter a number: \"))\n",
    "if n>=0 and n<10:\n",
    "    print(n,\"is single digit\")\n",
    "elif n>=10 and n<100:\n",
    "    print(n,\"is two digit\")\n",
    "else:\n",
    "    print(n,\"is neither single digit nor two digit\")"
   ]
  },
  {
   "cell_type": "markdown",
   "id": "1889050b",
   "metadata": {},
   "source": [
    "---"
   ]
  },
  {
   "cell_type": "markdown",
   "id": "8da50383",
   "metadata": {},
   "source": [
    "<br>     \n",
    "<br>     "
   ]
  },
  {
   "cell_type": "markdown",
   "id": "747d423c",
   "metadata": {},
   "source": [
    "# <font color=blue>ACTIVITIES </font>\n",
    "<br>"
   ]
  },
  {
   "cell_type": "markdown",
   "id": "a1a8400c",
   "metadata": {},
   "source": [
    "**<font color=Green>Light</font>**        "
   ]
  },
  {
   "cell_type": "markdown",
   "id": "b9f13564",
   "metadata": {},
   "source": [
    "1. Ask user to choose a password:\n",
    "   - Print Strong: When length is greater than 10\n",
    "   - Print Good: when length is between 6-9\n",
    "   - Print Weak: when length is less than 6\n",
    "<br>      "
   ]
  },
  {
   "cell_type": "markdown",
   "id": "704ff58c",
   "metadata": {},
   "source": [
    "2. Accept two names from user:\n",
    "   - Print name1: if name1 is bigger in length\n",
    "   - Print name2: if name2 is bigger in length\n",
    "   - Print name1 and name2: if length of name1 and name2 are equal.   \n",
    "<br>       "
   ]
  },
  {
   "cell_type": "markdown",
   "id": "ed88430a",
   "metadata": {},
   "source": [
    "3. Accept the mark of mathematics from a student. The mininum mark to pass the examination is 40 out of 100.       \n",
    "   Check whether the student passed or failed in the exam.      \n",
    "   if he failed, check how much mark he needs to get passed.    \n",
    "   \n",
    "<br>     "
   ]
  },
  {
   "cell_type": "markdown",
   "id": "2da01f28",
   "metadata": {},
   "source": [
    "**<font color=Purple>Moderate</font>**      "
   ]
  },
  {
   "cell_type": "markdown",
   "id": "fd74c0c6",
   "metadata": {},
   "source": [
    "4. \n",
    "\n",
    "Ask the user to input the name as well as the age.   \n",
    "If the user is above 60 - Then print Senior citizen.    \n",
    "If the user is between 40-59 - Print Middle Aged.    \n",
    "If the user is between 16-39 - print Youngster.    \n",
    "If the user is less than 16 - Print Children.    \n",
    "\n",
    "\n",
    "   **<font color=Grey>Expected Output:</font>**        \n",
    "```\n",
    "    Enter your name: Mohammed Ibrahim\n",
    "    Enter your Age: 70\n",
    "    Mohammed Ibrahim, You are a Senior Citizen\n",
    "```\n",
    "\n",
    "<br>      "
   ]
  },
  {
   "cell_type": "markdown",
   "id": "7da62268",
   "metadata": {},
   "source": [
    "5. Get the score of the student out of 100 and print the corresponding grade according to the score  \n",
    "\n",
    "|Score|Grade|\n",
    "|---|---|\n",
    "|>=90|A|\n",
    "|>=80|B|\n",
    "|>=70|C|\n",
    "|>=50|D|\n",
    "|<50|Failed|\n",
    "<br>         \n",
    "\n",
    "   **<font color=Grey>Expected Output:</font>**     \n",
    "```\n",
    "        Enter the score : 95\n",
    "        grade : A\n",
    "```\n",
    "<br>     "
   ]
  },
  {
   "cell_type": "markdown",
   "id": "ee142bd7",
   "metadata": {},
   "source": [
    "6. \n",
    "\n",
    "Check whether an entered string contains all the 5 vowels of english language.         \n",
    "\n",
    "   **<font color=Grey>Expected Output:</font>**          \n",
    "```\n",
    "    Case 1      \n",
    "    Data: Persuasion   \n",
    "    Output: Persuasion contains all the 5 vowels     \n",
    "\n",
    "    case 2:       \n",
    "    Data: Mention   \n",
    "    Output: Mention not contains all the 5 vowels   \n",
    "```\n",
    "\n",
    "<br>      "
   ]
  },
  {
   "cell_type": "markdown",
   "id": "2bea95c9",
   "metadata": {},
   "source": [
    "<br>     \n",
    "<br>    "
   ]
  },
  {
   "cell_type": "markdown",
   "id": "e7acf0f7",
   "metadata": {},
   "source": [
    "**<font color=Crimson>Complex</font>**      "
   ]
  },
  {
   "cell_type": "markdown",
   "id": "b1e79966",
   "metadata": {},
   "source": [
    "7. You are assigned the duty of calculating vages for work done by the employees in your company, and you decided to write a program to find the amount to be paid to the employee.        \n",
    "  \n",
    "\n",
    "   **<font color=Grey>Data:</font>**     \n",
    "   - Per hour Rate : 100     \n",
    "   - If worked for more than 30 hours there is extra cost    \n",
    "   - Over time Rate : 50 per hour     \n",
    "   \n",
    "   \n",
    "   **<font color=Grey>Expected Output:</font>**                 \n",
    "\n",
    "```\n",
    "    1.\n",
    "        Enter your name: Akshay\n",
    "        Hours Worked: 32\n",
    "        Akshay, Your Total Payment is: 3300\n",
    "\n",
    "    2.\n",
    "        Enter your name: Nadira\n",
    "        Hours Worked: 25\n",
    "        Nadira, Your Total Payment is: 2500\n",
    "        \n",
    "```\n",
    "\n",
    "\n",
    "8. Accept the date of birth from user then find his/her current age in years.    \n",
    "\n",
    "   **<font color=brown>Expected Output:</font>**        \n",
    "       \n",
    "```\n",
    "    Case 1: \n",
    "        Enter day of the dob: 15\n",
    "        Enter month of dob : 4\n",
    "        Enter year of dob: 2000\n",
    "        Your age = 22\n",
    "        \n",
    "   Case 2: \n",
    "        Enter day of the dob: 25\n",
    "        Enter month of dob : 7\n",
    "        Enter year of dob: 2000\n",
    "        Your age = 21\n",
    "```\n",
    "\n"
   ]
  },
  {
   "cell_type": "markdown",
   "id": "722c33ed",
   "metadata": {},
   "source": [
    "----"
   ]
  },
  {
   "cell_type": "markdown",
   "id": "a0bb251e",
   "metadata": {},
   "source": [
    "<br>          \n",
    "<br>      "
   ]
  },
  {
   "cell_type": "markdown",
   "id": "2d3a8d20",
   "metadata": {},
   "source": [
    "# Answers"
   ]
  },
  {
   "cell_type": "code",
   "execution_count": 1,
   "id": "6f8f8bd6",
   "metadata": {},
   "outputs": [
    {
     "name": "stdout",
     "output_type": "stream",
     "text": [
      "Enter a passwd: abcd1234\n",
      "Password is good\n"
     ]
    }
   ],
   "source": [
    "# Activity 1\n",
    "#-----------\n",
    "\n",
    "passwd = input(\"Enter a passwd: \")\n",
    "l = len(passwd)\n",
    "\n",
    "if l>=10:\n",
    "    print(\"Password is strong\")\n",
    "    \n",
    "elif l>=6 and l<=9:\n",
    "    print(\"Password is good\")\n",
    "    \n",
    "else:\n",
    "    print(\"Password is weak\")"
   ]
  },
  {
   "cell_type": "markdown",
   "id": "be426e19",
   "metadata": {},
   "source": [
    "<br>        "
   ]
  },
  {
   "cell_type": "code",
   "execution_count": 2,
   "id": "ea147ebb",
   "metadata": {},
   "outputs": [
    {
     "name": "stdout",
     "output_type": "stream",
     "text": [
      "Enter name1: John\n",
      "Enter name2: Sam\n",
      "John\n"
     ]
    }
   ],
   "source": [
    "# Activity 2\n",
    "#-----------\n",
    "\n",
    "name1 = input(\"Enter name1: \")\n",
    "name2 = input(\"Enter name2: \")\n",
    "l1 = len(name1)\n",
    "l2 = len(name2)\n",
    "\n",
    "if l1>l2:\n",
    "    print(name1)\n",
    "elif l2>l1:\n",
    "    print(name2)\n",
    "else:\n",
    "    print(name1,name2)"
   ]
  },
  {
   "cell_type": "markdown",
   "id": "24ab3485",
   "metadata": {},
   "source": [
    "<br>        "
   ]
  },
  {
   "cell_type": "code",
   "execution_count": 3,
   "id": "64cf47d5",
   "metadata": {},
   "outputs": [
    {
     "name": "stdout",
     "output_type": "stream",
     "text": [
      "Enter marks of mathematics: 31\n",
      "Failed\n",
      "You need 9 more marks to get passed\n"
     ]
    }
   ],
   "source": [
    "# Activity 3\n",
    "#-----------\n",
    "\n",
    "mark = int(input(\"Enter marks of mathematics: \"))\n",
    "\n",
    "if mark>=40:\n",
    "    print(\"You are passed the examination!\")\n",
    "else:\n",
    "    print(\"Failed\")\n",
    "    need = 40-mark\n",
    "    print(\"You need\",need,'more marks to get passed')"
   ]
  },
  {
   "cell_type": "markdown",
   "id": "87ace6af",
   "metadata": {},
   "source": [
    "<br>        "
   ]
  },
  {
   "cell_type": "code",
   "execution_count": 5,
   "id": "ec1bb364",
   "metadata": {},
   "outputs": [
    {
     "name": "stdout",
     "output_type": "stream",
     "text": [
      "Enter your age: 21\n",
      "Youngster\n"
     ]
    }
   ],
   "source": [
    "# Activity 4\n",
    "#-----------\n",
    "\n",
    "age = int(input(\"Enter your age: \"))\n",
    "\n",
    "if age>=60:\n",
    "    print(\"Senior citizen\")\n",
    "elif age>=40 and age<=59:\n",
    "    print(\"Middle aged\")\n",
    "    \n",
    "elif age>=16 and age<=39:\n",
    "    print(\"Youngster\")\n",
    "    \n",
    "else:\n",
    "    print(\"Child\")"
   ]
  },
  {
   "cell_type": "markdown",
   "id": "1b13f9cc",
   "metadata": {},
   "source": [
    "<br>        "
   ]
  },
  {
   "cell_type": "code",
   "execution_count": 6,
   "id": "ebd4f5b0",
   "metadata": {},
   "outputs": [
    {
     "name": "stdout",
     "output_type": "stream",
     "text": [
      "Enter your score out of 100: 50\n",
      "D grade\n"
     ]
    }
   ],
   "source": [
    "# Activity 5\n",
    "#-----------\n",
    "\n",
    "score = int(input(\"Enter your score out of 100: \"))\n",
    "if score>=90:\n",
    "    print(\"A grade\")\n",
    "elif score>=80:\n",
    "    print(\"B grade\")\n",
    "elif score>=70:\n",
    "    print(\"C grade\")\n",
    "elif score>=50:\n",
    "    print(\"D grade\")\n",
    "elif score<50:\n",
    "    print(\"Failed\")\n",
    "else:\n",
    "    print(\"Invalid mark\")"
   ]
  },
  {
   "cell_type": "markdown",
   "id": "40368438",
   "metadata": {},
   "source": [
    "<br>        "
   ]
  },
  {
   "cell_type": "code",
   "execution_count": 7,
   "id": "d3af1b6a",
   "metadata": {},
   "outputs": [
    {
     "name": "stdout",
     "output_type": "stream",
     "text": [
      "Enter a word: persuasion\n",
      "persuasion contains all the 5 vowels\n"
     ]
    }
   ],
   "source": [
    "# Activity 6\n",
    "#-----------\n",
    "\n",
    "word = input(\"Enter a word: \")\n",
    "if 'a' in word and 'e' in word and 'i' in word and 'o' in word and 'u' in word:\n",
    "    print(word,'contains all the 5 vowels')\n",
    "else:\n",
    "    print(word,'not contains all the 5 vowels')\n",
    "\n"
   ]
  },
  {
   "cell_type": "markdown",
   "id": "42ebb501",
   "metadata": {},
   "source": [
    "<br>        "
   ]
  },
  {
   "cell_type": "code",
   "execution_count": 8,
   "id": "23297531",
   "metadata": {},
   "outputs": [
    {
     "name": "stdout",
     "output_type": "stream",
     "text": [
      "Enter your name: Akshay\n",
      "No.of hours worked: 32\n",
      "Akshay , your total payment is:  3300\n"
     ]
    }
   ],
   "source": [
    "# Activity 7\n",
    "#-----------\n",
    "\n",
    "name = input(\"Enter your name: \")\n",
    "hours = int(input(\"No.of hours worked: \"))\n",
    "\n",
    "total = hours*100\n",
    "\n",
    "if hours>30:\n",
    "    h = hours-30             # h is extra hours worked\n",
    "    total = total+ h*50      # total = total+ extra payment\n",
    "    \n",
    "print(name,\", your total payment is: \",total)"
   ]
  },
  {
   "cell_type": "markdown",
   "id": "88bf5425",
   "metadata": {},
   "source": [
    "<br>        "
   ]
  },
  {
   "cell_type": "code",
   "execution_count": 13,
   "id": "a839fd08",
   "metadata": {},
   "outputs": [
    {
     "name": "stdout",
     "output_type": "stream",
     "text": [
      "Enter your day of DOB as 2 digit: 14\n",
      "Enter your month of DO as 2 digit: 9\n",
      "Enter your year of DOB as 4 digit: 2021\n",
      "Your age= 0\n"
     ]
    }
   ],
   "source": [
    "# Activity 8\n",
    "#------------\n",
    "\n",
    "d = int(input(\"Enter your day of DOB as 2 digit: \"))\n",
    "m = int(input(\"Enter your month of DO as 2 digit: \"))\n",
    "y = int(input(\"Enter your year of DOB as 4 digit: \"))\n",
    "\n",
    "td = 21     # today's date\n",
    "tm = 6\n",
    "ty = 2022\n",
    "\n",
    "if y < ty and (d>0 and d<=31) and (m>0 and m<=12):\n",
    "    age = ty-y\n",
    "    if m>tm:\n",
    "        age = age -1\n",
    "    elif m<tm:\n",
    "        pass\n",
    "    else:\n",
    "        if d>td:\n",
    "            age = age-1\n",
    "        else:\n",
    "            pass\n",
    "    print(\"Your age=\",age)\n",
    "else:\n",
    "    print(\"Invalid date of birth\")\n",
    "            \n",
    "    "
   ]
  },
  {
   "cell_type": "markdown",
   "id": "c0c9db1f",
   "metadata": {},
   "source": [
    "<br>        "
   ]
  },
  {
   "cell_type": "markdown",
   "id": "1b4e4471",
   "metadata": {},
   "source": [
    "-------------"
   ]
  }
 ],
 "metadata": {
  "kernelspec": {
   "display_name": "Python 3",
   "language": "python",
   "name": "python3"
  },
  "language_info": {
   "codemirror_mode": {
    "name": "ipython",
    "version": 3
   },
   "file_extension": ".py",
   "mimetype": "text/x-python",
   "name": "python",
   "nbconvert_exporter": "python",
   "pygments_lexer": "ipython3",
   "version": "3.8.3"
  }
 },
 "nbformat": 4,
 "nbformat_minor": 5
}
